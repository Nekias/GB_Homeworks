{
  "nbformat": 4,
  "nbformat_minor": 0,
  "metadata": {
    "colab": {
      "name": "ДЗ по анализу игровых метрик. Илья К.ipynb",
      "provenance": [],
      "collapsed_sections": [],
      "toc_visible": true
    },
    "kernelspec": {
      "name": "python3",
      "display_name": "Python 3"
    },
    "language_info": {
      "name": "python"
    }
  },
  "cells": [
    {
      "cell_type": "markdown",
      "source": [
        "## Домашнее задание\n",
        "\n",
        "### Урок 1. Инсталлы. Стартовая воронка\n",
        "\n",
        "#### Выполнил: Илья Корнев"
      ],
      "metadata": {
        "id": "MsJsew9GyXbV"
      }
    },
    {
      "cell_type": "code",
      "source": [
        "import pandas as pd\n",
        "import plotly.express as px"
      ],
      "metadata": {
        "id": "sb4pmsmGy0ih"
      },
      "execution_count": null,
      "outputs": []
    },
    {
      "cell_type": "code",
      "execution_count": null,
      "metadata": {
        "id": "eBc3RgF5yAhR"
      },
      "outputs": [],
      "source": [
        "HOST = '37.139.42.145'\n",
        "DBNAME = 'game-analytics'\n",
        "USER = 'analytics'\n",
        "PASSWORD = 'BRtTaqYiJyr29WXN'\n",
        "\n",
        "from sqlalchemy import create_engine\n",
        "engine = create_engine(f'postgresql://{USER}:{PASSWORD}@{HOST}/{DBNAME}')\n",
        "\n",
        "table_schema = 'data_viz_1068'\n",
        "table_name = 'project_dataset'"
      ]
    },
    {
      "cell_type": "markdown",
      "source": [
        "## Задачи"
      ],
      "metadata": {
        "id": "9GTStIq1zcdL"
      }
    },
    {
      "cell_type": "markdown",
      "source": [
        "+ Проанализируйте динамику количества ежедневных инсталлов в игре для органики и\n",
        "неорганики. Какие особенности изменений этих показателей вы видите? Сгенерируйте\n",
        "гипотезы, почему могут наблюдаться такие изменения (которые затем в ходе выполнения\n",
        "дальнейших заданий вы сможете проверить).\n",
        "+ Есть ли отличия этого показателя для разных регионов (СНГ, Европа, Азия, Северная Америка и Канада, Южная Америка)? Сделайте оценку в каких регионах более качественное\n",
        "удержание на начальном этапе (можно оценить, например, по второй сессии и проценту\n",
        "игроков, запустивших игру повторно).\n",
        "+ Проанализируйте поведение игроков в первые 24 часа после первого запуска игры.\n",
        "Какие события совершают пользователи чаще всего? Есть ли паттерны поведения\n",
        "игроков разных когорт (по типу пользователей, регионам и т.д.)?"
      ],
      "metadata": {
        "id": "XpnpgyiAzrJT"
      }
    },
    {
      "cell_type": "markdown",
      "source": [
        "## Предобработка данных"
      ],
      "metadata": {
        "id": "LhTowy810jIB"
      }
    },
    {
      "cell_type": "code",
      "source": [
        "project_dataset = pd.read_sql(f'''\n",
        "    SELECT *\n",
        "    FROM {table_schema}.project_dataset\n",
        "''', con=engine)\n",
        "project_dataset"
      ],
      "metadata": {
        "colab": {
          "base_uri": "https://localhost:8080/",
          "height": 424
        },
        "id": "L_A-e8cozo4Q",
        "outputId": "cf1d4c97-54c5-4b49-9c27-67b00b0661eb"
      },
      "execution_count": null,
      "outputs": [
        {
          "output_type": "execute_result",
          "data": {
            "text/plain": [
              "                 event_time  event_date       event_name  revenue_usd region  \\\n",
              "0       2020-11-29 20:09:47  2020-11-29        LaunchApp          0.0     EU   \n",
              "1       2020-11-29 20:09:49  2020-11-29        LaunchApp          0.0     EU   \n",
              "2       2020-11-29 20:09:51  2020-11-29        LaunchApp          0.0     EU   \n",
              "3       2020-11-29 20:09:53  2020-11-29        LaunchApp          0.0     EU   \n",
              "4       2020-11-29 20:09:56  2020-11-29        LaunchApp          0.0     AS   \n",
              "...                     ...         ...              ...          ...    ...   \n",
              "1176993 2020-11-29 20:09:28  2020-11-29  achieve_level_5          0.0     EU   \n",
              "1176994 2020-11-29 20:09:28  2020-11-29        LaunchApp          0.0     EU   \n",
              "1176995 2020-11-29 20:09:30  2020-11-29        LaunchApp          0.0     EU   \n",
              "1176996 2020-11-29 20:09:35  2020-11-29  achieve_level_4          0.0     EU   \n",
              "1176997 2020-11-29 20:09:37  2020-11-29        LaunchApp          0.0     EU   \n",
              "\n",
              "        country            device_type platform cohort_date  user_id  \\\n",
              "0            RU                 iPad 6      ios  2020-10-28   176269   \n",
              "1            RU  OnePlus-ONEPLUS A6010  android  2020-11-15   187611   \n",
              "2            RU    xiaomi-Redmi Note 7  android  2020-10-25   169714   \n",
              "3            RU        Xiaomi-Redmi 8A  android  2020-11-11   199466   \n",
              "4            KZ         HUAWEI-PAR-LX1  android  2020-11-29   207932   \n",
              "...         ...                    ...      ...         ...      ...   \n",
              "1176993      RU          HONOR-KSA-LX9  android  2020-11-27   207554   \n",
              "1176994      UA        Xiaomi-MI MAX 2  android  2020-11-01   184562   \n",
              "1176995      RU        asus-ASUS_X00TD  android  2020-11-01   184331   \n",
              "1176996      UA      motorola-moto e6s  android  2020-11-26   207209   \n",
              "1176997      RU         HUAWEI-JAT-LX1  android  2020-11-10   201189   \n",
              "\n",
              "           user_type content_id currency  revenue  \n",
              "0        non_organic       None     None      0.0  \n",
              "1            organic       None     None      0.0  \n",
              "2        non_organic       None     None      0.0  \n",
              "3            organic       None     None      0.0  \n",
              "4            organic       None     None      0.0  \n",
              "...              ...        ...      ...      ...  \n",
              "1176993      organic       None     None      0.0  \n",
              "1176994      organic       None     None      0.0  \n",
              "1176995      organic       None     None      0.0  \n",
              "1176996      organic       None     None      0.0  \n",
              "1176997      organic       None     None      0.0  \n",
              "\n",
              "[1176998 rows x 14 columns]"
            ],
            "text/html": [
              "\n",
              "  <div id=\"df-b9fd3e6d-4c18-472b-bcd4-3e969d83be45\">\n",
              "    <div class=\"colab-df-container\">\n",
              "      <div>\n",
              "<style scoped>\n",
              "    .dataframe tbody tr th:only-of-type {\n",
              "        vertical-align: middle;\n",
              "    }\n",
              "\n",
              "    .dataframe tbody tr th {\n",
              "        vertical-align: top;\n",
              "    }\n",
              "\n",
              "    .dataframe thead th {\n",
              "        text-align: right;\n",
              "    }\n",
              "</style>\n",
              "<table border=\"1\" class=\"dataframe\">\n",
              "  <thead>\n",
              "    <tr style=\"text-align: right;\">\n",
              "      <th></th>\n",
              "      <th>event_time</th>\n",
              "      <th>event_date</th>\n",
              "      <th>event_name</th>\n",
              "      <th>revenue_usd</th>\n",
              "      <th>region</th>\n",
              "      <th>country</th>\n",
              "      <th>device_type</th>\n",
              "      <th>platform</th>\n",
              "      <th>cohort_date</th>\n",
              "      <th>user_id</th>\n",
              "      <th>user_type</th>\n",
              "      <th>content_id</th>\n",
              "      <th>currency</th>\n",
              "      <th>revenue</th>\n",
              "    </tr>\n",
              "  </thead>\n",
              "  <tbody>\n",
              "    <tr>\n",
              "      <th>0</th>\n",
              "      <td>2020-11-29 20:09:47</td>\n",
              "      <td>2020-11-29</td>\n",
              "      <td>LaunchApp</td>\n",
              "      <td>0.0</td>\n",
              "      <td>EU</td>\n",
              "      <td>RU</td>\n",
              "      <td>iPad 6</td>\n",
              "      <td>ios</td>\n",
              "      <td>2020-10-28</td>\n",
              "      <td>176269</td>\n",
              "      <td>non_organic</td>\n",
              "      <td>None</td>\n",
              "      <td>None</td>\n",
              "      <td>0.0</td>\n",
              "    </tr>\n",
              "    <tr>\n",
              "      <th>1</th>\n",
              "      <td>2020-11-29 20:09:49</td>\n",
              "      <td>2020-11-29</td>\n",
              "      <td>LaunchApp</td>\n",
              "      <td>0.0</td>\n",
              "      <td>EU</td>\n",
              "      <td>RU</td>\n",
              "      <td>OnePlus-ONEPLUS A6010</td>\n",
              "      <td>android</td>\n",
              "      <td>2020-11-15</td>\n",
              "      <td>187611</td>\n",
              "      <td>organic</td>\n",
              "      <td>None</td>\n",
              "      <td>None</td>\n",
              "      <td>0.0</td>\n",
              "    </tr>\n",
              "    <tr>\n",
              "      <th>2</th>\n",
              "      <td>2020-11-29 20:09:51</td>\n",
              "      <td>2020-11-29</td>\n",
              "      <td>LaunchApp</td>\n",
              "      <td>0.0</td>\n",
              "      <td>EU</td>\n",
              "      <td>RU</td>\n",
              "      <td>xiaomi-Redmi Note 7</td>\n",
              "      <td>android</td>\n",
              "      <td>2020-10-25</td>\n",
              "      <td>169714</td>\n",
              "      <td>non_organic</td>\n",
              "      <td>None</td>\n",
              "      <td>None</td>\n",
              "      <td>0.0</td>\n",
              "    </tr>\n",
              "    <tr>\n",
              "      <th>3</th>\n",
              "      <td>2020-11-29 20:09:53</td>\n",
              "      <td>2020-11-29</td>\n",
              "      <td>LaunchApp</td>\n",
              "      <td>0.0</td>\n",
              "      <td>EU</td>\n",
              "      <td>RU</td>\n",
              "      <td>Xiaomi-Redmi 8A</td>\n",
              "      <td>android</td>\n",
              "      <td>2020-11-11</td>\n",
              "      <td>199466</td>\n",
              "      <td>organic</td>\n",
              "      <td>None</td>\n",
              "      <td>None</td>\n",
              "      <td>0.0</td>\n",
              "    </tr>\n",
              "    <tr>\n",
              "      <th>4</th>\n",
              "      <td>2020-11-29 20:09:56</td>\n",
              "      <td>2020-11-29</td>\n",
              "      <td>LaunchApp</td>\n",
              "      <td>0.0</td>\n",
              "      <td>AS</td>\n",
              "      <td>KZ</td>\n",
              "      <td>HUAWEI-PAR-LX1</td>\n",
              "      <td>android</td>\n",
              "      <td>2020-11-29</td>\n",
              "      <td>207932</td>\n",
              "      <td>organic</td>\n",
              "      <td>None</td>\n",
              "      <td>None</td>\n",
              "      <td>0.0</td>\n",
              "    </tr>\n",
              "    <tr>\n",
              "      <th>...</th>\n",
              "      <td>...</td>\n",
              "      <td>...</td>\n",
              "      <td>...</td>\n",
              "      <td>...</td>\n",
              "      <td>...</td>\n",
              "      <td>...</td>\n",
              "      <td>...</td>\n",
              "      <td>...</td>\n",
              "      <td>...</td>\n",
              "      <td>...</td>\n",
              "      <td>...</td>\n",
              "      <td>...</td>\n",
              "      <td>...</td>\n",
              "      <td>...</td>\n",
              "    </tr>\n",
              "    <tr>\n",
              "      <th>1176993</th>\n",
              "      <td>2020-11-29 20:09:28</td>\n",
              "      <td>2020-11-29</td>\n",
              "      <td>achieve_level_5</td>\n",
              "      <td>0.0</td>\n",
              "      <td>EU</td>\n",
              "      <td>RU</td>\n",
              "      <td>HONOR-KSA-LX9</td>\n",
              "      <td>android</td>\n",
              "      <td>2020-11-27</td>\n",
              "      <td>207554</td>\n",
              "      <td>organic</td>\n",
              "      <td>None</td>\n",
              "      <td>None</td>\n",
              "      <td>0.0</td>\n",
              "    </tr>\n",
              "    <tr>\n",
              "      <th>1176994</th>\n",
              "      <td>2020-11-29 20:09:28</td>\n",
              "      <td>2020-11-29</td>\n",
              "      <td>LaunchApp</td>\n",
              "      <td>0.0</td>\n",
              "      <td>EU</td>\n",
              "      <td>UA</td>\n",
              "      <td>Xiaomi-MI MAX 2</td>\n",
              "      <td>android</td>\n",
              "      <td>2020-11-01</td>\n",
              "      <td>184562</td>\n",
              "      <td>organic</td>\n",
              "      <td>None</td>\n",
              "      <td>None</td>\n",
              "      <td>0.0</td>\n",
              "    </tr>\n",
              "    <tr>\n",
              "      <th>1176995</th>\n",
              "      <td>2020-11-29 20:09:30</td>\n",
              "      <td>2020-11-29</td>\n",
              "      <td>LaunchApp</td>\n",
              "      <td>0.0</td>\n",
              "      <td>EU</td>\n",
              "      <td>RU</td>\n",
              "      <td>asus-ASUS_X00TD</td>\n",
              "      <td>android</td>\n",
              "      <td>2020-11-01</td>\n",
              "      <td>184331</td>\n",
              "      <td>organic</td>\n",
              "      <td>None</td>\n",
              "      <td>None</td>\n",
              "      <td>0.0</td>\n",
              "    </tr>\n",
              "    <tr>\n",
              "      <th>1176996</th>\n",
              "      <td>2020-11-29 20:09:35</td>\n",
              "      <td>2020-11-29</td>\n",
              "      <td>achieve_level_4</td>\n",
              "      <td>0.0</td>\n",
              "      <td>EU</td>\n",
              "      <td>UA</td>\n",
              "      <td>motorola-moto e6s</td>\n",
              "      <td>android</td>\n",
              "      <td>2020-11-26</td>\n",
              "      <td>207209</td>\n",
              "      <td>organic</td>\n",
              "      <td>None</td>\n",
              "      <td>None</td>\n",
              "      <td>0.0</td>\n",
              "    </tr>\n",
              "    <tr>\n",
              "      <th>1176997</th>\n",
              "      <td>2020-11-29 20:09:37</td>\n",
              "      <td>2020-11-29</td>\n",
              "      <td>LaunchApp</td>\n",
              "      <td>0.0</td>\n",
              "      <td>EU</td>\n",
              "      <td>RU</td>\n",
              "      <td>HUAWEI-JAT-LX1</td>\n",
              "      <td>android</td>\n",
              "      <td>2020-11-10</td>\n",
              "      <td>201189</td>\n",
              "      <td>organic</td>\n",
              "      <td>None</td>\n",
              "      <td>None</td>\n",
              "      <td>0.0</td>\n",
              "    </tr>\n",
              "  </tbody>\n",
              "</table>\n",
              "<p>1176998 rows × 14 columns</p>\n",
              "</div>\n",
              "      <button class=\"colab-df-convert\" onclick=\"convertToInteractive('df-b9fd3e6d-4c18-472b-bcd4-3e969d83be45')\"\n",
              "              title=\"Convert this dataframe to an interactive table.\"\n",
              "              style=\"display:none;\">\n",
              "        \n",
              "  <svg xmlns=\"http://www.w3.org/2000/svg\" height=\"24px\"viewBox=\"0 0 24 24\"\n",
              "       width=\"24px\">\n",
              "    <path d=\"M0 0h24v24H0V0z\" fill=\"none\"/>\n",
              "    <path d=\"M18.56 5.44l.94 2.06.94-2.06 2.06-.94-2.06-.94-.94-2.06-.94 2.06-2.06.94zm-11 1L8.5 8.5l.94-2.06 2.06-.94-2.06-.94L8.5 2.5l-.94 2.06-2.06.94zm10 10l.94 2.06.94-2.06 2.06-.94-2.06-.94-.94-2.06-.94 2.06-2.06.94z\"/><path d=\"M17.41 7.96l-1.37-1.37c-.4-.4-.92-.59-1.43-.59-.52 0-1.04.2-1.43.59L10.3 9.45l-7.72 7.72c-.78.78-.78 2.05 0 2.83L4 21.41c.39.39.9.59 1.41.59.51 0 1.02-.2 1.41-.59l7.78-7.78 2.81-2.81c.8-.78.8-2.07 0-2.86zM5.41 20L4 18.59l7.72-7.72 1.47 1.35L5.41 20z\"/>\n",
              "  </svg>\n",
              "      </button>\n",
              "      \n",
              "  <style>\n",
              "    .colab-df-container {\n",
              "      display:flex;\n",
              "      flex-wrap:wrap;\n",
              "      gap: 12px;\n",
              "    }\n",
              "\n",
              "    .colab-df-convert {\n",
              "      background-color: #E8F0FE;\n",
              "      border: none;\n",
              "      border-radius: 50%;\n",
              "      cursor: pointer;\n",
              "      display: none;\n",
              "      fill: #1967D2;\n",
              "      height: 32px;\n",
              "      padding: 0 0 0 0;\n",
              "      width: 32px;\n",
              "    }\n",
              "\n",
              "    .colab-df-convert:hover {\n",
              "      background-color: #E2EBFA;\n",
              "      box-shadow: 0px 1px 2px rgba(60, 64, 67, 0.3), 0px 1px 3px 1px rgba(60, 64, 67, 0.15);\n",
              "      fill: #174EA6;\n",
              "    }\n",
              "\n",
              "    [theme=dark] .colab-df-convert {\n",
              "      background-color: #3B4455;\n",
              "      fill: #D2E3FC;\n",
              "    }\n",
              "\n",
              "    [theme=dark] .colab-df-convert:hover {\n",
              "      background-color: #434B5C;\n",
              "      box-shadow: 0px 1px 3px 1px rgba(0, 0, 0, 0.15);\n",
              "      filter: drop-shadow(0px 1px 2px rgba(0, 0, 0, 0.3));\n",
              "      fill: #FFFFFF;\n",
              "    }\n",
              "  </style>\n",
              "\n",
              "      <script>\n",
              "        const buttonEl =\n",
              "          document.querySelector('#df-b9fd3e6d-4c18-472b-bcd4-3e969d83be45 button.colab-df-convert');\n",
              "        buttonEl.style.display =\n",
              "          google.colab.kernel.accessAllowed ? 'block' : 'none';\n",
              "\n",
              "        async function convertToInteractive(key) {\n",
              "          const element = document.querySelector('#df-b9fd3e6d-4c18-472b-bcd4-3e969d83be45');\n",
              "          const dataTable =\n",
              "            await google.colab.kernel.invokeFunction('convertToInteractive',\n",
              "                                                     [key], {});\n",
              "          if (!dataTable) return;\n",
              "\n",
              "          const docLinkHtml = 'Like what you see? Visit the ' +\n",
              "            '<a target=\"_blank\" href=https://colab.research.google.com/notebooks/data_table.ipynb>data table notebook</a>'\n",
              "            + ' to learn more about interactive tables.';\n",
              "          element.innerHTML = '';\n",
              "          dataTable['output_type'] = 'display_data';\n",
              "          await google.colab.output.renderOutput(dataTable, element);\n",
              "          const docLink = document.createElement('div');\n",
              "          docLink.innerHTML = docLinkHtml;\n",
              "          element.appendChild(docLink);\n",
              "        }\n",
              "      </script>\n",
              "    </div>\n",
              "  </div>\n",
              "  "
            ]
          },
          "metadata": {},
          "execution_count": 100
        }
      ]
    },
    {
      "cell_type": "code",
      "source": [
        "# Удаление дубликатов:\n",
        "project_dataset = project_dataset.drop_duplicates().reset_index(drop=True)"
      ],
      "metadata": {
        "id": "k6EKycg70_EI"
      },
      "execution_count": null,
      "outputs": []
    },
    {
      "cell_type": "code",
      "source": [
        "# Обработка даты:\n",
        "project_dataset['event_time'] = pd.to_datetime(project_dataset['event_time'], format='%Y-%m-%d %H:%M:%S')\n",
        "project_dataset['event_date'] = pd.to_datetime(project_dataset['event_date'], format='%Y-%m-%d')\n",
        "project_dataset['cohort_date'] = pd.to_datetime(project_dataset['cohort_date'], format='%Y-%m-%d')"
      ],
      "metadata": {
        "id": "CnKgY3OR4Y36"
      },
      "execution_count": null,
      "outputs": []
    },
    {
      "cell_type": "markdown",
      "source": [
        "### Подзадача"
      ],
      "metadata": {
        "id": "Imfx7qweOLdV"
      }
    },
    {
      "cell_type": "markdown",
      "source": [
        "Узнать, существуют ли в базе данных события запуска приложения, записанные более ранним событием, чем \"FirstLaunchApp\"."
      ],
      "metadata": {
        "id": "W2ydpRxFON45"
      }
    },
    {
      "cell_type": "markdown",
      "source": [
        "#### Расчёты"
      ],
      "metadata": {
        "id": "8BlDmXiCkNxD"
      }
    },
    {
      "cell_type": "code",
      "source": [
        "# Собираю все первые запуски в одну таблицу:\n",
        "installs = project_dataset[project_dataset['event_name'] == 'FirstLaunchApp'].reset_index(drop=True)"
      ],
      "metadata": {
        "id": "uH0mFMB41mHn"
      },
      "execution_count": null,
      "outputs": []
    },
    {
      "cell_type": "code",
      "source": [
        "# Проверяю дубликаты по первому запуску игры:\n",
        "installs['user_id'].duplicated().sum()"
      ],
      "metadata": {
        "colab": {
          "base_uri": "https://localhost:8080/"
        },
        "outputId": "5aa0d8ef-907d-4692-e82b-cf81256500f6",
        "id": "SiwUZRWvSxTB"
      },
      "execution_count": null,
      "outputs": [
        {
          "output_type": "execute_result",
          "data": {
            "text/plain": [
              "12460"
            ]
          },
          "metadata": {},
          "execution_count": 104
        }
      ]
    },
    {
      "cell_type": "markdown",
      "source": [
        "В данных 12 460 записей с событием \"первого запуска приложения\" для одних и тех же пользователей.\n",
        "\n",
        "Поскольку **первое** событие должно быть только одно для каждого пользователя, решаю убрать дубликаты группировкой событий с использованием минимальных значений event_time."
      ],
      "metadata": {
        "id": "AbjESRGfSxTC"
      }
    },
    {
      "cell_type": "code",
      "source": [
        "installs_compare = installs.groupby(['event_name', 'user_id']).agg({'event_time': 'min'}).reset_index().sort_values('event_time').reset_index(drop=True)\n",
        "installs_compare.head(2)"
      ],
      "metadata": {
        "id": "hFO_capGTOON",
        "colab": {
          "base_uri": "https://localhost:8080/",
          "height": 112
        },
        "outputId": "4f1e9db6-b4a2-41a4-895a-d2d66fe7df68"
      },
      "execution_count": null,
      "outputs": [
        {
          "output_type": "execute_result",
          "data": {
            "text/plain": [
              "       event_name  user_id          event_time\n",
              "0  FirstLaunchApp   100024 2020-10-22 10:12:31\n",
              "1  FirstLaunchApp   100025 2020-10-22 10:26:37"
            ],
            "text/html": [
              "\n",
              "  <div id=\"df-fe22944b-4588-43d7-b8cb-179887921ebb\">\n",
              "    <div class=\"colab-df-container\">\n",
              "      <div>\n",
              "<style scoped>\n",
              "    .dataframe tbody tr th:only-of-type {\n",
              "        vertical-align: middle;\n",
              "    }\n",
              "\n",
              "    .dataframe tbody tr th {\n",
              "        vertical-align: top;\n",
              "    }\n",
              "\n",
              "    .dataframe thead th {\n",
              "        text-align: right;\n",
              "    }\n",
              "</style>\n",
              "<table border=\"1\" class=\"dataframe\">\n",
              "  <thead>\n",
              "    <tr style=\"text-align: right;\">\n",
              "      <th></th>\n",
              "      <th>event_name</th>\n",
              "      <th>user_id</th>\n",
              "      <th>event_time</th>\n",
              "    </tr>\n",
              "  </thead>\n",
              "  <tbody>\n",
              "    <tr>\n",
              "      <th>0</th>\n",
              "      <td>FirstLaunchApp</td>\n",
              "      <td>100024</td>\n",
              "      <td>2020-10-22 10:12:31</td>\n",
              "    </tr>\n",
              "    <tr>\n",
              "      <th>1</th>\n",
              "      <td>FirstLaunchApp</td>\n",
              "      <td>100025</td>\n",
              "      <td>2020-10-22 10:26:37</td>\n",
              "    </tr>\n",
              "  </tbody>\n",
              "</table>\n",
              "</div>\n",
              "      <button class=\"colab-df-convert\" onclick=\"convertToInteractive('df-fe22944b-4588-43d7-b8cb-179887921ebb')\"\n",
              "              title=\"Convert this dataframe to an interactive table.\"\n",
              "              style=\"display:none;\">\n",
              "        \n",
              "  <svg xmlns=\"http://www.w3.org/2000/svg\" height=\"24px\"viewBox=\"0 0 24 24\"\n",
              "       width=\"24px\">\n",
              "    <path d=\"M0 0h24v24H0V0z\" fill=\"none\"/>\n",
              "    <path d=\"M18.56 5.44l.94 2.06.94-2.06 2.06-.94-2.06-.94-.94-2.06-.94 2.06-2.06.94zm-11 1L8.5 8.5l.94-2.06 2.06-.94-2.06-.94L8.5 2.5l-.94 2.06-2.06.94zm10 10l.94 2.06.94-2.06 2.06-.94-2.06-.94-.94-2.06-.94 2.06-2.06.94z\"/><path d=\"M17.41 7.96l-1.37-1.37c-.4-.4-.92-.59-1.43-.59-.52 0-1.04.2-1.43.59L10.3 9.45l-7.72 7.72c-.78.78-.78 2.05 0 2.83L4 21.41c.39.39.9.59 1.41.59.51 0 1.02-.2 1.41-.59l7.78-7.78 2.81-2.81c.8-.78.8-2.07 0-2.86zM5.41 20L4 18.59l7.72-7.72 1.47 1.35L5.41 20z\"/>\n",
              "  </svg>\n",
              "      </button>\n",
              "      \n",
              "  <style>\n",
              "    .colab-df-container {\n",
              "      display:flex;\n",
              "      flex-wrap:wrap;\n",
              "      gap: 12px;\n",
              "    }\n",
              "\n",
              "    .colab-df-convert {\n",
              "      background-color: #E8F0FE;\n",
              "      border: none;\n",
              "      border-radius: 50%;\n",
              "      cursor: pointer;\n",
              "      display: none;\n",
              "      fill: #1967D2;\n",
              "      height: 32px;\n",
              "      padding: 0 0 0 0;\n",
              "      width: 32px;\n",
              "    }\n",
              "\n",
              "    .colab-df-convert:hover {\n",
              "      background-color: #E2EBFA;\n",
              "      box-shadow: 0px 1px 2px rgba(60, 64, 67, 0.3), 0px 1px 3px 1px rgba(60, 64, 67, 0.15);\n",
              "      fill: #174EA6;\n",
              "    }\n",
              "\n",
              "    [theme=dark] .colab-df-convert {\n",
              "      background-color: #3B4455;\n",
              "      fill: #D2E3FC;\n",
              "    }\n",
              "\n",
              "    [theme=dark] .colab-df-convert:hover {\n",
              "      background-color: #434B5C;\n",
              "      box-shadow: 0px 1px 3px 1px rgba(0, 0, 0, 0.15);\n",
              "      filter: drop-shadow(0px 1px 2px rgba(0, 0, 0, 0.3));\n",
              "      fill: #FFFFFF;\n",
              "    }\n",
              "  </style>\n",
              "\n",
              "      <script>\n",
              "        const buttonEl =\n",
              "          document.querySelector('#df-fe22944b-4588-43d7-b8cb-179887921ebb button.colab-df-convert');\n",
              "        buttonEl.style.display =\n",
              "          google.colab.kernel.accessAllowed ? 'block' : 'none';\n",
              "\n",
              "        async function convertToInteractive(key) {\n",
              "          const element = document.querySelector('#df-fe22944b-4588-43d7-b8cb-179887921ebb');\n",
              "          const dataTable =\n",
              "            await google.colab.kernel.invokeFunction('convertToInteractive',\n",
              "                                                     [key], {});\n",
              "          if (!dataTable) return;\n",
              "\n",
              "          const docLinkHtml = 'Like what you see? Visit the ' +\n",
              "            '<a target=\"_blank\" href=https://colab.research.google.com/notebooks/data_table.ipynb>data table notebook</a>'\n",
              "            + ' to learn more about interactive tables.';\n",
              "          element.innerHTML = '';\n",
              "          dataTable['output_type'] = 'display_data';\n",
              "          await google.colab.output.renderOutput(dataTable, element);\n",
              "          const docLink = document.createElement('div');\n",
              "          docLink.innerHTML = docLinkHtml;\n",
              "          element.appendChild(docLink);\n",
              "        }\n",
              "      </script>\n",
              "    </div>\n",
              "  </div>\n",
              "  "
            ]
          },
          "metadata": {},
          "execution_count": 105
        }
      ]
    },
    {
      "cell_type": "code",
      "source": [
        "# Проверка дубликатов после обработки данных:\n",
        "installs_compare['user_id'].duplicated().sum()"
      ],
      "metadata": {
        "colab": {
          "base_uri": "https://localhost:8080/"
        },
        "id": "Yfl-VzA5TW9e",
        "outputId": "bc022c3c-0146-4dd3-9c0a-2c41387e1cd9"
      },
      "execution_count": null,
      "outputs": [
        {
          "output_type": "execute_result",
          "data": {
            "text/plain": [
              "0"
            ]
          },
          "metadata": {},
          "execution_count": 106
        }
      ]
    },
    {
      "cell_type": "code",
      "source": [
        "# Собираю все запуски приложения во вторую таблицу:\n",
        "launches = project_dataset[project_dataset['event_name'] == 'LaunchApp'].loc[:,\n",
        "    ('event_time', 'event_name', 'user_id')].reset_index(drop=True).sort_values(['event_time']).reset_index(drop=True)\n",
        "launches.head(2)"
      ],
      "metadata": {
        "colab": {
          "base_uri": "https://localhost:8080/",
          "height": 112
        },
        "id": "ees0N4eK5hjN",
        "outputId": "d74acbfd-07df-4928-a778-9e68fa78dd32"
      },
      "execution_count": null,
      "outputs": [
        {
          "output_type": "execute_result",
          "data": {
            "text/plain": [
              "           event_time event_name  user_id\n",
              "0 2020-10-22 10:12:31  LaunchApp   100024\n",
              "1 2020-10-22 10:26:37  LaunchApp   100025"
            ],
            "text/html": [
              "\n",
              "  <div id=\"df-af8648ca-4e66-4760-92d4-14a7b2703576\">\n",
              "    <div class=\"colab-df-container\">\n",
              "      <div>\n",
              "<style scoped>\n",
              "    .dataframe tbody tr th:only-of-type {\n",
              "        vertical-align: middle;\n",
              "    }\n",
              "\n",
              "    .dataframe tbody tr th {\n",
              "        vertical-align: top;\n",
              "    }\n",
              "\n",
              "    .dataframe thead th {\n",
              "        text-align: right;\n",
              "    }\n",
              "</style>\n",
              "<table border=\"1\" class=\"dataframe\">\n",
              "  <thead>\n",
              "    <tr style=\"text-align: right;\">\n",
              "      <th></th>\n",
              "      <th>event_time</th>\n",
              "      <th>event_name</th>\n",
              "      <th>user_id</th>\n",
              "    </tr>\n",
              "  </thead>\n",
              "  <tbody>\n",
              "    <tr>\n",
              "      <th>0</th>\n",
              "      <td>2020-10-22 10:12:31</td>\n",
              "      <td>LaunchApp</td>\n",
              "      <td>100024</td>\n",
              "    </tr>\n",
              "    <tr>\n",
              "      <th>1</th>\n",
              "      <td>2020-10-22 10:26:37</td>\n",
              "      <td>LaunchApp</td>\n",
              "      <td>100025</td>\n",
              "    </tr>\n",
              "  </tbody>\n",
              "</table>\n",
              "</div>\n",
              "      <button class=\"colab-df-convert\" onclick=\"convertToInteractive('df-af8648ca-4e66-4760-92d4-14a7b2703576')\"\n",
              "              title=\"Convert this dataframe to an interactive table.\"\n",
              "              style=\"display:none;\">\n",
              "        \n",
              "  <svg xmlns=\"http://www.w3.org/2000/svg\" height=\"24px\"viewBox=\"0 0 24 24\"\n",
              "       width=\"24px\">\n",
              "    <path d=\"M0 0h24v24H0V0z\" fill=\"none\"/>\n",
              "    <path d=\"M18.56 5.44l.94 2.06.94-2.06 2.06-.94-2.06-.94-.94-2.06-.94 2.06-2.06.94zm-11 1L8.5 8.5l.94-2.06 2.06-.94-2.06-.94L8.5 2.5l-.94 2.06-2.06.94zm10 10l.94 2.06.94-2.06 2.06-.94-2.06-.94-.94-2.06-.94 2.06-2.06.94z\"/><path d=\"M17.41 7.96l-1.37-1.37c-.4-.4-.92-.59-1.43-.59-.52 0-1.04.2-1.43.59L10.3 9.45l-7.72 7.72c-.78.78-.78 2.05 0 2.83L4 21.41c.39.39.9.59 1.41.59.51 0 1.02-.2 1.41-.59l7.78-7.78 2.81-2.81c.8-.78.8-2.07 0-2.86zM5.41 20L4 18.59l7.72-7.72 1.47 1.35L5.41 20z\"/>\n",
              "  </svg>\n",
              "      </button>\n",
              "      \n",
              "  <style>\n",
              "    .colab-df-container {\n",
              "      display:flex;\n",
              "      flex-wrap:wrap;\n",
              "      gap: 12px;\n",
              "    }\n",
              "\n",
              "    .colab-df-convert {\n",
              "      background-color: #E8F0FE;\n",
              "      border: none;\n",
              "      border-radius: 50%;\n",
              "      cursor: pointer;\n",
              "      display: none;\n",
              "      fill: #1967D2;\n",
              "      height: 32px;\n",
              "      padding: 0 0 0 0;\n",
              "      width: 32px;\n",
              "    }\n",
              "\n",
              "    .colab-df-convert:hover {\n",
              "      background-color: #E2EBFA;\n",
              "      box-shadow: 0px 1px 2px rgba(60, 64, 67, 0.3), 0px 1px 3px 1px rgba(60, 64, 67, 0.15);\n",
              "      fill: #174EA6;\n",
              "    }\n",
              "\n",
              "    [theme=dark] .colab-df-convert {\n",
              "      background-color: #3B4455;\n",
              "      fill: #D2E3FC;\n",
              "    }\n",
              "\n",
              "    [theme=dark] .colab-df-convert:hover {\n",
              "      background-color: #434B5C;\n",
              "      box-shadow: 0px 1px 3px 1px rgba(0, 0, 0, 0.15);\n",
              "      filter: drop-shadow(0px 1px 2px rgba(0, 0, 0, 0.3));\n",
              "      fill: #FFFFFF;\n",
              "    }\n",
              "  </style>\n",
              "\n",
              "      <script>\n",
              "        const buttonEl =\n",
              "          document.querySelector('#df-af8648ca-4e66-4760-92d4-14a7b2703576 button.colab-df-convert');\n",
              "        buttonEl.style.display =\n",
              "          google.colab.kernel.accessAllowed ? 'block' : 'none';\n",
              "\n",
              "        async function convertToInteractive(key) {\n",
              "          const element = document.querySelector('#df-af8648ca-4e66-4760-92d4-14a7b2703576');\n",
              "          const dataTable =\n",
              "            await google.colab.kernel.invokeFunction('convertToInteractive',\n",
              "                                                     [key], {});\n",
              "          if (!dataTable) return;\n",
              "\n",
              "          const docLinkHtml = 'Like what you see? Visit the ' +\n",
              "            '<a target=\"_blank\" href=https://colab.research.google.com/notebooks/data_table.ipynb>data table notebook</a>'\n",
              "            + ' to learn more about interactive tables.';\n",
              "          element.innerHTML = '';\n",
              "          dataTable['output_type'] = 'display_data';\n",
              "          await google.colab.output.renderOutput(dataTable, element);\n",
              "          const docLink = document.createElement('div');\n",
              "          docLink.innerHTML = docLinkHtml;\n",
              "          element.appendChild(docLink);\n",
              "        }\n",
              "      </script>\n",
              "    </div>\n",
              "  </div>\n",
              "  "
            ]
          },
          "metadata": {},
          "execution_count": 107
        }
      ]
    },
    {
      "cell_type": "code",
      "source": [
        "# Сопоставляю события первого запуска и всех запусков приложения:\n",
        "launches_compare = pd.merge(installs_compare, launches, how='left',on=['user_id'])\n",
        "launches_compare"
      ],
      "metadata": {
        "colab": {
          "base_uri": "https://localhost:8080/",
          "height": 424
        },
        "id": "1M0E4-hHNBaU",
        "outputId": "1ec9bee0-4a55-459f-f9be-990cd28bd3bb"
      },
      "execution_count": null,
      "outputs": [
        {
          "output_type": "execute_result",
          "data": {
            "text/plain": [
              "          event_name_x  user_id        event_time_x        event_time_y  \\\n",
              "0       FirstLaunchApp   100024 2020-10-22 10:12:31 2020-10-22 10:12:31   \n",
              "1       FirstLaunchApp   100025 2020-10-22 10:26:37 2020-10-22 10:26:37   \n",
              "2       FirstLaunchApp   100025 2020-10-22 10:26:37 2020-10-22 11:34:01   \n",
              "3       FirstLaunchApp   100025 2020-10-22 10:26:37 2020-10-22 11:35:37   \n",
              "4       FirstLaunchApp   100025 2020-10-22 10:26:37 2020-10-22 11:36:36   \n",
              "...                ...      ...                 ...                 ...   \n",
              "683714  FirstLaunchApp   232720 2021-05-31 12:33:20                 NaT   \n",
              "683715  FirstLaunchApp   190441 2021-05-31 13:20:42                 NaT   \n",
              "683716  FirstLaunchApp   232722 2021-05-31 14:15:21                 NaT   \n",
              "683717  FirstLaunchApp   232723 2021-05-31 14:20:52                 NaT   \n",
              "683718  FirstLaunchApp   232724 2021-05-31 14:29:54                 NaT   \n",
              "\n",
              "       event_name_y  \n",
              "0         LaunchApp  \n",
              "1         LaunchApp  \n",
              "2         LaunchApp  \n",
              "3         LaunchApp  \n",
              "4         LaunchApp  \n",
              "...             ...  \n",
              "683714          NaN  \n",
              "683715          NaN  \n",
              "683716          NaN  \n",
              "683717          NaN  \n",
              "683718          NaN  \n",
              "\n",
              "[683719 rows x 5 columns]"
            ],
            "text/html": [
              "\n",
              "  <div id=\"df-b2f4c1d7-fb8b-4f58-9909-90196a425617\">\n",
              "    <div class=\"colab-df-container\">\n",
              "      <div>\n",
              "<style scoped>\n",
              "    .dataframe tbody tr th:only-of-type {\n",
              "        vertical-align: middle;\n",
              "    }\n",
              "\n",
              "    .dataframe tbody tr th {\n",
              "        vertical-align: top;\n",
              "    }\n",
              "\n",
              "    .dataframe thead th {\n",
              "        text-align: right;\n",
              "    }\n",
              "</style>\n",
              "<table border=\"1\" class=\"dataframe\">\n",
              "  <thead>\n",
              "    <tr style=\"text-align: right;\">\n",
              "      <th></th>\n",
              "      <th>event_name_x</th>\n",
              "      <th>user_id</th>\n",
              "      <th>event_time_x</th>\n",
              "      <th>event_time_y</th>\n",
              "      <th>event_name_y</th>\n",
              "    </tr>\n",
              "  </thead>\n",
              "  <tbody>\n",
              "    <tr>\n",
              "      <th>0</th>\n",
              "      <td>FirstLaunchApp</td>\n",
              "      <td>100024</td>\n",
              "      <td>2020-10-22 10:12:31</td>\n",
              "      <td>2020-10-22 10:12:31</td>\n",
              "      <td>LaunchApp</td>\n",
              "    </tr>\n",
              "    <tr>\n",
              "      <th>1</th>\n",
              "      <td>FirstLaunchApp</td>\n",
              "      <td>100025</td>\n",
              "      <td>2020-10-22 10:26:37</td>\n",
              "      <td>2020-10-22 10:26:37</td>\n",
              "      <td>LaunchApp</td>\n",
              "    </tr>\n",
              "    <tr>\n",
              "      <th>2</th>\n",
              "      <td>FirstLaunchApp</td>\n",
              "      <td>100025</td>\n",
              "      <td>2020-10-22 10:26:37</td>\n",
              "      <td>2020-10-22 11:34:01</td>\n",
              "      <td>LaunchApp</td>\n",
              "    </tr>\n",
              "    <tr>\n",
              "      <th>3</th>\n",
              "      <td>FirstLaunchApp</td>\n",
              "      <td>100025</td>\n",
              "      <td>2020-10-22 10:26:37</td>\n",
              "      <td>2020-10-22 11:35:37</td>\n",
              "      <td>LaunchApp</td>\n",
              "    </tr>\n",
              "    <tr>\n",
              "      <th>4</th>\n",
              "      <td>FirstLaunchApp</td>\n",
              "      <td>100025</td>\n",
              "      <td>2020-10-22 10:26:37</td>\n",
              "      <td>2020-10-22 11:36:36</td>\n",
              "      <td>LaunchApp</td>\n",
              "    </tr>\n",
              "    <tr>\n",
              "      <th>...</th>\n",
              "      <td>...</td>\n",
              "      <td>...</td>\n",
              "      <td>...</td>\n",
              "      <td>...</td>\n",
              "      <td>...</td>\n",
              "    </tr>\n",
              "    <tr>\n",
              "      <th>683714</th>\n",
              "      <td>FirstLaunchApp</td>\n",
              "      <td>232720</td>\n",
              "      <td>2021-05-31 12:33:20</td>\n",
              "      <td>NaT</td>\n",
              "      <td>NaN</td>\n",
              "    </tr>\n",
              "    <tr>\n",
              "      <th>683715</th>\n",
              "      <td>FirstLaunchApp</td>\n",
              "      <td>190441</td>\n",
              "      <td>2021-05-31 13:20:42</td>\n",
              "      <td>NaT</td>\n",
              "      <td>NaN</td>\n",
              "    </tr>\n",
              "    <tr>\n",
              "      <th>683716</th>\n",
              "      <td>FirstLaunchApp</td>\n",
              "      <td>232722</td>\n",
              "      <td>2021-05-31 14:15:21</td>\n",
              "      <td>NaT</td>\n",
              "      <td>NaN</td>\n",
              "    </tr>\n",
              "    <tr>\n",
              "      <th>683717</th>\n",
              "      <td>FirstLaunchApp</td>\n",
              "      <td>232723</td>\n",
              "      <td>2021-05-31 14:20:52</td>\n",
              "      <td>NaT</td>\n",
              "      <td>NaN</td>\n",
              "    </tr>\n",
              "    <tr>\n",
              "      <th>683718</th>\n",
              "      <td>FirstLaunchApp</td>\n",
              "      <td>232724</td>\n",
              "      <td>2021-05-31 14:29:54</td>\n",
              "      <td>NaT</td>\n",
              "      <td>NaN</td>\n",
              "    </tr>\n",
              "  </tbody>\n",
              "</table>\n",
              "<p>683719 rows × 5 columns</p>\n",
              "</div>\n",
              "      <button class=\"colab-df-convert\" onclick=\"convertToInteractive('df-b2f4c1d7-fb8b-4f58-9909-90196a425617')\"\n",
              "              title=\"Convert this dataframe to an interactive table.\"\n",
              "              style=\"display:none;\">\n",
              "        \n",
              "  <svg xmlns=\"http://www.w3.org/2000/svg\" height=\"24px\"viewBox=\"0 0 24 24\"\n",
              "       width=\"24px\">\n",
              "    <path d=\"M0 0h24v24H0V0z\" fill=\"none\"/>\n",
              "    <path d=\"M18.56 5.44l.94 2.06.94-2.06 2.06-.94-2.06-.94-.94-2.06-.94 2.06-2.06.94zm-11 1L8.5 8.5l.94-2.06 2.06-.94-2.06-.94L8.5 2.5l-.94 2.06-2.06.94zm10 10l.94 2.06.94-2.06 2.06-.94-2.06-.94-.94-2.06-.94 2.06-2.06.94z\"/><path d=\"M17.41 7.96l-1.37-1.37c-.4-.4-.92-.59-1.43-.59-.52 0-1.04.2-1.43.59L10.3 9.45l-7.72 7.72c-.78.78-.78 2.05 0 2.83L4 21.41c.39.39.9.59 1.41.59.51 0 1.02-.2 1.41-.59l7.78-7.78 2.81-2.81c.8-.78.8-2.07 0-2.86zM5.41 20L4 18.59l7.72-7.72 1.47 1.35L5.41 20z\"/>\n",
              "  </svg>\n",
              "      </button>\n",
              "      \n",
              "  <style>\n",
              "    .colab-df-container {\n",
              "      display:flex;\n",
              "      flex-wrap:wrap;\n",
              "      gap: 12px;\n",
              "    }\n",
              "\n",
              "    .colab-df-convert {\n",
              "      background-color: #E8F0FE;\n",
              "      border: none;\n",
              "      border-radius: 50%;\n",
              "      cursor: pointer;\n",
              "      display: none;\n",
              "      fill: #1967D2;\n",
              "      height: 32px;\n",
              "      padding: 0 0 0 0;\n",
              "      width: 32px;\n",
              "    }\n",
              "\n",
              "    .colab-df-convert:hover {\n",
              "      background-color: #E2EBFA;\n",
              "      box-shadow: 0px 1px 2px rgba(60, 64, 67, 0.3), 0px 1px 3px 1px rgba(60, 64, 67, 0.15);\n",
              "      fill: #174EA6;\n",
              "    }\n",
              "\n",
              "    [theme=dark] .colab-df-convert {\n",
              "      background-color: #3B4455;\n",
              "      fill: #D2E3FC;\n",
              "    }\n",
              "\n",
              "    [theme=dark] .colab-df-convert:hover {\n",
              "      background-color: #434B5C;\n",
              "      box-shadow: 0px 1px 3px 1px rgba(0, 0, 0, 0.15);\n",
              "      filter: drop-shadow(0px 1px 2px rgba(0, 0, 0, 0.3));\n",
              "      fill: #FFFFFF;\n",
              "    }\n",
              "  </style>\n",
              "\n",
              "      <script>\n",
              "        const buttonEl =\n",
              "          document.querySelector('#df-b2f4c1d7-fb8b-4f58-9909-90196a425617 button.colab-df-convert');\n",
              "        buttonEl.style.display =\n",
              "          google.colab.kernel.accessAllowed ? 'block' : 'none';\n",
              "\n",
              "        async function convertToInteractive(key) {\n",
              "          const element = document.querySelector('#df-b2f4c1d7-fb8b-4f58-9909-90196a425617');\n",
              "          const dataTable =\n",
              "            await google.colab.kernel.invokeFunction('convertToInteractive',\n",
              "                                                     [key], {});\n",
              "          if (!dataTable) return;\n",
              "\n",
              "          const docLinkHtml = 'Like what you see? Visit the ' +\n",
              "            '<a target=\"_blank\" href=https://colab.research.google.com/notebooks/data_table.ipynb>data table notebook</a>'\n",
              "            + ' to learn more about interactive tables.';\n",
              "          element.innerHTML = '';\n",
              "          dataTable['output_type'] = 'display_data';\n",
              "          await google.colab.output.renderOutput(dataTable, element);\n",
              "          const docLink = document.createElement('div');\n",
              "          docLink.innerHTML = docLinkHtml;\n",
              "          element.appendChild(docLink);\n",
              "        }\n",
              "      </script>\n",
              "    </div>\n",
              "  </div>\n",
              "  "
            ]
          },
          "metadata": {},
          "execution_count": 108
        }
      ]
    },
    {
      "cell_type": "code",
      "source": [
        "# Проверяю, существуют ли события запуска приложения с более ранним временем, чем первый запуск:\n",
        "(launches_compare['event_time_y'] < launches_compare['event_time_x']).sum()"
      ],
      "metadata": {
        "colab": {
          "base_uri": "https://localhost:8080/"
        },
        "id": "8Xd1prCONNxm",
        "outputId": "5e1df1fe-db45-48d6-9280-6b7d98498058"
      },
      "execution_count": null,
      "outputs": [
        {
          "output_type": "execute_result",
          "data": {
            "text/plain": [
              "73757"
            ]
          },
          "metadata": {},
          "execution_count": 109
        }
      ]
    },
    {
      "cell_type": "markdown",
      "source": [
        "Таким образом, после удаления повторяющихся событий FirstLaunchApp, время запуска приложения (LaunchApp) записывалось более ранними событиями, чем FirstLaunchApp, 73 757 раз в случаях, когда FirstLaunchApp для пользователя записан.\n",
        "\n",
        "При этом существуют пользователи, для которых не существует события FirstLaunchApp. Это может быть связано с рядом причин:\n",
        "+ Первый запуск приложения пользователем состоялся раньше, чем имеющиеся у нас данные;\n",
        "+ Данные являются неполными по другим причинам;\n",
        "+ В базе данных нет отдельной категории тестеров, однако данные по ним, как правило, существенно отличаются от средних."
      ],
      "metadata": {
        "id": "ThH95Z79NXhE"
      }
    },
    {
      "cell_type": "code",
      "source": [
        "# Если сделать merge по LaunchApp, можно увидеть игроков с событиями запуска приложения, но без события первого запуска:\n",
        "no_first_launch = pd.merge(installs, launches, how='right',on=['user_id'])\n",
        "no_first_launch.tail(5)"
      ],
      "metadata": {
        "colab": {
          "base_uri": "https://localhost:8080/",
          "height": 337
        },
        "id": "lN9l_Z5zW_JH",
        "outputId": "7a49ba79-3540-47dc-acff-27b41ba755cd"
      },
      "execution_count": null,
      "outputs": [
        {
          "output_type": "execute_result",
          "data": {
            "text/plain": [
              "        event_time_x event_date event_name_x  revenue_usd region country  \\\n",
              "5123085          NaT        NaT          NaN          NaN    NaN     NaN   \n",
              "5123086          NaT        NaT          NaN          NaN    NaN     NaN   \n",
              "5123087          NaT        NaT          NaN          NaN    NaN     NaN   \n",
              "5123088          NaT        NaT          NaN          NaN    NaN     NaN   \n",
              "5123089          NaT        NaT          NaN          NaN    NaN     NaN   \n",
              "\n",
              "        device_type platform cohort_date  user_id user_type content_id  \\\n",
              "5123085         NaN      NaN         NaT   120902       NaN        NaN   \n",
              "5123086         NaN      NaN         NaT   136613       NaN        NaN   \n",
              "5123087         NaN      NaN         NaT   137667       NaN        NaN   \n",
              "5123088         NaN      NaN         NaT   137667       NaN        NaN   \n",
              "5123089         NaN      NaN         NaT   168718       NaN        NaN   \n",
              "\n",
              "        currency  revenue        event_time_y event_name_y  \n",
              "5123085      NaN      NaN 2021-05-31 15:49:17    LaunchApp  \n",
              "5123086      NaN      NaN 2021-05-31 16:01:10    LaunchApp  \n",
              "5123087      NaN      NaN 2021-05-31 16:25:01    LaunchApp  \n",
              "5123088      NaN      NaN 2021-05-31 16:31:20    LaunchApp  \n",
              "5123089      NaN      NaN 2021-05-31 17:49:37    LaunchApp  "
            ],
            "text/html": [
              "\n",
              "  <div id=\"df-c627a2e6-4c0b-438b-8e20-2c541ca21789\">\n",
              "    <div class=\"colab-df-container\">\n",
              "      <div>\n",
              "<style scoped>\n",
              "    .dataframe tbody tr th:only-of-type {\n",
              "        vertical-align: middle;\n",
              "    }\n",
              "\n",
              "    .dataframe tbody tr th {\n",
              "        vertical-align: top;\n",
              "    }\n",
              "\n",
              "    .dataframe thead th {\n",
              "        text-align: right;\n",
              "    }\n",
              "</style>\n",
              "<table border=\"1\" class=\"dataframe\">\n",
              "  <thead>\n",
              "    <tr style=\"text-align: right;\">\n",
              "      <th></th>\n",
              "      <th>event_time_x</th>\n",
              "      <th>event_date</th>\n",
              "      <th>event_name_x</th>\n",
              "      <th>revenue_usd</th>\n",
              "      <th>region</th>\n",
              "      <th>country</th>\n",
              "      <th>device_type</th>\n",
              "      <th>platform</th>\n",
              "      <th>cohort_date</th>\n",
              "      <th>user_id</th>\n",
              "      <th>user_type</th>\n",
              "      <th>content_id</th>\n",
              "      <th>currency</th>\n",
              "      <th>revenue</th>\n",
              "      <th>event_time_y</th>\n",
              "      <th>event_name_y</th>\n",
              "    </tr>\n",
              "  </thead>\n",
              "  <tbody>\n",
              "    <tr>\n",
              "      <th>5123085</th>\n",
              "      <td>NaT</td>\n",
              "      <td>NaT</td>\n",
              "      <td>NaN</td>\n",
              "      <td>NaN</td>\n",
              "      <td>NaN</td>\n",
              "      <td>NaN</td>\n",
              "      <td>NaN</td>\n",
              "      <td>NaN</td>\n",
              "      <td>NaT</td>\n",
              "      <td>120902</td>\n",
              "      <td>NaN</td>\n",
              "      <td>NaN</td>\n",
              "      <td>NaN</td>\n",
              "      <td>NaN</td>\n",
              "      <td>2021-05-31 15:49:17</td>\n",
              "      <td>LaunchApp</td>\n",
              "    </tr>\n",
              "    <tr>\n",
              "      <th>5123086</th>\n",
              "      <td>NaT</td>\n",
              "      <td>NaT</td>\n",
              "      <td>NaN</td>\n",
              "      <td>NaN</td>\n",
              "      <td>NaN</td>\n",
              "      <td>NaN</td>\n",
              "      <td>NaN</td>\n",
              "      <td>NaN</td>\n",
              "      <td>NaT</td>\n",
              "      <td>136613</td>\n",
              "      <td>NaN</td>\n",
              "      <td>NaN</td>\n",
              "      <td>NaN</td>\n",
              "      <td>NaN</td>\n",
              "      <td>2021-05-31 16:01:10</td>\n",
              "      <td>LaunchApp</td>\n",
              "    </tr>\n",
              "    <tr>\n",
              "      <th>5123087</th>\n",
              "      <td>NaT</td>\n",
              "      <td>NaT</td>\n",
              "      <td>NaN</td>\n",
              "      <td>NaN</td>\n",
              "      <td>NaN</td>\n",
              "      <td>NaN</td>\n",
              "      <td>NaN</td>\n",
              "      <td>NaN</td>\n",
              "      <td>NaT</td>\n",
              "      <td>137667</td>\n",
              "      <td>NaN</td>\n",
              "      <td>NaN</td>\n",
              "      <td>NaN</td>\n",
              "      <td>NaN</td>\n",
              "      <td>2021-05-31 16:25:01</td>\n",
              "      <td>LaunchApp</td>\n",
              "    </tr>\n",
              "    <tr>\n",
              "      <th>5123088</th>\n",
              "      <td>NaT</td>\n",
              "      <td>NaT</td>\n",
              "      <td>NaN</td>\n",
              "      <td>NaN</td>\n",
              "      <td>NaN</td>\n",
              "      <td>NaN</td>\n",
              "      <td>NaN</td>\n",
              "      <td>NaN</td>\n",
              "      <td>NaT</td>\n",
              "      <td>137667</td>\n",
              "      <td>NaN</td>\n",
              "      <td>NaN</td>\n",
              "      <td>NaN</td>\n",
              "      <td>NaN</td>\n",
              "      <td>2021-05-31 16:31:20</td>\n",
              "      <td>LaunchApp</td>\n",
              "    </tr>\n",
              "    <tr>\n",
              "      <th>5123089</th>\n",
              "      <td>NaT</td>\n",
              "      <td>NaT</td>\n",
              "      <td>NaN</td>\n",
              "      <td>NaN</td>\n",
              "      <td>NaN</td>\n",
              "      <td>NaN</td>\n",
              "      <td>NaN</td>\n",
              "      <td>NaN</td>\n",
              "      <td>NaT</td>\n",
              "      <td>168718</td>\n",
              "      <td>NaN</td>\n",
              "      <td>NaN</td>\n",
              "      <td>NaN</td>\n",
              "      <td>NaN</td>\n",
              "      <td>2021-05-31 17:49:37</td>\n",
              "      <td>LaunchApp</td>\n",
              "    </tr>\n",
              "  </tbody>\n",
              "</table>\n",
              "</div>\n",
              "      <button class=\"colab-df-convert\" onclick=\"convertToInteractive('df-c627a2e6-4c0b-438b-8e20-2c541ca21789')\"\n",
              "              title=\"Convert this dataframe to an interactive table.\"\n",
              "              style=\"display:none;\">\n",
              "        \n",
              "  <svg xmlns=\"http://www.w3.org/2000/svg\" height=\"24px\"viewBox=\"0 0 24 24\"\n",
              "       width=\"24px\">\n",
              "    <path d=\"M0 0h24v24H0V0z\" fill=\"none\"/>\n",
              "    <path d=\"M18.56 5.44l.94 2.06.94-2.06 2.06-.94-2.06-.94-.94-2.06-.94 2.06-2.06.94zm-11 1L8.5 8.5l.94-2.06 2.06-.94-2.06-.94L8.5 2.5l-.94 2.06-2.06.94zm10 10l.94 2.06.94-2.06 2.06-.94-2.06-.94-.94-2.06-.94 2.06-2.06.94z\"/><path d=\"M17.41 7.96l-1.37-1.37c-.4-.4-.92-.59-1.43-.59-.52 0-1.04.2-1.43.59L10.3 9.45l-7.72 7.72c-.78.78-.78 2.05 0 2.83L4 21.41c.39.39.9.59 1.41.59.51 0 1.02-.2 1.41-.59l7.78-7.78 2.81-2.81c.8-.78.8-2.07 0-2.86zM5.41 20L4 18.59l7.72-7.72 1.47 1.35L5.41 20z\"/>\n",
              "  </svg>\n",
              "      </button>\n",
              "      \n",
              "  <style>\n",
              "    .colab-df-container {\n",
              "      display:flex;\n",
              "      flex-wrap:wrap;\n",
              "      gap: 12px;\n",
              "    }\n",
              "\n",
              "    .colab-df-convert {\n",
              "      background-color: #E8F0FE;\n",
              "      border: none;\n",
              "      border-radius: 50%;\n",
              "      cursor: pointer;\n",
              "      display: none;\n",
              "      fill: #1967D2;\n",
              "      height: 32px;\n",
              "      padding: 0 0 0 0;\n",
              "      width: 32px;\n",
              "    }\n",
              "\n",
              "    .colab-df-convert:hover {\n",
              "      background-color: #E2EBFA;\n",
              "      box-shadow: 0px 1px 2px rgba(60, 64, 67, 0.3), 0px 1px 3px 1px rgba(60, 64, 67, 0.15);\n",
              "      fill: #174EA6;\n",
              "    }\n",
              "\n",
              "    [theme=dark] .colab-df-convert {\n",
              "      background-color: #3B4455;\n",
              "      fill: #D2E3FC;\n",
              "    }\n",
              "\n",
              "    [theme=dark] .colab-df-convert:hover {\n",
              "      background-color: #434B5C;\n",
              "      box-shadow: 0px 1px 3px 1px rgba(0, 0, 0, 0.15);\n",
              "      filter: drop-shadow(0px 1px 2px rgba(0, 0, 0, 0.3));\n",
              "      fill: #FFFFFF;\n",
              "    }\n",
              "  </style>\n",
              "\n",
              "      <script>\n",
              "        const buttonEl =\n",
              "          document.querySelector('#df-c627a2e6-4c0b-438b-8e20-2c541ca21789 button.colab-df-convert');\n",
              "        buttonEl.style.display =\n",
              "          google.colab.kernel.accessAllowed ? 'block' : 'none';\n",
              "\n",
              "        async function convertToInteractive(key) {\n",
              "          const element = document.querySelector('#df-c627a2e6-4c0b-438b-8e20-2c541ca21789');\n",
              "          const dataTable =\n",
              "            await google.colab.kernel.invokeFunction('convertToInteractive',\n",
              "                                                     [key], {});\n",
              "          if (!dataTable) return;\n",
              "\n",
              "          const docLinkHtml = 'Like what you see? Visit the ' +\n",
              "            '<a target=\"_blank\" href=https://colab.research.google.com/notebooks/data_table.ipynb>data table notebook</a>'\n",
              "            + ' to learn more about interactive tables.';\n",
              "          element.innerHTML = '';\n",
              "          dataTable['output_type'] = 'display_data';\n",
              "          await google.colab.output.renderOutput(dataTable, element);\n",
              "          const docLink = document.createElement('div');\n",
              "          docLink.innerHTML = docLinkHtml;\n",
              "          element.appendChild(docLink);\n",
              "        }\n",
              "      </script>\n",
              "    </div>\n",
              "  </div>\n",
              "  "
            ]
          },
          "metadata": {},
          "execution_count": 110
        }
      ]
    },
    {
      "cell_type": "code",
      "source": [
        "# Пользователь 120902 относится к когорте 2020-09-29, а данные в нашем датасете начинаются с 2020-10-22:\n",
        "project_dataset[(project_dataset['user_id'] == 120902)].sort_values('event_time').reset_index(drop=True).head(1)"
      ],
      "metadata": {
        "colab": {
          "base_uri": "https://localhost:8080/",
          "height": 81
        },
        "id": "8m4ucViTiq-j",
        "outputId": "2846fbdd-fa60-473a-9296-2c54b8c5ba54"
      },
      "execution_count": null,
      "outputs": [
        {
          "output_type": "execute_result",
          "data": {
            "text/plain": [
              "           event_time event_date event_name  revenue_usd region country  \\\n",
              "0 2020-11-11 12:27:54 2020-11-11  LaunchApp          0.0     EU      RU   \n",
              "\n",
              "        device_type platform cohort_date  user_id    user_type content_id  \\\n",
              "0  Xiaomi-Mi 9 Lite  android  2020-09-29   120902  non_organic       None   \n",
              "\n",
              "  currency  revenue  \n",
              "0     None      0.0  "
            ],
            "text/html": [
              "\n",
              "  <div id=\"df-16946bc8-ba05-43f7-9401-5cb778d92daf\">\n",
              "    <div class=\"colab-df-container\">\n",
              "      <div>\n",
              "<style scoped>\n",
              "    .dataframe tbody tr th:only-of-type {\n",
              "        vertical-align: middle;\n",
              "    }\n",
              "\n",
              "    .dataframe tbody tr th {\n",
              "        vertical-align: top;\n",
              "    }\n",
              "\n",
              "    .dataframe thead th {\n",
              "        text-align: right;\n",
              "    }\n",
              "</style>\n",
              "<table border=\"1\" class=\"dataframe\">\n",
              "  <thead>\n",
              "    <tr style=\"text-align: right;\">\n",
              "      <th></th>\n",
              "      <th>event_time</th>\n",
              "      <th>event_date</th>\n",
              "      <th>event_name</th>\n",
              "      <th>revenue_usd</th>\n",
              "      <th>region</th>\n",
              "      <th>country</th>\n",
              "      <th>device_type</th>\n",
              "      <th>platform</th>\n",
              "      <th>cohort_date</th>\n",
              "      <th>user_id</th>\n",
              "      <th>user_type</th>\n",
              "      <th>content_id</th>\n",
              "      <th>currency</th>\n",
              "      <th>revenue</th>\n",
              "    </tr>\n",
              "  </thead>\n",
              "  <tbody>\n",
              "    <tr>\n",
              "      <th>0</th>\n",
              "      <td>2020-11-11 12:27:54</td>\n",
              "      <td>2020-11-11</td>\n",
              "      <td>LaunchApp</td>\n",
              "      <td>0.0</td>\n",
              "      <td>EU</td>\n",
              "      <td>RU</td>\n",
              "      <td>Xiaomi-Mi 9 Lite</td>\n",
              "      <td>android</td>\n",
              "      <td>2020-09-29</td>\n",
              "      <td>120902</td>\n",
              "      <td>non_organic</td>\n",
              "      <td>None</td>\n",
              "      <td>None</td>\n",
              "      <td>0.0</td>\n",
              "    </tr>\n",
              "  </tbody>\n",
              "</table>\n",
              "</div>\n",
              "      <button class=\"colab-df-convert\" onclick=\"convertToInteractive('df-16946bc8-ba05-43f7-9401-5cb778d92daf')\"\n",
              "              title=\"Convert this dataframe to an interactive table.\"\n",
              "              style=\"display:none;\">\n",
              "        \n",
              "  <svg xmlns=\"http://www.w3.org/2000/svg\" height=\"24px\"viewBox=\"0 0 24 24\"\n",
              "       width=\"24px\">\n",
              "    <path d=\"M0 0h24v24H0V0z\" fill=\"none\"/>\n",
              "    <path d=\"M18.56 5.44l.94 2.06.94-2.06 2.06-.94-2.06-.94-.94-2.06-.94 2.06-2.06.94zm-11 1L8.5 8.5l.94-2.06 2.06-.94-2.06-.94L8.5 2.5l-.94 2.06-2.06.94zm10 10l.94 2.06.94-2.06 2.06-.94-2.06-.94-.94-2.06-.94 2.06-2.06.94z\"/><path d=\"M17.41 7.96l-1.37-1.37c-.4-.4-.92-.59-1.43-.59-.52 0-1.04.2-1.43.59L10.3 9.45l-7.72 7.72c-.78.78-.78 2.05 0 2.83L4 21.41c.39.39.9.59 1.41.59.51 0 1.02-.2 1.41-.59l7.78-7.78 2.81-2.81c.8-.78.8-2.07 0-2.86zM5.41 20L4 18.59l7.72-7.72 1.47 1.35L5.41 20z\"/>\n",
              "  </svg>\n",
              "      </button>\n",
              "      \n",
              "  <style>\n",
              "    .colab-df-container {\n",
              "      display:flex;\n",
              "      flex-wrap:wrap;\n",
              "      gap: 12px;\n",
              "    }\n",
              "\n",
              "    .colab-df-convert {\n",
              "      background-color: #E8F0FE;\n",
              "      border: none;\n",
              "      border-radius: 50%;\n",
              "      cursor: pointer;\n",
              "      display: none;\n",
              "      fill: #1967D2;\n",
              "      height: 32px;\n",
              "      padding: 0 0 0 0;\n",
              "      width: 32px;\n",
              "    }\n",
              "\n",
              "    .colab-df-convert:hover {\n",
              "      background-color: #E2EBFA;\n",
              "      box-shadow: 0px 1px 2px rgba(60, 64, 67, 0.3), 0px 1px 3px 1px rgba(60, 64, 67, 0.15);\n",
              "      fill: #174EA6;\n",
              "    }\n",
              "\n",
              "    [theme=dark] .colab-df-convert {\n",
              "      background-color: #3B4455;\n",
              "      fill: #D2E3FC;\n",
              "    }\n",
              "\n",
              "    [theme=dark] .colab-df-convert:hover {\n",
              "      background-color: #434B5C;\n",
              "      box-shadow: 0px 1px 3px 1px rgba(0, 0, 0, 0.15);\n",
              "      filter: drop-shadow(0px 1px 2px rgba(0, 0, 0, 0.3));\n",
              "      fill: #FFFFFF;\n",
              "    }\n",
              "  </style>\n",
              "\n",
              "      <script>\n",
              "        const buttonEl =\n",
              "          document.querySelector('#df-16946bc8-ba05-43f7-9401-5cb778d92daf button.colab-df-convert');\n",
              "        buttonEl.style.display =\n",
              "          google.colab.kernel.accessAllowed ? 'block' : 'none';\n",
              "\n",
              "        async function convertToInteractive(key) {\n",
              "          const element = document.querySelector('#df-16946bc8-ba05-43f7-9401-5cb778d92daf');\n",
              "          const dataTable =\n",
              "            await google.colab.kernel.invokeFunction('convertToInteractive',\n",
              "                                                     [key], {});\n",
              "          if (!dataTable) return;\n",
              "\n",
              "          const docLinkHtml = 'Like what you see? Visit the ' +\n",
              "            '<a target=\"_blank\" href=https://colab.research.google.com/notebooks/data_table.ipynb>data table notebook</a>'\n",
              "            + ' to learn more about interactive tables.';\n",
              "          element.innerHTML = '';\n",
              "          dataTable['output_type'] = 'display_data';\n",
              "          await google.colab.output.renderOutput(dataTable, element);\n",
              "          const docLink = document.createElement('div');\n",
              "          docLink.innerHTML = docLinkHtml;\n",
              "          element.appendChild(docLink);\n",
              "        }\n",
              "      </script>\n",
              "    </div>\n",
              "  </div>\n",
              "  "
            ]
          },
          "metadata": {},
          "execution_count": 111
        }
      ]
    },
    {
      "cell_type": "code",
      "source": [
        "# Пользователь 168718 относится к когорте 2020-10-25, то есть должен входить в наши данные, но при этом не имеет события FirstLauchApp, а первый же взятый им уровень - 9-й:\n",
        "project_dataset[(project_dataset['user_id'] == 168718)].sort_values('event_time').reset_index(drop=True).head(6)"
      ],
      "metadata": {
        "colab": {
          "base_uri": "https://localhost:8080/",
          "height": 238
        },
        "id": "pRVYypnrifgj",
        "outputId": "998dcb97-7c18-455e-c80d-71da60f6a2d0"
      },
      "execution_count": null,
      "outputs": [
        {
          "output_type": "execute_result",
          "data": {
            "text/plain": [
              "           event_time event_date       event_name  revenue_usd region country  \\\n",
              "0 2020-11-20 17:53:46 2020-11-20        LaunchApp          0.0     EU      RU   \n",
              "1 2020-11-21 09:29:50 2020-11-21        LaunchApp          0.0     EU      RU   \n",
              "2 2020-11-22 03:52:42 2020-11-22        LaunchApp          0.0     EU      RU   \n",
              "3 2020-11-22 10:18:20 2020-11-22        LaunchApp          0.0     EU      RU   \n",
              "4 2020-12-04 14:58:46 2020-12-04        LaunchApp          0.0     EU      RU   \n",
              "5 2020-12-04 15:28:43 2020-12-04  achieve_level_9          0.0     EU      RU   \n",
              "\n",
              "        device_type platform cohort_date  user_id    user_type content_id  \\\n",
              "0  samsung-SM-J400F  android  2020-10-25   168718  non_organic       None   \n",
              "1  samsung-SM-J400F  android  2020-10-25   168718  non_organic       None   \n",
              "2  samsung-SM-J400F  android  2020-10-25   168718  non_organic       None   \n",
              "3  samsung-SM-J400F  android  2020-10-25   168718  non_organic       None   \n",
              "4  samsung-SM-J400F  android  2020-10-25   168718  non_organic       None   \n",
              "5  samsung-SM-J400F  android  2020-10-25   168718  non_organic       None   \n",
              "\n",
              "  currency  revenue  \n",
              "0     None      0.0  \n",
              "1     None      0.0  \n",
              "2     None      0.0  \n",
              "3     None      0.0  \n",
              "4     None      0.0  \n",
              "5     None      0.0  "
            ],
            "text/html": [
              "\n",
              "  <div id=\"df-cdb91f20-c93e-4c79-ba4c-485c8712f9ca\">\n",
              "    <div class=\"colab-df-container\">\n",
              "      <div>\n",
              "<style scoped>\n",
              "    .dataframe tbody tr th:only-of-type {\n",
              "        vertical-align: middle;\n",
              "    }\n",
              "\n",
              "    .dataframe tbody tr th {\n",
              "        vertical-align: top;\n",
              "    }\n",
              "\n",
              "    .dataframe thead th {\n",
              "        text-align: right;\n",
              "    }\n",
              "</style>\n",
              "<table border=\"1\" class=\"dataframe\">\n",
              "  <thead>\n",
              "    <tr style=\"text-align: right;\">\n",
              "      <th></th>\n",
              "      <th>event_time</th>\n",
              "      <th>event_date</th>\n",
              "      <th>event_name</th>\n",
              "      <th>revenue_usd</th>\n",
              "      <th>region</th>\n",
              "      <th>country</th>\n",
              "      <th>device_type</th>\n",
              "      <th>platform</th>\n",
              "      <th>cohort_date</th>\n",
              "      <th>user_id</th>\n",
              "      <th>user_type</th>\n",
              "      <th>content_id</th>\n",
              "      <th>currency</th>\n",
              "      <th>revenue</th>\n",
              "    </tr>\n",
              "  </thead>\n",
              "  <tbody>\n",
              "    <tr>\n",
              "      <th>0</th>\n",
              "      <td>2020-11-20 17:53:46</td>\n",
              "      <td>2020-11-20</td>\n",
              "      <td>LaunchApp</td>\n",
              "      <td>0.0</td>\n",
              "      <td>EU</td>\n",
              "      <td>RU</td>\n",
              "      <td>samsung-SM-J400F</td>\n",
              "      <td>android</td>\n",
              "      <td>2020-10-25</td>\n",
              "      <td>168718</td>\n",
              "      <td>non_organic</td>\n",
              "      <td>None</td>\n",
              "      <td>None</td>\n",
              "      <td>0.0</td>\n",
              "    </tr>\n",
              "    <tr>\n",
              "      <th>1</th>\n",
              "      <td>2020-11-21 09:29:50</td>\n",
              "      <td>2020-11-21</td>\n",
              "      <td>LaunchApp</td>\n",
              "      <td>0.0</td>\n",
              "      <td>EU</td>\n",
              "      <td>RU</td>\n",
              "      <td>samsung-SM-J400F</td>\n",
              "      <td>android</td>\n",
              "      <td>2020-10-25</td>\n",
              "      <td>168718</td>\n",
              "      <td>non_organic</td>\n",
              "      <td>None</td>\n",
              "      <td>None</td>\n",
              "      <td>0.0</td>\n",
              "    </tr>\n",
              "    <tr>\n",
              "      <th>2</th>\n",
              "      <td>2020-11-22 03:52:42</td>\n",
              "      <td>2020-11-22</td>\n",
              "      <td>LaunchApp</td>\n",
              "      <td>0.0</td>\n",
              "      <td>EU</td>\n",
              "      <td>RU</td>\n",
              "      <td>samsung-SM-J400F</td>\n",
              "      <td>android</td>\n",
              "      <td>2020-10-25</td>\n",
              "      <td>168718</td>\n",
              "      <td>non_organic</td>\n",
              "      <td>None</td>\n",
              "      <td>None</td>\n",
              "      <td>0.0</td>\n",
              "    </tr>\n",
              "    <tr>\n",
              "      <th>3</th>\n",
              "      <td>2020-11-22 10:18:20</td>\n",
              "      <td>2020-11-22</td>\n",
              "      <td>LaunchApp</td>\n",
              "      <td>0.0</td>\n",
              "      <td>EU</td>\n",
              "      <td>RU</td>\n",
              "      <td>samsung-SM-J400F</td>\n",
              "      <td>android</td>\n",
              "      <td>2020-10-25</td>\n",
              "      <td>168718</td>\n",
              "      <td>non_organic</td>\n",
              "      <td>None</td>\n",
              "      <td>None</td>\n",
              "      <td>0.0</td>\n",
              "    </tr>\n",
              "    <tr>\n",
              "      <th>4</th>\n",
              "      <td>2020-12-04 14:58:46</td>\n",
              "      <td>2020-12-04</td>\n",
              "      <td>LaunchApp</td>\n",
              "      <td>0.0</td>\n",
              "      <td>EU</td>\n",
              "      <td>RU</td>\n",
              "      <td>samsung-SM-J400F</td>\n",
              "      <td>android</td>\n",
              "      <td>2020-10-25</td>\n",
              "      <td>168718</td>\n",
              "      <td>non_organic</td>\n",
              "      <td>None</td>\n",
              "      <td>None</td>\n",
              "      <td>0.0</td>\n",
              "    </tr>\n",
              "    <tr>\n",
              "      <th>5</th>\n",
              "      <td>2020-12-04 15:28:43</td>\n",
              "      <td>2020-12-04</td>\n",
              "      <td>achieve_level_9</td>\n",
              "      <td>0.0</td>\n",
              "      <td>EU</td>\n",
              "      <td>RU</td>\n",
              "      <td>samsung-SM-J400F</td>\n",
              "      <td>android</td>\n",
              "      <td>2020-10-25</td>\n",
              "      <td>168718</td>\n",
              "      <td>non_organic</td>\n",
              "      <td>None</td>\n",
              "      <td>None</td>\n",
              "      <td>0.0</td>\n",
              "    </tr>\n",
              "  </tbody>\n",
              "</table>\n",
              "</div>\n",
              "      <button class=\"colab-df-convert\" onclick=\"convertToInteractive('df-cdb91f20-c93e-4c79-ba4c-485c8712f9ca')\"\n",
              "              title=\"Convert this dataframe to an interactive table.\"\n",
              "              style=\"display:none;\">\n",
              "        \n",
              "  <svg xmlns=\"http://www.w3.org/2000/svg\" height=\"24px\"viewBox=\"0 0 24 24\"\n",
              "       width=\"24px\">\n",
              "    <path d=\"M0 0h24v24H0V0z\" fill=\"none\"/>\n",
              "    <path d=\"M18.56 5.44l.94 2.06.94-2.06 2.06-.94-2.06-.94-.94-2.06-.94 2.06-2.06.94zm-11 1L8.5 8.5l.94-2.06 2.06-.94-2.06-.94L8.5 2.5l-.94 2.06-2.06.94zm10 10l.94 2.06.94-2.06 2.06-.94-2.06-.94-.94-2.06-.94 2.06-2.06.94z\"/><path d=\"M17.41 7.96l-1.37-1.37c-.4-.4-.92-.59-1.43-.59-.52 0-1.04.2-1.43.59L10.3 9.45l-7.72 7.72c-.78.78-.78 2.05 0 2.83L4 21.41c.39.39.9.59 1.41.59.51 0 1.02-.2 1.41-.59l7.78-7.78 2.81-2.81c.8-.78.8-2.07 0-2.86zM5.41 20L4 18.59l7.72-7.72 1.47 1.35L5.41 20z\"/>\n",
              "  </svg>\n",
              "      </button>\n",
              "      \n",
              "  <style>\n",
              "    .colab-df-container {\n",
              "      display:flex;\n",
              "      flex-wrap:wrap;\n",
              "      gap: 12px;\n",
              "    }\n",
              "\n",
              "    .colab-df-convert {\n",
              "      background-color: #E8F0FE;\n",
              "      border: none;\n",
              "      border-radius: 50%;\n",
              "      cursor: pointer;\n",
              "      display: none;\n",
              "      fill: #1967D2;\n",
              "      height: 32px;\n",
              "      padding: 0 0 0 0;\n",
              "      width: 32px;\n",
              "    }\n",
              "\n",
              "    .colab-df-convert:hover {\n",
              "      background-color: #E2EBFA;\n",
              "      box-shadow: 0px 1px 2px rgba(60, 64, 67, 0.3), 0px 1px 3px 1px rgba(60, 64, 67, 0.15);\n",
              "      fill: #174EA6;\n",
              "    }\n",
              "\n",
              "    [theme=dark] .colab-df-convert {\n",
              "      background-color: #3B4455;\n",
              "      fill: #D2E3FC;\n",
              "    }\n",
              "\n",
              "    [theme=dark] .colab-df-convert:hover {\n",
              "      background-color: #434B5C;\n",
              "      box-shadow: 0px 1px 3px 1px rgba(0, 0, 0, 0.15);\n",
              "      filter: drop-shadow(0px 1px 2px rgba(0, 0, 0, 0.3));\n",
              "      fill: #FFFFFF;\n",
              "    }\n",
              "  </style>\n",
              "\n",
              "      <script>\n",
              "        const buttonEl =\n",
              "          document.querySelector('#df-cdb91f20-c93e-4c79-ba4c-485c8712f9ca button.colab-df-convert');\n",
              "        buttonEl.style.display =\n",
              "          google.colab.kernel.accessAllowed ? 'block' : 'none';\n",
              "\n",
              "        async function convertToInteractive(key) {\n",
              "          const element = document.querySelector('#df-cdb91f20-c93e-4c79-ba4c-485c8712f9ca');\n",
              "          const dataTable =\n",
              "            await google.colab.kernel.invokeFunction('convertToInteractive',\n",
              "                                                     [key], {});\n",
              "          if (!dataTable) return;\n",
              "\n",
              "          const docLinkHtml = 'Like what you see? Visit the ' +\n",
              "            '<a target=\"_blank\" href=https://colab.research.google.com/notebooks/data_table.ipynb>data table notebook</a>'\n",
              "            + ' to learn more about interactive tables.';\n",
              "          element.innerHTML = '';\n",
              "          dataTable['output_type'] = 'display_data';\n",
              "          await google.colab.output.renderOutput(dataTable, element);\n",
              "          const docLink = document.createElement('div');\n",
              "          docLink.innerHTML = docLinkHtml;\n",
              "          element.appendChild(docLink);\n",
              "        }\n",
              "      </script>\n",
              "    </div>\n",
              "  </div>\n",
              "  "
            ]
          },
          "metadata": {},
          "execution_count": 112
        }
      ]
    },
    {
      "cell_type": "markdown",
      "source": [
        "### Выводы"
      ],
      "metadata": {
        "id": "Ja0ubb7ojTyk"
      }
    },
    {
      "cell_type": "markdown",
      "source": [
        "+ В БД большое количество некорректных данных, событие инсталла не является первым для большого числа пользователей, 73,7 тысяч запусков приложения произошло **до** события, считающимся первым запуском в наших данных. В этом случае у меня есть три варианта будущей работы с данными:\n",
        " - Выбрать ID пользователей, для которых у нас есть FirstLaunchApp, отказаться от уже имеющихся данных по FirstLaunchApp и назначить события самого раннего LaunchApp в качестве FirstLaunchApp. Мне кажется, это интересное решение, но оно может оказаться некорректным, внести ещё больше хаоса в данные и сделать их ещё менее пригодными для анализа.\n",
        " - Отсечь всех пользователей, у которых обычные запуски приложения случились до первого, поскольку эти данные некорректны и могут исказить анализ данных.\n",
        " - Не делать ничего. Сначала этот вариант кажется неприличным, однако, в процессе работы при таком решении часть некорректных данных всё равно будет отсеиваться, например, при подсчёте удержания все запуски, случившиеся до первого, будут выдавать отрицательный лайфтайм и убираться.\n",
        "+ Действие, которое стоило бы сделать независимо от решения по тому, как работать с данными - написание баг-репорта для дата инженеров об имеющихся проблемах данных.\n",
        "+ Если для пользователя отсутствует FirstLaunchApp, его данные являются неполными на основании нашей базы данных. У таких пользователей в первых же имеющихся событиях может произойти взятие уровня выше 4-го, то есть это либо тестеры, которые могут выдать себе нужный уровень, либо игроки, игравшие раньше, но не имеющие записи о первом запуске приложения в нашей базе данных."
      ],
      "metadata": {
        "id": "jWy6rROhgPwC"
      }
    },
    {
      "cell_type": "markdown",
      "source": [
        "## Расчёт метрик для анализа"
      ],
      "metadata": {
        "id": "zWoqtdnZ1fnA"
      }
    },
    {
      "cell_type": "markdown",
      "source": [
        "### Задача 1. Динамика количества ежедневных инсталлов для органики и неорганики"
      ],
      "metadata": {
        "id": "iyi31XZX2ZJi"
      }
    },
    {
      "cell_type": "markdown",
      "source": [
        "#### Расчёты"
      ],
      "metadata": {
        "id": "ySIGuZQB4UkG"
      }
    },
    {
      "cell_type": "code",
      "source": [
        "# Убираю дубликаты по пользователям, сохраняя тип пользователей:\n",
        "installs_usertype = installs.drop_duplicates(['user_id']).reset_index(drop=True).loc[:, ('event_date', 'user_id', 'user_type')].reset_index(drop=True)"
      ],
      "metadata": {
        "id": "DoySkvmnzwiJ"
      },
      "execution_count": null,
      "outputs": []
    },
    {
      "cell_type": "code",
      "source": [
        "# Группирую данные инсталлов по типу трафика и дате:\n",
        "installs_usertype = installs_usertype.groupby(['user_type', 'event_date'])['user_id'].nunique().reset_index().sort_values('event_date').reset_index(drop=True)"
      ],
      "metadata": {
        "id": "JFMWE9UbyBO1"
      },
      "execution_count": null,
      "outputs": []
    },
    {
      "cell_type": "code",
      "source": [
        "# Переименовываю user_id в user_count:\n",
        "installs_usertype.rename(columns={'user_id': 'user_count'}, inplace=True)"
      ],
      "metadata": {
        "id": "LJ013p_W0iqi"
      },
      "execution_count": null,
      "outputs": []
    },
    {
      "cell_type": "markdown",
      "source": [
        "#### График"
      ],
      "metadata": {
        "id": "KxjTJh4_4X2D"
      }
    },
    {
      "cell_type": "code",
      "source": [
        "# Получаю столбчатый график с визуализацией количества инсталлов пользователями из разных типов трафика по датам:\n",
        "fig = px.bar(\n",
        "    installs_usertype,\n",
        "    x = 'event_date',\n",
        "    y = 'user_count',\n",
        "    color = 'user_type',\n",
        "    title = 'Распределение инсталлов по типам трафика',\n",
        ")\n",
        "fig.show()"
      ],
      "metadata": {
        "colab": {
          "base_uri": "https://localhost:8080/",
          "height": 542
        },
        "id": "UwMmrFLIyvPZ",
        "outputId": "54ab0bb9-e5d2-4261-c512-c6db35ad3a31"
      },
      "execution_count": null,
      "outputs": [
        {
          "output_type": "display_data",
          "data": {
            "text/html": [
              "<html>\n",
              "<head><meta charset=\"utf-8\" /></head>\n",
              "<body>\n",
              "    <div>            <script src=\"https://cdnjs.cloudflare.com/ajax/libs/mathjax/2.7.5/MathJax.js?config=TeX-AMS-MML_SVG\"></script><script type=\"text/javascript\">if (window.MathJax) {MathJax.Hub.Config({SVG: {font: \"STIX-Web\"}});}</script>                <script type=\"text/javascript\">window.PlotlyConfig = {MathJaxConfig: 'local'};</script>\n",
              "        <script src=\"https://cdn.plot.ly/plotly-2.8.3.min.js\"></script>                <div id=\"aae047a0-e724-4f41-88f2-15146ac3be3b\" class=\"plotly-graph-div\" style=\"height:525px; width:100%;\"></div>            <script type=\"text/javascript\">                                    window.PLOTLYENV=window.PLOTLYENV || {};                                    if (document.getElementById(\"aae047a0-e724-4f41-88f2-15146ac3be3b\")) {                    Plotly.newPlot(                        \"aae047a0-e724-4f41-88f2-15146ac3be3b\",                        [{\"alignmentgroup\":\"True\",\"hovertemplate\":\"user_type=organic<br>event_date=%{x}<br>user_count=%{y}<extra></extra>\",\"legendgroup\":\"organic\",\"marker\":{\"color\":\"#636efa\",\"pattern\":{\"shape\":\"\"}},\"name\":\"organic\",\"offsetgroup\":\"organic\",\"orientation\":\"v\",\"showlegend\":true,\"textposition\":\"auto\",\"x\":[\"2020-10-22T00:00:00\",\"2020-10-23T00:00:00\",\"2020-10-25T00:00:00\",\"2020-10-27T00:00:00\",\"2020-10-28T00:00:00\",\"2020-10-29T00:00:00\",\"2020-10-30T00:00:00\",\"2020-10-31T00:00:00\",\"2020-11-01T00:00:00\",\"2020-11-02T00:00:00\",\"2020-11-03T00:00:00\",\"2020-11-04T00:00:00\",\"2020-11-05T00:00:00\",\"2020-11-06T00:00:00\",\"2020-11-07T00:00:00\",\"2020-11-08T00:00:00\",\"2020-11-09T00:00:00\",\"2020-11-10T00:00:00\",\"2020-11-11T00:00:00\",\"2020-11-12T00:00:00\",\"2020-11-13T00:00:00\",\"2020-11-14T00:00:00\",\"2020-11-15T00:00:00\",\"2020-11-16T00:00:00\",\"2020-11-17T00:00:00\",\"2020-11-18T00:00:00\",\"2020-11-19T00:00:00\",\"2020-11-20T00:00:00\",\"2020-11-21T00:00:00\",\"2020-11-22T00:00:00\",\"2020-11-23T00:00:00\",\"2020-11-24T00:00:00\",\"2020-11-25T00:00:00\",\"2020-11-26T00:00:00\",\"2020-11-27T00:00:00\",\"2020-11-28T00:00:00\",\"2020-11-29T00:00:00\",\"2020-11-30T00:00:00\",\"2020-12-01T00:00:00\",\"2020-12-02T00:00:00\",\"2020-12-03T00:00:00\",\"2020-12-04T00:00:00\",\"2020-12-05T00:00:00\",\"2020-12-06T00:00:00\",\"2020-12-07T00:00:00\",\"2020-12-08T00:00:00\",\"2020-12-09T00:00:00\",\"2020-12-10T00:00:00\",\"2020-12-11T00:00:00\",\"2020-12-12T00:00:00\",\"2020-12-13T00:00:00\",\"2020-12-14T00:00:00\",\"2020-12-15T00:00:00\",\"2020-12-16T00:00:00\",\"2020-12-17T00:00:00\",\"2020-12-18T00:00:00\",\"2020-12-19T00:00:00\",\"2020-12-20T00:00:00\",\"2020-12-21T00:00:00\",\"2020-12-22T00:00:00\",\"2020-12-23T00:00:00\",\"2020-12-24T00:00:00\",\"2020-12-25T00:00:00\",\"2020-12-26T00:00:00\",\"2020-12-27T00:00:00\",\"2020-12-28T00:00:00\",\"2020-12-29T00:00:00\",\"2020-12-30T00:00:00\",\"2020-12-31T00:00:00\",\"2021-01-01T00:00:00\",\"2021-01-02T00:00:00\",\"2021-01-03T00:00:00\",\"2021-01-04T00:00:00\",\"2021-01-05T00:00:00\",\"2021-01-06T00:00:00\",\"2021-01-07T00:00:00\",\"2021-01-08T00:00:00\",\"2021-01-09T00:00:00\",\"2021-01-10T00:00:00\",\"2021-01-11T00:00:00\",\"2021-01-12T00:00:00\",\"2021-01-13T00:00:00\",\"2021-01-14T00:00:00\",\"2021-01-15T00:00:00\",\"2021-01-16T00:00:00\",\"2021-01-17T00:00:00\",\"2021-01-18T00:00:00\",\"2021-01-19T00:00:00\",\"2021-01-20T00:00:00\",\"2021-01-21T00:00:00\",\"2021-01-22T00:00:00\",\"2021-01-23T00:00:00\",\"2021-01-24T00:00:00\",\"2021-01-25T00:00:00\",\"2021-01-26T00:00:00\",\"2021-01-27T00:00:00\",\"2021-01-28T00:00:00\",\"2021-01-29T00:00:00\",\"2021-01-30T00:00:00\",\"2021-01-31T00:00:00\",\"2021-02-01T00:00:00\",\"2021-02-02T00:00:00\",\"2021-02-03T00:00:00\",\"2021-02-04T00:00:00\",\"2021-02-05T00:00:00\",\"2021-02-06T00:00:00\",\"2021-02-07T00:00:00\",\"2021-02-08T00:00:00\",\"2021-02-09T00:00:00\",\"2021-02-10T00:00:00\",\"2021-02-11T00:00:00\",\"2021-02-12T00:00:00\",\"2021-02-13T00:00:00\",\"2021-02-14T00:00:00\",\"2021-02-15T00:00:00\",\"2021-02-16T00:00:00\",\"2021-02-17T00:00:00\",\"2021-02-18T00:00:00\",\"2021-02-19T00:00:00\",\"2021-02-20T00:00:00\",\"2021-02-21T00:00:00\",\"2021-02-22T00:00:00\",\"2021-02-23T00:00:00\",\"2021-02-24T00:00:00\",\"2021-02-25T00:00:00\",\"2021-02-26T00:00:00\",\"2021-02-27T00:00:00\",\"2021-02-28T00:00:00\",\"2021-03-01T00:00:00\",\"2021-03-02T00:00:00\",\"2021-03-03T00:00:00\",\"2021-03-04T00:00:00\",\"2021-03-05T00:00:00\",\"2021-03-06T00:00:00\",\"2021-03-07T00:00:00\",\"2021-03-08T00:00:00\",\"2021-03-09T00:00:00\",\"2021-03-10T00:00:00\",\"2021-03-11T00:00:00\",\"2021-03-12T00:00:00\",\"2021-03-13T00:00:00\",\"2021-03-14T00:00:00\",\"2021-03-15T00:00:00\",\"2021-03-16T00:00:00\",\"2021-03-17T00:00:00\",\"2021-03-18T00:00:00\",\"2021-03-19T00:00:00\",\"2021-03-20T00:00:00\",\"2021-03-21T00:00:00\",\"2021-03-22T00:00:00\",\"2021-03-23T00:00:00\",\"2021-03-24T00:00:00\",\"2021-03-25T00:00:00\",\"2021-03-26T00:00:00\",\"2021-03-27T00:00:00\",\"2021-03-28T00:00:00\",\"2021-03-29T00:00:00\",\"2021-03-30T00:00:00\",\"2021-03-31T00:00:00\",\"2021-04-01T00:00:00\",\"2021-04-02T00:00:00\",\"2021-04-03T00:00:00\",\"2021-04-04T00:00:00\",\"2021-04-05T00:00:00\",\"2021-04-06T00:00:00\",\"2021-04-07T00:00:00\",\"2021-04-08T00:00:00\",\"2021-04-09T00:00:00\",\"2021-04-10T00:00:00\",\"2021-04-11T00:00:00\",\"2021-04-12T00:00:00\",\"2021-04-13T00:00:00\",\"2021-04-14T00:00:00\",\"2021-04-15T00:00:00\",\"2021-04-16T00:00:00\",\"2021-04-17T00:00:00\",\"2021-04-18T00:00:00\",\"2021-04-19T00:00:00\",\"2021-04-20T00:00:00\",\"2021-04-21T00:00:00\",\"2021-04-22T00:00:00\",\"2021-04-23T00:00:00\",\"2021-04-24T00:00:00\",\"2021-04-25T00:00:00\",\"2021-04-26T00:00:00\",\"2021-04-27T00:00:00\",\"2021-04-28T00:00:00\",\"2021-04-29T00:00:00\",\"2021-04-30T00:00:00\",\"2021-05-01T00:00:00\",\"2021-05-02T00:00:00\",\"2021-05-03T00:00:00\",\"2021-05-04T00:00:00\",\"2021-05-05T00:00:00\",\"2021-05-06T00:00:00\",\"2021-05-07T00:00:00\",\"2021-05-08T00:00:00\",\"2021-05-09T00:00:00\",\"2021-05-10T00:00:00\",\"2021-05-11T00:00:00\",\"2021-05-12T00:00:00\",\"2021-05-13T00:00:00\",\"2021-05-14T00:00:00\",\"2021-05-15T00:00:00\",\"2021-05-16T00:00:00\",\"2021-05-17T00:00:00\",\"2021-05-18T00:00:00\",\"2021-05-19T00:00:00\",\"2021-05-20T00:00:00\",\"2021-05-21T00:00:00\",\"2021-05-22T00:00:00\",\"2021-05-23T00:00:00\",\"2021-05-24T00:00:00\",\"2021-05-25T00:00:00\",\"2021-05-26T00:00:00\",\"2021-05-27T00:00:00\",\"2021-05-28T00:00:00\",\"2021-05-29T00:00:00\",\"2021-05-30T00:00:00\",\"2021-05-31T00:00:00\"],\"xaxis\":\"x\",\"y\":[6,4,1,104,159,133,117,149,175,115,126,131,136,161,126,153,147,101,402,470,497,556,634,452,377,464,440,289,296,283,290,330,310,272,272,294,357,277,316,311,351,389,399,421,323,246,230,237,170,280,393,302,291,241,208,190,206,219,220,166,151,156,148,148,132,143,97,111,133,122,161,179,184,110,110,130,106,111,132,119,114,102,87,84,102,116,120,104,90,126,112,108,84,87,86,91,100,163,214,136,98,119,86,93,86,106,105,101,79,90,76,70,111,129,93,140,137,92,69,85,79,114,72,86,101,67,98,91,86,79,93,99,90,119,129,104,73,62,69,81,97,70,82,82,88,80,110,107,138,295,676,542,273,182,218,198,153,159,137,111,87,109,141,103,110,109,122,126,141,115,105,151,137,85,73,96,93,105,82,92,85,93,80,97,64,50,78,57,55,92,94,86,49,61,58,59,62,98,77,65,67,112,49,73,64,61,61,72,67,61,43,44,48,42,35,48,43,70,87,21],\"yaxis\":\"y\",\"type\":\"bar\"},{\"alignmentgroup\":\"True\",\"hovertemplate\":\"user_type=non_organic<br>event_date=%{x}<br>user_count=%{y}<extra></extra>\",\"legendgroup\":\"non_organic\",\"marker\":{\"color\":\"#EF553B\",\"pattern\":{\"shape\":\"\"}},\"name\":\"non_organic\",\"offsetgroup\":\"non_organic\",\"orientation\":\"v\",\"showlegend\":true,\"textposition\":\"auto\",\"x\":[\"2020-10-27T00:00:00\",\"2020-10-28T00:00:00\",\"2020-10-29T00:00:00\",\"2020-10-30T00:00:00\",\"2020-10-31T00:00:00\",\"2020-11-01T00:00:00\",\"2020-11-02T00:00:00\",\"2020-11-03T00:00:00\",\"2020-11-04T00:00:00\",\"2020-11-05T00:00:00\",\"2020-11-06T00:00:00\",\"2020-11-07T00:00:00\",\"2020-11-08T00:00:00\",\"2020-11-09T00:00:00\",\"2020-11-10T00:00:00\",\"2020-11-11T00:00:00\",\"2020-11-12T00:00:00\",\"2020-11-13T00:00:00\",\"2020-11-14T00:00:00\",\"2020-11-15T00:00:00\",\"2020-11-16T00:00:00\",\"2020-11-17T00:00:00\",\"2020-11-18T00:00:00\",\"2020-11-19T00:00:00\",\"2020-11-20T00:00:00\",\"2020-11-21T00:00:00\",\"2020-11-22T00:00:00\",\"2020-11-23T00:00:00\",\"2020-11-24T00:00:00\",\"2020-11-25T00:00:00\",\"2020-11-26T00:00:00\",\"2020-11-27T00:00:00\",\"2020-11-28T00:00:00\",\"2020-11-29T00:00:00\",\"2020-11-30T00:00:00\",\"2020-12-01T00:00:00\",\"2020-12-02T00:00:00\",\"2020-12-03T00:00:00\",\"2020-12-04T00:00:00\",\"2020-12-05T00:00:00\",\"2020-12-06T00:00:00\",\"2020-12-07T00:00:00\",\"2020-12-08T00:00:00\",\"2020-12-09T00:00:00\",\"2020-12-10T00:00:00\",\"2020-12-11T00:00:00\",\"2020-12-12T00:00:00\",\"2020-12-13T00:00:00\",\"2020-12-14T00:00:00\",\"2020-12-15T00:00:00\",\"2020-12-16T00:00:00\",\"2020-12-17T00:00:00\",\"2020-12-18T00:00:00\",\"2020-12-19T00:00:00\",\"2020-12-20T00:00:00\",\"2020-12-22T00:00:00\",\"2020-12-23T00:00:00\",\"2020-12-24T00:00:00\",\"2020-12-25T00:00:00\",\"2020-12-26T00:00:00\",\"2020-12-27T00:00:00\",\"2020-12-28T00:00:00\",\"2020-12-29T00:00:00\",\"2021-01-01T00:00:00\",\"2021-01-02T00:00:00\",\"2021-01-03T00:00:00\",\"2021-01-04T00:00:00\",\"2021-01-05T00:00:00\",\"2021-01-06T00:00:00\",\"2021-01-07T00:00:00\",\"2021-01-08T00:00:00\",\"2021-01-09T00:00:00\",\"2021-01-10T00:00:00\",\"2021-01-11T00:00:00\",\"2021-01-15T00:00:00\",\"2021-01-16T00:00:00\",\"2021-01-17T00:00:00\",\"2021-01-18T00:00:00\",\"2021-01-19T00:00:00\",\"2021-01-20T00:00:00\",\"2021-01-21T00:00:00\",\"2021-01-22T00:00:00\",\"2021-01-23T00:00:00\",\"2021-01-24T00:00:00\",\"2021-01-25T00:00:00\",\"2021-01-27T00:00:00\",\"2021-01-28T00:00:00\",\"2021-01-29T00:00:00\",\"2021-01-30T00:00:00\",\"2021-01-31T00:00:00\",\"2021-02-01T00:00:00\",\"2021-02-02T00:00:00\",\"2021-02-03T00:00:00\",\"2021-02-04T00:00:00\",\"2021-02-05T00:00:00\",\"2021-02-06T00:00:00\",\"2021-02-08T00:00:00\",\"2021-02-10T00:00:00\",\"2021-02-11T00:00:00\",\"2021-02-13T00:00:00\",\"2021-02-16T00:00:00\",\"2021-02-17T00:00:00\",\"2021-02-18T00:00:00\",\"2021-02-19T00:00:00\",\"2021-02-21T00:00:00\",\"2021-02-23T00:00:00\",\"2021-02-24T00:00:00\",\"2021-02-25T00:00:00\",\"2021-02-26T00:00:00\",\"2021-02-27T00:00:00\",\"2021-02-28T00:00:00\",\"2021-03-04T00:00:00\",\"2021-03-05T00:00:00\",\"2021-03-06T00:00:00\",\"2021-03-07T00:00:00\",\"2021-03-08T00:00:00\",\"2021-03-09T00:00:00\",\"2021-03-10T00:00:00\",\"2021-03-11T00:00:00\",\"2021-03-12T00:00:00\",\"2021-03-13T00:00:00\",\"2021-03-14T00:00:00\",\"2021-03-16T00:00:00\",\"2021-03-17T00:00:00\",\"2021-03-20T00:00:00\",\"2021-03-21T00:00:00\",\"2021-03-22T00:00:00\",\"2021-03-23T00:00:00\",\"2021-03-25T00:00:00\",\"2021-03-27T00:00:00\",\"2021-03-28T00:00:00\",\"2021-03-29T00:00:00\",\"2021-03-30T00:00:00\",\"2021-03-31T00:00:00\",\"2021-04-03T00:00:00\",\"2021-04-04T00:00:00\",\"2021-04-06T00:00:00\",\"2021-04-07T00:00:00\",\"2021-04-08T00:00:00\",\"2021-04-09T00:00:00\",\"2021-04-10T00:00:00\",\"2021-04-11T00:00:00\",\"2021-04-14T00:00:00\",\"2021-04-17T00:00:00\",\"2021-04-18T00:00:00\",\"2021-04-21T00:00:00\",\"2021-04-22T00:00:00\",\"2021-04-24T00:00:00\",\"2021-04-28T00:00:00\",\"2021-04-29T00:00:00\",\"2021-05-02T00:00:00\",\"2021-05-04T00:00:00\",\"2021-05-07T00:00:00\",\"2021-05-09T00:00:00\",\"2021-05-11T00:00:00\",\"2021-05-12T00:00:00\",\"2021-05-16T00:00:00\",\"2021-05-17T00:00:00\",\"2021-05-18T00:00:00\",\"2021-05-19T00:00:00\",\"2021-05-21T00:00:00\",\"2021-05-22T00:00:00\",\"2021-05-27T00:00:00\"],\"xaxis\":\"x\",\"y\":[152,351,351,256,122,50,37,264,364,237,242,300,332,247,156,454,348,234,251,223,131,65,46,60,49,37,30,21,18,9,19,14,11,7,11,9,15,114,119,36,16,14,20,28,11,5,5,4,2,3,11,3,3,2,4,2,5,7,2,7,2,1,3,1,3,1,1,1,1,1,3,1,2,5,4,4,3,2,2,4,2,2,2,3,1,2,2,5,4,5,1,2,2,2,2,4,3,2,1,1,1,4,4,1,1,1,1,2,2,1,4,3,3,2,1,1,2,2,1,3,2,1,1,1,1,2,1,1,1,1,2,1,1,1,2,1,2,1,1,1,1,1,2,3,1,1,2,1,1,1,1,1,1,2,1,2,1,1,2,1,1,1,2],\"yaxis\":\"y\",\"type\":\"bar\"}],                        {\"template\":{\"data\":{\"bar\":[{\"error_x\":{\"color\":\"#2a3f5f\"},\"error_y\":{\"color\":\"#2a3f5f\"},\"marker\":{\"line\":{\"color\":\"#E5ECF6\",\"width\":0.5},\"pattern\":{\"fillmode\":\"overlay\",\"size\":10,\"solidity\":0.2}},\"type\":\"bar\"}],\"barpolar\":[{\"marker\":{\"line\":{\"color\":\"#E5ECF6\",\"width\":0.5},\"pattern\":{\"fillmode\":\"overlay\",\"size\":10,\"solidity\":0.2}},\"type\":\"barpolar\"}],\"carpet\":[{\"aaxis\":{\"endlinecolor\":\"#2a3f5f\",\"gridcolor\":\"white\",\"linecolor\":\"white\",\"minorgridcolor\":\"white\",\"startlinecolor\":\"#2a3f5f\"},\"baxis\":{\"endlinecolor\":\"#2a3f5f\",\"gridcolor\":\"white\",\"linecolor\":\"white\",\"minorgridcolor\":\"white\",\"startlinecolor\":\"#2a3f5f\"},\"type\":\"carpet\"}],\"choropleth\":[{\"colorbar\":{\"outlinewidth\":0,\"ticks\":\"\"},\"type\":\"choropleth\"}],\"contour\":[{\"colorbar\":{\"outlinewidth\":0,\"ticks\":\"\"},\"colorscale\":[[0.0,\"#0d0887\"],[0.1111111111111111,\"#46039f\"],[0.2222222222222222,\"#7201a8\"],[0.3333333333333333,\"#9c179e\"],[0.4444444444444444,\"#bd3786\"],[0.5555555555555556,\"#d8576b\"],[0.6666666666666666,\"#ed7953\"],[0.7777777777777778,\"#fb9f3a\"],[0.8888888888888888,\"#fdca26\"],[1.0,\"#f0f921\"]],\"type\":\"contour\"}],\"contourcarpet\":[{\"colorbar\":{\"outlinewidth\":0,\"ticks\":\"\"},\"type\":\"contourcarpet\"}],\"heatmap\":[{\"colorbar\":{\"outlinewidth\":0,\"ticks\":\"\"},\"colorscale\":[[0.0,\"#0d0887\"],[0.1111111111111111,\"#46039f\"],[0.2222222222222222,\"#7201a8\"],[0.3333333333333333,\"#9c179e\"],[0.4444444444444444,\"#bd3786\"],[0.5555555555555556,\"#d8576b\"],[0.6666666666666666,\"#ed7953\"],[0.7777777777777778,\"#fb9f3a\"],[0.8888888888888888,\"#fdca26\"],[1.0,\"#f0f921\"]],\"type\":\"heatmap\"}],\"heatmapgl\":[{\"colorbar\":{\"outlinewidth\":0,\"ticks\":\"\"},\"colorscale\":[[0.0,\"#0d0887\"],[0.1111111111111111,\"#46039f\"],[0.2222222222222222,\"#7201a8\"],[0.3333333333333333,\"#9c179e\"],[0.4444444444444444,\"#bd3786\"],[0.5555555555555556,\"#d8576b\"],[0.6666666666666666,\"#ed7953\"],[0.7777777777777778,\"#fb9f3a\"],[0.8888888888888888,\"#fdca26\"],[1.0,\"#f0f921\"]],\"type\":\"heatmapgl\"}],\"histogram\":[{\"marker\":{\"pattern\":{\"fillmode\":\"overlay\",\"size\":10,\"solidity\":0.2}},\"type\":\"histogram\"}],\"histogram2d\":[{\"colorbar\":{\"outlinewidth\":0,\"ticks\":\"\"},\"colorscale\":[[0.0,\"#0d0887\"],[0.1111111111111111,\"#46039f\"],[0.2222222222222222,\"#7201a8\"],[0.3333333333333333,\"#9c179e\"],[0.4444444444444444,\"#bd3786\"],[0.5555555555555556,\"#d8576b\"],[0.6666666666666666,\"#ed7953\"],[0.7777777777777778,\"#fb9f3a\"],[0.8888888888888888,\"#fdca26\"],[1.0,\"#f0f921\"]],\"type\":\"histogram2d\"}],\"histogram2dcontour\":[{\"colorbar\":{\"outlinewidth\":0,\"ticks\":\"\"},\"colorscale\":[[0.0,\"#0d0887\"],[0.1111111111111111,\"#46039f\"],[0.2222222222222222,\"#7201a8\"],[0.3333333333333333,\"#9c179e\"],[0.4444444444444444,\"#bd3786\"],[0.5555555555555556,\"#d8576b\"],[0.6666666666666666,\"#ed7953\"],[0.7777777777777778,\"#fb9f3a\"],[0.8888888888888888,\"#fdca26\"],[1.0,\"#f0f921\"]],\"type\":\"histogram2dcontour\"}],\"mesh3d\":[{\"colorbar\":{\"outlinewidth\":0,\"ticks\":\"\"},\"type\":\"mesh3d\"}],\"parcoords\":[{\"line\":{\"colorbar\":{\"outlinewidth\":0,\"ticks\":\"\"}},\"type\":\"parcoords\"}],\"pie\":[{\"automargin\":true,\"type\":\"pie\"}],\"scatter\":[{\"marker\":{\"colorbar\":{\"outlinewidth\":0,\"ticks\":\"\"}},\"type\":\"scatter\"}],\"scatter3d\":[{\"line\":{\"colorbar\":{\"outlinewidth\":0,\"ticks\":\"\"}},\"marker\":{\"colorbar\":{\"outlinewidth\":0,\"ticks\":\"\"}},\"type\":\"scatter3d\"}],\"scattercarpet\":[{\"marker\":{\"colorbar\":{\"outlinewidth\":0,\"ticks\":\"\"}},\"type\":\"scattercarpet\"}],\"scattergeo\":[{\"marker\":{\"colorbar\":{\"outlinewidth\":0,\"ticks\":\"\"}},\"type\":\"scattergeo\"}],\"scattergl\":[{\"marker\":{\"colorbar\":{\"outlinewidth\":0,\"ticks\":\"\"}},\"type\":\"scattergl\"}],\"scattermapbox\":[{\"marker\":{\"colorbar\":{\"outlinewidth\":0,\"ticks\":\"\"}},\"type\":\"scattermapbox\"}],\"scatterpolar\":[{\"marker\":{\"colorbar\":{\"outlinewidth\":0,\"ticks\":\"\"}},\"type\":\"scatterpolar\"}],\"scatterpolargl\":[{\"marker\":{\"colorbar\":{\"outlinewidth\":0,\"ticks\":\"\"}},\"type\":\"scatterpolargl\"}],\"scatterternary\":[{\"marker\":{\"colorbar\":{\"outlinewidth\":0,\"ticks\":\"\"}},\"type\":\"scatterternary\"}],\"surface\":[{\"colorbar\":{\"outlinewidth\":0,\"ticks\":\"\"},\"colorscale\":[[0.0,\"#0d0887\"],[0.1111111111111111,\"#46039f\"],[0.2222222222222222,\"#7201a8\"],[0.3333333333333333,\"#9c179e\"],[0.4444444444444444,\"#bd3786\"],[0.5555555555555556,\"#d8576b\"],[0.6666666666666666,\"#ed7953\"],[0.7777777777777778,\"#fb9f3a\"],[0.8888888888888888,\"#fdca26\"],[1.0,\"#f0f921\"]],\"type\":\"surface\"}],\"table\":[{\"cells\":{\"fill\":{\"color\":\"#EBF0F8\"},\"line\":{\"color\":\"white\"}},\"header\":{\"fill\":{\"color\":\"#C8D4E3\"},\"line\":{\"color\":\"white\"}},\"type\":\"table\"}]},\"layout\":{\"annotationdefaults\":{\"arrowcolor\":\"#2a3f5f\",\"arrowhead\":0,\"arrowwidth\":1},\"autotypenumbers\":\"strict\",\"coloraxis\":{\"colorbar\":{\"outlinewidth\":0,\"ticks\":\"\"}},\"colorscale\":{\"diverging\":[[0,\"#8e0152\"],[0.1,\"#c51b7d\"],[0.2,\"#de77ae\"],[0.3,\"#f1b6da\"],[0.4,\"#fde0ef\"],[0.5,\"#f7f7f7\"],[0.6,\"#e6f5d0\"],[0.7,\"#b8e186\"],[0.8,\"#7fbc41\"],[0.9,\"#4d9221\"],[1,\"#276419\"]],\"sequential\":[[0.0,\"#0d0887\"],[0.1111111111111111,\"#46039f\"],[0.2222222222222222,\"#7201a8\"],[0.3333333333333333,\"#9c179e\"],[0.4444444444444444,\"#bd3786\"],[0.5555555555555556,\"#d8576b\"],[0.6666666666666666,\"#ed7953\"],[0.7777777777777778,\"#fb9f3a\"],[0.8888888888888888,\"#fdca26\"],[1.0,\"#f0f921\"]],\"sequentialminus\":[[0.0,\"#0d0887\"],[0.1111111111111111,\"#46039f\"],[0.2222222222222222,\"#7201a8\"],[0.3333333333333333,\"#9c179e\"],[0.4444444444444444,\"#bd3786\"],[0.5555555555555556,\"#d8576b\"],[0.6666666666666666,\"#ed7953\"],[0.7777777777777778,\"#fb9f3a\"],[0.8888888888888888,\"#fdca26\"],[1.0,\"#f0f921\"]]},\"colorway\":[\"#636efa\",\"#EF553B\",\"#00cc96\",\"#ab63fa\",\"#FFA15A\",\"#19d3f3\",\"#FF6692\",\"#B6E880\",\"#FF97FF\",\"#FECB52\"],\"font\":{\"color\":\"#2a3f5f\"},\"geo\":{\"bgcolor\":\"white\",\"lakecolor\":\"white\",\"landcolor\":\"#E5ECF6\",\"showlakes\":true,\"showland\":true,\"subunitcolor\":\"white\"},\"hoverlabel\":{\"align\":\"left\"},\"hovermode\":\"closest\",\"mapbox\":{\"style\":\"light\"},\"paper_bgcolor\":\"white\",\"plot_bgcolor\":\"#E5ECF6\",\"polar\":{\"angularaxis\":{\"gridcolor\":\"white\",\"linecolor\":\"white\",\"ticks\":\"\"},\"bgcolor\":\"#E5ECF6\",\"radialaxis\":{\"gridcolor\":\"white\",\"linecolor\":\"white\",\"ticks\":\"\"}},\"scene\":{\"xaxis\":{\"backgroundcolor\":\"#E5ECF6\",\"gridcolor\":\"white\",\"gridwidth\":2,\"linecolor\":\"white\",\"showbackground\":true,\"ticks\":\"\",\"zerolinecolor\":\"white\"},\"yaxis\":{\"backgroundcolor\":\"#E5ECF6\",\"gridcolor\":\"white\",\"gridwidth\":2,\"linecolor\":\"white\",\"showbackground\":true,\"ticks\":\"\",\"zerolinecolor\":\"white\"},\"zaxis\":{\"backgroundcolor\":\"#E5ECF6\",\"gridcolor\":\"white\",\"gridwidth\":2,\"linecolor\":\"white\",\"showbackground\":true,\"ticks\":\"\",\"zerolinecolor\":\"white\"}},\"shapedefaults\":{\"line\":{\"color\":\"#2a3f5f\"}},\"ternary\":{\"aaxis\":{\"gridcolor\":\"white\",\"linecolor\":\"white\",\"ticks\":\"\"},\"baxis\":{\"gridcolor\":\"white\",\"linecolor\":\"white\",\"ticks\":\"\"},\"bgcolor\":\"#E5ECF6\",\"caxis\":{\"gridcolor\":\"white\",\"linecolor\":\"white\",\"ticks\":\"\"}},\"title\":{\"x\":0.05},\"xaxis\":{\"automargin\":true,\"gridcolor\":\"white\",\"linecolor\":\"white\",\"ticks\":\"\",\"title\":{\"standoff\":15},\"zerolinecolor\":\"white\",\"zerolinewidth\":2},\"yaxis\":{\"automargin\":true,\"gridcolor\":\"white\",\"linecolor\":\"white\",\"ticks\":\"\",\"title\":{\"standoff\":15},\"zerolinecolor\":\"white\",\"zerolinewidth\":2}}},\"xaxis\":{\"anchor\":\"y\",\"domain\":[0.0,1.0],\"title\":{\"text\":\"event_date\"}},\"yaxis\":{\"anchor\":\"x\",\"domain\":[0.0,1.0],\"title\":{\"text\":\"user_count\"}},\"legend\":{\"title\":{\"text\":\"user_type\"},\"tracegroupgap\":0},\"title\":{\"text\":\"\\u0420\\u0430\\u0441\\u043f\\u0440\\u0435\\u0434\\u0435\\u043b\\u0435\\u043d\\u0438\\u0435 \\u0438\\u043d\\u0441\\u0442\\u0430\\u043b\\u043b\\u043e\\u0432 \\u043f\\u043e \\u0442\\u0438\\u043f\\u0430\\u043c \\u0442\\u0440\\u0430\\u0444\\u0438\\u043a\\u0430\"},\"barmode\":\"relative\"},                        {\"responsive\": true}                    ).then(function(){\n",
              "                            \n",
              "var gd = document.getElementById('aae047a0-e724-4f41-88f2-15146ac3be3b');\n",
              "var x = new MutationObserver(function (mutations, observer) {{\n",
              "        var display = window.getComputedStyle(gd).display;\n",
              "        if (!display || display === 'none') {{\n",
              "            console.log([gd, 'removed!']);\n",
              "            Plotly.purge(gd);\n",
              "            observer.disconnect();\n",
              "        }}\n",
              "}});\n",
              "\n",
              "// Listen for the removal of the full notebook cells\n",
              "var notebookContainer = gd.closest('#notebook-container');\n",
              "if (notebookContainer) {{\n",
              "    x.observe(notebookContainer, {childList: true});\n",
              "}}\n",
              "\n",
              "// Listen for the clearing of the current output cell\n",
              "var outputEl = gd.closest('.output');\n",
              "if (outputEl) {{\n",
              "    x.observe(outputEl, {childList: true});\n",
              "}}\n",
              "\n",
              "                        })                };                            </script>        </div>\n",
              "</body>\n",
              "</html>"
            ]
          },
          "metadata": {}
        }
      ]
    },
    {
      "cell_type": "markdown",
      "source": [
        "#### Гипотезы\n",
        "+ В 20-х числах октября 2020 года в игре что-то произошло: обновление, крупный сбой или временное закрытие регистрации. Мы знаем, что игра была открыта раньше указанных дат, при этом с 22 по 27 октября инсталлов не было или почти не было.\n",
        "+ 27 октября работа игры была восстановлена, появляются приемлемые значения событий инсталлов. К 27 октября был закуплен трафик, поэтому инсталлы совершаются как пользователями из органического, так и из неорганического трафика, при этом пользователей из неорганического трафика в первые дни в полтора-два раза больше.\n",
        "+ Ко 2 ноября количество неорганического трафика сильно понизилось. Возможно, в первые три недели неорганический трафик периодически докупался, потому что 3 и 11 ноября был отмечен резкий рост количества инсталлов из неорганического трафика, примерно на 200%. С середины ноября по декабрь количество неорганического трафика значительно сократилось. 3 декабря было относительно большое увеличение инсталлов из неорганики (почти в 10 раз относительно прошлого дня, но всего 24% от общего количества инсталлов). После 4 декабря и на протяжении всего исследуемого периода количество инсталлов из неорганического трафика было незначительным.\n",
        "+ Органический трафик был относительно стабилен с 27 октября по 10 ноября, количество установок 11 ноября резко выросло - на 300%. Ещё один пик роста числа органических установок был 22-23 марта (на 113% в первый и 130% на второй день).\n",
        "+ Можно предположить, что 11 ноября 2020 года совершилось какое-то игровое событие, возможно, было выпущено крупное обновление. В этот день был значительный рост числа инсталлов как из органического, так и неорганического трафика. Первые пять дней после этого были наиболее значимы по количеству инсталлов за весь исследуемый период. До декабря наблюдалось снижение количества инсталлов, в первых числах декабря снова был период роста, но недолгий, к январю количество инсталлов снизилось и держалось примерно на одном уровне до 22 марта. При этом количество инсталлов было примерно таким же, как после возобновления деятельности игры 27 октября."
      ],
      "metadata": {
        "id": "gLCu3aKD4Mwm"
      }
    },
    {
      "cell_type": "markdown",
      "source": [
        "### Задача 2. Отличия динамики количества ежедневных инсталлов для разных регионов "
      ],
      "metadata": {
        "id": "ONuzsFC8JvMd"
      }
    },
    {
      "cell_type": "markdown",
      "source": [
        "Есть ли отличия динамики количества ежедневных инсталлов  для разных регионов (СНГ, Европа, Азия, Северная Америка и Канада, Южная Америка)? Сделайте оценку в каких регионах более качественное удержание на начальном этапе (можно оценить, например, по второй сессии и проценту игроков, запустивших игру повторно)."
      ],
      "metadata": {
        "id": "CXPoi0X1Jx5f"
      }
    },
    {
      "cell_type": "markdown",
      "source": [
        "#### Расчёты"
      ],
      "metadata": {
        "id": "p18mBWZf9Pfw"
      }
    },
    {
      "cell_type": "code",
      "source": [
        "# Убираю дубликаты по пользователям, сохраняя страны:\n",
        "country_installs = installs.drop_duplicates(['user_id']).reset_index(drop=True).loc[:, ('event_date', 'user_id', 'country')].reset_index(drop=True)\n",
        "country_installs.head(2)"
      ],
      "metadata": {
        "id": "6xhMv11PX2Aa",
        "colab": {
          "base_uri": "https://localhost:8080/",
          "height": 112
        },
        "outputId": "d6b343fa-6d24-4180-fa7c-fed2439186f9"
      },
      "execution_count": null,
      "outputs": [
        {
          "output_type": "execute_result",
          "data": {
            "text/plain": [
              "  event_date  user_id country\n",
              "0 2020-11-29   208124      BY\n",
              "1 2020-11-29   136603      UA"
            ],
            "text/html": [
              "\n",
              "  <div id=\"df-160db976-1a42-4475-a861-5d271ca98deb\">\n",
              "    <div class=\"colab-df-container\">\n",
              "      <div>\n",
              "<style scoped>\n",
              "    .dataframe tbody tr th:only-of-type {\n",
              "        vertical-align: middle;\n",
              "    }\n",
              "\n",
              "    .dataframe tbody tr th {\n",
              "        vertical-align: top;\n",
              "    }\n",
              "\n",
              "    .dataframe thead th {\n",
              "        text-align: right;\n",
              "    }\n",
              "</style>\n",
              "<table border=\"1\" class=\"dataframe\">\n",
              "  <thead>\n",
              "    <tr style=\"text-align: right;\">\n",
              "      <th></th>\n",
              "      <th>event_date</th>\n",
              "      <th>user_id</th>\n",
              "      <th>country</th>\n",
              "    </tr>\n",
              "  </thead>\n",
              "  <tbody>\n",
              "    <tr>\n",
              "      <th>0</th>\n",
              "      <td>2020-11-29</td>\n",
              "      <td>208124</td>\n",
              "      <td>BY</td>\n",
              "    </tr>\n",
              "    <tr>\n",
              "      <th>1</th>\n",
              "      <td>2020-11-29</td>\n",
              "      <td>136603</td>\n",
              "      <td>UA</td>\n",
              "    </tr>\n",
              "  </tbody>\n",
              "</table>\n",
              "</div>\n",
              "      <button class=\"colab-df-convert\" onclick=\"convertToInteractive('df-160db976-1a42-4475-a861-5d271ca98deb')\"\n",
              "              title=\"Convert this dataframe to an interactive table.\"\n",
              "              style=\"display:none;\">\n",
              "        \n",
              "  <svg xmlns=\"http://www.w3.org/2000/svg\" height=\"24px\"viewBox=\"0 0 24 24\"\n",
              "       width=\"24px\">\n",
              "    <path d=\"M0 0h24v24H0V0z\" fill=\"none\"/>\n",
              "    <path d=\"M18.56 5.44l.94 2.06.94-2.06 2.06-.94-2.06-.94-.94-2.06-.94 2.06-2.06.94zm-11 1L8.5 8.5l.94-2.06 2.06-.94-2.06-.94L8.5 2.5l-.94 2.06-2.06.94zm10 10l.94 2.06.94-2.06 2.06-.94-2.06-.94-.94-2.06-.94 2.06-2.06.94z\"/><path d=\"M17.41 7.96l-1.37-1.37c-.4-.4-.92-.59-1.43-.59-.52 0-1.04.2-1.43.59L10.3 9.45l-7.72 7.72c-.78.78-.78 2.05 0 2.83L4 21.41c.39.39.9.59 1.41.59.51 0 1.02-.2 1.41-.59l7.78-7.78 2.81-2.81c.8-.78.8-2.07 0-2.86zM5.41 20L4 18.59l7.72-7.72 1.47 1.35L5.41 20z\"/>\n",
              "  </svg>\n",
              "      </button>\n",
              "      \n",
              "  <style>\n",
              "    .colab-df-container {\n",
              "      display:flex;\n",
              "      flex-wrap:wrap;\n",
              "      gap: 12px;\n",
              "    }\n",
              "\n",
              "    .colab-df-convert {\n",
              "      background-color: #E8F0FE;\n",
              "      border: none;\n",
              "      border-radius: 50%;\n",
              "      cursor: pointer;\n",
              "      display: none;\n",
              "      fill: #1967D2;\n",
              "      height: 32px;\n",
              "      padding: 0 0 0 0;\n",
              "      width: 32px;\n",
              "    }\n",
              "\n",
              "    .colab-df-convert:hover {\n",
              "      background-color: #E2EBFA;\n",
              "      box-shadow: 0px 1px 2px rgba(60, 64, 67, 0.3), 0px 1px 3px 1px rgba(60, 64, 67, 0.15);\n",
              "      fill: #174EA6;\n",
              "    }\n",
              "\n",
              "    [theme=dark] .colab-df-convert {\n",
              "      background-color: #3B4455;\n",
              "      fill: #D2E3FC;\n",
              "    }\n",
              "\n",
              "    [theme=dark] .colab-df-convert:hover {\n",
              "      background-color: #434B5C;\n",
              "      box-shadow: 0px 1px 3px 1px rgba(0, 0, 0, 0.15);\n",
              "      filter: drop-shadow(0px 1px 2px rgba(0, 0, 0, 0.3));\n",
              "      fill: #FFFFFF;\n",
              "    }\n",
              "  </style>\n",
              "\n",
              "      <script>\n",
              "        const buttonEl =\n",
              "          document.querySelector('#df-160db976-1a42-4475-a861-5d271ca98deb button.colab-df-convert');\n",
              "        buttonEl.style.display =\n",
              "          google.colab.kernel.accessAllowed ? 'block' : 'none';\n",
              "\n",
              "        async function convertToInteractive(key) {\n",
              "          const element = document.querySelector('#df-160db976-1a42-4475-a861-5d271ca98deb');\n",
              "          const dataTable =\n",
              "            await google.colab.kernel.invokeFunction('convertToInteractive',\n",
              "                                                     [key], {});\n",
              "          if (!dataTable) return;\n",
              "\n",
              "          const docLinkHtml = 'Like what you see? Visit the ' +\n",
              "            '<a target=\"_blank\" href=https://colab.research.google.com/notebooks/data_table.ipynb>data table notebook</a>'\n",
              "            + ' to learn more about interactive tables.';\n",
              "          element.innerHTML = '';\n",
              "          dataTable['output_type'] = 'display_data';\n",
              "          await google.colab.output.renderOutput(dataTable, element);\n",
              "          const docLink = document.createElement('div');\n",
              "          docLink.innerHTML = docLinkHtml;\n",
              "          element.appendChild(docLink);\n",
              "        }\n",
              "      </script>\n",
              "    </div>\n",
              "  </div>\n",
              "  "
            ]
          },
          "metadata": {},
          "execution_count": 117
        }
      ]
    },
    {
      "cell_type": "code",
      "source": [
        "country_installs['country'].unique()"
      ],
      "metadata": {
        "colab": {
          "base_uri": "https://localhost:8080/"
        },
        "id": "my6dIjZgcsE0",
        "outputId": "31ac96a3-f4b7-4d87-c771-f38edbc01018"
      },
      "execution_count": null,
      "outputs": [
        {
          "output_type": "execute_result",
          "data": {
            "text/plain": [
              "array(['BY', 'UA', 'RU', 'KZ', 'JP', 'UZ', 'PL', 'KG', 'MD', 'NL', 'GE',\n",
              "       'BD', 'VN', 'TW', 'AZ', 'LV', 'AM', 'EE', 'KR', 'CZ', 'MM', 'TM',\n",
              "       'EG', 'EC', 'US', 'CA', 'PR', 'MX', 'CR', 'DO', 'VI', 'NI', 'PA',\n",
              "       None, 'GT', 'AI', 'TT', 'AG', 'KN', 'CU', 'JM', 'BB', 'HN', 'AW',\n",
              "       'SV', 'PH', 'VE', 'DE', 'SA', 'UK', 'NG', 'BH', 'CN', 'LT', 'NO',\n",
              "       'FR', 'ES', 'QA', 'BE', 'KE', 'IQ', 'SE', 'KW', 'BR', 'FI', 'RO',\n",
              "       'BO', 'HK', 'BN', 'TH', 'HR', 'IL', 'CY', 'TR', 'SR', 'GU', 'CL',\n",
              "       'AU', 'MY', 'AT', 'DK', 'TJ', 'ID', 'IR', 'GR', 'SY', 'IT', 'IN',\n",
              "       'AR', 'AE', 'JO', 'BG', 'AF', 'MN', 'SG', 'UY', 'CO', 'PK', 'MG',\n",
              "       'SK', 'SI', 'PS', 'ZA', 'PE', 'DZ', 'RE', 'GH', 'MV', 'RS', 'GW',\n",
              "       'CH', 'LA', 'ME', 'NP', 'AL', 'AD', 'OM', 'HU', 'IE', 'PT', 'TN',\n",
              "       'CM'], dtype=object)"
            ]
          },
          "metadata": {},
          "execution_count": 118
        }
      ]
    },
    {
      "cell_type": "markdown",
      "source": [
        "Сгруппирую страны по категориям, чтобы получить более наглядную визуализацию в соответствии с поставленной задачей.\n",
        "\n",
        "Меня интересуют следующие категории:\n",
        "+ СНГ (CIS);\n",
        "+ Европа (Europe);\n",
        "+ Азия (Asia);\n",
        "+ Северная Америка (North America);\n",
        "+ Южная Америка (South America)"
      ],
      "metadata": {
        "id": "dNU8B1SecHEv"
      }
    },
    {
      "cell_type": "code",
      "source": [
        "def group_by_country(country):\n",
        "    if country == 'RU' or country == 'UA' or country == 'BY' or country == 'AM' \\\n",
        "    or country == 'KZ' or country == 'UZ' or country == 'KG' or country == 'MD' \\\n",
        "    or country == 'AZ' or country == 'TJ':\n",
        "        return 'CIS'\n",
        "    elif country == 'PL' or country == 'LV' or country == 'DE' or country == 'LT' \\\n",
        "    or country == 'NO' or country == 'FR' or country == 'CZ' or country == 'ES' \\\n",
        "    or country == 'NL' or country == 'BE' or country == 'EE' or country == 'SE' \\\n",
        "    or country == 'FI' or country == 'RO' or country == 'HR' or country == 'AT' \\\n",
        "    or country == 'DK' or country == 'GR' or country == 'IT' or country == 'BG' \\\n",
        "    or country == 'SK' or country == 'SI' or country == 'RS' or country == 'CH' \\\n",
        "    or country == 'ME' or country == 'AL' or country == 'AD' or country == 'HU' \\\n",
        "    or country == 'IE' or country == 'PT':\n",
        "        return 'Europe'\n",
        "    elif country == 'PH' or country == 'GE' or country == 'JP' or country == 'SA' \\\n",
        "    or country == 'KR' or country == 'BH' or country == 'CN' or country == 'VN' \\\n",
        "    or country == 'QA' or country == 'IQ' or country == 'KW' or country == 'HK' \\\n",
        "    or country == 'BN' or country == 'TH' or country == 'MM' or country == 'IL' \\\n",
        "    or country == 'CY' or country == 'TR' or country == 'MY' or country == 'ID' \\\n",
        "    or country == 'IR' or country == 'SY' or country == 'IN' or country == 'AE' \\\n",
        "    or country == 'JO' or country == 'AF' or country == 'MN' or country == 'TM' \\\n",
        "    or country == 'SG' or country == 'PK' or country == 'TW' or country == 'PS' \\\n",
        "    or country == 'BD' or country == 'MV' or country == 'LA' or country == 'NP' \\\n",
        "    or country == 'OM':\n",
        "        return 'Asia'\n",
        "    elif country == 'US' or country == 'CA' or country == 'MX':\n",
        "        return 'North America'\n",
        "    elif country == 'VE' or country == 'BR' or country == 'BO' or country == 'SR' \\\n",
        "    or country == 'CL' or country == 'AR' or country == 'EC' or country == 'UY' \\\n",
        "    or country == 'CO' or country == 'PE':\n",
        "        return 'South America'\n",
        "#    elif country == 'PR' or country == 'CR' or country == 'DO' or country == 'VI' \\\n",
        "#    or country == 'NI' or country == 'PA' or country == 'GT' or country == 'AI' \\\n",
        "#    or country == 'TT' or country == 'AG' or country == 'KN' or country == 'CU' \\\n",
        "#    or country == 'JM' or country == 'BB' or country == 'HN' or country == 'AW' \\\n",
        "#    or country == 'SV':\n",
        "#        return 'Central America'\n",
        "#    elif country == 'NG' or country == 'EG' or country == 'KE' or country == 'MG' \\\n",
        "#    or country == 'ZA' or country == 'DZ' or country == 'RE' or country == 'GH' \\\n",
        "#    or country == 'GW' or country == 'TN' or country == 'CM':\n",
        "#        return 'Africa'\n",
        "    else:\n",
        "        return 'Other'\n",
        "\n",
        "country_installs['country_group'] = country_installs['country'].apply(group_by_country)\n"
      ],
      "metadata": {
        "id": "-cE5S83VbrHh"
      },
      "execution_count": null,
      "outputs": []
    },
    {
      "cell_type": "code",
      "source": [
        "# Группирую данные инсталлов по группе стран и дате:\n",
        "country_installs = country_installs.groupby(['country_group', 'event_date'])['user_id'].nunique().reset_index().sort_values('event_date').reset_index(drop=True)"
      ],
      "metadata": {
        "id": "FlmBIDMoYFu3"
      },
      "execution_count": null,
      "outputs": []
    },
    {
      "cell_type": "code",
      "source": [
        "# Переименовываю user_id в user_count:\n",
        "country_installs.rename(columns={'user_id': 'user_count'}, inplace=True)"
      ],
      "metadata": {
        "id": "m1kghmMjYNlC"
      },
      "execution_count": null,
      "outputs": []
    },
    {
      "cell_type": "markdown",
      "source": [
        "#### График"
      ],
      "metadata": {
        "id": "oc-zqorOYQ9X"
      }
    },
    {
      "cell_type": "code",
      "source": [
        "# Получаю линейный график с визуализацией количества инсталлов пользователями из разных групп стран по датам:\n",
        "fig = px.line(\n",
        "    country_installs,\n",
        "    x = 'event_date',\n",
        "    y = 'user_count',\n",
        "    color = 'country_group',\n",
        "    title = 'Распределение инсталлов по группам стран',\n",
        ")\n",
        "fig.show()"
      ],
      "metadata": {
        "colab": {
          "base_uri": "https://localhost:8080/",
          "height": 542
        },
        "id": "srmV_F8MYQU6",
        "outputId": "b596c2a3-0494-4378-d9c8-a0fed7d26755"
      },
      "execution_count": null,
      "outputs": [
        {
          "output_type": "display_data",
          "data": {
            "text/html": [
              "<html>\n",
              "<head><meta charset=\"utf-8\" /></head>\n",
              "<body>\n",
              "    <div>            <script src=\"https://cdnjs.cloudflare.com/ajax/libs/mathjax/2.7.5/MathJax.js?config=TeX-AMS-MML_SVG\"></script><script type=\"text/javascript\">if (window.MathJax) {MathJax.Hub.Config({SVG: {font: \"STIX-Web\"}});}</script>                <script type=\"text/javascript\">window.PlotlyConfig = {MathJaxConfig: 'local'};</script>\n",
              "        <script src=\"https://cdn.plot.ly/plotly-2.8.3.min.js\"></script>                <div id=\"46657009-f111-46e3-8cc7-98eca8907d89\" class=\"plotly-graph-div\" style=\"height:525px; width:100%;\"></div>            <script type=\"text/javascript\">                                    window.PLOTLYENV=window.PLOTLYENV || {};                                    if (document.getElementById(\"46657009-f111-46e3-8cc7-98eca8907d89\")) {                    Plotly.newPlot(                        \"46657009-f111-46e3-8cc7-98eca8907d89\",                        [{\"hovertemplate\":\"country_group=Asia<br>event_date=%{x}<br>user_count=%{y}<extra></extra>\",\"legendgroup\":\"Asia\",\"line\":{\"color\":\"#636efa\",\"dash\":\"solid\"},\"marker\":{\"symbol\":\"circle\"},\"mode\":\"lines\",\"name\":\"Asia\",\"orientation\":\"v\",\"showlegend\":true,\"x\":[\"2020-10-22T00:00:00\",\"2020-10-23T00:00:00\",\"2020-10-27T00:00:00\",\"2020-10-28T00:00:00\",\"2020-10-29T00:00:00\",\"2020-10-30T00:00:00\",\"2020-10-31T00:00:00\",\"2020-11-01T00:00:00\",\"2020-11-02T00:00:00\",\"2020-11-03T00:00:00\",\"2020-11-04T00:00:00\",\"2020-11-05T00:00:00\",\"2020-11-06T00:00:00\",\"2020-11-07T00:00:00\",\"2020-11-08T00:00:00\",\"2020-11-10T00:00:00\",\"2020-11-11T00:00:00\",\"2020-11-12T00:00:00\",\"2020-11-13T00:00:00\",\"2020-11-14T00:00:00\",\"2020-11-15T00:00:00\",\"2020-11-16T00:00:00\",\"2020-11-17T00:00:00\",\"2020-11-18T00:00:00\",\"2020-11-19T00:00:00\",\"2020-11-20T00:00:00\",\"2020-11-21T00:00:00\",\"2020-11-22T00:00:00\",\"2020-11-23T00:00:00\",\"2020-11-24T00:00:00\",\"2020-11-25T00:00:00\",\"2020-11-26T00:00:00\",\"2020-11-27T00:00:00\",\"2020-11-28T00:00:00\",\"2020-11-29T00:00:00\",\"2020-11-30T00:00:00\",\"2020-12-01T00:00:00\",\"2020-12-02T00:00:00\",\"2020-12-03T00:00:00\",\"2020-12-04T00:00:00\",\"2020-12-05T00:00:00\",\"2020-12-06T00:00:00\",\"2020-12-07T00:00:00\",\"2020-12-08T00:00:00\",\"2020-12-09T00:00:00\",\"2020-12-10T00:00:00\",\"2020-12-11T00:00:00\",\"2020-12-12T00:00:00\",\"2020-12-13T00:00:00\",\"2020-12-14T00:00:00\",\"2020-12-15T00:00:00\",\"2020-12-16T00:00:00\",\"2020-12-17T00:00:00\",\"2020-12-18T00:00:00\",\"2020-12-19T00:00:00\",\"2020-12-20T00:00:00\",\"2020-12-21T00:00:00\",\"2020-12-22T00:00:00\",\"2020-12-23T00:00:00\",\"2020-12-24T00:00:00\",\"2020-12-25T00:00:00\",\"2020-12-26T00:00:00\",\"2020-12-27T00:00:00\",\"2020-12-28T00:00:00\",\"2020-12-29T00:00:00\",\"2020-12-30T00:00:00\",\"2020-12-31T00:00:00\",\"2021-01-01T00:00:00\",\"2021-01-02T00:00:00\",\"2021-01-03T00:00:00\",\"2021-01-04T00:00:00\",\"2021-01-05T00:00:00\",\"2021-01-06T00:00:00\",\"2021-01-07T00:00:00\",\"2021-01-08T00:00:00\",\"2021-01-09T00:00:00\",\"2021-01-10T00:00:00\",\"2021-01-11T00:00:00\",\"2021-01-12T00:00:00\",\"2021-01-13T00:00:00\",\"2021-01-14T00:00:00\",\"2021-01-15T00:00:00\",\"2021-01-16T00:00:00\",\"2021-01-17T00:00:00\",\"2021-01-18T00:00:00\",\"2021-01-19T00:00:00\",\"2021-01-20T00:00:00\",\"2021-01-21T00:00:00\",\"2021-01-22T00:00:00\",\"2021-01-23T00:00:00\",\"2021-01-24T00:00:00\",\"2021-01-25T00:00:00\",\"2021-01-26T00:00:00\",\"2021-01-27T00:00:00\",\"2021-01-28T00:00:00\",\"2021-01-29T00:00:00\",\"2021-01-30T00:00:00\",\"2021-01-31T00:00:00\",\"2021-02-01T00:00:00\",\"2021-02-02T00:00:00\",\"2021-02-03T00:00:00\",\"2021-02-04T00:00:00\",\"2021-02-05T00:00:00\",\"2021-02-06T00:00:00\",\"2021-02-07T00:00:00\",\"2021-02-08T00:00:00\",\"2021-02-09T00:00:00\",\"2021-02-10T00:00:00\",\"2021-02-11T00:00:00\",\"2021-02-12T00:00:00\",\"2021-02-13T00:00:00\",\"2021-02-14T00:00:00\",\"2021-02-15T00:00:00\",\"2021-02-16T00:00:00\",\"2021-02-17T00:00:00\",\"2021-02-18T00:00:00\",\"2021-02-19T00:00:00\",\"2021-02-20T00:00:00\",\"2021-02-21T00:00:00\",\"2021-02-22T00:00:00\",\"2021-02-23T00:00:00\",\"2021-02-24T00:00:00\",\"2021-02-25T00:00:00\",\"2021-02-26T00:00:00\",\"2021-02-27T00:00:00\",\"2021-02-28T00:00:00\",\"2021-03-01T00:00:00\",\"2021-03-02T00:00:00\",\"2021-03-03T00:00:00\",\"2021-03-04T00:00:00\",\"2021-03-05T00:00:00\",\"2021-03-06T00:00:00\",\"2021-03-07T00:00:00\",\"2021-03-08T00:00:00\",\"2021-03-09T00:00:00\",\"2021-03-10T00:00:00\",\"2021-03-11T00:00:00\",\"2021-03-12T00:00:00\",\"2021-03-13T00:00:00\",\"2021-03-14T00:00:00\",\"2021-03-15T00:00:00\",\"2021-03-16T00:00:00\",\"2021-03-17T00:00:00\",\"2021-03-18T00:00:00\",\"2021-03-19T00:00:00\",\"2021-03-20T00:00:00\",\"2021-03-21T00:00:00\",\"2021-03-22T00:00:00\",\"2021-03-23T00:00:00\",\"2021-03-24T00:00:00\",\"2021-03-25T00:00:00\",\"2021-03-26T00:00:00\",\"2021-03-27T00:00:00\",\"2021-03-28T00:00:00\",\"2021-03-29T00:00:00\",\"2021-03-30T00:00:00\",\"2021-03-31T00:00:00\",\"2021-04-01T00:00:00\",\"2021-04-02T00:00:00\",\"2021-04-03T00:00:00\",\"2021-04-04T00:00:00\",\"2021-04-05T00:00:00\",\"2021-04-06T00:00:00\",\"2021-04-07T00:00:00\",\"2021-04-08T00:00:00\",\"2021-04-09T00:00:00\",\"2021-04-10T00:00:00\",\"2021-04-11T00:00:00\",\"2021-04-12T00:00:00\",\"2021-04-13T00:00:00\",\"2021-04-14T00:00:00\",\"2021-04-15T00:00:00\",\"2021-04-17T00:00:00\",\"2021-04-18T00:00:00\",\"2021-04-19T00:00:00\",\"2021-04-20T00:00:00\",\"2021-04-21T00:00:00\",\"2021-04-22T00:00:00\",\"2021-04-23T00:00:00\",\"2021-04-24T00:00:00\",\"2021-04-25T00:00:00\",\"2021-04-26T00:00:00\",\"2021-04-27T00:00:00\",\"2021-04-28T00:00:00\",\"2021-04-29T00:00:00\",\"2021-04-30T00:00:00\",\"2021-05-01T00:00:00\",\"2021-05-02T00:00:00\",\"2021-05-03T00:00:00\",\"2021-05-04T00:00:00\",\"2021-05-06T00:00:00\",\"2021-05-07T00:00:00\",\"2021-05-08T00:00:00\",\"2021-05-09T00:00:00\",\"2021-05-10T00:00:00\",\"2021-05-11T00:00:00\",\"2021-05-12T00:00:00\",\"2021-05-13T00:00:00\",\"2021-05-15T00:00:00\",\"2021-05-16T00:00:00\",\"2021-05-17T00:00:00\",\"2021-05-18T00:00:00\",\"2021-05-19T00:00:00\",\"2021-05-20T00:00:00\",\"2021-05-21T00:00:00\",\"2021-05-22T00:00:00\",\"2021-05-23T00:00:00\",\"2021-05-24T00:00:00\",\"2021-05-25T00:00:00\",\"2021-05-26T00:00:00\",\"2021-05-27T00:00:00\",\"2021-05-28T00:00:00\",\"2021-05-29T00:00:00\",\"2021-05-30T00:00:00\",\"2021-05-31T00:00:00\"],\"xaxis\":\"x\",\"y\":[4,1,6,2,6,2,8,4,3,4,7,6,7,6,1,1,3,9,4,5,14,6,11,8,9,4,8,19,5,8,7,11,4,5,4,5,3,7,9,8,9,12,6,13,15,10,3,11,17,11,6,6,8,2,2,4,3,4,3,3,3,5,8,5,7,2,7,3,6,5,5,6,8,7,5,3,6,6,12,8,7,13,6,5,8,13,8,4,2,2,1,4,3,4,6,21,81,20,16,16,16,9,11,8,4,6,6,11,7,5,7,7,3,8,18,7,5,6,8,9,4,8,5,3,4,4,6,4,2,4,6,8,3,5,3,1,6,4,3,2,6,6,4,4,3,2,3,2,7,15,15,8,6,2,8,4,3,2,3,4,2,4,2,4,4,6,3,6,1,6,6,4,4,6,4,4,3,1,4,2,5,2,1,2,1,3,1,1,7,3,3,3,3,1,5,5,2,5,1,1,5,2,8,2,5,1,6,10,4,3,4,6,7,5,2],\"yaxis\":\"y\",\"type\":\"scatter\"},{\"hovertemplate\":\"country_group=CIS<br>event_date=%{x}<br>user_count=%{y}<extra></extra>\",\"legendgroup\":\"CIS\",\"line\":{\"color\":\"#EF553B\",\"dash\":\"solid\"},\"marker\":{\"symbol\":\"circle\"},\"mode\":\"lines\",\"name\":\"CIS\",\"orientation\":\"v\",\"showlegend\":true,\"x\":[\"2020-10-22T00:00:00\",\"2020-10-23T00:00:00\",\"2020-10-27T00:00:00\",\"2020-10-28T00:00:00\",\"2020-10-29T00:00:00\",\"2020-10-30T00:00:00\",\"2020-10-31T00:00:00\",\"2020-11-01T00:00:00\",\"2020-11-02T00:00:00\",\"2020-11-03T00:00:00\",\"2020-11-04T00:00:00\",\"2020-11-05T00:00:00\",\"2020-11-06T00:00:00\",\"2020-11-07T00:00:00\",\"2020-11-08T00:00:00\",\"2020-11-09T00:00:00\",\"2020-11-10T00:00:00\",\"2020-11-11T00:00:00\",\"2020-11-12T00:00:00\",\"2020-11-13T00:00:00\",\"2020-11-14T00:00:00\",\"2020-11-15T00:00:00\",\"2020-11-16T00:00:00\",\"2020-11-17T00:00:00\",\"2020-11-18T00:00:00\",\"2020-11-19T00:00:00\",\"2020-11-20T00:00:00\",\"2020-11-21T00:00:00\",\"2020-11-22T00:00:00\",\"2020-11-23T00:00:00\",\"2020-11-24T00:00:00\",\"2020-11-25T00:00:00\",\"2020-11-26T00:00:00\",\"2020-11-27T00:00:00\",\"2020-11-28T00:00:00\",\"2020-11-29T00:00:00\",\"2020-11-30T00:00:00\",\"2020-12-01T00:00:00\",\"2020-12-02T00:00:00\",\"2020-12-03T00:00:00\",\"2020-12-04T00:00:00\",\"2020-12-05T00:00:00\",\"2020-12-06T00:00:00\",\"2020-12-07T00:00:00\",\"2020-12-08T00:00:00\",\"2020-12-09T00:00:00\",\"2020-12-10T00:00:00\",\"2020-12-11T00:00:00\",\"2020-12-12T00:00:00\",\"2020-12-13T00:00:00\",\"2020-12-14T00:00:00\",\"2020-12-15T00:00:00\",\"2020-12-16T00:00:00\",\"2020-12-17T00:00:00\",\"2020-12-18T00:00:00\",\"2020-12-19T00:00:00\",\"2020-12-20T00:00:00\",\"2020-12-21T00:00:00\",\"2020-12-22T00:00:00\",\"2020-12-23T00:00:00\",\"2020-12-24T00:00:00\",\"2020-12-25T00:00:00\",\"2020-12-26T00:00:00\",\"2020-12-27T00:00:00\",\"2020-12-28T00:00:00\",\"2020-12-29T00:00:00\",\"2020-12-30T00:00:00\",\"2020-12-31T00:00:00\",\"2021-01-01T00:00:00\",\"2021-01-02T00:00:00\",\"2021-01-03T00:00:00\",\"2021-01-04T00:00:00\",\"2021-01-05T00:00:00\",\"2021-01-06T00:00:00\",\"2021-01-07T00:00:00\",\"2021-01-08T00:00:00\",\"2021-01-09T00:00:00\",\"2021-01-10T00:00:00\",\"2021-01-11T00:00:00\",\"2021-01-12T00:00:00\",\"2021-01-13T00:00:00\",\"2021-01-14T00:00:00\",\"2021-01-15T00:00:00\",\"2021-01-16T00:00:00\",\"2021-01-17T00:00:00\",\"2021-01-18T00:00:00\",\"2021-01-19T00:00:00\",\"2021-01-20T00:00:00\",\"2021-01-21T00:00:00\",\"2021-01-22T00:00:00\",\"2021-01-23T00:00:00\",\"2021-01-24T00:00:00\",\"2021-01-25T00:00:00\",\"2021-01-26T00:00:00\",\"2021-01-27T00:00:00\",\"2021-01-28T00:00:00\",\"2021-01-29T00:00:00\",\"2021-01-30T00:00:00\",\"2021-01-31T00:00:00\",\"2021-02-01T00:00:00\",\"2021-02-02T00:00:00\",\"2021-02-03T00:00:00\",\"2021-02-04T00:00:00\",\"2021-02-05T00:00:00\",\"2021-02-06T00:00:00\",\"2021-02-07T00:00:00\",\"2021-02-08T00:00:00\",\"2021-02-09T00:00:00\",\"2021-02-10T00:00:00\",\"2021-02-11T00:00:00\",\"2021-02-12T00:00:00\",\"2021-02-13T00:00:00\",\"2021-02-14T00:00:00\",\"2021-02-15T00:00:00\",\"2021-02-16T00:00:00\",\"2021-02-17T00:00:00\",\"2021-02-18T00:00:00\",\"2021-02-19T00:00:00\",\"2021-02-20T00:00:00\",\"2021-02-21T00:00:00\",\"2021-02-22T00:00:00\",\"2021-02-23T00:00:00\",\"2021-02-24T00:00:00\",\"2021-02-25T00:00:00\",\"2021-02-26T00:00:00\",\"2021-02-27T00:00:00\",\"2021-02-28T00:00:00\",\"2021-03-01T00:00:00\",\"2021-03-02T00:00:00\",\"2021-03-03T00:00:00\",\"2021-03-04T00:00:00\",\"2021-03-05T00:00:00\",\"2021-03-06T00:00:00\",\"2021-03-07T00:00:00\",\"2021-03-08T00:00:00\",\"2021-03-09T00:00:00\",\"2021-03-10T00:00:00\",\"2021-03-11T00:00:00\",\"2021-03-12T00:00:00\",\"2021-03-13T00:00:00\",\"2021-03-14T00:00:00\",\"2021-03-15T00:00:00\",\"2021-03-16T00:00:00\",\"2021-03-17T00:00:00\",\"2021-03-18T00:00:00\",\"2021-03-19T00:00:00\",\"2021-03-20T00:00:00\",\"2021-03-21T00:00:00\",\"2021-03-22T00:00:00\",\"2021-03-23T00:00:00\",\"2021-03-24T00:00:00\",\"2021-03-25T00:00:00\",\"2021-03-26T00:00:00\",\"2021-03-27T00:00:00\",\"2021-03-28T00:00:00\",\"2021-03-29T00:00:00\",\"2021-03-30T00:00:00\",\"2021-03-31T00:00:00\",\"2021-04-01T00:00:00\",\"2021-04-02T00:00:00\",\"2021-04-03T00:00:00\",\"2021-04-04T00:00:00\",\"2021-04-05T00:00:00\",\"2021-04-06T00:00:00\",\"2021-04-07T00:00:00\",\"2021-04-08T00:00:00\",\"2021-04-09T00:00:00\",\"2021-04-10T00:00:00\",\"2021-04-11T00:00:00\",\"2021-04-12T00:00:00\",\"2021-04-13T00:00:00\",\"2021-04-14T00:00:00\",\"2021-04-15T00:00:00\",\"2021-04-16T00:00:00\",\"2021-04-17T00:00:00\",\"2021-04-18T00:00:00\",\"2021-04-19T00:00:00\",\"2021-04-20T00:00:00\",\"2021-04-21T00:00:00\",\"2021-04-22T00:00:00\",\"2021-04-23T00:00:00\",\"2021-04-24T00:00:00\",\"2021-04-25T00:00:00\",\"2021-04-26T00:00:00\",\"2021-04-27T00:00:00\",\"2021-04-28T00:00:00\",\"2021-04-29T00:00:00\",\"2021-04-30T00:00:00\",\"2021-05-01T00:00:00\",\"2021-05-02T00:00:00\",\"2021-05-03T00:00:00\",\"2021-05-04T00:00:00\",\"2021-05-05T00:00:00\",\"2021-05-06T00:00:00\",\"2021-05-07T00:00:00\",\"2021-05-08T00:00:00\",\"2021-05-09T00:00:00\",\"2021-05-10T00:00:00\",\"2021-05-11T00:00:00\",\"2021-05-12T00:00:00\",\"2021-05-13T00:00:00\",\"2021-05-14T00:00:00\",\"2021-05-15T00:00:00\",\"2021-05-16T00:00:00\",\"2021-05-17T00:00:00\",\"2021-05-18T00:00:00\",\"2021-05-19T00:00:00\",\"2021-05-20T00:00:00\",\"2021-05-21T00:00:00\",\"2021-05-22T00:00:00\",\"2021-05-23T00:00:00\",\"2021-05-24T00:00:00\",\"2021-05-25T00:00:00\",\"2021-05-26T00:00:00\",\"2021-05-27T00:00:00\",\"2021-05-28T00:00:00\",\"2021-05-29T00:00:00\",\"2021-05-30T00:00:00\",\"2021-05-31T00:00:00\"],\"xaxis\":\"x\",\"y\":[2,3,133,272,226,189,102,90,54,191,267,194,219,227,243,187,107,583,465,443,470,476,344,291,351,352,249,234,220,230,247,216,199,205,253,297,211,227,237,320,334,322,283,230,154,180,168,123,201,243,185,220,193,149,143,167,177,159,115,113,100,97,110,89,85,56,80,86,70,115,109,110,68,76,93,70,71,80,65,69,55,47,51,59,69,71,58,53,67,92,75,62,45,59,61,61,99,104,79,62,65,55,63,51,66,61,68,56,62,49,33,57,71,57,83,60,57,41,43,48,77,40,56,69,54,64,60,61,56,65,64,72,79,98,79,56,52,51,56,68,52,60,59,61,58,91,70,97,260,637,501,244,164,189,178,128,145,118,94,74,87,118,83,95,90,98,94,106,94,88,102,96,60,49,74,72,91,69,65,70,73,65,72,51,36,66,39,41,69,74,62,36,48,46,46,51,80,55,52,57,50,33,54,50,46,54,57,53,41,31,34,28,27,24,37,31,53,65,14],\"yaxis\":\"y\",\"type\":\"scatter\"},{\"hovertemplate\":\"country_group=North America<br>event_date=%{x}<br>user_count=%{y}<extra></extra>\",\"legendgroup\":\"North America\",\"line\":{\"color\":\"#00cc96\",\"dash\":\"solid\"},\"marker\":{\"symbol\":\"circle\"},\"mode\":\"lines\",\"name\":\"North America\",\"orientation\":\"v\",\"showlegend\":true,\"x\":[\"2020-10-25T00:00:00\",\"2020-10-27T00:00:00\",\"2020-10-28T00:00:00\",\"2020-10-29T00:00:00\",\"2020-10-30T00:00:00\",\"2020-10-31T00:00:00\",\"2020-11-01T00:00:00\",\"2020-11-02T00:00:00\",\"2020-11-03T00:00:00\",\"2020-11-04T00:00:00\",\"2020-11-05T00:00:00\",\"2020-11-06T00:00:00\",\"2020-11-07T00:00:00\",\"2020-11-08T00:00:00\",\"2020-11-09T00:00:00\",\"2020-11-10T00:00:00\",\"2020-11-11T00:00:00\",\"2020-11-12T00:00:00\",\"2020-11-13T00:00:00\",\"2020-11-14T00:00:00\",\"2020-11-15T00:00:00\",\"2020-11-16T00:00:00\",\"2020-11-17T00:00:00\",\"2020-11-18T00:00:00\",\"2020-11-19T00:00:00\",\"2020-11-20T00:00:00\",\"2020-11-21T00:00:00\",\"2020-11-22T00:00:00\",\"2020-11-23T00:00:00\",\"2020-11-24T00:00:00\",\"2020-11-25T00:00:00\",\"2020-11-26T00:00:00\",\"2020-11-27T00:00:00\",\"2020-11-28T00:00:00\",\"2020-11-29T00:00:00\",\"2020-11-30T00:00:00\",\"2020-12-01T00:00:00\",\"2020-12-02T00:00:00\",\"2020-12-03T00:00:00\",\"2020-12-04T00:00:00\",\"2020-12-05T00:00:00\",\"2020-12-06T00:00:00\",\"2020-12-07T00:00:00\",\"2020-12-08T00:00:00\",\"2020-12-09T00:00:00\",\"2020-12-10T00:00:00\",\"2020-12-11T00:00:00\",\"2020-12-12T00:00:00\",\"2020-12-13T00:00:00\",\"2020-12-14T00:00:00\",\"2020-12-15T00:00:00\",\"2020-12-16T00:00:00\",\"2020-12-17T00:00:00\",\"2020-12-18T00:00:00\",\"2020-12-19T00:00:00\",\"2020-12-20T00:00:00\",\"2020-12-21T00:00:00\",\"2020-12-22T00:00:00\",\"2020-12-23T00:00:00\",\"2020-12-24T00:00:00\",\"2020-12-25T00:00:00\",\"2020-12-26T00:00:00\",\"2020-12-27T00:00:00\",\"2020-12-28T00:00:00\",\"2020-12-29T00:00:00\",\"2020-12-30T00:00:00\",\"2020-12-31T00:00:00\",\"2021-01-01T00:00:00\",\"2021-01-02T00:00:00\",\"2021-01-03T00:00:00\",\"2021-01-04T00:00:00\",\"2021-01-05T00:00:00\",\"2021-01-06T00:00:00\",\"2021-01-07T00:00:00\",\"2021-01-08T00:00:00\",\"2021-01-09T00:00:00\",\"2021-01-10T00:00:00\",\"2021-01-11T00:00:00\",\"2021-01-12T00:00:00\",\"2021-01-13T00:00:00\",\"2021-01-14T00:00:00\",\"2021-01-15T00:00:00\",\"2021-01-16T00:00:00\",\"2021-01-17T00:00:00\",\"2021-01-18T00:00:00\",\"2021-01-19T00:00:00\",\"2021-01-20T00:00:00\",\"2021-01-21T00:00:00\",\"2021-01-22T00:00:00\",\"2021-01-23T00:00:00\",\"2021-01-24T00:00:00\",\"2021-01-25T00:00:00\",\"2021-01-26T00:00:00\",\"2021-01-27T00:00:00\",\"2021-01-28T00:00:00\",\"2021-01-29T00:00:00\",\"2021-01-30T00:00:00\",\"2021-01-31T00:00:00\",\"2021-02-01T00:00:00\",\"2021-02-02T00:00:00\",\"2021-02-03T00:00:00\",\"2021-02-04T00:00:00\",\"2021-02-05T00:00:00\",\"2021-02-06T00:00:00\",\"2021-02-07T00:00:00\",\"2021-02-08T00:00:00\",\"2021-02-09T00:00:00\",\"2021-02-10T00:00:00\",\"2021-02-11T00:00:00\",\"2021-02-12T00:00:00\",\"2021-02-13T00:00:00\",\"2021-02-14T00:00:00\",\"2021-02-15T00:00:00\",\"2021-02-16T00:00:00\",\"2021-02-17T00:00:00\",\"2021-02-18T00:00:00\",\"2021-02-19T00:00:00\",\"2021-02-20T00:00:00\",\"2021-02-21T00:00:00\",\"2021-02-22T00:00:00\",\"2021-02-23T00:00:00\",\"2021-02-24T00:00:00\",\"2021-02-25T00:00:00\",\"2021-02-26T00:00:00\",\"2021-02-27T00:00:00\",\"2021-02-28T00:00:00\",\"2021-03-01T00:00:00\",\"2021-03-02T00:00:00\",\"2021-03-03T00:00:00\",\"2021-03-04T00:00:00\",\"2021-03-05T00:00:00\",\"2021-03-06T00:00:00\",\"2021-03-07T00:00:00\",\"2021-03-08T00:00:00\",\"2021-03-09T00:00:00\",\"2021-03-10T00:00:00\",\"2021-03-11T00:00:00\",\"2021-03-12T00:00:00\",\"2021-03-13T00:00:00\",\"2021-03-14T00:00:00\",\"2021-03-15T00:00:00\",\"2021-03-16T00:00:00\",\"2021-03-17T00:00:00\",\"2021-03-18T00:00:00\",\"2021-03-19T00:00:00\",\"2021-03-20T00:00:00\",\"2021-03-21T00:00:00\",\"2021-03-22T00:00:00\",\"2021-03-23T00:00:00\",\"2021-03-24T00:00:00\",\"2021-03-25T00:00:00\",\"2021-03-26T00:00:00\",\"2021-03-27T00:00:00\",\"2021-03-28T00:00:00\",\"2021-03-29T00:00:00\",\"2021-03-30T00:00:00\",\"2021-03-31T00:00:00\",\"2021-04-01T00:00:00\",\"2021-04-02T00:00:00\",\"2021-04-03T00:00:00\",\"2021-04-04T00:00:00\",\"2021-04-05T00:00:00\",\"2021-04-06T00:00:00\",\"2021-04-07T00:00:00\",\"2021-04-08T00:00:00\",\"2021-04-09T00:00:00\",\"2021-04-10T00:00:00\",\"2021-04-11T00:00:00\",\"2021-04-12T00:00:00\",\"2021-04-13T00:00:00\",\"2021-04-14T00:00:00\",\"2021-04-15T00:00:00\",\"2021-04-16T00:00:00\",\"2021-04-17T00:00:00\",\"2021-04-18T00:00:00\",\"2021-04-19T00:00:00\",\"2021-04-20T00:00:00\",\"2021-04-21T00:00:00\",\"2021-04-22T00:00:00\",\"2021-04-23T00:00:00\",\"2021-04-24T00:00:00\",\"2021-04-25T00:00:00\",\"2021-04-26T00:00:00\",\"2021-04-27T00:00:00\",\"2021-04-28T00:00:00\",\"2021-04-29T00:00:00\",\"2021-04-30T00:00:00\",\"2021-05-01T00:00:00\",\"2021-05-02T00:00:00\",\"2021-05-03T00:00:00\",\"2021-05-04T00:00:00\",\"2021-05-05T00:00:00\",\"2021-05-06T00:00:00\",\"2021-05-07T00:00:00\",\"2021-05-08T00:00:00\",\"2021-05-09T00:00:00\",\"2021-05-10T00:00:00\",\"2021-05-11T00:00:00\",\"2021-05-12T00:00:00\",\"2021-05-13T00:00:00\",\"2021-05-14T00:00:00\",\"2021-05-15T00:00:00\",\"2021-05-16T00:00:00\",\"2021-05-17T00:00:00\",\"2021-05-18T00:00:00\",\"2021-05-19T00:00:00\",\"2021-05-20T00:00:00\",\"2021-05-21T00:00:00\",\"2021-05-22T00:00:00\",\"2021-05-23T00:00:00\",\"2021-05-24T00:00:00\",\"2021-05-25T00:00:00\",\"2021-05-26T00:00:00\",\"2021-05-27T00:00:00\",\"2021-05-28T00:00:00\",\"2021-05-29T00:00:00\",\"2021-05-30T00:00:00\",\"2021-05-31T00:00:00\"],\"xaxis\":\"x\",\"y\":[1,116,236,248,180,159,126,92,194,215,172,173,191,235,205,146,262,340,269,321,347,221,136,145,131,77,84,70,72,87,90,76,71,45,57,65,90,77,131,158,96,129,98,94,59,66,48,70,128,104,66,48,49,42,36,35,54,49,38,53,49,37,31,51,35,26,38,43,39,63,68,35,25,30,32,36,43,52,30,36,32,22,40,44,39,35,30,43,17,32,22,38,22,28,34,46,31,37,18,37,17,22,22,33,38,28,17,16,20,30,45,48,32,49,61,30,22,32,22,26,26,21,28,12,30,28,16,17,23,30,12,33,26,20,15,11,13,22,26,16,13,18,19,17,13,34,37,30,21,17,11,9,17,18,13,9,13,13,7,19,12,11,13,11,19,23,30,9,15,38,36,20,22,20,14,7,8,22,14,15,12,16,10,13,10,17,10,21,18,14,9,7,8,9,8,16,14,9,9,55,14,17,12,10,7,8,9,15,10,2,9,11,7,7,5,10,16,5],\"yaxis\":\"y\",\"type\":\"scatter\"},{\"hovertemplate\":\"country_group=Europe<br>event_date=%{x}<br>user_count=%{y}<extra></extra>\",\"legendgroup\":\"Europe\",\"line\":{\"color\":\"#ab63fa\",\"dash\":\"solid\"},\"marker\":{\"symbol\":\"circle\"},\"mode\":\"lines\",\"name\":\"Europe\",\"orientation\":\"v\",\"showlegend\":true,\"x\":[\"2020-10-27T00:00:00\",\"2020-10-29T00:00:00\",\"2020-10-31T00:00:00\",\"2020-11-01T00:00:00\",\"2020-11-04T00:00:00\",\"2020-11-06T00:00:00\",\"2020-11-07T00:00:00\",\"2020-11-08T00:00:00\",\"2020-11-09T00:00:00\",\"2020-11-10T00:00:00\",\"2020-11-11T00:00:00\",\"2020-11-12T00:00:00\",\"2020-11-13T00:00:00\",\"2020-11-14T00:00:00\",\"2020-11-15T00:00:00\",\"2020-11-16T00:00:00\",\"2020-11-17T00:00:00\",\"2020-11-18T00:00:00\",\"2020-11-19T00:00:00\",\"2020-11-20T00:00:00\",\"2020-11-21T00:00:00\",\"2020-11-22T00:00:00\",\"2020-11-23T00:00:00\",\"2020-11-24T00:00:00\",\"2020-11-25T00:00:00\",\"2020-11-26T00:00:00\",\"2020-11-27T00:00:00\",\"2020-11-28T00:00:00\",\"2020-11-29T00:00:00\",\"2020-11-30T00:00:00\",\"2020-12-01T00:00:00\",\"2020-12-02T00:00:00\",\"2020-12-03T00:00:00\",\"2020-12-04T00:00:00\",\"2020-12-05T00:00:00\",\"2020-12-06T00:00:00\",\"2020-12-07T00:00:00\",\"2020-12-08T00:00:00\",\"2020-12-09T00:00:00\",\"2020-12-10T00:00:00\",\"2020-12-11T00:00:00\",\"2020-12-12T00:00:00\",\"2020-12-13T00:00:00\",\"2020-12-14T00:00:00\",\"2020-12-15T00:00:00\",\"2020-12-16T00:00:00\",\"2020-12-17T00:00:00\",\"2020-12-18T00:00:00\",\"2020-12-19T00:00:00\",\"2020-12-20T00:00:00\",\"2020-12-21T00:00:00\",\"2020-12-24T00:00:00\",\"2020-12-26T00:00:00\",\"2020-12-27T00:00:00\",\"2020-12-28T00:00:00\",\"2020-12-29T00:00:00\",\"2020-12-30T00:00:00\",\"2020-12-31T00:00:00\",\"2021-01-01T00:00:00\",\"2021-01-02T00:00:00\",\"2021-01-03T00:00:00\",\"2021-01-04T00:00:00\",\"2021-01-05T00:00:00\",\"2021-01-06T00:00:00\",\"2021-01-07T00:00:00\",\"2021-01-08T00:00:00\",\"2021-01-09T00:00:00\",\"2021-01-10T00:00:00\",\"2021-01-11T00:00:00\",\"2021-01-12T00:00:00\",\"2021-01-13T00:00:00\",\"2021-01-15T00:00:00\",\"2021-01-16T00:00:00\",\"2021-01-17T00:00:00\",\"2021-01-18T00:00:00\",\"2021-01-20T00:00:00\",\"2021-01-21T00:00:00\",\"2021-01-22T00:00:00\",\"2021-01-24T00:00:00\",\"2021-01-26T00:00:00\",\"2021-01-28T00:00:00\",\"2021-01-29T00:00:00\",\"2021-01-30T00:00:00\",\"2021-01-31T00:00:00\",\"2021-02-01T00:00:00\",\"2021-02-02T00:00:00\",\"2021-02-04T00:00:00\",\"2021-02-05T00:00:00\",\"2021-02-06T00:00:00\",\"2021-02-07T00:00:00\",\"2021-02-08T00:00:00\",\"2021-02-10T00:00:00\",\"2021-02-12T00:00:00\",\"2021-02-13T00:00:00\",\"2021-02-14T00:00:00\",\"2021-02-15T00:00:00\",\"2021-02-16T00:00:00\",\"2021-02-17T00:00:00\",\"2021-02-18T00:00:00\",\"2021-02-20T00:00:00\",\"2021-02-21T00:00:00\",\"2021-02-22T00:00:00\",\"2021-02-23T00:00:00\",\"2021-02-24T00:00:00\",\"2021-02-25T00:00:00\",\"2021-02-28T00:00:00\",\"2021-03-01T00:00:00\",\"2021-03-02T00:00:00\",\"2021-03-03T00:00:00\",\"2021-03-04T00:00:00\",\"2021-03-05T00:00:00\",\"2021-03-07T00:00:00\",\"2021-03-08T00:00:00\",\"2021-03-09T00:00:00\",\"2021-03-12T00:00:00\",\"2021-03-13T00:00:00\",\"2021-03-14T00:00:00\",\"2021-03-15T00:00:00\",\"2021-03-17T00:00:00\",\"2021-03-18T00:00:00\",\"2021-03-19T00:00:00\",\"2021-03-20T00:00:00\",\"2021-03-21T00:00:00\",\"2021-03-22T00:00:00\",\"2021-03-23T00:00:00\",\"2021-03-24T00:00:00\",\"2021-03-25T00:00:00\",\"2021-03-26T00:00:00\",\"2021-03-27T00:00:00\",\"2021-03-28T00:00:00\",\"2021-03-29T00:00:00\",\"2021-03-30T00:00:00\",\"2021-03-31T00:00:00\",\"2021-04-01T00:00:00\",\"2021-04-02T00:00:00\",\"2021-04-03T00:00:00\",\"2021-04-04T00:00:00\",\"2021-04-05T00:00:00\",\"2021-04-06T00:00:00\",\"2021-04-07T00:00:00\",\"2021-04-09T00:00:00\",\"2021-04-10T00:00:00\",\"2021-04-11T00:00:00\",\"2021-04-12T00:00:00\",\"2021-04-13T00:00:00\",\"2021-04-14T00:00:00\",\"2021-04-15T00:00:00\",\"2021-04-16T00:00:00\",\"2021-04-17T00:00:00\",\"2021-04-18T00:00:00\",\"2021-04-19T00:00:00\",\"2021-04-20T00:00:00\",\"2021-04-21T00:00:00\",\"2021-04-22T00:00:00\",\"2021-04-23T00:00:00\",\"2021-04-24T00:00:00\",\"2021-04-25T00:00:00\",\"2021-04-26T00:00:00\",\"2021-04-29T00:00:00\",\"2021-04-30T00:00:00\",\"2021-05-01T00:00:00\",\"2021-05-02T00:00:00\",\"2021-05-03T00:00:00\",\"2021-05-04T00:00:00\",\"2021-05-05T00:00:00\",\"2021-05-07T00:00:00\",\"2021-05-09T00:00:00\",\"2021-05-10T00:00:00\",\"2021-05-12T00:00:00\",\"2021-05-13T00:00:00\",\"2021-05-14T00:00:00\",\"2021-05-15T00:00:00\",\"2021-05-16T00:00:00\",\"2021-05-17T00:00:00\",\"2021-05-20T00:00:00\",\"2021-05-22T00:00:00\",\"2021-05-23T00:00:00\",\"2021-05-26T00:00:00\",\"2021-05-27T00:00:00\",\"2021-05-28T00:00:00\"],\"xaxis\":\"x\",\"y\":[1,3,1,4,6,4,1,5,2,3,6,3,11,6,18,5,2,5,5,7,6,2,3,5,5,3,6,2,6,4,4,3,3,4,7,12,3,2,4,3,1,2,5,4,1,3,4,2,1,5,1,6,2,2,2,1,1,2,4,2,2,2,1,2,1,1,1,2,1,1,1,1,1,1,1,2,13,2,1,1,1,1,2,3,2,2,1,3,2,2,1,3,2,2,1,1,1,1,1,1,1,2,2,2,1,3,3,2,3,4,3,1,1,1,2,1,1,1,5,1,3,1,2,3,11,9,3,1,7,2,5,2,3,2,3,1,9,4,2,2,4,3,5,1,2,1,1,2,1,2,2,1,3,1,1,2,3,1,1,1,1,1,3,1,6,2,2,2,1,1,1,1,1,1,3,2,2,1,1,1],\"yaxis\":\"y\",\"type\":\"scatter\"},{\"hovertemplate\":\"country_group=Other<br>event_date=%{x}<br>user_count=%{y}<extra></extra>\",\"legendgroup\":\"Other\",\"line\":{\"color\":\"#FFA15A\",\"dash\":\"solid\"},\"marker\":{\"symbol\":\"circle\"},\"mode\":\"lines\",\"name\":\"Other\",\"orientation\":\"v\",\"showlegend\":true,\"x\":[\"2020-10-29T00:00:00\",\"2020-10-30T00:00:00\",\"2020-10-31T00:00:00\",\"2020-11-02T00:00:00\",\"2020-11-03T00:00:00\",\"2020-11-05T00:00:00\",\"2020-11-07T00:00:00\",\"2020-11-11T00:00:00\",\"2020-11-12T00:00:00\",\"2020-11-13T00:00:00\",\"2020-11-14T00:00:00\",\"2020-11-15T00:00:00\",\"2020-11-16T00:00:00\",\"2020-11-17T00:00:00\",\"2020-11-18T00:00:00\",\"2020-11-19T00:00:00\",\"2020-11-20T00:00:00\",\"2020-11-21T00:00:00\",\"2020-11-22T00:00:00\",\"2020-11-23T00:00:00\",\"2020-11-24T00:00:00\",\"2020-11-26T00:00:00\",\"2020-11-30T00:00:00\",\"2020-12-01T00:00:00\",\"2020-12-02T00:00:00\",\"2020-12-03T00:00:00\",\"2020-12-04T00:00:00\",\"2020-12-05T00:00:00\",\"2020-12-06T00:00:00\",\"2020-12-08T00:00:00\",\"2020-12-10T00:00:00\",\"2020-12-13T00:00:00\",\"2020-12-15T00:00:00\",\"2020-12-16T00:00:00\",\"2020-12-18T00:00:00\",\"2020-12-19T00:00:00\",\"2020-12-20T00:00:00\",\"2020-12-21T00:00:00\",\"2020-12-23T00:00:00\",\"2020-12-25T00:00:00\",\"2020-12-26T00:00:00\",\"2020-12-27T00:00:00\",\"2020-12-30T00:00:00\",\"2021-01-01T00:00:00\",\"2021-01-02T00:00:00\",\"2021-01-03T00:00:00\",\"2021-01-08T00:00:00\",\"2021-01-09T00:00:00\",\"2021-01-10T00:00:00\",\"2021-01-12T00:00:00\",\"2021-01-13T00:00:00\",\"2021-01-15T00:00:00\",\"2021-01-18T00:00:00\",\"2021-01-20T00:00:00\",\"2021-01-21T00:00:00\",\"2021-01-22T00:00:00\",\"2021-01-24T00:00:00\",\"2021-01-29T00:00:00\",\"2021-01-31T00:00:00\",\"2021-02-01T00:00:00\",\"2021-02-02T00:00:00\",\"2021-02-05T00:00:00\",\"2021-02-06T00:00:00\",\"2021-02-14T00:00:00\",\"2021-02-17T00:00:00\",\"2021-02-18T00:00:00\",\"2021-02-20T00:00:00\",\"2021-02-21T00:00:00\",\"2021-02-23T00:00:00\",\"2021-02-27T00:00:00\",\"2021-03-06T00:00:00\",\"2021-03-07T00:00:00\",\"2021-03-13T00:00:00\",\"2021-03-15T00:00:00\",\"2021-03-20T00:00:00\",\"2021-03-21T00:00:00\",\"2021-03-22T00:00:00\",\"2021-03-23T00:00:00\",\"2021-04-05T00:00:00\",\"2021-04-07T00:00:00\",\"2021-04-08T00:00:00\",\"2021-04-11T00:00:00\",\"2021-04-13T00:00:00\",\"2021-04-19T00:00:00\",\"2021-04-22T00:00:00\",\"2021-04-25T00:00:00\",\"2021-04-28T00:00:00\",\"2021-05-02T00:00:00\",\"2021-05-09T00:00:00\",\"2021-05-10T00:00:00\",\"2021-05-13T00:00:00\",\"2021-05-14T00:00:00\",\"2021-05-16T00:00:00\",\"2021-05-21T00:00:00\",\"2021-05-24T00:00:00\",\"2021-05-27T00:00:00\",\"2021-05-30T00:00:00\"],\"xaxis\":\"x\",\"y\":[1,2,1,3,1,1,1,1,1,4,3,1,3,2,1,1,1,1,1,1,1,1,1,1,1,1,1,1,1,1,1,3,1,1,2,2,1,3,2,1,1,1,1,1,2,1,1,1,3,1,1,1,3,1,1,1,1,1,1,1,1,1,1,1,1,1,3,1,1,1,1,1,1,2,1,1,1,1,1,1,1,1,2,1,1,1,1,1,1,1,1,1,1,1,1,1,1],\"yaxis\":\"y\",\"type\":\"scatter\"},{\"hovertemplate\":\"country_group=South America<br>event_date=%{x}<br>user_count=%{y}<extra></extra>\",\"legendgroup\":\"South America\",\"line\":{\"color\":\"#19d3f3\",\"dash\":\"solid\"},\"marker\":{\"symbol\":\"circle\"},\"mode\":\"lines\",\"name\":\"South America\",\"orientation\":\"v\",\"showlegend\":true,\"x\":[\"2020-11-01T00:00:00\",\"2020-11-08T00:00:00\",\"2020-11-11T00:00:00\",\"2020-11-14T00:00:00\",\"2020-11-15T00:00:00\",\"2020-11-16T00:00:00\",\"2020-11-19T00:00:00\",\"2020-11-22T00:00:00\",\"2020-11-25T00:00:00\",\"2020-11-26T00:00:00\",\"2020-11-30T00:00:00\",\"2020-12-02T00:00:00\",\"2020-12-03T00:00:00\",\"2020-12-04T00:00:00\",\"2020-12-08T00:00:00\",\"2020-12-12T00:00:00\",\"2020-12-13T00:00:00\",\"2020-12-16T00:00:00\",\"2020-12-17T00:00:00\",\"2020-12-18T00:00:00\",\"2020-12-20T00:00:00\",\"2020-12-24T00:00:00\",\"2020-12-27T00:00:00\",\"2020-12-28T00:00:00\",\"2020-12-29T00:00:00\",\"2020-12-30T00:00:00\",\"2021-01-01T00:00:00\",\"2021-01-05T00:00:00\",\"2021-01-12T00:00:00\",\"2021-01-13T00:00:00\",\"2021-01-14T00:00:00\",\"2021-01-23T00:00:00\",\"2021-01-25T00:00:00\",\"2021-01-26T00:00:00\",\"2021-01-31T00:00:00\",\"2021-02-08T00:00:00\",\"2021-02-11T00:00:00\",\"2021-02-13T00:00:00\",\"2021-02-14T00:00:00\",\"2021-02-19T00:00:00\",\"2021-03-07T00:00:00\",\"2021-03-25T00:00:00\",\"2021-03-31T00:00:00\",\"2021-04-04T00:00:00\",\"2021-04-07T00:00:00\",\"2021-04-08T00:00:00\",\"2021-04-11T00:00:00\",\"2021-04-13T00:00:00\",\"2021-05-04T00:00:00\",\"2021-05-06T00:00:00\"],\"xaxis\":\"x\",\"y\":[1,1,1,2,1,4,2,1,1,1,2,1,1,3,2,1,1,1,1,2,1,1,3,1,1,1,2,1,1,1,1,1,1,1,1,1,1,1,1,2,1,1,1,1,2,1,1,1,1,1],\"yaxis\":\"y\",\"type\":\"scatter\"}],                        {\"template\":{\"data\":{\"bar\":[{\"error_x\":{\"color\":\"#2a3f5f\"},\"error_y\":{\"color\":\"#2a3f5f\"},\"marker\":{\"line\":{\"color\":\"#E5ECF6\",\"width\":0.5},\"pattern\":{\"fillmode\":\"overlay\",\"size\":10,\"solidity\":0.2}},\"type\":\"bar\"}],\"barpolar\":[{\"marker\":{\"line\":{\"color\":\"#E5ECF6\",\"width\":0.5},\"pattern\":{\"fillmode\":\"overlay\",\"size\":10,\"solidity\":0.2}},\"type\":\"barpolar\"}],\"carpet\":[{\"aaxis\":{\"endlinecolor\":\"#2a3f5f\",\"gridcolor\":\"white\",\"linecolor\":\"white\",\"minorgridcolor\":\"white\",\"startlinecolor\":\"#2a3f5f\"},\"baxis\":{\"endlinecolor\":\"#2a3f5f\",\"gridcolor\":\"white\",\"linecolor\":\"white\",\"minorgridcolor\":\"white\",\"startlinecolor\":\"#2a3f5f\"},\"type\":\"carpet\"}],\"choropleth\":[{\"colorbar\":{\"outlinewidth\":0,\"ticks\":\"\"},\"type\":\"choropleth\"}],\"contour\":[{\"colorbar\":{\"outlinewidth\":0,\"ticks\":\"\"},\"colorscale\":[[0.0,\"#0d0887\"],[0.1111111111111111,\"#46039f\"],[0.2222222222222222,\"#7201a8\"],[0.3333333333333333,\"#9c179e\"],[0.4444444444444444,\"#bd3786\"],[0.5555555555555556,\"#d8576b\"],[0.6666666666666666,\"#ed7953\"],[0.7777777777777778,\"#fb9f3a\"],[0.8888888888888888,\"#fdca26\"],[1.0,\"#f0f921\"]],\"type\":\"contour\"}],\"contourcarpet\":[{\"colorbar\":{\"outlinewidth\":0,\"ticks\":\"\"},\"type\":\"contourcarpet\"}],\"heatmap\":[{\"colorbar\":{\"outlinewidth\":0,\"ticks\":\"\"},\"colorscale\":[[0.0,\"#0d0887\"],[0.1111111111111111,\"#46039f\"],[0.2222222222222222,\"#7201a8\"],[0.3333333333333333,\"#9c179e\"],[0.4444444444444444,\"#bd3786\"],[0.5555555555555556,\"#d8576b\"],[0.6666666666666666,\"#ed7953\"],[0.7777777777777778,\"#fb9f3a\"],[0.8888888888888888,\"#fdca26\"],[1.0,\"#f0f921\"]],\"type\":\"heatmap\"}],\"heatmapgl\":[{\"colorbar\":{\"outlinewidth\":0,\"ticks\":\"\"},\"colorscale\":[[0.0,\"#0d0887\"],[0.1111111111111111,\"#46039f\"],[0.2222222222222222,\"#7201a8\"],[0.3333333333333333,\"#9c179e\"],[0.4444444444444444,\"#bd3786\"],[0.5555555555555556,\"#d8576b\"],[0.6666666666666666,\"#ed7953\"],[0.7777777777777778,\"#fb9f3a\"],[0.8888888888888888,\"#fdca26\"],[1.0,\"#f0f921\"]],\"type\":\"heatmapgl\"}],\"histogram\":[{\"marker\":{\"pattern\":{\"fillmode\":\"overlay\",\"size\":10,\"solidity\":0.2}},\"type\":\"histogram\"}],\"histogram2d\":[{\"colorbar\":{\"outlinewidth\":0,\"ticks\":\"\"},\"colorscale\":[[0.0,\"#0d0887\"],[0.1111111111111111,\"#46039f\"],[0.2222222222222222,\"#7201a8\"],[0.3333333333333333,\"#9c179e\"],[0.4444444444444444,\"#bd3786\"],[0.5555555555555556,\"#d8576b\"],[0.6666666666666666,\"#ed7953\"],[0.7777777777777778,\"#fb9f3a\"],[0.8888888888888888,\"#fdca26\"],[1.0,\"#f0f921\"]],\"type\":\"histogram2d\"}],\"histogram2dcontour\":[{\"colorbar\":{\"outlinewidth\":0,\"ticks\":\"\"},\"colorscale\":[[0.0,\"#0d0887\"],[0.1111111111111111,\"#46039f\"],[0.2222222222222222,\"#7201a8\"],[0.3333333333333333,\"#9c179e\"],[0.4444444444444444,\"#bd3786\"],[0.5555555555555556,\"#d8576b\"],[0.6666666666666666,\"#ed7953\"],[0.7777777777777778,\"#fb9f3a\"],[0.8888888888888888,\"#fdca26\"],[1.0,\"#f0f921\"]],\"type\":\"histogram2dcontour\"}],\"mesh3d\":[{\"colorbar\":{\"outlinewidth\":0,\"ticks\":\"\"},\"type\":\"mesh3d\"}],\"parcoords\":[{\"line\":{\"colorbar\":{\"outlinewidth\":0,\"ticks\":\"\"}},\"type\":\"parcoords\"}],\"pie\":[{\"automargin\":true,\"type\":\"pie\"}],\"scatter\":[{\"marker\":{\"colorbar\":{\"outlinewidth\":0,\"ticks\":\"\"}},\"type\":\"scatter\"}],\"scatter3d\":[{\"line\":{\"colorbar\":{\"outlinewidth\":0,\"ticks\":\"\"}},\"marker\":{\"colorbar\":{\"outlinewidth\":0,\"ticks\":\"\"}},\"type\":\"scatter3d\"}],\"scattercarpet\":[{\"marker\":{\"colorbar\":{\"outlinewidth\":0,\"ticks\":\"\"}},\"type\":\"scattercarpet\"}],\"scattergeo\":[{\"marker\":{\"colorbar\":{\"outlinewidth\":0,\"ticks\":\"\"}},\"type\":\"scattergeo\"}],\"scattergl\":[{\"marker\":{\"colorbar\":{\"outlinewidth\":0,\"ticks\":\"\"}},\"type\":\"scattergl\"}],\"scattermapbox\":[{\"marker\":{\"colorbar\":{\"outlinewidth\":0,\"ticks\":\"\"}},\"type\":\"scattermapbox\"}],\"scatterpolar\":[{\"marker\":{\"colorbar\":{\"outlinewidth\":0,\"ticks\":\"\"}},\"type\":\"scatterpolar\"}],\"scatterpolargl\":[{\"marker\":{\"colorbar\":{\"outlinewidth\":0,\"ticks\":\"\"}},\"type\":\"scatterpolargl\"}],\"scatterternary\":[{\"marker\":{\"colorbar\":{\"outlinewidth\":0,\"ticks\":\"\"}},\"type\":\"scatterternary\"}],\"surface\":[{\"colorbar\":{\"outlinewidth\":0,\"ticks\":\"\"},\"colorscale\":[[0.0,\"#0d0887\"],[0.1111111111111111,\"#46039f\"],[0.2222222222222222,\"#7201a8\"],[0.3333333333333333,\"#9c179e\"],[0.4444444444444444,\"#bd3786\"],[0.5555555555555556,\"#d8576b\"],[0.6666666666666666,\"#ed7953\"],[0.7777777777777778,\"#fb9f3a\"],[0.8888888888888888,\"#fdca26\"],[1.0,\"#f0f921\"]],\"type\":\"surface\"}],\"table\":[{\"cells\":{\"fill\":{\"color\":\"#EBF0F8\"},\"line\":{\"color\":\"white\"}},\"header\":{\"fill\":{\"color\":\"#C8D4E3\"},\"line\":{\"color\":\"white\"}},\"type\":\"table\"}]},\"layout\":{\"annotationdefaults\":{\"arrowcolor\":\"#2a3f5f\",\"arrowhead\":0,\"arrowwidth\":1},\"autotypenumbers\":\"strict\",\"coloraxis\":{\"colorbar\":{\"outlinewidth\":0,\"ticks\":\"\"}},\"colorscale\":{\"diverging\":[[0,\"#8e0152\"],[0.1,\"#c51b7d\"],[0.2,\"#de77ae\"],[0.3,\"#f1b6da\"],[0.4,\"#fde0ef\"],[0.5,\"#f7f7f7\"],[0.6,\"#e6f5d0\"],[0.7,\"#b8e186\"],[0.8,\"#7fbc41\"],[0.9,\"#4d9221\"],[1,\"#276419\"]],\"sequential\":[[0.0,\"#0d0887\"],[0.1111111111111111,\"#46039f\"],[0.2222222222222222,\"#7201a8\"],[0.3333333333333333,\"#9c179e\"],[0.4444444444444444,\"#bd3786\"],[0.5555555555555556,\"#d8576b\"],[0.6666666666666666,\"#ed7953\"],[0.7777777777777778,\"#fb9f3a\"],[0.8888888888888888,\"#fdca26\"],[1.0,\"#f0f921\"]],\"sequentialminus\":[[0.0,\"#0d0887\"],[0.1111111111111111,\"#46039f\"],[0.2222222222222222,\"#7201a8\"],[0.3333333333333333,\"#9c179e\"],[0.4444444444444444,\"#bd3786\"],[0.5555555555555556,\"#d8576b\"],[0.6666666666666666,\"#ed7953\"],[0.7777777777777778,\"#fb9f3a\"],[0.8888888888888888,\"#fdca26\"],[1.0,\"#f0f921\"]]},\"colorway\":[\"#636efa\",\"#EF553B\",\"#00cc96\",\"#ab63fa\",\"#FFA15A\",\"#19d3f3\",\"#FF6692\",\"#B6E880\",\"#FF97FF\",\"#FECB52\"],\"font\":{\"color\":\"#2a3f5f\"},\"geo\":{\"bgcolor\":\"white\",\"lakecolor\":\"white\",\"landcolor\":\"#E5ECF6\",\"showlakes\":true,\"showland\":true,\"subunitcolor\":\"white\"},\"hoverlabel\":{\"align\":\"left\"},\"hovermode\":\"closest\",\"mapbox\":{\"style\":\"light\"},\"paper_bgcolor\":\"white\",\"plot_bgcolor\":\"#E5ECF6\",\"polar\":{\"angularaxis\":{\"gridcolor\":\"white\",\"linecolor\":\"white\",\"ticks\":\"\"},\"bgcolor\":\"#E5ECF6\",\"radialaxis\":{\"gridcolor\":\"white\",\"linecolor\":\"white\",\"ticks\":\"\"}},\"scene\":{\"xaxis\":{\"backgroundcolor\":\"#E5ECF6\",\"gridcolor\":\"white\",\"gridwidth\":2,\"linecolor\":\"white\",\"showbackground\":true,\"ticks\":\"\",\"zerolinecolor\":\"white\"},\"yaxis\":{\"backgroundcolor\":\"#E5ECF6\",\"gridcolor\":\"white\",\"gridwidth\":2,\"linecolor\":\"white\",\"showbackground\":true,\"ticks\":\"\",\"zerolinecolor\":\"white\"},\"zaxis\":{\"backgroundcolor\":\"#E5ECF6\",\"gridcolor\":\"white\",\"gridwidth\":2,\"linecolor\":\"white\",\"showbackground\":true,\"ticks\":\"\",\"zerolinecolor\":\"white\"}},\"shapedefaults\":{\"line\":{\"color\":\"#2a3f5f\"}},\"ternary\":{\"aaxis\":{\"gridcolor\":\"white\",\"linecolor\":\"white\",\"ticks\":\"\"},\"baxis\":{\"gridcolor\":\"white\",\"linecolor\":\"white\",\"ticks\":\"\"},\"bgcolor\":\"#E5ECF6\",\"caxis\":{\"gridcolor\":\"white\",\"linecolor\":\"white\",\"ticks\":\"\"}},\"title\":{\"x\":0.05},\"xaxis\":{\"automargin\":true,\"gridcolor\":\"white\",\"linecolor\":\"white\",\"ticks\":\"\",\"title\":{\"standoff\":15},\"zerolinecolor\":\"white\",\"zerolinewidth\":2},\"yaxis\":{\"automargin\":true,\"gridcolor\":\"white\",\"linecolor\":\"white\",\"ticks\":\"\",\"title\":{\"standoff\":15},\"zerolinecolor\":\"white\",\"zerolinewidth\":2}}},\"xaxis\":{\"anchor\":\"y\",\"domain\":[0.0,1.0],\"title\":{\"text\":\"event_date\"}},\"yaxis\":{\"anchor\":\"x\",\"domain\":[0.0,1.0],\"title\":{\"text\":\"user_count\"}},\"legend\":{\"title\":{\"text\":\"country_group\"},\"tracegroupgap\":0},\"title\":{\"text\":\"\\u0420\\u0430\\u0441\\u043f\\u0440\\u0435\\u0434\\u0435\\u043b\\u0435\\u043d\\u0438\\u0435 \\u0438\\u043d\\u0441\\u0442\\u0430\\u043b\\u043b\\u043e\\u0432 \\u043f\\u043e \\u0433\\u0440\\u0443\\u043f\\u043f\\u0430\\u043c \\u0441\\u0442\\u0440\\u0430\\u043d\"}},                        {\"responsive\": true}                    ).then(function(){\n",
              "                            \n",
              "var gd = document.getElementById('46657009-f111-46e3-8cc7-98eca8907d89');\n",
              "var x = new MutationObserver(function (mutations, observer) {{\n",
              "        var display = window.getComputedStyle(gd).display;\n",
              "        if (!display || display === 'none') {{\n",
              "            console.log([gd, 'removed!']);\n",
              "            Plotly.purge(gd);\n",
              "            observer.disconnect();\n",
              "        }}\n",
              "}});\n",
              "\n",
              "// Listen for the removal of the full notebook cells\n",
              "var notebookContainer = gd.closest('#notebook-container');\n",
              "if (notebookContainer) {{\n",
              "    x.observe(notebookContainer, {childList: true});\n",
              "}}\n",
              "\n",
              "// Listen for the clearing of the current output cell\n",
              "var outputEl = gd.closest('.output');\n",
              "if (outputEl) {{\n",
              "    x.observe(outputEl, {childList: true});\n",
              "}}\n",
              "\n",
              "                        })                };                            </script>        </div>\n",
              "</body>\n",
              "</html>"
            ]
          },
          "metadata": {}
        }
      ]
    },
    {
      "cell_type": "markdown",
      "source": [
        "#### Расчёты второго запуска"
      ],
      "metadata": {
        "id": "I7z6dLCwV6PR"
      }
    },
    {
      "cell_type": "markdown",
      "source": [
        "В имеющейся у нас базе данных первый вход с названием LaunchApp часто совпадает по времени с FirstLaunchApp. Иногда между этими событиями происходит 1 или несколько секунд. Делать расчёты повторного запуска на основании таких данных кажется не вполне объективным, поэтому я возьму события LaunchApp > FirstLauchApp по дате и оставлю среди них самые ранние, получив данные запусков второго дня."
      ],
      "metadata": {
        "id": "AeW4fg9VYRXL"
      }
    },
    {
      "cell_type": "code",
      "source": [
        "installs_date = installs.loc[:, ('event_name', 'event_date', 'event_time', 'user_id')].reset_index(drop=True)"
      ],
      "metadata": {
        "id": "MP2xIRASfxCo"
      },
      "execution_count": null,
      "outputs": []
    },
    {
      "cell_type": "code",
      "source": [
        "country_launches = project_dataset[project_dataset['event_name'] == 'LaunchApp'].reset_index(drop=True)"
      ],
      "metadata": {
        "id": "c237Gbd2VWZ4"
      },
      "execution_count": null,
      "outputs": []
    },
    {
      "cell_type": "code",
      "source": [
        "country_launches['country_group'] = country_launches['country'].apply(group_by_country)"
      ],
      "metadata": {
        "id": "I-Dq2uUdVslB"
      },
      "execution_count": null,
      "outputs": []
    },
    {
      "cell_type": "code",
      "source": [
        "country_launches = country_launches.loc[:, ('event_name', 'event_date', 'event_time', 'user_id', 'country_group')].reset_index(drop=True)"
      ],
      "metadata": {
        "id": "eVpr--lPgUtQ"
      },
      "execution_count": null,
      "outputs": []
    },
    {
      "cell_type": "code",
      "source": [
        "country_launches_compare = pd.merge(installs_date, country_launches, how='left',on=['user_id'])"
      ],
      "metadata": {
        "id": "ZrOhCuf9_c0V"
      },
      "execution_count": null,
      "outputs": []
    },
    {
      "cell_type": "code",
      "source": [
        "good_launches = country_launches_compare[country_launches_compare['event_date_x'] < country_launches_compare['event_date_y']].reset_index(drop=True)"
      ],
      "metadata": {
        "id": "UFyxeLjsT216"
      },
      "execution_count": null,
      "outputs": []
    },
    {
      "cell_type": "code",
      "source": [
        "second_day_launches = good_launches.groupby(['user_id', 'country_group', 'event_date_y']).agg({'event_time_y': 'min'}).reset_index().sort_values('event_time_y').reset_index(drop=True)"
      ],
      "metadata": {
        "id": "JSaAnxTpU_lw"
      },
      "execution_count": null,
      "outputs": []
    },
    {
      "cell_type": "code",
      "source": [
        "second_day_launches = second_day_launches.groupby(['country_group', 'user_id']).agg({'event_date_y': min}).reset_index().sort_values('event_date_y').reset_index(drop=True) "
      ],
      "metadata": {
        "id": "WsPayRN9mTNO"
      },
      "execution_count": null,
      "outputs": []
    },
    {
      "cell_type": "code",
      "source": [
        "second_day_launches = second_day_launches.groupby(['country_group', 'event_date_y']).agg({'user_id': 'nunique'}).reset_index().sort_values('event_date_y').reset_index(drop=True) "
      ],
      "metadata": {
        "id": "QPLoljo2iApK"
      },
      "execution_count": null,
      "outputs": []
    },
    {
      "cell_type": "code",
      "source": [
        "second_day_launches.rename(columns={'user_id': 'second_day_user_count', 'event_date_y': 'second_launch_day'}, inplace=True)"
      ],
      "metadata": {
        "id": "D4DtmwKAik5c"
      },
      "execution_count": null,
      "outputs": []
    },
    {
      "cell_type": "markdown",
      "source": [
        "#### График"
      ],
      "metadata": {
        "id": "I79GUhv7ksY0"
      }
    },
    {
      "cell_type": "code",
      "source": [
        "# Получаю линейный график с визуализацией количества входов на второй день пользователями из разных групп стран по датам:\n",
        "fig = px.line(\n",
        "    second_day_launches,\n",
        "    x = 'second_launch_day',\n",
        "    y = 'second_day_user_count',\n",
        "    color = 'country_group',\n",
        "    title = 'Распределение количества запусков второго дня по группам стран',\n",
        ")\n",
        "fig.show()"
      ],
      "metadata": {
        "colab": {
          "base_uri": "https://localhost:8080/",
          "height": 542
        },
        "id": "uvp4i1cMkVvU",
        "outputId": "01331f56-65b0-4ba0-db5c-5bba1e6045bc"
      },
      "execution_count": null,
      "outputs": [
        {
          "output_type": "display_data",
          "data": {
            "text/html": [
              "<html>\n",
              "<head><meta charset=\"utf-8\" /></head>\n",
              "<body>\n",
              "    <div>            <script src=\"https://cdnjs.cloudflare.com/ajax/libs/mathjax/2.7.5/MathJax.js?config=TeX-AMS-MML_SVG\"></script><script type=\"text/javascript\">if (window.MathJax) {MathJax.Hub.Config({SVG: {font: \"STIX-Web\"}});}</script>                <script type=\"text/javascript\">window.PlotlyConfig = {MathJaxConfig: 'local'};</script>\n",
              "        <script src=\"https://cdn.plot.ly/plotly-2.8.3.min.js\"></script>                <div id=\"2438a262-859c-4703-afb0-91b7eb5d106b\" class=\"plotly-graph-div\" style=\"height:525px; width:100%;\"></div>            <script type=\"text/javascript\">                                    window.PLOTLYENV=window.PLOTLYENV || {};                                    if (document.getElementById(\"2438a262-859c-4703-afb0-91b7eb5d106b\")) {                    Plotly.newPlot(                        \"2438a262-859c-4703-afb0-91b7eb5d106b\",                        [{\"hovertemplate\":\"country_group=Asia<br>second_launch_day=%{x}<br>second_day_user_count=%{y}<extra></extra>\",\"legendgroup\":\"Asia\",\"line\":{\"color\":\"#636efa\",\"dash\":\"solid\"},\"marker\":{\"symbol\":\"circle\"},\"mode\":\"lines\",\"name\":\"Asia\",\"orientation\":\"v\",\"showlegend\":true,\"x\":[\"2020-10-28T00:00:00\",\"2020-10-30T00:00:00\",\"2020-10-31T00:00:00\",\"2020-11-01T00:00:00\",\"2020-11-02T00:00:00\",\"2020-11-03T00:00:00\",\"2020-11-04T00:00:00\",\"2020-11-05T00:00:00\",\"2020-11-06T00:00:00\",\"2020-11-07T00:00:00\",\"2020-11-08T00:00:00\",\"2020-11-09T00:00:00\",\"2020-11-11T00:00:00\",\"2020-11-12T00:00:00\",\"2020-11-13T00:00:00\",\"2020-11-14T00:00:00\",\"2020-11-15T00:00:00\",\"2020-11-16T00:00:00\",\"2020-11-17T00:00:00\",\"2020-11-18T00:00:00\",\"2020-11-19T00:00:00\",\"2020-11-20T00:00:00\",\"2020-11-22T00:00:00\",\"2020-11-23T00:00:00\",\"2020-11-24T00:00:00\",\"2020-11-25T00:00:00\",\"2020-11-26T00:00:00\",\"2020-11-27T00:00:00\",\"2020-11-28T00:00:00\",\"2020-11-29T00:00:00\",\"2020-11-30T00:00:00\",\"2020-12-01T00:00:00\",\"2020-12-02T00:00:00\",\"2020-12-03T00:00:00\",\"2020-12-04T00:00:00\",\"2020-12-05T00:00:00\",\"2020-12-06T00:00:00\",\"2020-12-07T00:00:00\",\"2020-12-08T00:00:00\",\"2020-12-09T00:00:00\",\"2020-12-10T00:00:00\",\"2020-12-11T00:00:00\",\"2020-12-12T00:00:00\",\"2020-12-13T00:00:00\",\"2020-12-14T00:00:00\",\"2020-12-15T00:00:00\",\"2020-12-16T00:00:00\",\"2020-12-17T00:00:00\",\"2020-12-18T00:00:00\",\"2020-12-19T00:00:00\",\"2020-12-20T00:00:00\",\"2020-12-21T00:00:00\",\"2020-12-22T00:00:00\",\"2020-12-23T00:00:00\",\"2020-12-24T00:00:00\",\"2020-12-25T00:00:00\",\"2020-12-26T00:00:00\",\"2020-12-27T00:00:00\",\"2020-12-28T00:00:00\",\"2020-12-30T00:00:00\",\"2020-12-31T00:00:00\",\"2021-01-01T00:00:00\",\"2021-01-02T00:00:00\",\"2021-01-03T00:00:00\",\"2021-01-04T00:00:00\",\"2021-01-05T00:00:00\",\"2021-01-06T00:00:00\",\"2021-01-07T00:00:00\",\"2021-01-08T00:00:00\",\"2021-01-09T00:00:00\",\"2021-01-10T00:00:00\",\"2021-01-11T00:00:00\",\"2021-01-12T00:00:00\",\"2021-01-13T00:00:00\",\"2021-01-14T00:00:00\",\"2021-01-15T00:00:00\",\"2021-01-16T00:00:00\",\"2021-01-17T00:00:00\",\"2021-01-18T00:00:00\",\"2021-01-19T00:00:00\",\"2021-01-20T00:00:00\",\"2021-01-21T00:00:00\",\"2021-01-23T00:00:00\",\"2021-01-24T00:00:00\",\"2021-01-25T00:00:00\",\"2021-01-26T00:00:00\",\"2021-01-27T00:00:00\",\"2021-01-28T00:00:00\",\"2021-01-30T00:00:00\",\"2021-01-31T00:00:00\",\"2021-02-01T00:00:00\",\"2021-02-02T00:00:00\",\"2021-02-03T00:00:00\",\"2021-02-04T00:00:00\",\"2021-02-05T00:00:00\",\"2021-02-06T00:00:00\",\"2021-02-07T00:00:00\",\"2021-02-08T00:00:00\",\"2021-02-09T00:00:00\",\"2021-02-10T00:00:00\",\"2021-02-11T00:00:00\",\"2021-02-12T00:00:00\",\"2021-02-13T00:00:00\",\"2021-02-14T00:00:00\",\"2021-02-15T00:00:00\",\"2021-02-16T00:00:00\",\"2021-02-17T00:00:00\",\"2021-02-18T00:00:00\",\"2021-02-19T00:00:00\",\"2021-02-20T00:00:00\",\"2021-02-21T00:00:00\",\"2021-02-22T00:00:00\",\"2021-02-23T00:00:00\",\"2021-02-24T00:00:00\",\"2021-02-25T00:00:00\",\"2021-02-26T00:00:00\",\"2021-02-27T00:00:00\",\"2021-02-28T00:00:00\",\"2021-03-01T00:00:00\",\"2021-03-02T00:00:00\",\"2021-03-03T00:00:00\",\"2021-03-04T00:00:00\",\"2021-03-05T00:00:00\",\"2021-03-06T00:00:00\",\"2021-03-07T00:00:00\",\"2021-03-08T00:00:00\",\"2021-03-09T00:00:00\",\"2021-03-10T00:00:00\",\"2021-03-11T00:00:00\",\"2021-03-12T00:00:00\",\"2021-03-13T00:00:00\",\"2021-03-15T00:00:00\",\"2021-03-16T00:00:00\",\"2021-03-17T00:00:00\",\"2021-03-18T00:00:00\",\"2021-03-19T00:00:00\",\"2021-03-20T00:00:00\",\"2021-03-21T00:00:00\",\"2021-03-22T00:00:00\",\"2021-03-23T00:00:00\",\"2021-03-24T00:00:00\",\"2021-03-25T00:00:00\",\"2021-03-26T00:00:00\",\"2021-03-27T00:00:00\",\"2021-03-28T00:00:00\",\"2021-03-29T00:00:00\",\"2021-03-30T00:00:00\",\"2021-04-01T00:00:00\",\"2021-04-02T00:00:00\",\"2021-04-03T00:00:00\",\"2021-04-04T00:00:00\",\"2021-04-06T00:00:00\",\"2021-04-07T00:00:00\",\"2021-04-08T00:00:00\",\"2021-04-09T00:00:00\",\"2021-04-10T00:00:00\",\"2021-04-12T00:00:00\",\"2021-04-13T00:00:00\",\"2021-04-14T00:00:00\",\"2021-04-15T00:00:00\",\"2021-04-16T00:00:00\",\"2021-04-18T00:00:00\",\"2021-04-19T00:00:00\",\"2021-04-20T00:00:00\",\"2021-04-21T00:00:00\",\"2021-04-24T00:00:00\",\"2021-04-25T00:00:00\",\"2021-04-26T00:00:00\",\"2021-04-27T00:00:00\",\"2021-04-28T00:00:00\",\"2021-05-01T00:00:00\",\"2021-05-02T00:00:00\",\"2021-05-03T00:00:00\",\"2021-05-04T00:00:00\",\"2021-05-05T00:00:00\",\"2021-05-06T00:00:00\",\"2021-05-08T00:00:00\",\"2021-05-10T00:00:00\",\"2021-05-11T00:00:00\",\"2021-05-12T00:00:00\",\"2021-05-13T00:00:00\",\"2021-05-14T00:00:00\",\"2021-05-16T00:00:00\",\"2021-05-18T00:00:00\",\"2021-05-19T00:00:00\",\"2021-05-20T00:00:00\",\"2021-05-21T00:00:00\",\"2021-05-22T00:00:00\",\"2021-05-23T00:00:00\",\"2021-05-24T00:00:00\",\"2021-05-25T00:00:00\",\"2021-05-26T00:00:00\",\"2021-05-27T00:00:00\",\"2021-05-28T00:00:00\",\"2021-05-29T00:00:00\",\"2021-05-30T00:00:00\",\"2021-05-31T00:00:00\"],\"xaxis\":\"x\",\"y\":[1,2,1,3,2,3,2,1,1,2,3,1,2,3,5,1,1,7,2,5,5,5,5,6,6,2,6,1,3,1,5,3,1,2,3,2,6,5,1,7,6,5,1,6,6,8,5,7,5,1,3,1,2,3,1,1,1,5,2,2,1,2,5,4,4,2,2,4,1,2,2,4,3,6,4,3,5,5,3,3,7,5,2,3,2,1,2,3,21,34,9,13,10,9,5,5,5,6,7,2,5,4,8,4,3,2,4,4,1,2,3,6,2,5,3,5,2,2,2,4,6,2,3,5,3,5,2,3,1,1,4,1,4,3,1,2,1,1,2,1,8,4,7,2,1,1,8,2,2,2,4,3,4,2,3,2,3,3,2,4,2,2,4,4,4,3,1,5,2,1,1,2,3,2,4,2,1,1,4,1,1,3,3,2,1,2,1,3,2,3,8,2,4,1,4,2,3],\"yaxis\":\"y\",\"type\":\"scatter\"},{\"hovertemplate\":\"country_group=Europe<br>second_launch_day=%{x}<br>second_day_user_count=%{y}<extra></extra>\",\"legendgroup\":\"Europe\",\"line\":{\"color\":\"#EF553B\",\"dash\":\"solid\"},\"marker\":{\"symbol\":\"circle\"},\"mode\":\"lines\",\"name\":\"Europe\",\"orientation\":\"v\",\"showlegend\":true,\"x\":[\"2020-10-28T00:00:00\",\"2020-10-30T00:00:00\",\"2020-11-02T00:00:00\",\"2020-11-04T00:00:00\",\"2020-11-05T00:00:00\",\"2020-11-07T00:00:00\",\"2020-11-08T00:00:00\",\"2020-11-09T00:00:00\",\"2020-11-10T00:00:00\",\"2020-11-12T00:00:00\",\"2020-11-13T00:00:00\",\"2020-11-14T00:00:00\",\"2020-11-15T00:00:00\",\"2020-11-16T00:00:00\",\"2020-11-17T00:00:00\",\"2020-11-18T00:00:00\",\"2020-11-20T00:00:00\",\"2020-11-21T00:00:00\",\"2020-11-22T00:00:00\",\"2020-11-23T00:00:00\",\"2020-11-24T00:00:00\",\"2020-11-25T00:00:00\",\"2020-11-26T00:00:00\",\"2020-11-27T00:00:00\",\"2020-11-28T00:00:00\",\"2020-11-29T00:00:00\",\"2020-11-30T00:00:00\",\"2020-12-01T00:00:00\",\"2020-12-02T00:00:00\",\"2020-12-03T00:00:00\",\"2020-12-04T00:00:00\",\"2020-12-06T00:00:00\",\"2020-12-07T00:00:00\",\"2020-12-08T00:00:00\",\"2020-12-09T00:00:00\",\"2020-12-10T00:00:00\",\"2020-12-11T00:00:00\",\"2020-12-12T00:00:00\",\"2020-12-13T00:00:00\",\"2020-12-14T00:00:00\",\"2020-12-15T00:00:00\",\"2020-12-16T00:00:00\",\"2020-12-18T00:00:00\",\"2020-12-19T00:00:00\",\"2020-12-20T00:00:00\",\"2020-12-21T00:00:00\",\"2020-12-23T00:00:00\",\"2020-12-24T00:00:00\",\"2020-12-25T00:00:00\",\"2020-12-26T00:00:00\",\"2020-12-27T00:00:00\",\"2020-12-28T00:00:00\",\"2020-12-30T00:00:00\",\"2020-12-31T00:00:00\",\"2021-01-01T00:00:00\",\"2021-01-02T00:00:00\",\"2021-01-05T00:00:00\",\"2021-01-06T00:00:00\",\"2021-01-07T00:00:00\",\"2021-01-08T00:00:00\",\"2021-01-09T00:00:00\",\"2021-01-10T00:00:00\",\"2021-01-11T00:00:00\",\"2021-01-13T00:00:00\",\"2021-01-14T00:00:00\",\"2021-01-16T00:00:00\",\"2021-01-19T00:00:00\",\"2021-01-20T00:00:00\",\"2021-01-22T00:00:00\",\"2021-01-29T00:00:00\",\"2021-01-30T00:00:00\",\"2021-01-31T00:00:00\",\"2021-02-01T00:00:00\",\"2021-02-02T00:00:00\",\"2021-02-03T00:00:00\",\"2021-02-04T00:00:00\",\"2021-02-06T00:00:00\",\"2021-02-07T00:00:00\",\"2021-02-08T00:00:00\",\"2021-02-09T00:00:00\",\"2021-02-10T00:00:00\",\"2021-02-12T00:00:00\",\"2021-02-13T00:00:00\",\"2021-02-14T00:00:00\",\"2021-02-17T00:00:00\",\"2021-02-18T00:00:00\",\"2021-02-20T00:00:00\",\"2021-02-24T00:00:00\",\"2021-02-26T00:00:00\",\"2021-02-28T00:00:00\",\"2021-03-01T00:00:00\",\"2021-03-02T00:00:00\",\"2021-03-03T00:00:00\",\"2021-03-04T00:00:00\",\"2021-03-05T00:00:00\",\"2021-03-06T00:00:00\",\"2021-03-13T00:00:00\",\"2021-03-16T00:00:00\",\"2021-03-18T00:00:00\",\"2021-03-19T00:00:00\",\"2021-03-20T00:00:00\",\"2021-03-22T00:00:00\",\"2021-03-23T00:00:00\",\"2021-03-24T00:00:00\",\"2021-03-25T00:00:00\",\"2021-03-26T00:00:00\",\"2021-03-27T00:00:00\",\"2021-03-28T00:00:00\",\"2021-03-29T00:00:00\",\"2021-03-30T00:00:00\",\"2021-04-01T00:00:00\",\"2021-04-02T00:00:00\",\"2021-04-03T00:00:00\",\"2021-04-04T00:00:00\",\"2021-04-05T00:00:00\",\"2021-04-06T00:00:00\",\"2021-04-07T00:00:00\",\"2021-04-08T00:00:00\",\"2021-04-09T00:00:00\",\"2021-04-10T00:00:00\",\"2021-04-11T00:00:00\",\"2021-04-12T00:00:00\",\"2021-04-13T00:00:00\",\"2021-04-14T00:00:00\",\"2021-04-15T00:00:00\",\"2021-04-16T00:00:00\",\"2021-04-17T00:00:00\",\"2021-04-19T00:00:00\",\"2021-04-20T00:00:00\",\"2021-04-22T00:00:00\",\"2021-04-25T00:00:00\",\"2021-04-26T00:00:00\",\"2021-04-27T00:00:00\",\"2021-05-01T00:00:00\",\"2021-05-04T00:00:00\",\"2021-05-05T00:00:00\",\"2021-05-06T00:00:00\",\"2021-05-07T00:00:00\",\"2021-05-08T00:00:00\",\"2021-05-09T00:00:00\",\"2021-05-10T00:00:00\",\"2021-05-11T00:00:00\",\"2021-05-12T00:00:00\",\"2021-05-13T00:00:00\",\"2021-05-15T00:00:00\",\"2021-05-18T00:00:00\",\"2021-05-19T00:00:00\",\"2021-05-27T00:00:00\",\"2021-05-28T00:00:00\"],\"xaxis\":\"x\",\"y\":[1,2,1,3,2,2,1,4,1,4,1,7,5,8,4,2,3,6,2,2,3,2,4,4,6,2,5,2,3,2,4,3,9,1,4,2,1,2,2,2,2,1,3,1,1,1,3,1,5,2,1,1,1,1,1,2,4,1,2,1,3,1,1,2,1,1,2,1,3,1,2,1,2,1,1,1,2,3,1,1,2,2,2,2,1,1,1,1,1,1,2,1,2,2,4,2,2,1,1,1,1,1,2,4,6,1,1,4,2,5,3,3,1,1,3,1,1,3,1,1,1,1,1,3,1,2,2,1,1,1,1,2,2,1,2,1,2,1,1,1,1,1,1,2,1,1,1,1,1],\"yaxis\":\"y\",\"type\":\"scatter\"},{\"hovertemplate\":\"country_group=North America<br>second_launch_day=%{x}<br>second_day_user_count=%{y}<extra></extra>\",\"legendgroup\":\"North America\",\"line\":{\"color\":\"#00cc96\",\"dash\":\"solid\"},\"marker\":{\"symbol\":\"circle\"},\"mode\":\"lines\",\"name\":\"North America\",\"orientation\":\"v\",\"showlegend\":true,\"x\":[\"2020-10-28T00:00:00\",\"2020-10-29T00:00:00\",\"2020-10-30T00:00:00\",\"2020-10-31T00:00:00\",\"2020-11-01T00:00:00\",\"2020-11-02T00:00:00\",\"2020-11-03T00:00:00\",\"2020-11-04T00:00:00\",\"2020-11-05T00:00:00\",\"2020-11-06T00:00:00\",\"2020-11-07T00:00:00\",\"2020-11-08T00:00:00\",\"2020-11-09T00:00:00\",\"2020-11-10T00:00:00\",\"2020-11-11T00:00:00\",\"2020-11-12T00:00:00\",\"2020-11-13T00:00:00\",\"2020-11-14T00:00:00\",\"2020-11-15T00:00:00\",\"2020-11-16T00:00:00\",\"2020-11-17T00:00:00\",\"2020-11-18T00:00:00\",\"2020-11-19T00:00:00\",\"2020-11-20T00:00:00\",\"2020-11-21T00:00:00\",\"2020-11-22T00:00:00\",\"2020-11-23T00:00:00\",\"2020-11-24T00:00:00\",\"2020-11-25T00:00:00\",\"2020-11-26T00:00:00\",\"2020-11-27T00:00:00\",\"2020-11-28T00:00:00\",\"2020-11-29T00:00:00\",\"2020-11-30T00:00:00\",\"2020-12-01T00:00:00\",\"2020-12-02T00:00:00\",\"2020-12-03T00:00:00\",\"2020-12-04T00:00:00\",\"2020-12-05T00:00:00\",\"2020-12-06T00:00:00\",\"2020-12-07T00:00:00\",\"2020-12-08T00:00:00\",\"2020-12-09T00:00:00\",\"2020-12-10T00:00:00\",\"2020-12-11T00:00:00\",\"2020-12-12T00:00:00\",\"2020-12-13T00:00:00\",\"2020-12-14T00:00:00\",\"2020-12-15T00:00:00\",\"2020-12-16T00:00:00\",\"2020-12-17T00:00:00\",\"2020-12-18T00:00:00\",\"2020-12-19T00:00:00\",\"2020-12-20T00:00:00\",\"2020-12-21T00:00:00\",\"2020-12-22T00:00:00\",\"2020-12-23T00:00:00\",\"2020-12-24T00:00:00\",\"2020-12-25T00:00:00\",\"2020-12-26T00:00:00\",\"2020-12-27T00:00:00\",\"2020-12-28T00:00:00\",\"2020-12-29T00:00:00\",\"2020-12-30T00:00:00\",\"2020-12-31T00:00:00\",\"2021-01-01T00:00:00\",\"2021-01-02T00:00:00\",\"2021-01-03T00:00:00\",\"2021-01-04T00:00:00\",\"2021-01-05T00:00:00\",\"2021-01-06T00:00:00\",\"2021-01-07T00:00:00\",\"2021-01-08T00:00:00\",\"2021-01-09T00:00:00\",\"2021-01-10T00:00:00\",\"2021-01-11T00:00:00\",\"2021-01-12T00:00:00\",\"2021-01-13T00:00:00\",\"2021-01-14T00:00:00\",\"2021-01-15T00:00:00\",\"2021-01-16T00:00:00\",\"2021-01-17T00:00:00\",\"2021-01-18T00:00:00\",\"2021-01-19T00:00:00\",\"2021-01-20T00:00:00\",\"2021-01-21T00:00:00\",\"2021-01-22T00:00:00\",\"2021-01-23T00:00:00\",\"2021-01-24T00:00:00\",\"2021-01-25T00:00:00\",\"2021-01-26T00:00:00\",\"2021-01-27T00:00:00\",\"2021-01-28T00:00:00\",\"2021-01-29T00:00:00\",\"2021-01-30T00:00:00\",\"2021-01-31T00:00:00\",\"2021-02-01T00:00:00\",\"2021-02-02T00:00:00\",\"2021-02-03T00:00:00\",\"2021-02-04T00:00:00\",\"2021-02-05T00:00:00\",\"2021-02-06T00:00:00\",\"2021-02-07T00:00:00\",\"2021-02-08T00:00:00\",\"2021-02-09T00:00:00\",\"2021-02-10T00:00:00\",\"2021-02-11T00:00:00\",\"2021-02-12T00:00:00\",\"2021-02-13T00:00:00\",\"2021-02-14T00:00:00\",\"2021-02-15T00:00:00\",\"2021-02-16T00:00:00\",\"2021-02-17T00:00:00\",\"2021-02-18T00:00:00\",\"2021-02-19T00:00:00\",\"2021-02-20T00:00:00\",\"2021-02-21T00:00:00\",\"2021-02-22T00:00:00\",\"2021-02-23T00:00:00\",\"2021-02-24T00:00:00\",\"2021-02-25T00:00:00\",\"2021-02-26T00:00:00\",\"2021-02-27T00:00:00\",\"2021-02-28T00:00:00\",\"2021-03-01T00:00:00\",\"2021-03-02T00:00:00\",\"2021-03-03T00:00:00\",\"2021-03-04T00:00:00\",\"2021-03-05T00:00:00\",\"2021-03-06T00:00:00\",\"2021-03-07T00:00:00\",\"2021-03-08T00:00:00\",\"2021-03-09T00:00:00\",\"2021-03-10T00:00:00\",\"2021-03-11T00:00:00\",\"2021-03-12T00:00:00\",\"2021-03-13T00:00:00\",\"2021-03-14T00:00:00\",\"2021-03-15T00:00:00\",\"2021-03-16T00:00:00\",\"2021-03-17T00:00:00\",\"2021-03-18T00:00:00\",\"2021-03-19T00:00:00\",\"2021-03-20T00:00:00\",\"2021-03-21T00:00:00\",\"2021-03-22T00:00:00\",\"2021-03-23T00:00:00\",\"2021-03-24T00:00:00\",\"2021-03-25T00:00:00\",\"2021-03-26T00:00:00\",\"2021-03-27T00:00:00\",\"2021-03-28T00:00:00\",\"2021-03-29T00:00:00\",\"2021-03-30T00:00:00\",\"2021-03-31T00:00:00\",\"2021-04-01T00:00:00\",\"2021-04-02T00:00:00\",\"2021-04-03T00:00:00\",\"2021-04-04T00:00:00\",\"2021-04-05T00:00:00\",\"2021-04-06T00:00:00\",\"2021-04-07T00:00:00\",\"2021-04-08T00:00:00\",\"2021-04-09T00:00:00\",\"2021-04-10T00:00:00\",\"2021-04-11T00:00:00\",\"2021-04-12T00:00:00\",\"2021-04-13T00:00:00\",\"2021-04-14T00:00:00\",\"2021-04-15T00:00:00\",\"2021-04-16T00:00:00\",\"2021-04-17T00:00:00\",\"2021-04-18T00:00:00\",\"2021-04-19T00:00:00\",\"2021-04-20T00:00:00\",\"2021-04-21T00:00:00\",\"2021-04-22T00:00:00\",\"2021-04-23T00:00:00\",\"2021-04-24T00:00:00\",\"2021-04-25T00:00:00\",\"2021-04-26T00:00:00\",\"2021-04-27T00:00:00\",\"2021-04-28T00:00:00\",\"2021-04-29T00:00:00\",\"2021-04-30T00:00:00\",\"2021-05-01T00:00:00\",\"2021-05-02T00:00:00\",\"2021-05-03T00:00:00\",\"2021-05-04T00:00:00\",\"2021-05-05T00:00:00\",\"2021-05-06T00:00:00\",\"2021-05-07T00:00:00\",\"2021-05-08T00:00:00\",\"2021-05-09T00:00:00\",\"2021-05-10T00:00:00\",\"2021-05-11T00:00:00\",\"2021-05-12T00:00:00\",\"2021-05-13T00:00:00\",\"2021-05-14T00:00:00\",\"2021-05-15T00:00:00\",\"2021-05-16T00:00:00\",\"2021-05-17T00:00:00\",\"2021-05-18T00:00:00\",\"2021-05-19T00:00:00\",\"2021-05-20T00:00:00\",\"2021-05-21T00:00:00\",\"2021-05-22T00:00:00\",\"2021-05-23T00:00:00\",\"2021-05-24T00:00:00\",\"2021-05-25T00:00:00\",\"2021-05-26T00:00:00\",\"2021-05-27T00:00:00\",\"2021-05-28T00:00:00\",\"2021-05-29T00:00:00\",\"2021-05-30T00:00:00\",\"2021-05-31T00:00:00\"],\"xaxis\":\"x\",\"y\":[53,95,91,73,66,77,51,84,84,80,103,103,110,92,100,138,137,130,170,170,119,103,74,71,57,58,65,47,37,62,38,42,27,39,29,67,53,45,72,68,63,62,41,35,37,30,38,53,41,46,27,35,31,24,33,40,31,25,34,28,17,15,21,24,16,30,21,24,28,33,17,14,14,20,17,23,19,21,17,19,7,15,19,25,22,13,23,11,21,17,17,15,13,19,22,21,21,13,19,16,10,12,16,21,19,18,8,17,33,35,23,19,15,25,23,16,13,18,8,9,14,13,12,14,14,19,8,10,16,9,13,16,10,9,2,8,5,13,10,8,13,9,10,14,14,20,10,15,14,8,6,8,6,7,6,10,11,5,10,8,5,9,5,6,10,14,6,6,24,11,14,10,6,4,4,4,5,5,5,4,7,7,4,6,5,4,11,11,5,7,2,4,3,7,5,7,5,5,24,11,6,8,5,3,6,4,5,9,2,6,4,4,6,5,2,7],\"yaxis\":\"y\",\"type\":\"scatter\"},{\"hovertemplate\":\"country_group=CIS<br>second_launch_day=%{x}<br>second_day_user_count=%{y}<extra></extra>\",\"legendgroup\":\"CIS\",\"line\":{\"color\":\"#ab63fa\",\"dash\":\"solid\"},\"marker\":{\"symbol\":\"circle\"},\"mode\":\"lines\",\"name\":\"CIS\",\"orientation\":\"v\",\"showlegend\":true,\"x\":[\"2020-10-28T00:00:00\",\"2020-10-29T00:00:00\",\"2020-10-30T00:00:00\",\"2020-10-31T00:00:00\",\"2020-11-01T00:00:00\",\"2020-11-02T00:00:00\",\"2020-11-03T00:00:00\",\"2020-11-04T00:00:00\",\"2020-11-05T00:00:00\",\"2020-11-06T00:00:00\",\"2020-11-07T00:00:00\",\"2020-11-08T00:00:00\",\"2020-11-09T00:00:00\",\"2020-11-10T00:00:00\",\"2020-11-11T00:00:00\",\"2020-11-12T00:00:00\",\"2020-11-13T00:00:00\",\"2020-11-14T00:00:00\",\"2020-11-15T00:00:00\",\"2020-11-16T00:00:00\",\"2020-11-17T00:00:00\",\"2020-11-18T00:00:00\",\"2020-11-19T00:00:00\",\"2020-11-20T00:00:00\",\"2020-11-21T00:00:00\",\"2020-11-22T00:00:00\",\"2020-11-23T00:00:00\",\"2020-11-24T00:00:00\",\"2020-11-25T00:00:00\",\"2020-11-26T00:00:00\",\"2020-11-27T00:00:00\",\"2020-11-28T00:00:00\",\"2020-11-29T00:00:00\",\"2020-11-30T00:00:00\",\"2020-12-01T00:00:00\",\"2020-12-02T00:00:00\",\"2020-12-03T00:00:00\",\"2020-12-04T00:00:00\",\"2020-12-05T00:00:00\",\"2020-12-06T00:00:00\",\"2020-12-07T00:00:00\",\"2020-12-08T00:00:00\",\"2020-12-09T00:00:00\",\"2020-12-10T00:00:00\",\"2020-12-11T00:00:00\",\"2020-12-12T00:00:00\",\"2020-12-13T00:00:00\",\"2020-12-14T00:00:00\",\"2020-12-15T00:00:00\",\"2020-12-16T00:00:00\",\"2020-12-17T00:00:00\",\"2020-12-18T00:00:00\",\"2020-12-19T00:00:00\",\"2020-12-20T00:00:00\",\"2020-12-21T00:00:00\",\"2020-12-22T00:00:00\",\"2020-12-23T00:00:00\",\"2020-12-24T00:00:00\",\"2020-12-25T00:00:00\",\"2020-12-26T00:00:00\",\"2020-12-27T00:00:00\",\"2020-12-28T00:00:00\",\"2020-12-29T00:00:00\",\"2020-12-30T00:00:00\",\"2020-12-31T00:00:00\",\"2021-01-01T00:00:00\",\"2021-01-02T00:00:00\",\"2021-01-03T00:00:00\",\"2021-01-04T00:00:00\",\"2021-01-05T00:00:00\",\"2021-01-06T00:00:00\",\"2021-01-07T00:00:00\",\"2021-01-08T00:00:00\",\"2021-01-09T00:00:00\",\"2021-01-10T00:00:00\",\"2021-01-11T00:00:00\",\"2021-01-12T00:00:00\",\"2021-01-13T00:00:00\",\"2021-01-14T00:00:00\",\"2021-01-15T00:00:00\",\"2021-01-16T00:00:00\",\"2021-01-17T00:00:00\",\"2021-01-18T00:00:00\",\"2021-01-19T00:00:00\",\"2021-01-20T00:00:00\",\"2021-01-21T00:00:00\",\"2021-01-22T00:00:00\",\"2021-01-23T00:00:00\",\"2021-01-24T00:00:00\",\"2021-01-25T00:00:00\",\"2021-01-26T00:00:00\",\"2021-01-27T00:00:00\",\"2021-01-28T00:00:00\",\"2021-01-29T00:00:00\",\"2021-01-30T00:00:00\",\"2021-01-31T00:00:00\",\"2021-02-01T00:00:00\",\"2021-02-02T00:00:00\",\"2021-02-03T00:00:00\",\"2021-02-04T00:00:00\",\"2021-02-05T00:00:00\",\"2021-02-06T00:00:00\",\"2021-02-07T00:00:00\",\"2021-02-08T00:00:00\",\"2021-02-09T00:00:00\",\"2021-02-10T00:00:00\",\"2021-02-11T00:00:00\",\"2021-02-12T00:00:00\",\"2021-02-13T00:00:00\",\"2021-02-14T00:00:00\",\"2021-02-15T00:00:00\",\"2021-02-16T00:00:00\",\"2021-02-17T00:00:00\",\"2021-02-18T00:00:00\",\"2021-02-19T00:00:00\",\"2021-02-20T00:00:00\",\"2021-02-21T00:00:00\",\"2021-02-22T00:00:00\",\"2021-02-23T00:00:00\",\"2021-02-24T00:00:00\",\"2021-02-25T00:00:00\",\"2021-02-26T00:00:00\",\"2021-02-27T00:00:00\",\"2021-02-28T00:00:00\",\"2021-03-01T00:00:00\",\"2021-03-02T00:00:00\",\"2021-03-03T00:00:00\",\"2021-03-04T00:00:00\",\"2021-03-05T00:00:00\",\"2021-03-06T00:00:00\",\"2021-03-07T00:00:00\",\"2021-03-08T00:00:00\",\"2021-03-09T00:00:00\",\"2021-03-10T00:00:00\",\"2021-03-11T00:00:00\",\"2021-03-12T00:00:00\",\"2021-03-13T00:00:00\",\"2021-03-14T00:00:00\",\"2021-03-15T00:00:00\",\"2021-03-16T00:00:00\",\"2021-03-17T00:00:00\",\"2021-03-18T00:00:00\",\"2021-03-19T00:00:00\",\"2021-03-20T00:00:00\",\"2021-03-21T00:00:00\",\"2021-03-22T00:00:00\",\"2021-03-23T00:00:00\",\"2021-03-24T00:00:00\",\"2021-03-25T00:00:00\",\"2021-03-26T00:00:00\",\"2021-03-27T00:00:00\",\"2021-03-28T00:00:00\",\"2021-03-29T00:00:00\",\"2021-03-30T00:00:00\",\"2021-03-31T00:00:00\",\"2021-04-01T00:00:00\",\"2021-04-02T00:00:00\",\"2021-04-03T00:00:00\",\"2021-04-04T00:00:00\",\"2021-04-05T00:00:00\",\"2021-04-06T00:00:00\",\"2021-04-07T00:00:00\",\"2021-04-08T00:00:00\",\"2021-04-09T00:00:00\",\"2021-04-10T00:00:00\",\"2021-04-11T00:00:00\",\"2021-04-12T00:00:00\",\"2021-04-13T00:00:00\",\"2021-04-14T00:00:00\",\"2021-04-15T00:00:00\",\"2021-04-16T00:00:00\",\"2021-04-17T00:00:00\",\"2021-04-18T00:00:00\",\"2021-04-19T00:00:00\",\"2021-04-20T00:00:00\",\"2021-04-21T00:00:00\",\"2021-04-22T00:00:00\",\"2021-04-23T00:00:00\",\"2021-04-24T00:00:00\",\"2021-04-25T00:00:00\",\"2021-04-26T00:00:00\",\"2021-04-27T00:00:00\",\"2021-04-28T00:00:00\",\"2021-04-29T00:00:00\",\"2021-04-30T00:00:00\",\"2021-05-01T00:00:00\",\"2021-05-02T00:00:00\",\"2021-05-03T00:00:00\",\"2021-05-04T00:00:00\",\"2021-05-05T00:00:00\",\"2021-05-06T00:00:00\",\"2021-05-07T00:00:00\",\"2021-05-08T00:00:00\",\"2021-05-09T00:00:00\",\"2021-05-10T00:00:00\",\"2021-05-11T00:00:00\",\"2021-05-12T00:00:00\",\"2021-05-13T00:00:00\",\"2021-05-14T00:00:00\",\"2021-05-15T00:00:00\",\"2021-05-16T00:00:00\",\"2021-05-17T00:00:00\",\"2021-05-18T00:00:00\",\"2021-05-19T00:00:00\",\"2021-05-20T00:00:00\",\"2021-05-21T00:00:00\",\"2021-05-22T00:00:00\",\"2021-05-23T00:00:00\",\"2021-05-24T00:00:00\",\"2021-05-25T00:00:00\",\"2021-05-26T00:00:00\",\"2021-05-27T00:00:00\",\"2021-05-28T00:00:00\",\"2021-05-29T00:00:00\",\"2021-05-30T00:00:00\",\"2021-05-31T00:00:00\"],\"xaxis\":\"x\",\"y\":[51,100,88,75,63,49,28,92,112,84,102,110,119,88,57,237,235,187,220,190,179,154,155,173,116,136,120,130,120,92,100,109,136,145,86,123,128,129,141,164,144,104,84,69,85,75,97,75,93,108,91,79,59,80,78,71,50,54,48,52,57,33,44,36,36,35,35,60,54,46,47,39,50,47,39,29,30,37,25,32,23,26,31,32,37,21,34,36,38,22,32,26,33,32,42,54,48,38,25,29,36,29,33,25,27,34,14,29,22,25,41,31,33,28,30,23,24,30,31,21,24,25,29,20,25,26,26,30,30,41,41,33,31,32,23,24,26,42,34,29,28,26,22,39,36,46,115,275,206,131,97,90,74,67,63,49,56,45,41,53,53,30,43,38,41,41,38,49,41,53,29,37,32,40,32,32,30,30,40,37,26,32,23,32,15,21,35,25,29,17,22,21,22,21,28,30,25,32,22,21,28,21,31,22,30,32,17,19,18,15,19,12,16,25,31,16],\"yaxis\":\"y\",\"type\":\"scatter\"},{\"hovertemplate\":\"country_group=Other<br>second_launch_day=%{x}<br>second_day_user_count=%{y}<extra></extra>\",\"legendgroup\":\"Other\",\"line\":{\"color\":\"#FFA15A\",\"dash\":\"solid\"},\"marker\":{\"symbol\":\"circle\"},\"mode\":\"lines\",\"name\":\"Other\",\"orientation\":\"v\",\"showlegend\":true,\"x\":[\"2020-10-30T00:00:00\",\"2020-10-31T00:00:00\",\"2020-11-01T00:00:00\",\"2020-11-02T00:00:00\",\"2020-11-03T00:00:00\",\"2020-11-04T00:00:00\",\"2020-11-11T00:00:00\",\"2020-11-12T00:00:00\",\"2020-11-14T00:00:00\",\"2020-11-15T00:00:00\",\"2020-11-16T00:00:00\",\"2020-11-17T00:00:00\",\"2020-11-18T00:00:00\",\"2020-11-20T00:00:00\",\"2020-11-22T00:00:00\",\"2020-11-23T00:00:00\",\"2020-11-24T00:00:00\",\"2020-11-25T00:00:00\",\"2020-11-28T00:00:00\",\"2020-11-30T00:00:00\",\"2020-12-01T00:00:00\",\"2020-12-02T00:00:00\",\"2020-12-03T00:00:00\",\"2020-12-05T00:00:00\",\"2020-12-07T00:00:00\",\"2020-12-10T00:00:00\",\"2020-12-11T00:00:00\",\"2020-12-14T00:00:00\",\"2020-12-16T00:00:00\",\"2020-12-17T00:00:00\",\"2020-12-18T00:00:00\",\"2020-12-19T00:00:00\",\"2020-12-20T00:00:00\",\"2020-12-21T00:00:00\",\"2020-12-22T00:00:00\",\"2020-12-23T00:00:00\",\"2020-12-27T00:00:00\",\"2021-01-01T00:00:00\",\"2021-01-02T00:00:00\",\"2021-01-04T00:00:00\",\"2021-01-06T00:00:00\",\"2021-01-11T00:00:00\",\"2021-01-12T00:00:00\",\"2021-01-13T00:00:00\",\"2021-01-19T00:00:00\",\"2021-01-21T00:00:00\",\"2021-01-23T00:00:00\",\"2021-01-26T00:00:00\",\"2021-01-27T00:00:00\",\"2021-01-30T00:00:00\",\"2021-02-01T00:00:00\",\"2021-02-03T00:00:00\",\"2021-02-04T00:00:00\",\"2021-02-05T00:00:00\",\"2021-02-06T00:00:00\",\"2021-02-07T00:00:00\",\"2021-02-12T00:00:00\",\"2021-02-13T00:00:00\",\"2021-02-15T00:00:00\",\"2021-02-18T00:00:00\",\"2021-02-19T00:00:00\",\"2021-02-21T00:00:00\",\"2021-02-28T00:00:00\",\"2021-03-02T00:00:00\",\"2021-03-03T00:00:00\",\"2021-03-04T00:00:00\",\"2021-03-07T00:00:00\",\"2021-03-09T00:00:00\",\"2021-03-14T00:00:00\",\"2021-03-16T00:00:00\",\"2021-03-19T00:00:00\",\"2021-03-20T00:00:00\",\"2021-03-26T00:00:00\",\"2021-03-28T00:00:00\",\"2021-04-01T00:00:00\",\"2021-04-04T00:00:00\",\"2021-04-08T00:00:00\",\"2021-04-14T00:00:00\",\"2021-04-15T00:00:00\",\"2021-04-17T00:00:00\",\"2021-04-26T00:00:00\",\"2021-04-28T00:00:00\",\"2021-05-09T00:00:00\",\"2021-05-11T00:00:00\",\"2021-05-15T00:00:00\",\"2021-05-17T00:00:00\",\"2021-05-25T00:00:00\"],\"xaxis\":\"x\",\"y\":[1,1,1,1,2,1,1,1,1,6,1,3,1,2,1,1,1,2,1,1,1,1,1,1,2,4,1,1,1,1,1,1,2,1,1,1,1,2,1,1,1,2,3,4,3,1,1,3,1,1,1,1,1,2,1,1,2,1,1,1,2,3,1,1,1,1,1,1,2,1,1,2,1,1,1,1,1,1,2,1,1,3,1,2,1,1,1],\"yaxis\":\"y\",\"type\":\"scatter\"},{\"hovertemplate\":\"country_group=South America<br>second_launch_day=%{x}<br>second_day_user_count=%{y}<extra></extra>\",\"legendgroup\":\"South America\",\"line\":{\"color\":\"#19d3f3\",\"dash\":\"solid\"},\"marker\":{\"symbol\":\"circle\"},\"mode\":\"lines\",\"name\":\"South America\",\"orientation\":\"v\",\"showlegend\":true,\"x\":[\"2020-11-13T00:00:00\",\"2020-11-14T00:00:00\",\"2020-11-15T00:00:00\",\"2020-11-17T00:00:00\",\"2020-11-18T00:00:00\",\"2020-11-20T00:00:00\",\"2020-12-04T00:00:00\",\"2020-12-05T00:00:00\",\"2020-12-07T00:00:00\",\"2020-12-09T00:00:00\",\"2020-12-13T00:00:00\",\"2020-12-19T00:00:00\",\"2020-12-22T00:00:00\",\"2020-12-24T00:00:00\",\"2020-12-25T00:00:00\",\"2020-12-29T00:00:00\",\"2020-12-31T00:00:00\",\"2021-01-02T00:00:00\",\"2021-01-13T00:00:00\",\"2021-01-21T00:00:00\",\"2021-02-04T00:00:00\",\"2021-02-09T00:00:00\",\"2021-02-12T00:00:00\",\"2021-02-17T00:00:00\",\"2021-03-08T00:00:00\",\"2021-04-08T00:00:00\",\"2021-04-10T00:00:00\",\"2021-04-12T00:00:00\",\"2021-04-15T00:00:00\"],\"xaxis\":\"x\",\"y\":[1,1,1,4,1,2,1,1,1,1,1,1,1,1,1,1,1,1,1,1,1,1,1,1,1,1,1,1,1],\"yaxis\":\"y\",\"type\":\"scatter\"}],                        {\"template\":{\"data\":{\"bar\":[{\"error_x\":{\"color\":\"#2a3f5f\"},\"error_y\":{\"color\":\"#2a3f5f\"},\"marker\":{\"line\":{\"color\":\"#E5ECF6\",\"width\":0.5},\"pattern\":{\"fillmode\":\"overlay\",\"size\":10,\"solidity\":0.2}},\"type\":\"bar\"}],\"barpolar\":[{\"marker\":{\"line\":{\"color\":\"#E5ECF6\",\"width\":0.5},\"pattern\":{\"fillmode\":\"overlay\",\"size\":10,\"solidity\":0.2}},\"type\":\"barpolar\"}],\"carpet\":[{\"aaxis\":{\"endlinecolor\":\"#2a3f5f\",\"gridcolor\":\"white\",\"linecolor\":\"white\",\"minorgridcolor\":\"white\",\"startlinecolor\":\"#2a3f5f\"},\"baxis\":{\"endlinecolor\":\"#2a3f5f\",\"gridcolor\":\"white\",\"linecolor\":\"white\",\"minorgridcolor\":\"white\",\"startlinecolor\":\"#2a3f5f\"},\"type\":\"carpet\"}],\"choropleth\":[{\"colorbar\":{\"outlinewidth\":0,\"ticks\":\"\"},\"type\":\"choropleth\"}],\"contour\":[{\"colorbar\":{\"outlinewidth\":0,\"ticks\":\"\"},\"colorscale\":[[0.0,\"#0d0887\"],[0.1111111111111111,\"#46039f\"],[0.2222222222222222,\"#7201a8\"],[0.3333333333333333,\"#9c179e\"],[0.4444444444444444,\"#bd3786\"],[0.5555555555555556,\"#d8576b\"],[0.6666666666666666,\"#ed7953\"],[0.7777777777777778,\"#fb9f3a\"],[0.8888888888888888,\"#fdca26\"],[1.0,\"#f0f921\"]],\"type\":\"contour\"}],\"contourcarpet\":[{\"colorbar\":{\"outlinewidth\":0,\"ticks\":\"\"},\"type\":\"contourcarpet\"}],\"heatmap\":[{\"colorbar\":{\"outlinewidth\":0,\"ticks\":\"\"},\"colorscale\":[[0.0,\"#0d0887\"],[0.1111111111111111,\"#46039f\"],[0.2222222222222222,\"#7201a8\"],[0.3333333333333333,\"#9c179e\"],[0.4444444444444444,\"#bd3786\"],[0.5555555555555556,\"#d8576b\"],[0.6666666666666666,\"#ed7953\"],[0.7777777777777778,\"#fb9f3a\"],[0.8888888888888888,\"#fdca26\"],[1.0,\"#f0f921\"]],\"type\":\"heatmap\"}],\"heatmapgl\":[{\"colorbar\":{\"outlinewidth\":0,\"ticks\":\"\"},\"colorscale\":[[0.0,\"#0d0887\"],[0.1111111111111111,\"#46039f\"],[0.2222222222222222,\"#7201a8\"],[0.3333333333333333,\"#9c179e\"],[0.4444444444444444,\"#bd3786\"],[0.5555555555555556,\"#d8576b\"],[0.6666666666666666,\"#ed7953\"],[0.7777777777777778,\"#fb9f3a\"],[0.8888888888888888,\"#fdca26\"],[1.0,\"#f0f921\"]],\"type\":\"heatmapgl\"}],\"histogram\":[{\"marker\":{\"pattern\":{\"fillmode\":\"overlay\",\"size\":10,\"solidity\":0.2}},\"type\":\"histogram\"}],\"histogram2d\":[{\"colorbar\":{\"outlinewidth\":0,\"ticks\":\"\"},\"colorscale\":[[0.0,\"#0d0887\"],[0.1111111111111111,\"#46039f\"],[0.2222222222222222,\"#7201a8\"],[0.3333333333333333,\"#9c179e\"],[0.4444444444444444,\"#bd3786\"],[0.5555555555555556,\"#d8576b\"],[0.6666666666666666,\"#ed7953\"],[0.7777777777777778,\"#fb9f3a\"],[0.8888888888888888,\"#fdca26\"],[1.0,\"#f0f921\"]],\"type\":\"histogram2d\"}],\"histogram2dcontour\":[{\"colorbar\":{\"outlinewidth\":0,\"ticks\":\"\"},\"colorscale\":[[0.0,\"#0d0887\"],[0.1111111111111111,\"#46039f\"],[0.2222222222222222,\"#7201a8\"],[0.3333333333333333,\"#9c179e\"],[0.4444444444444444,\"#bd3786\"],[0.5555555555555556,\"#d8576b\"],[0.6666666666666666,\"#ed7953\"],[0.7777777777777778,\"#fb9f3a\"],[0.8888888888888888,\"#fdca26\"],[1.0,\"#f0f921\"]],\"type\":\"histogram2dcontour\"}],\"mesh3d\":[{\"colorbar\":{\"outlinewidth\":0,\"ticks\":\"\"},\"type\":\"mesh3d\"}],\"parcoords\":[{\"line\":{\"colorbar\":{\"outlinewidth\":0,\"ticks\":\"\"}},\"type\":\"parcoords\"}],\"pie\":[{\"automargin\":true,\"type\":\"pie\"}],\"scatter\":[{\"marker\":{\"colorbar\":{\"outlinewidth\":0,\"ticks\":\"\"}},\"type\":\"scatter\"}],\"scatter3d\":[{\"line\":{\"colorbar\":{\"outlinewidth\":0,\"ticks\":\"\"}},\"marker\":{\"colorbar\":{\"outlinewidth\":0,\"ticks\":\"\"}},\"type\":\"scatter3d\"}],\"scattercarpet\":[{\"marker\":{\"colorbar\":{\"outlinewidth\":0,\"ticks\":\"\"}},\"type\":\"scattercarpet\"}],\"scattergeo\":[{\"marker\":{\"colorbar\":{\"outlinewidth\":0,\"ticks\":\"\"}},\"type\":\"scattergeo\"}],\"scattergl\":[{\"marker\":{\"colorbar\":{\"outlinewidth\":0,\"ticks\":\"\"}},\"type\":\"scattergl\"}],\"scattermapbox\":[{\"marker\":{\"colorbar\":{\"outlinewidth\":0,\"ticks\":\"\"}},\"type\":\"scattermapbox\"}],\"scatterpolar\":[{\"marker\":{\"colorbar\":{\"outlinewidth\":0,\"ticks\":\"\"}},\"type\":\"scatterpolar\"}],\"scatterpolargl\":[{\"marker\":{\"colorbar\":{\"outlinewidth\":0,\"ticks\":\"\"}},\"type\":\"scatterpolargl\"}],\"scatterternary\":[{\"marker\":{\"colorbar\":{\"outlinewidth\":0,\"ticks\":\"\"}},\"type\":\"scatterternary\"}],\"surface\":[{\"colorbar\":{\"outlinewidth\":0,\"ticks\":\"\"},\"colorscale\":[[0.0,\"#0d0887\"],[0.1111111111111111,\"#46039f\"],[0.2222222222222222,\"#7201a8\"],[0.3333333333333333,\"#9c179e\"],[0.4444444444444444,\"#bd3786\"],[0.5555555555555556,\"#d8576b\"],[0.6666666666666666,\"#ed7953\"],[0.7777777777777778,\"#fb9f3a\"],[0.8888888888888888,\"#fdca26\"],[1.0,\"#f0f921\"]],\"type\":\"surface\"}],\"table\":[{\"cells\":{\"fill\":{\"color\":\"#EBF0F8\"},\"line\":{\"color\":\"white\"}},\"header\":{\"fill\":{\"color\":\"#C8D4E3\"},\"line\":{\"color\":\"white\"}},\"type\":\"table\"}]},\"layout\":{\"annotationdefaults\":{\"arrowcolor\":\"#2a3f5f\",\"arrowhead\":0,\"arrowwidth\":1},\"autotypenumbers\":\"strict\",\"coloraxis\":{\"colorbar\":{\"outlinewidth\":0,\"ticks\":\"\"}},\"colorscale\":{\"diverging\":[[0,\"#8e0152\"],[0.1,\"#c51b7d\"],[0.2,\"#de77ae\"],[0.3,\"#f1b6da\"],[0.4,\"#fde0ef\"],[0.5,\"#f7f7f7\"],[0.6,\"#e6f5d0\"],[0.7,\"#b8e186\"],[0.8,\"#7fbc41\"],[0.9,\"#4d9221\"],[1,\"#276419\"]],\"sequential\":[[0.0,\"#0d0887\"],[0.1111111111111111,\"#46039f\"],[0.2222222222222222,\"#7201a8\"],[0.3333333333333333,\"#9c179e\"],[0.4444444444444444,\"#bd3786\"],[0.5555555555555556,\"#d8576b\"],[0.6666666666666666,\"#ed7953\"],[0.7777777777777778,\"#fb9f3a\"],[0.8888888888888888,\"#fdca26\"],[1.0,\"#f0f921\"]],\"sequentialminus\":[[0.0,\"#0d0887\"],[0.1111111111111111,\"#46039f\"],[0.2222222222222222,\"#7201a8\"],[0.3333333333333333,\"#9c179e\"],[0.4444444444444444,\"#bd3786\"],[0.5555555555555556,\"#d8576b\"],[0.6666666666666666,\"#ed7953\"],[0.7777777777777778,\"#fb9f3a\"],[0.8888888888888888,\"#fdca26\"],[1.0,\"#f0f921\"]]},\"colorway\":[\"#636efa\",\"#EF553B\",\"#00cc96\",\"#ab63fa\",\"#FFA15A\",\"#19d3f3\",\"#FF6692\",\"#B6E880\",\"#FF97FF\",\"#FECB52\"],\"font\":{\"color\":\"#2a3f5f\"},\"geo\":{\"bgcolor\":\"white\",\"lakecolor\":\"white\",\"landcolor\":\"#E5ECF6\",\"showlakes\":true,\"showland\":true,\"subunitcolor\":\"white\"},\"hoverlabel\":{\"align\":\"left\"},\"hovermode\":\"closest\",\"mapbox\":{\"style\":\"light\"},\"paper_bgcolor\":\"white\",\"plot_bgcolor\":\"#E5ECF6\",\"polar\":{\"angularaxis\":{\"gridcolor\":\"white\",\"linecolor\":\"white\",\"ticks\":\"\"},\"bgcolor\":\"#E5ECF6\",\"radialaxis\":{\"gridcolor\":\"white\",\"linecolor\":\"white\",\"ticks\":\"\"}},\"scene\":{\"xaxis\":{\"backgroundcolor\":\"#E5ECF6\",\"gridcolor\":\"white\",\"gridwidth\":2,\"linecolor\":\"white\",\"showbackground\":true,\"ticks\":\"\",\"zerolinecolor\":\"white\"},\"yaxis\":{\"backgroundcolor\":\"#E5ECF6\",\"gridcolor\":\"white\",\"gridwidth\":2,\"linecolor\":\"white\",\"showbackground\":true,\"ticks\":\"\",\"zerolinecolor\":\"white\"},\"zaxis\":{\"backgroundcolor\":\"#E5ECF6\",\"gridcolor\":\"white\",\"gridwidth\":2,\"linecolor\":\"white\",\"showbackground\":true,\"ticks\":\"\",\"zerolinecolor\":\"white\"}},\"shapedefaults\":{\"line\":{\"color\":\"#2a3f5f\"}},\"ternary\":{\"aaxis\":{\"gridcolor\":\"white\",\"linecolor\":\"white\",\"ticks\":\"\"},\"baxis\":{\"gridcolor\":\"white\",\"linecolor\":\"white\",\"ticks\":\"\"},\"bgcolor\":\"#E5ECF6\",\"caxis\":{\"gridcolor\":\"white\",\"linecolor\":\"white\",\"ticks\":\"\"}},\"title\":{\"x\":0.05},\"xaxis\":{\"automargin\":true,\"gridcolor\":\"white\",\"linecolor\":\"white\",\"ticks\":\"\",\"title\":{\"standoff\":15},\"zerolinecolor\":\"white\",\"zerolinewidth\":2},\"yaxis\":{\"automargin\":true,\"gridcolor\":\"white\",\"linecolor\":\"white\",\"ticks\":\"\",\"title\":{\"standoff\":15},\"zerolinecolor\":\"white\",\"zerolinewidth\":2}}},\"xaxis\":{\"anchor\":\"y\",\"domain\":[0.0,1.0],\"title\":{\"text\":\"second_launch_day\"}},\"yaxis\":{\"anchor\":\"x\",\"domain\":[0.0,1.0],\"title\":{\"text\":\"second_day_user_count\"}},\"legend\":{\"title\":{\"text\":\"country_group\"},\"tracegroupgap\":0},\"title\":{\"text\":\"\\u0420\\u0430\\u0441\\u043f\\u0440\\u0435\\u0434\\u0435\\u043b\\u0435\\u043d\\u0438\\u0435 \\u043a\\u043e\\u043b\\u0438\\u0447\\u0435\\u0441\\u0442\\u0432\\u0430 \\u0437\\u0430\\u043f\\u0443\\u0441\\u043a\\u043e\\u0432 \\u0432\\u0442\\u043e\\u0440\\u043e\\u0433\\u043e \\u0434\\u043d\\u044f \\u043f\\u043e \\u0433\\u0440\\u0443\\u043f\\u043f\\u0430\\u043c \\u0441\\u0442\\u0440\\u0430\\u043d\"}},                        {\"responsive\": true}                    ).then(function(){\n",
              "                            \n",
              "var gd = document.getElementById('2438a262-859c-4703-afb0-91b7eb5d106b');\n",
              "var x = new MutationObserver(function (mutations, observer) {{\n",
              "        var display = window.getComputedStyle(gd).display;\n",
              "        if (!display || display === 'none') {{\n",
              "            console.log([gd, 'removed!']);\n",
              "            Plotly.purge(gd);\n",
              "            observer.disconnect();\n",
              "        }}\n",
              "}});\n",
              "\n",
              "// Listen for the removal of the full notebook cells\n",
              "var notebookContainer = gd.closest('#notebook-container');\n",
              "if (notebookContainer) {{\n",
              "    x.observe(notebookContainer, {childList: true});\n",
              "}}\n",
              "\n",
              "// Listen for the clearing of the current output cell\n",
              "var outputEl = gd.closest('.output');\n",
              "if (outputEl) {{\n",
              "    x.observe(outputEl, {childList: true});\n",
              "}}\n",
              "\n",
              "                        })                };                            </script>        </div>\n",
              "</body>\n",
              "</html>"
            ]
          },
          "metadata": {}
        }
      ]
    },
    {
      "cell_type": "markdown",
      "source": [
        "#### Выводы"
      ],
      "metadata": {
        "id": "yhMoo_vPkunA"
      }
    },
    {
      "cell_type": "markdown",
      "source": [
        "+ Сравнивая события инсталлов и второго дня запуска приложения, я могу сказать, что тенденции схожи среди всех регионов - периоды роста и снижения установок коррелируют с количеством повторных входов, при этом количество входов на следующий день равно примерно трети от количества установок в предыдущий день.\n",
        "+ Ярко выделяются два основных региона - СНГ и Северная Америка. СНГ преобладает по количеству инсталлов и запусков.\n",
        "+ Событие, повлекшее большое количество инсталлов 23 марта 2021 также вызвало пропорциональный рост повторных запусков 24 марта 2021. Это событие затронуло только игроков СНГ, данные по игрокам Северной Америки не изменились.\n",
        "+ Обращаясь к более раннему анализу данных, отмечу, что, не смотря на большее количество пользователей из СНГ, пользователи из Северной Америки приносят почти в четыре раза больше прибыли. В связи с этим досадно выглядит тот факт, что всплеск активности в марте 2021 не затронул игроков этого региона."
      ],
      "metadata": {
        "id": "rOVP9AH5xmGd"
      }
    },
    {
      "cell_type": "markdown",
      "source": [
        "#### Дополнительно"
      ],
      "metadata": {
        "id": "col9eEEwwzf4"
      }
    },
    {
      "cell_type": "code",
      "source": [
        "second_day_launches.rename(columns={'second_launch_day': 'event_date', 'second_day_user_count': 'user_count'}, inplace=True)"
      ],
      "metadata": {
        "id": "JNMzb9mOr06W"
      },
      "execution_count": null,
      "outputs": []
    },
    {
      "cell_type": "code",
      "source": [
        "second_day_compare = pd.merge(country_installs, second_day_launches, how='inner',on=['event_date'])"
      ],
      "metadata": {
        "id": "Pi4WJf_CsE0h"
      },
      "execution_count": null,
      "outputs": []
    },
    {
      "cell_type": "code",
      "source": [
        "second_day_compare.rename(columns={'country_group_x': 'install_country_group', 'user_count_x': 'install_user_count',\n",
        "                        'country_group_y': 'launch_country_group', 'user_count_y': 'launch_user_count'}, inplace=True)"
      ],
      "metadata": {
        "id": "lAIuhz6ZsPVM"
      },
      "execution_count": null,
      "outputs": []
    },
    {
      "cell_type": "code",
      "source": [
        "second_day_compare.head(2)"
      ],
      "metadata": {
        "colab": {
          "base_uri": "https://localhost:8080/",
          "height": 112
        },
        "id": "3ZH57-qYuWHv",
        "outputId": "3acd4aed-dd6c-4d88-c070-13c8663756c0"
      },
      "execution_count": null,
      "outputs": [
        {
          "output_type": "execute_result",
          "data": {
            "text/plain": [
              "  install_country_group event_date  install_user_count launch_country_group  \\\n",
              "0         North America 2020-10-28                 236                 Asia   \n",
              "1         North America 2020-10-28                 236               Europe   \n",
              "\n",
              "   launch_user_count  \n",
              "0                  1  \n",
              "1                  1  "
            ],
            "text/html": [
              "\n",
              "  <div id=\"df-2c8829ea-504e-48c1-9fa7-d786cada7e30\">\n",
              "    <div class=\"colab-df-container\">\n",
              "      <div>\n",
              "<style scoped>\n",
              "    .dataframe tbody tr th:only-of-type {\n",
              "        vertical-align: middle;\n",
              "    }\n",
              "\n",
              "    .dataframe tbody tr th {\n",
              "        vertical-align: top;\n",
              "    }\n",
              "\n",
              "    .dataframe thead th {\n",
              "        text-align: right;\n",
              "    }\n",
              "</style>\n",
              "<table border=\"1\" class=\"dataframe\">\n",
              "  <thead>\n",
              "    <tr style=\"text-align: right;\">\n",
              "      <th></th>\n",
              "      <th>install_country_group</th>\n",
              "      <th>event_date</th>\n",
              "      <th>install_user_count</th>\n",
              "      <th>launch_country_group</th>\n",
              "      <th>launch_user_count</th>\n",
              "    </tr>\n",
              "  </thead>\n",
              "  <tbody>\n",
              "    <tr>\n",
              "      <th>0</th>\n",
              "      <td>North America</td>\n",
              "      <td>2020-10-28</td>\n",
              "      <td>236</td>\n",
              "      <td>Asia</td>\n",
              "      <td>1</td>\n",
              "    </tr>\n",
              "    <tr>\n",
              "      <th>1</th>\n",
              "      <td>North America</td>\n",
              "      <td>2020-10-28</td>\n",
              "      <td>236</td>\n",
              "      <td>Europe</td>\n",
              "      <td>1</td>\n",
              "    </tr>\n",
              "  </tbody>\n",
              "</table>\n",
              "</div>\n",
              "      <button class=\"colab-df-convert\" onclick=\"convertToInteractive('df-2c8829ea-504e-48c1-9fa7-d786cada7e30')\"\n",
              "              title=\"Convert this dataframe to an interactive table.\"\n",
              "              style=\"display:none;\">\n",
              "        \n",
              "  <svg xmlns=\"http://www.w3.org/2000/svg\" height=\"24px\"viewBox=\"0 0 24 24\"\n",
              "       width=\"24px\">\n",
              "    <path d=\"M0 0h24v24H0V0z\" fill=\"none\"/>\n",
              "    <path d=\"M18.56 5.44l.94 2.06.94-2.06 2.06-.94-2.06-.94-.94-2.06-.94 2.06-2.06.94zm-11 1L8.5 8.5l.94-2.06 2.06-.94-2.06-.94L8.5 2.5l-.94 2.06-2.06.94zm10 10l.94 2.06.94-2.06 2.06-.94-2.06-.94-.94-2.06-.94 2.06-2.06.94z\"/><path d=\"M17.41 7.96l-1.37-1.37c-.4-.4-.92-.59-1.43-.59-.52 0-1.04.2-1.43.59L10.3 9.45l-7.72 7.72c-.78.78-.78 2.05 0 2.83L4 21.41c.39.39.9.59 1.41.59.51 0 1.02-.2 1.41-.59l7.78-7.78 2.81-2.81c.8-.78.8-2.07 0-2.86zM5.41 20L4 18.59l7.72-7.72 1.47 1.35L5.41 20z\"/>\n",
              "  </svg>\n",
              "      </button>\n",
              "      \n",
              "  <style>\n",
              "    .colab-df-container {\n",
              "      display:flex;\n",
              "      flex-wrap:wrap;\n",
              "      gap: 12px;\n",
              "    }\n",
              "\n",
              "    .colab-df-convert {\n",
              "      background-color: #E8F0FE;\n",
              "      border: none;\n",
              "      border-radius: 50%;\n",
              "      cursor: pointer;\n",
              "      display: none;\n",
              "      fill: #1967D2;\n",
              "      height: 32px;\n",
              "      padding: 0 0 0 0;\n",
              "      width: 32px;\n",
              "    }\n",
              "\n",
              "    .colab-df-convert:hover {\n",
              "      background-color: #E2EBFA;\n",
              "      box-shadow: 0px 1px 2px rgba(60, 64, 67, 0.3), 0px 1px 3px 1px rgba(60, 64, 67, 0.15);\n",
              "      fill: #174EA6;\n",
              "    }\n",
              "\n",
              "    [theme=dark] .colab-df-convert {\n",
              "      background-color: #3B4455;\n",
              "      fill: #D2E3FC;\n",
              "    }\n",
              "\n",
              "    [theme=dark] .colab-df-convert:hover {\n",
              "      background-color: #434B5C;\n",
              "      box-shadow: 0px 1px 3px 1px rgba(0, 0, 0, 0.15);\n",
              "      filter: drop-shadow(0px 1px 2px rgba(0, 0, 0, 0.3));\n",
              "      fill: #FFFFFF;\n",
              "    }\n",
              "  </style>\n",
              "\n",
              "      <script>\n",
              "        const buttonEl =\n",
              "          document.querySelector('#df-2c8829ea-504e-48c1-9fa7-d786cada7e30 button.colab-df-convert');\n",
              "        buttonEl.style.display =\n",
              "          google.colab.kernel.accessAllowed ? 'block' : 'none';\n",
              "\n",
              "        async function convertToInteractive(key) {\n",
              "          const element = document.querySelector('#df-2c8829ea-504e-48c1-9fa7-d786cada7e30');\n",
              "          const dataTable =\n",
              "            await google.colab.kernel.invokeFunction('convertToInteractive',\n",
              "                                                     [key], {});\n",
              "          if (!dataTable) return;\n",
              "\n",
              "          const docLinkHtml = 'Like what you see? Visit the ' +\n",
              "            '<a target=\"_blank\" href=https://colab.research.google.com/notebooks/data_table.ipynb>data table notebook</a>'\n",
              "            + ' to learn more about interactive tables.';\n",
              "          element.innerHTML = '';\n",
              "          dataTable['output_type'] = 'display_data';\n",
              "          await google.colab.output.renderOutput(dataTable, element);\n",
              "          const docLink = document.createElement('div');\n",
              "          docLink.innerHTML = docLinkHtml;\n",
              "          element.appendChild(docLink);\n",
              "        }\n",
              "      </script>\n",
              "    </div>\n",
              "  </div>\n",
              "  "
            ]
          },
          "metadata": {},
          "execution_count": 137
        }
      ]
    },
    {
      "cell_type": "code",
      "source": [
        "# Получаю график сравнения количества инсталлов и запусков второго дня по группам стран:\n",
        "fig = px.line(\n",
        "    second_day_compare,\n",
        "    x = 'event_date',\n",
        "    y = 'install_user_count',\n",
        "    # y = 'launch_user_count',\n",
        "    color = 'install_country_group',\n",
        "    # color = 'launch_country_group',\n",
        "    title = 'Распределение количества инсталлов по группам стран',\n",
        ")\n",
        "fig.show()"
      ],
      "metadata": {
        "colab": {
          "base_uri": "https://localhost:8080/",
          "height": 542
        },
        "id": "12bPXHMusTwf",
        "outputId": "36f8a8fe-08ad-4414-bfe9-1cad7f620d59"
      },
      "execution_count": null,
      "outputs": [
        {
          "output_type": "display_data",
          "data": {
            "text/html": [
              "<html>\n",
              "<head><meta charset=\"utf-8\" /></head>\n",
              "<body>\n",
              "    <div>            <script src=\"https://cdnjs.cloudflare.com/ajax/libs/mathjax/2.7.5/MathJax.js?config=TeX-AMS-MML_SVG\"></script><script type=\"text/javascript\">if (window.MathJax) {MathJax.Hub.Config({SVG: {font: \"STIX-Web\"}});}</script>                <script type=\"text/javascript\">window.PlotlyConfig = {MathJaxConfig: 'local'};</script>\n",
              "        <script src=\"https://cdn.plot.ly/plotly-2.8.3.min.js\"></script>                <div id=\"0222eac9-2c07-492c-9ac9-040856bcbb94\" class=\"plotly-graph-div\" style=\"height:525px; width:100%;\"></div>            <script type=\"text/javascript\">                                    window.PLOTLYENV=window.PLOTLYENV || {};                                    if (document.getElementById(\"0222eac9-2c07-492c-9ac9-040856bcbb94\")) {                    Plotly.newPlot(                        \"0222eac9-2c07-492c-9ac9-040856bcbb94\",                        [{\"hovertemplate\":\"install_country_group=North America<br>event_date=%{x}<br>install_user_count=%{y}<extra></extra>\",\"legendgroup\":\"North America\",\"line\":{\"color\":\"#636efa\",\"dash\":\"solid\"},\"marker\":{\"symbol\":\"circle\"},\"mode\":\"lines\",\"name\":\"North America\",\"showlegend\":true,\"x\":[\"2020-10-28T00:00:00\",\"2020-10-28T00:00:00\",\"2020-10-28T00:00:00\",\"2020-10-28T00:00:00\",\"2020-10-29T00:00:00\",\"2020-10-29T00:00:00\",\"2020-10-30T00:00:00\",\"2020-10-30T00:00:00\",\"2020-10-30T00:00:00\",\"2020-10-30T00:00:00\",\"2020-10-30T00:00:00\",\"2020-10-31T00:00:00\",\"2020-10-31T00:00:00\",\"2020-10-31T00:00:00\",\"2020-10-31T00:00:00\",\"2020-11-01T00:00:00\",\"2020-11-01T00:00:00\",\"2020-11-01T00:00:00\",\"2020-11-01T00:00:00\",\"2020-11-02T00:00:00\",\"2020-11-02T00:00:00\",\"2020-11-02T00:00:00\",\"2020-11-02T00:00:00\",\"2020-11-02T00:00:00\",\"2020-11-03T00:00:00\",\"2020-11-03T00:00:00\",\"2020-11-03T00:00:00\",\"2020-11-03T00:00:00\",\"2020-11-04T00:00:00\",\"2020-11-04T00:00:00\",\"2020-11-04T00:00:00\",\"2020-11-04T00:00:00\",\"2020-11-04T00:00:00\",\"2020-11-05T00:00:00\",\"2020-11-05T00:00:00\",\"2020-11-05T00:00:00\",\"2020-11-05T00:00:00\",\"2020-11-06T00:00:00\",\"2020-11-06T00:00:00\",\"2020-11-06T00:00:00\",\"2020-11-07T00:00:00\",\"2020-11-07T00:00:00\",\"2020-11-07T00:00:00\",\"2020-11-07T00:00:00\",\"2020-11-08T00:00:00\",\"2020-11-08T00:00:00\",\"2020-11-08T00:00:00\",\"2020-11-08T00:00:00\",\"2020-11-09T00:00:00\",\"2020-11-09T00:00:00\",\"2020-11-09T00:00:00\",\"2020-11-09T00:00:00\",\"2020-11-10T00:00:00\",\"2020-11-10T00:00:00\",\"2020-11-10T00:00:00\",\"2020-11-11T00:00:00\",\"2020-11-11T00:00:00\",\"2020-11-11T00:00:00\",\"2020-11-11T00:00:00\",\"2020-11-12T00:00:00\",\"2020-11-12T00:00:00\",\"2020-11-12T00:00:00\",\"2020-11-12T00:00:00\",\"2020-11-12T00:00:00\",\"2020-11-13T00:00:00\",\"2020-11-13T00:00:00\",\"2020-11-13T00:00:00\",\"2020-11-13T00:00:00\",\"2020-11-13T00:00:00\",\"2020-11-14T00:00:00\",\"2020-11-14T00:00:00\",\"2020-11-14T00:00:00\",\"2020-11-14T00:00:00\",\"2020-11-14T00:00:00\",\"2020-11-14T00:00:00\",\"2020-11-15T00:00:00\",\"2020-11-15T00:00:00\",\"2020-11-15T00:00:00\",\"2020-11-15T00:00:00\",\"2020-11-15T00:00:00\",\"2020-11-15T00:00:00\",\"2020-11-16T00:00:00\",\"2020-11-16T00:00:00\",\"2020-11-16T00:00:00\",\"2020-11-16T00:00:00\",\"2020-11-16T00:00:00\",\"2020-11-17T00:00:00\",\"2020-11-17T00:00:00\",\"2020-11-17T00:00:00\",\"2020-11-17T00:00:00\",\"2020-11-17T00:00:00\",\"2020-11-17T00:00:00\",\"2020-11-18T00:00:00\",\"2020-11-18T00:00:00\",\"2020-11-18T00:00:00\",\"2020-11-18T00:00:00\",\"2020-11-18T00:00:00\",\"2020-11-18T00:00:00\",\"2020-11-19T00:00:00\",\"2020-11-19T00:00:00\",\"2020-11-19T00:00:00\",\"2020-11-20T00:00:00\",\"2020-11-20T00:00:00\",\"2020-11-20T00:00:00\",\"2020-11-20T00:00:00\",\"2020-11-20T00:00:00\",\"2020-11-20T00:00:00\",\"2020-11-21T00:00:00\",\"2020-11-21T00:00:00\",\"2020-11-21T00:00:00\",\"2020-11-22T00:00:00\",\"2020-11-22T00:00:00\",\"2020-11-22T00:00:00\",\"2020-11-22T00:00:00\",\"2020-11-22T00:00:00\",\"2020-11-23T00:00:00\",\"2020-11-23T00:00:00\",\"2020-11-23T00:00:00\",\"2020-11-23T00:00:00\",\"2020-11-23T00:00:00\",\"2020-11-24T00:00:00\",\"2020-11-24T00:00:00\",\"2020-11-24T00:00:00\",\"2020-11-24T00:00:00\",\"2020-11-24T00:00:00\",\"2020-11-25T00:00:00\",\"2020-11-25T00:00:00\",\"2020-11-25T00:00:00\",\"2020-11-25T00:00:00\",\"2020-11-25T00:00:00\",\"2020-11-26T00:00:00\",\"2020-11-26T00:00:00\",\"2020-11-26T00:00:00\",\"2020-11-26T00:00:00\",\"2020-11-27T00:00:00\",\"2020-11-27T00:00:00\",\"2020-11-27T00:00:00\",\"2020-11-27T00:00:00\",\"2020-11-28T00:00:00\",\"2020-11-28T00:00:00\",\"2020-11-28T00:00:00\",\"2020-11-28T00:00:00\",\"2020-11-28T00:00:00\",\"2020-11-29T00:00:00\",\"2020-11-29T00:00:00\",\"2020-11-29T00:00:00\",\"2020-11-29T00:00:00\",\"2020-11-30T00:00:00\",\"2020-11-30T00:00:00\",\"2020-11-30T00:00:00\",\"2020-11-30T00:00:00\",\"2020-11-30T00:00:00\",\"2020-12-01T00:00:00\",\"2020-12-01T00:00:00\",\"2020-12-01T00:00:00\",\"2020-12-01T00:00:00\",\"2020-12-01T00:00:00\",\"2020-12-02T00:00:00\",\"2020-12-02T00:00:00\",\"2020-12-02T00:00:00\",\"2020-12-02T00:00:00\",\"2020-12-02T00:00:00\",\"2020-12-03T00:00:00\",\"2020-12-03T00:00:00\",\"2020-12-03T00:00:00\",\"2020-12-03T00:00:00\",\"2020-12-03T00:00:00\",\"2020-12-04T00:00:00\",\"2020-12-04T00:00:00\",\"2020-12-04T00:00:00\",\"2020-12-04T00:00:00\",\"2020-12-04T00:00:00\",\"2020-12-05T00:00:00\",\"2020-12-05T00:00:00\",\"2020-12-05T00:00:00\",\"2020-12-05T00:00:00\",\"2020-12-05T00:00:00\",\"2020-12-06T00:00:00\",\"2020-12-06T00:00:00\",\"2020-12-06T00:00:00\",\"2020-12-06T00:00:00\",\"2020-12-07T00:00:00\",\"2020-12-07T00:00:00\",\"2020-12-07T00:00:00\",\"2020-12-07T00:00:00\",\"2020-12-07T00:00:00\",\"2020-12-07T00:00:00\",\"2020-12-08T00:00:00\",\"2020-12-08T00:00:00\",\"2020-12-08T00:00:00\",\"2020-12-08T00:00:00\",\"2020-12-09T00:00:00\",\"2020-12-09T00:00:00\",\"2020-12-09T00:00:00\",\"2020-12-09T00:00:00\",\"2020-12-09T00:00:00\",\"2020-12-10T00:00:00\",\"2020-12-10T00:00:00\",\"2020-12-10T00:00:00\",\"2020-12-10T00:00:00\",\"2020-12-10T00:00:00\",\"2020-12-11T00:00:00\",\"2020-12-11T00:00:00\",\"2020-12-11T00:00:00\",\"2020-12-11T00:00:00\",\"2020-12-11T00:00:00\",\"2020-12-12T00:00:00\",\"2020-12-12T00:00:00\",\"2020-12-12T00:00:00\",\"2020-12-12T00:00:00\",\"2020-12-13T00:00:00\",\"2020-12-13T00:00:00\",\"2020-12-13T00:00:00\",\"2020-12-13T00:00:00\",\"2020-12-13T00:00:00\",\"2020-12-14T00:00:00\",\"2020-12-14T00:00:00\",\"2020-12-14T00:00:00\",\"2020-12-14T00:00:00\",\"2020-12-14T00:00:00\",\"2020-12-15T00:00:00\",\"2020-12-15T00:00:00\",\"2020-12-15T00:00:00\",\"2020-12-15T00:00:00\",\"2020-12-16T00:00:00\",\"2020-12-16T00:00:00\",\"2020-12-16T00:00:00\",\"2020-12-16T00:00:00\",\"2020-12-16T00:00:00\",\"2020-12-17T00:00:00\",\"2020-12-17T00:00:00\",\"2020-12-17T00:00:00\",\"2020-12-17T00:00:00\",\"2020-12-18T00:00:00\",\"2020-12-18T00:00:00\",\"2020-12-18T00:00:00\",\"2020-12-18T00:00:00\",\"2020-12-18T00:00:00\",\"2020-12-19T00:00:00\",\"2020-12-19T00:00:00\",\"2020-12-19T00:00:00\",\"2020-12-19T00:00:00\",\"2020-12-19T00:00:00\",\"2020-12-19T00:00:00\",\"2020-12-20T00:00:00\",\"2020-12-20T00:00:00\",\"2020-12-20T00:00:00\",\"2020-12-20T00:00:00\",\"2020-12-20T00:00:00\",\"2020-12-21T00:00:00\",\"2020-12-21T00:00:00\",\"2020-12-21T00:00:00\",\"2020-12-21T00:00:00\",\"2020-12-21T00:00:00\",\"2020-12-22T00:00:00\",\"2020-12-22T00:00:00\",\"2020-12-22T00:00:00\",\"2020-12-22T00:00:00\",\"2020-12-22T00:00:00\",\"2020-12-23T00:00:00\",\"2020-12-23T00:00:00\",\"2020-12-23T00:00:00\",\"2020-12-23T00:00:00\",\"2020-12-23T00:00:00\",\"2020-12-24T00:00:00\",\"2020-12-24T00:00:00\",\"2020-12-24T00:00:00\",\"2020-12-24T00:00:00\",\"2020-12-24T00:00:00\",\"2020-12-25T00:00:00\",\"2020-12-25T00:00:00\",\"2020-12-25T00:00:00\",\"2020-12-25T00:00:00\",\"2020-12-25T00:00:00\",\"2020-12-26T00:00:00\",\"2020-12-26T00:00:00\",\"2020-12-26T00:00:00\",\"2020-12-26T00:00:00\",\"2020-12-27T00:00:00\",\"2020-12-27T00:00:00\",\"2020-12-27T00:00:00\",\"2020-12-27T00:00:00\",\"2020-12-27T00:00:00\",\"2020-12-28T00:00:00\",\"2020-12-28T00:00:00\",\"2020-12-28T00:00:00\",\"2020-12-28T00:00:00\",\"2020-12-29T00:00:00\",\"2020-12-29T00:00:00\",\"2020-12-29T00:00:00\",\"2020-12-30T00:00:00\",\"2020-12-30T00:00:00\",\"2020-12-30T00:00:00\",\"2020-12-30T00:00:00\",\"2020-12-31T00:00:00\",\"2020-12-31T00:00:00\",\"2020-12-31T00:00:00\",\"2020-12-31T00:00:00\",\"2020-12-31T00:00:00\",\"2021-01-01T00:00:00\",\"2021-01-01T00:00:00\",\"2021-01-01T00:00:00\",\"2021-01-01T00:00:00\",\"2021-01-01T00:00:00\",\"2021-01-02T00:00:00\",\"2021-01-02T00:00:00\",\"2021-01-02T00:00:00\",\"2021-01-02T00:00:00\",\"2021-01-02T00:00:00\",\"2021-01-02T00:00:00\",\"2021-01-03T00:00:00\",\"2021-01-03T00:00:00\",\"2021-01-03T00:00:00\",\"2021-01-04T00:00:00\",\"2021-01-04T00:00:00\",\"2021-01-04T00:00:00\",\"2021-01-04T00:00:00\",\"2021-01-05T00:00:00\",\"2021-01-05T00:00:00\",\"2021-01-05T00:00:00\",\"2021-01-05T00:00:00\",\"2021-01-06T00:00:00\",\"2021-01-06T00:00:00\",\"2021-01-06T00:00:00\",\"2021-01-06T00:00:00\",\"2021-01-06T00:00:00\",\"2021-01-07T00:00:00\",\"2021-01-07T00:00:00\",\"2021-01-07T00:00:00\",\"2021-01-07T00:00:00\",\"2021-01-08T00:00:00\",\"2021-01-08T00:00:00\",\"2021-01-08T00:00:00\",\"2021-01-08T00:00:00\",\"2021-01-09T00:00:00\",\"2021-01-09T00:00:00\",\"2021-01-09T00:00:00\",\"2021-01-09T00:00:00\",\"2021-01-10T00:00:00\",\"2021-01-10T00:00:00\",\"2021-01-10T00:00:00\",\"2021-01-10T00:00:00\",\"2021-01-11T00:00:00\",\"2021-01-11T00:00:00\",\"2021-01-11T00:00:00\",\"2021-01-11T00:00:00\",\"2021-01-11T00:00:00\",\"2021-01-12T00:00:00\",\"2021-01-12T00:00:00\",\"2021-01-12T00:00:00\",\"2021-01-12T00:00:00\",\"2021-01-13T00:00:00\",\"2021-01-13T00:00:00\",\"2021-01-13T00:00:00\",\"2021-01-13T00:00:00\",\"2021-01-13T00:00:00\",\"2021-01-13T00:00:00\",\"2021-01-14T00:00:00\",\"2021-01-14T00:00:00\",\"2021-01-14T00:00:00\",\"2021-01-14T00:00:00\",\"2021-01-15T00:00:00\",\"2021-01-15T00:00:00\",\"2021-01-15T00:00:00\",\"2021-01-16T00:00:00\",\"2021-01-16T00:00:00\",\"2021-01-16T00:00:00\",\"2021-01-16T00:00:00\",\"2021-01-17T00:00:00\",\"2021-01-17T00:00:00\",\"2021-01-17T00:00:00\",\"2021-01-18T00:00:00\",\"2021-01-18T00:00:00\",\"2021-01-18T00:00:00\",\"2021-01-19T00:00:00\",\"2021-01-19T00:00:00\",\"2021-01-19T00:00:00\",\"2021-01-19T00:00:00\",\"2021-01-19T00:00:00\",\"2021-01-20T00:00:00\",\"2021-01-20T00:00:00\",\"2021-01-20T00:00:00\",\"2021-01-20T00:00:00\",\"2021-01-21T00:00:00\",\"2021-01-21T00:00:00\",\"2021-01-21T00:00:00\",\"2021-01-21T00:00:00\",\"2021-01-21T00:00:00\",\"2021-01-22T00:00:00\",\"2021-01-22T00:00:00\",\"2021-01-22T00:00:00\",\"2021-01-23T00:00:00\",\"2021-01-23T00:00:00\",\"2021-01-23T00:00:00\",\"2021-01-23T00:00:00\",\"2021-01-24T00:00:00\",\"2021-01-24T00:00:00\",\"2021-01-24T00:00:00\",\"2021-01-25T00:00:00\",\"2021-01-25T00:00:00\",\"2021-01-25T00:00:00\",\"2021-01-26T00:00:00\",\"2021-01-26T00:00:00\",\"2021-01-26T00:00:00\",\"2021-01-26T00:00:00\",\"2021-01-27T00:00:00\",\"2021-01-27T00:00:00\",\"2021-01-27T00:00:00\",\"2021-01-27T00:00:00\",\"2021-01-28T00:00:00\",\"2021-01-28T00:00:00\",\"2021-01-28T00:00:00\",\"2021-01-29T00:00:00\",\"2021-01-29T00:00:00\",\"2021-01-29T00:00:00\",\"2021-01-30T00:00:00\",\"2021-01-30T00:00:00\",\"2021-01-30T00:00:00\",\"2021-01-30T00:00:00\",\"2021-01-30T00:00:00\",\"2021-01-31T00:00:00\",\"2021-01-31T00:00:00\",\"2021-01-31T00:00:00\",\"2021-01-31T00:00:00\",\"2021-02-01T00:00:00\",\"2021-02-01T00:00:00\",\"2021-02-01T00:00:00\",\"2021-02-01T00:00:00\",\"2021-02-01T00:00:00\",\"2021-02-02T00:00:00\",\"2021-02-02T00:00:00\",\"2021-02-02T00:00:00\",\"2021-02-02T00:00:00\",\"2021-02-03T00:00:00\",\"2021-02-03T00:00:00\",\"2021-02-03T00:00:00\",\"2021-02-03T00:00:00\",\"2021-02-03T00:00:00\",\"2021-02-04T00:00:00\",\"2021-02-04T00:00:00\",\"2021-02-04T00:00:00\",\"2021-02-04T00:00:00\",\"2021-02-04T00:00:00\",\"2021-02-04T00:00:00\",\"2021-02-05T00:00:00\",\"2021-02-05T00:00:00\",\"2021-02-05T00:00:00\",\"2021-02-05T00:00:00\",\"2021-02-06T00:00:00\",\"2021-02-06T00:00:00\",\"2021-02-06T00:00:00\",\"2021-02-06T00:00:00\",\"2021-02-06T00:00:00\",\"2021-02-07T00:00:00\",\"2021-02-07T00:00:00\",\"2021-02-07T00:00:00\",\"2021-02-07T00:00:00\",\"2021-02-07T00:00:00\",\"2021-02-08T00:00:00\",\"2021-02-08T00:00:00\",\"2021-02-08T00:00:00\",\"2021-02-08T00:00:00\",\"2021-02-09T00:00:00\",\"2021-02-09T00:00:00\",\"2021-02-09T00:00:00\",\"2021-02-09T00:00:00\",\"2021-02-09T00:00:00\",\"2021-02-10T00:00:00\",\"2021-02-10T00:00:00\",\"2021-02-10T00:00:00\",\"2021-02-10T00:00:00\",\"2021-02-11T00:00:00\",\"2021-02-11T00:00:00\",\"2021-02-11T00:00:00\",\"2021-02-12T00:00:00\",\"2021-02-12T00:00:00\",\"2021-02-12T00:00:00\",\"2021-02-12T00:00:00\",\"2021-02-12T00:00:00\",\"2021-02-12T00:00:00\",\"2021-02-13T00:00:00\",\"2021-02-13T00:00:00\",\"2021-02-13T00:00:00\",\"2021-02-13T00:00:00\",\"2021-02-13T00:00:00\",\"2021-02-14T00:00:00\",\"2021-02-14T00:00:00\",\"2021-02-14T00:00:00\",\"2021-02-14T00:00:00\",\"2021-02-15T00:00:00\",\"2021-02-15T00:00:00\",\"2021-02-15T00:00:00\",\"2021-02-15T00:00:00\",\"2021-02-16T00:00:00\",\"2021-02-16T00:00:00\",\"2021-02-16T00:00:00\",\"2021-02-17T00:00:00\",\"2021-02-17T00:00:00\",\"2021-02-17T00:00:00\",\"2021-02-17T00:00:00\",\"2021-02-17T00:00:00\",\"2021-02-18T00:00:00\",\"2021-02-18T00:00:00\",\"2021-02-18T00:00:00\",\"2021-02-18T00:00:00\",\"2021-02-18T00:00:00\",\"2021-02-19T00:00:00\",\"2021-02-19T00:00:00\",\"2021-02-19T00:00:00\",\"2021-02-19T00:00:00\",\"2021-02-20T00:00:00\",\"2021-02-20T00:00:00\",\"2021-02-20T00:00:00\",\"2021-02-20T00:00:00\",\"2021-02-21T00:00:00\",\"2021-02-21T00:00:00\",\"2021-02-21T00:00:00\",\"2021-02-21T00:00:00\",\"2021-02-22T00:00:00\",\"2021-02-22T00:00:00\",\"2021-02-22T00:00:00\",\"2021-02-23T00:00:00\",\"2021-02-23T00:00:00\",\"2021-02-23T00:00:00\",\"2021-02-24T00:00:00\",\"2021-02-24T00:00:00\",\"2021-02-24T00:00:00\",\"2021-02-24T00:00:00\",\"2021-02-25T00:00:00\",\"2021-02-25T00:00:00\",\"2021-02-25T00:00:00\",\"2021-02-26T00:00:00\",\"2021-02-26T00:00:00\",\"2021-02-26T00:00:00\",\"2021-02-26T00:00:00\",\"2021-02-27T00:00:00\",\"2021-02-27T00:00:00\",\"2021-02-27T00:00:00\",\"2021-02-28T00:00:00\",\"2021-02-28T00:00:00\",\"2021-02-28T00:00:00\",\"2021-02-28T00:00:00\",\"2021-02-28T00:00:00\",\"2021-03-01T00:00:00\",\"2021-03-01T00:00:00\",\"2021-03-01T00:00:00\",\"2021-03-01T00:00:00\",\"2021-03-02T00:00:00\",\"2021-03-02T00:00:00\",\"2021-03-02T00:00:00\",\"2021-03-02T00:00:00\",\"2021-03-02T00:00:00\",\"2021-03-03T00:00:00\",\"2021-03-03T00:00:00\",\"2021-03-03T00:00:00\",\"2021-03-03T00:00:00\",\"2021-03-03T00:00:00\",\"2021-03-04T00:00:00\",\"2021-03-04T00:00:00\",\"2021-03-04T00:00:00\",\"2021-03-04T00:00:00\",\"2021-03-04T00:00:00\",\"2021-03-05T00:00:00\",\"2021-03-05T00:00:00\",\"2021-03-05T00:00:00\",\"2021-03-05T00:00:00\",\"2021-03-06T00:00:00\",\"2021-03-06T00:00:00\",\"2021-03-06T00:00:00\",\"2021-03-06T00:00:00\",\"2021-03-07T00:00:00\",\"2021-03-07T00:00:00\",\"2021-03-07T00:00:00\",\"2021-03-07T00:00:00\",\"2021-03-08T00:00:00\",\"2021-03-08T00:00:00\",\"2021-03-08T00:00:00\",\"2021-03-08T00:00:00\",\"2021-03-09T00:00:00\",\"2021-03-09T00:00:00\",\"2021-03-09T00:00:00\",\"2021-03-09T00:00:00\",\"2021-03-10T00:00:00\",\"2021-03-10T00:00:00\",\"2021-03-10T00:00:00\",\"2021-03-11T00:00:00\",\"2021-03-11T00:00:00\",\"2021-03-11T00:00:00\",\"2021-03-12T00:00:00\",\"2021-03-12T00:00:00\",\"2021-03-12T00:00:00\",\"2021-03-13T00:00:00\",\"2021-03-13T00:00:00\",\"2021-03-13T00:00:00\",\"2021-03-13T00:00:00\",\"2021-03-14T00:00:00\",\"2021-03-14T00:00:00\",\"2021-03-14T00:00:00\",\"2021-03-15T00:00:00\",\"2021-03-15T00:00:00\",\"2021-03-15T00:00:00\",\"2021-03-16T00:00:00\",\"2021-03-16T00:00:00\",\"2021-03-16T00:00:00\",\"2021-03-16T00:00:00\",\"2021-03-16T00:00:00\",\"2021-03-17T00:00:00\",\"2021-03-17T00:00:00\",\"2021-03-17T00:00:00\",\"2021-03-18T00:00:00\",\"2021-03-18T00:00:00\",\"2021-03-18T00:00:00\",\"2021-03-18T00:00:00\",\"2021-03-19T00:00:00\",\"2021-03-19T00:00:00\",\"2021-03-19T00:00:00\",\"2021-03-19T00:00:00\",\"2021-03-19T00:00:00\",\"2021-03-20T00:00:00\",\"2021-03-20T00:00:00\",\"2021-03-20T00:00:00\",\"2021-03-20T00:00:00\",\"2021-03-20T00:00:00\",\"2021-03-21T00:00:00\",\"2021-03-21T00:00:00\",\"2021-03-21T00:00:00\",\"2021-03-22T00:00:00\",\"2021-03-22T00:00:00\",\"2021-03-22T00:00:00\",\"2021-03-22T00:00:00\",\"2021-03-23T00:00:00\",\"2021-03-23T00:00:00\",\"2021-03-23T00:00:00\",\"2021-03-23T00:00:00\",\"2021-03-24T00:00:00\",\"2021-03-24T00:00:00\",\"2021-03-24T00:00:00\",\"2021-03-24T00:00:00\",\"2021-03-25T00:00:00\",\"2021-03-25T00:00:00\",\"2021-03-25T00:00:00\",\"2021-03-25T00:00:00\",\"2021-03-26T00:00:00\",\"2021-03-26T00:00:00\",\"2021-03-26T00:00:00\",\"2021-03-26T00:00:00\",\"2021-03-26T00:00:00\",\"2021-03-27T00:00:00\",\"2021-03-27T00:00:00\",\"2021-03-27T00:00:00\",\"2021-03-27T00:00:00\",\"2021-03-28T00:00:00\",\"2021-03-28T00:00:00\",\"2021-03-28T00:00:00\",\"2021-03-28T00:00:00\",\"2021-03-28T00:00:00\",\"2021-03-29T00:00:00\",\"2021-03-29T00:00:00\",\"2021-03-29T00:00:00\",\"2021-03-29T00:00:00\",\"2021-03-30T00:00:00\",\"2021-03-30T00:00:00\",\"2021-03-30T00:00:00\",\"2021-03-30T00:00:00\",\"2021-03-31T00:00:00\",\"2021-03-31T00:00:00\",\"2021-04-01T00:00:00\",\"2021-04-01T00:00:00\",\"2021-04-01T00:00:00\",\"2021-04-01T00:00:00\",\"2021-04-01T00:00:00\",\"2021-04-02T00:00:00\",\"2021-04-02T00:00:00\",\"2021-04-02T00:00:00\",\"2021-04-02T00:00:00\",\"2021-04-03T00:00:00\",\"2021-04-03T00:00:00\",\"2021-04-03T00:00:00\",\"2021-04-03T00:00:00\",\"2021-04-04T00:00:00\",\"2021-04-04T00:00:00\",\"2021-04-04T00:00:00\",\"2021-04-04T00:00:00\",\"2021-04-04T00:00:00\",\"2021-04-05T00:00:00\",\"2021-04-05T00:00:00\",\"2021-04-05T00:00:00\",\"2021-04-06T00:00:00\",\"2021-04-06T00:00:00\",\"2021-04-06T00:00:00\",\"2021-04-06T00:00:00\",\"2021-04-07T00:00:00\",\"2021-04-07T00:00:00\",\"2021-04-07T00:00:00\",\"2021-04-07T00:00:00\",\"2021-04-08T00:00:00\",\"2021-04-08T00:00:00\",\"2021-04-08T00:00:00\",\"2021-04-08T00:00:00\",\"2021-04-08T00:00:00\",\"2021-04-08T00:00:00\",\"2021-04-09T00:00:00\",\"2021-04-09T00:00:00\",\"2021-04-09T00:00:00\",\"2021-04-09T00:00:00\",\"2021-04-10T00:00:00\",\"2021-04-10T00:00:00\",\"2021-04-10T00:00:00\",\"2021-04-10T00:00:00\",\"2021-04-10T00:00:00\",\"2021-04-11T00:00:00\",\"2021-04-11T00:00:00\",\"2021-04-11T00:00:00\",\"2021-04-12T00:00:00\",\"2021-04-12T00:00:00\",\"2021-04-12T00:00:00\",\"2021-04-12T00:00:00\",\"2021-04-12T00:00:00\",\"2021-04-13T00:00:00\",\"2021-04-13T00:00:00\",\"2021-04-13T00:00:00\",\"2021-04-13T00:00:00\",\"2021-04-14T00:00:00\",\"2021-04-14T00:00:00\",\"2021-04-14T00:00:00\",\"2021-04-14T00:00:00\",\"2021-04-14T00:00:00\",\"2021-04-15T00:00:00\",\"2021-04-15T00:00:00\",\"2021-04-15T00:00:00\",\"2021-04-15T00:00:00\",\"2021-04-15T00:00:00\",\"2021-04-15T00:00:00\",\"2021-04-16T00:00:00\",\"2021-04-16T00:00:00\",\"2021-04-16T00:00:00\",\"2021-04-16T00:00:00\",\"2021-04-17T00:00:00\",\"2021-04-17T00:00:00\",\"2021-04-17T00:00:00\",\"2021-04-17T00:00:00\",\"2021-04-18T00:00:00\",\"2021-04-18T00:00:00\",\"2021-04-18T00:00:00\",\"2021-04-19T00:00:00\",\"2021-04-19T00:00:00\",\"2021-04-19T00:00:00\",\"2021-04-19T00:00:00\",\"2021-04-20T00:00:00\",\"2021-04-20T00:00:00\",\"2021-04-20T00:00:00\",\"2021-04-20T00:00:00\",\"2021-04-21T00:00:00\",\"2021-04-21T00:00:00\",\"2021-04-21T00:00:00\",\"2021-04-22T00:00:00\",\"2021-04-22T00:00:00\",\"2021-04-22T00:00:00\",\"2021-04-23T00:00:00\",\"2021-04-23T00:00:00\",\"2021-04-24T00:00:00\",\"2021-04-24T00:00:00\",\"2021-04-24T00:00:00\",\"2021-04-25T00:00:00\",\"2021-04-25T00:00:00\",\"2021-04-25T00:00:00\",\"2021-04-25T00:00:00\",\"2021-04-26T00:00:00\",\"2021-04-26T00:00:00\",\"2021-04-26T00:00:00\",\"2021-04-26T00:00:00\",\"2021-04-26T00:00:00\",\"2021-04-27T00:00:00\",\"2021-04-27T00:00:00\",\"2021-04-27T00:00:00\",\"2021-04-27T00:00:00\",\"2021-04-28T00:00:00\",\"2021-04-28T00:00:00\",\"2021-04-28T00:00:00\",\"2021-04-28T00:00:00\",\"2021-04-29T00:00:00\",\"2021-04-29T00:00:00\",\"2021-04-30T00:00:00\",\"2021-04-30T00:00:00\",\"2021-05-01T00:00:00\",\"2021-05-01T00:00:00\",\"2021-05-01T00:00:00\",\"2021-05-01T00:00:00\",\"2021-05-02T00:00:00\",\"2021-05-02T00:00:00\",\"2021-05-02T00:00:00\",\"2021-05-03T00:00:00\",\"2021-05-03T00:00:00\",\"2021-05-03T00:00:00\",\"2021-05-04T00:00:00\",\"2021-05-04T00:00:00\",\"2021-05-04T00:00:00\",\"2021-05-04T00:00:00\",\"2021-05-05T00:00:00\",\"2021-05-05T00:00:00\",\"2021-05-05T00:00:00\",\"2021-05-05T00:00:00\",\"2021-05-06T00:00:00\",\"2021-05-06T00:00:00\",\"2021-05-06T00:00:00\",\"2021-05-06T00:00:00\",\"2021-05-07T00:00:00\",\"2021-05-07T00:00:00\",\"2021-05-07T00:00:00\",\"2021-05-08T00:00:00\",\"2021-05-08T00:00:00\",\"2021-05-08T00:00:00\",\"2021-05-08T00:00:00\",\"2021-05-09T00:00:00\",\"2021-05-09T00:00:00\",\"2021-05-09T00:00:00\",\"2021-05-09T00:00:00\",\"2021-05-10T00:00:00\",\"2021-05-10T00:00:00\",\"2021-05-10T00:00:00\",\"2021-05-10T00:00:00\",\"2021-05-11T00:00:00\",\"2021-05-11T00:00:00\",\"2021-05-11T00:00:00\",\"2021-05-11T00:00:00\",\"2021-05-11T00:00:00\",\"2021-05-12T00:00:00\",\"2021-05-12T00:00:00\",\"2021-05-12T00:00:00\",\"2021-05-12T00:00:00\",\"2021-05-13T00:00:00\",\"2021-05-13T00:00:00\",\"2021-05-13T00:00:00\",\"2021-05-13T00:00:00\",\"2021-05-14T00:00:00\",\"2021-05-14T00:00:00\",\"2021-05-14T00:00:00\",\"2021-05-15T00:00:00\",\"2021-05-15T00:00:00\",\"2021-05-15T00:00:00\",\"2021-05-15T00:00:00\",\"2021-05-16T00:00:00\",\"2021-05-16T00:00:00\",\"2021-05-16T00:00:00\",\"2021-05-17T00:00:00\",\"2021-05-17T00:00:00\",\"2021-05-17T00:00:00\",\"2021-05-18T00:00:00\",\"2021-05-18T00:00:00\",\"2021-05-18T00:00:00\",\"2021-05-18T00:00:00\",\"2021-05-19T00:00:00\",\"2021-05-19T00:00:00\",\"2021-05-19T00:00:00\",\"2021-05-19T00:00:00\",\"2021-05-20T00:00:00\",\"2021-05-20T00:00:00\",\"2021-05-20T00:00:00\",\"2021-05-21T00:00:00\",\"2021-05-21T00:00:00\",\"2021-05-21T00:00:00\",\"2021-05-22T00:00:00\",\"2021-05-22T00:00:00\",\"2021-05-22T00:00:00\",\"2021-05-23T00:00:00\",\"2021-05-23T00:00:00\",\"2021-05-23T00:00:00\",\"2021-05-24T00:00:00\",\"2021-05-24T00:00:00\",\"2021-05-24T00:00:00\",\"2021-05-25T00:00:00\",\"2021-05-25T00:00:00\",\"2021-05-25T00:00:00\",\"2021-05-25T00:00:00\",\"2021-05-26T00:00:00\",\"2021-05-26T00:00:00\",\"2021-05-26T00:00:00\",\"2021-05-27T00:00:00\",\"2021-05-27T00:00:00\",\"2021-05-27T00:00:00\",\"2021-05-27T00:00:00\",\"2021-05-28T00:00:00\",\"2021-05-28T00:00:00\",\"2021-05-28T00:00:00\",\"2021-05-28T00:00:00\",\"2021-05-29T00:00:00\",\"2021-05-29T00:00:00\",\"2021-05-29T00:00:00\",\"2021-05-30T00:00:00\",\"2021-05-30T00:00:00\",\"2021-05-30T00:00:00\",\"2021-05-31T00:00:00\",\"2021-05-31T00:00:00\",\"2021-05-31T00:00:00\"],\"xaxis\":\"x\",\"y\":[236,236,236,236,248,248,180,180,180,180,180,159,159,159,159,126,126,126,126,92,92,92,92,92,194,194,194,194,215,215,215,215,215,172,172,172,172,173,173,173,191,191,191,191,235,235,235,235,205,205,205,205,146,146,146,262,262,262,262,340,340,340,340,340,269,269,269,269,269,321,321,321,321,321,321,347,347,347,347,347,347,221,221,221,221,221,136,136,136,136,136,136,145,145,145,145,145,145,131,131,131,77,77,77,77,77,77,84,84,84,70,70,70,70,70,72,72,72,72,72,87,87,87,87,87,90,90,90,90,90,76,76,76,76,71,71,71,71,45,45,45,45,45,57,57,57,57,65,65,65,65,65,90,90,90,90,90,77,77,77,77,77,131,131,131,131,131,158,158,158,158,158,96,96,96,96,96,129,129,129,129,98,98,98,98,98,98,94,94,94,94,59,59,59,59,59,66,66,66,66,66,48,48,48,48,48,70,70,70,70,128,128,128,128,128,104,104,104,104,104,66,66,66,66,48,48,48,48,48,49,49,49,49,42,42,42,42,42,36,36,36,36,36,36,35,35,35,35,35,54,54,54,54,54,49,49,49,49,49,38,38,38,38,38,53,53,53,53,53,49,49,49,49,49,37,37,37,37,31,31,31,31,31,51,51,51,51,35,35,35,26,26,26,26,38,38,38,38,38,43,43,43,43,43,39,39,39,39,39,39,63,63,63,68,68,68,68,35,35,35,35,25,25,25,25,25,30,30,30,30,32,32,32,32,36,36,36,36,43,43,43,43,52,52,52,52,52,30,30,30,30,36,36,36,36,36,36,32,32,32,32,22,22,22,40,40,40,40,44,44,44,39,39,39,35,35,35,35,35,30,30,30,30,43,43,43,43,43,17,17,17,32,32,32,32,22,22,22,38,38,38,22,22,22,22,28,28,28,28,34,34,34,46,46,46,31,31,31,31,31,37,37,37,37,18,18,18,18,18,37,37,37,37,17,17,17,17,17,22,22,22,22,22,22,22,22,22,22,33,33,33,33,33,38,38,38,38,38,28,28,28,28,17,17,17,17,17,16,16,16,16,20,20,20,30,30,30,30,30,30,45,45,45,45,45,48,48,48,48,32,32,32,32,49,49,49,61,61,61,61,61,30,30,30,30,30,22,22,22,22,32,32,32,32,22,22,22,22,26,26,26,26,26,26,21,21,21,21,28,28,28,12,12,12,12,30,30,30,28,28,28,28,28,16,16,16,16,17,17,17,17,17,23,23,23,23,23,30,30,30,30,30,12,12,12,12,33,33,33,33,26,26,26,26,20,20,20,20,15,15,15,15,11,11,11,13,13,13,22,22,22,26,26,26,26,16,16,16,13,13,13,18,18,18,18,18,19,19,19,17,17,17,17,13,13,13,13,13,34,34,34,34,34,37,37,37,30,30,30,30,21,21,21,21,17,17,17,17,11,11,11,11,9,9,9,9,9,17,17,17,17,18,18,18,18,18,13,13,13,13,9,9,9,9,13,13,13,13,13,13,13,7,7,7,7,19,19,19,19,12,12,12,12,12,11,11,11,13,13,13,13,11,11,11,11,19,19,19,19,19,19,23,23,23,23,30,30,30,30,30,9,9,9,15,15,15,15,15,38,38,38,38,36,36,36,36,36,20,20,20,20,20,20,22,22,22,22,20,20,20,20,14,14,14,7,7,7,7,8,8,8,8,22,22,22,14,14,14,15,15,12,12,12,16,16,16,16,10,10,10,10,10,13,13,13,13,10,10,10,10,17,17,10,10,21,21,21,21,18,18,18,14,14,14,9,9,9,9,7,7,7,7,8,8,8,8,9,9,9,8,8,8,8,16,16,16,16,14,14,14,14,9,9,9,9,9,9,9,9,9,55,55,55,55,14,14,14,17,17,17,17,12,12,12,10,10,10,7,7,7,7,8,8,8,8,9,9,9,15,15,15,10,10,10,2,2,2,9,9,9,11,11,11,11,7,7,7,7,7,7,7,5,5,5,5,10,10,10,16,16,16,5,5,5],\"yaxis\":\"y\",\"type\":\"scattergl\"},{\"hovertemplate\":\"install_country_group=CIS<br>event_date=%{x}<br>install_user_count=%{y}<extra></extra>\",\"legendgroup\":\"CIS\",\"line\":{\"color\":\"#EF553B\",\"dash\":\"solid\"},\"marker\":{\"symbol\":\"circle\"},\"mode\":\"lines\",\"name\":\"CIS\",\"showlegend\":true,\"x\":[\"2020-10-28T00:00:00\",\"2020-10-28T00:00:00\",\"2020-10-28T00:00:00\",\"2020-10-28T00:00:00\",\"2020-10-29T00:00:00\",\"2020-10-29T00:00:00\",\"2020-10-30T00:00:00\",\"2020-10-30T00:00:00\",\"2020-10-30T00:00:00\",\"2020-10-30T00:00:00\",\"2020-10-30T00:00:00\",\"2020-10-31T00:00:00\",\"2020-10-31T00:00:00\",\"2020-10-31T00:00:00\",\"2020-10-31T00:00:00\",\"2020-11-01T00:00:00\",\"2020-11-01T00:00:00\",\"2020-11-01T00:00:00\",\"2020-11-01T00:00:00\",\"2020-11-02T00:00:00\",\"2020-11-02T00:00:00\",\"2020-11-02T00:00:00\",\"2020-11-02T00:00:00\",\"2020-11-02T00:00:00\",\"2020-11-03T00:00:00\",\"2020-11-03T00:00:00\",\"2020-11-03T00:00:00\",\"2020-11-03T00:00:00\",\"2020-11-04T00:00:00\",\"2020-11-04T00:00:00\",\"2020-11-04T00:00:00\",\"2020-11-04T00:00:00\",\"2020-11-04T00:00:00\",\"2020-11-05T00:00:00\",\"2020-11-05T00:00:00\",\"2020-11-05T00:00:00\",\"2020-11-05T00:00:00\",\"2020-11-06T00:00:00\",\"2020-11-06T00:00:00\",\"2020-11-06T00:00:00\",\"2020-11-07T00:00:00\",\"2020-11-07T00:00:00\",\"2020-11-07T00:00:00\",\"2020-11-07T00:00:00\",\"2020-11-08T00:00:00\",\"2020-11-08T00:00:00\",\"2020-11-08T00:00:00\",\"2020-11-08T00:00:00\",\"2020-11-09T00:00:00\",\"2020-11-09T00:00:00\",\"2020-11-09T00:00:00\",\"2020-11-09T00:00:00\",\"2020-11-10T00:00:00\",\"2020-11-10T00:00:00\",\"2020-11-10T00:00:00\",\"2020-11-11T00:00:00\",\"2020-11-11T00:00:00\",\"2020-11-11T00:00:00\",\"2020-11-11T00:00:00\",\"2020-11-12T00:00:00\",\"2020-11-12T00:00:00\",\"2020-11-12T00:00:00\",\"2020-11-12T00:00:00\",\"2020-11-12T00:00:00\",\"2020-11-13T00:00:00\",\"2020-11-13T00:00:00\",\"2020-11-13T00:00:00\",\"2020-11-13T00:00:00\",\"2020-11-13T00:00:00\",\"2020-11-14T00:00:00\",\"2020-11-14T00:00:00\",\"2020-11-14T00:00:00\",\"2020-11-14T00:00:00\",\"2020-11-14T00:00:00\",\"2020-11-14T00:00:00\",\"2020-11-15T00:00:00\",\"2020-11-15T00:00:00\",\"2020-11-15T00:00:00\",\"2020-11-15T00:00:00\",\"2020-11-15T00:00:00\",\"2020-11-15T00:00:00\",\"2020-11-16T00:00:00\",\"2020-11-16T00:00:00\",\"2020-11-16T00:00:00\",\"2020-11-16T00:00:00\",\"2020-11-16T00:00:00\",\"2020-11-17T00:00:00\",\"2020-11-17T00:00:00\",\"2020-11-17T00:00:00\",\"2020-11-17T00:00:00\",\"2020-11-17T00:00:00\",\"2020-11-17T00:00:00\",\"2020-11-18T00:00:00\",\"2020-11-18T00:00:00\",\"2020-11-18T00:00:00\",\"2020-11-18T00:00:00\",\"2020-11-18T00:00:00\",\"2020-11-18T00:00:00\",\"2020-11-19T00:00:00\",\"2020-11-19T00:00:00\",\"2020-11-19T00:00:00\",\"2020-11-20T00:00:00\",\"2020-11-20T00:00:00\",\"2020-11-20T00:00:00\",\"2020-11-20T00:00:00\",\"2020-11-20T00:00:00\",\"2020-11-20T00:00:00\",\"2020-11-21T00:00:00\",\"2020-11-21T00:00:00\",\"2020-11-21T00:00:00\",\"2020-11-22T00:00:00\",\"2020-11-22T00:00:00\",\"2020-11-22T00:00:00\",\"2020-11-22T00:00:00\",\"2020-11-22T00:00:00\",\"2020-11-23T00:00:00\",\"2020-11-23T00:00:00\",\"2020-11-23T00:00:00\",\"2020-11-23T00:00:00\",\"2020-11-23T00:00:00\",\"2020-11-24T00:00:00\",\"2020-11-24T00:00:00\",\"2020-11-24T00:00:00\",\"2020-11-24T00:00:00\",\"2020-11-24T00:00:00\",\"2020-11-25T00:00:00\",\"2020-11-25T00:00:00\",\"2020-11-25T00:00:00\",\"2020-11-25T00:00:00\",\"2020-11-25T00:00:00\",\"2020-11-26T00:00:00\",\"2020-11-26T00:00:00\",\"2020-11-26T00:00:00\",\"2020-11-26T00:00:00\",\"2020-11-27T00:00:00\",\"2020-11-27T00:00:00\",\"2020-11-27T00:00:00\",\"2020-11-27T00:00:00\",\"2020-11-28T00:00:00\",\"2020-11-28T00:00:00\",\"2020-11-28T00:00:00\",\"2020-11-28T00:00:00\",\"2020-11-28T00:00:00\",\"2020-11-29T00:00:00\",\"2020-11-29T00:00:00\",\"2020-11-29T00:00:00\",\"2020-11-29T00:00:00\",\"2020-11-30T00:00:00\",\"2020-11-30T00:00:00\",\"2020-11-30T00:00:00\",\"2020-11-30T00:00:00\",\"2020-11-30T00:00:00\",\"2020-12-01T00:00:00\",\"2020-12-01T00:00:00\",\"2020-12-01T00:00:00\",\"2020-12-01T00:00:00\",\"2020-12-01T00:00:00\",\"2020-12-02T00:00:00\",\"2020-12-02T00:00:00\",\"2020-12-02T00:00:00\",\"2020-12-02T00:00:00\",\"2020-12-02T00:00:00\",\"2020-12-03T00:00:00\",\"2020-12-03T00:00:00\",\"2020-12-03T00:00:00\",\"2020-12-03T00:00:00\",\"2020-12-03T00:00:00\",\"2020-12-04T00:00:00\",\"2020-12-04T00:00:00\",\"2020-12-04T00:00:00\",\"2020-12-04T00:00:00\",\"2020-12-04T00:00:00\",\"2020-12-05T00:00:00\",\"2020-12-05T00:00:00\",\"2020-12-05T00:00:00\",\"2020-12-05T00:00:00\",\"2020-12-05T00:00:00\",\"2020-12-06T00:00:00\",\"2020-12-06T00:00:00\",\"2020-12-06T00:00:00\",\"2020-12-06T00:00:00\",\"2020-12-07T00:00:00\",\"2020-12-07T00:00:00\",\"2020-12-07T00:00:00\",\"2020-12-07T00:00:00\",\"2020-12-07T00:00:00\",\"2020-12-07T00:00:00\",\"2020-12-08T00:00:00\",\"2020-12-08T00:00:00\",\"2020-12-08T00:00:00\",\"2020-12-08T00:00:00\",\"2020-12-09T00:00:00\",\"2020-12-09T00:00:00\",\"2020-12-09T00:00:00\",\"2020-12-09T00:00:00\",\"2020-12-09T00:00:00\",\"2020-12-10T00:00:00\",\"2020-12-10T00:00:00\",\"2020-12-10T00:00:00\",\"2020-12-10T00:00:00\",\"2020-12-10T00:00:00\",\"2020-12-11T00:00:00\",\"2020-12-11T00:00:00\",\"2020-12-11T00:00:00\",\"2020-12-11T00:00:00\",\"2020-12-11T00:00:00\",\"2020-12-12T00:00:00\",\"2020-12-12T00:00:00\",\"2020-12-12T00:00:00\",\"2020-12-12T00:00:00\",\"2020-12-13T00:00:00\",\"2020-12-13T00:00:00\",\"2020-12-13T00:00:00\",\"2020-12-13T00:00:00\",\"2020-12-13T00:00:00\",\"2020-12-14T00:00:00\",\"2020-12-14T00:00:00\",\"2020-12-14T00:00:00\",\"2020-12-14T00:00:00\",\"2020-12-14T00:00:00\",\"2020-12-15T00:00:00\",\"2020-12-15T00:00:00\",\"2020-12-15T00:00:00\",\"2020-12-15T00:00:00\",\"2020-12-16T00:00:00\",\"2020-12-16T00:00:00\",\"2020-12-16T00:00:00\",\"2020-12-16T00:00:00\",\"2020-12-16T00:00:00\",\"2020-12-17T00:00:00\",\"2020-12-17T00:00:00\",\"2020-12-17T00:00:00\",\"2020-12-17T00:00:00\",\"2020-12-18T00:00:00\",\"2020-12-18T00:00:00\",\"2020-12-18T00:00:00\",\"2020-12-18T00:00:00\",\"2020-12-18T00:00:00\",\"2020-12-19T00:00:00\",\"2020-12-19T00:00:00\",\"2020-12-19T00:00:00\",\"2020-12-19T00:00:00\",\"2020-12-19T00:00:00\",\"2020-12-19T00:00:00\",\"2020-12-20T00:00:00\",\"2020-12-20T00:00:00\",\"2020-12-20T00:00:00\",\"2020-12-20T00:00:00\",\"2020-12-20T00:00:00\",\"2020-12-21T00:00:00\",\"2020-12-21T00:00:00\",\"2020-12-21T00:00:00\",\"2020-12-21T00:00:00\",\"2020-12-21T00:00:00\",\"2020-12-22T00:00:00\",\"2020-12-22T00:00:00\",\"2020-12-22T00:00:00\",\"2020-12-22T00:00:00\",\"2020-12-22T00:00:00\",\"2020-12-23T00:00:00\",\"2020-12-23T00:00:00\",\"2020-12-23T00:00:00\",\"2020-12-23T00:00:00\",\"2020-12-23T00:00:00\",\"2020-12-24T00:00:00\",\"2020-12-24T00:00:00\",\"2020-12-24T00:00:00\",\"2020-12-24T00:00:00\",\"2020-12-24T00:00:00\",\"2020-12-25T00:00:00\",\"2020-12-25T00:00:00\",\"2020-12-25T00:00:00\",\"2020-12-25T00:00:00\",\"2020-12-25T00:00:00\",\"2020-12-26T00:00:00\",\"2020-12-26T00:00:00\",\"2020-12-26T00:00:00\",\"2020-12-26T00:00:00\",\"2020-12-27T00:00:00\",\"2020-12-27T00:00:00\",\"2020-12-27T00:00:00\",\"2020-12-27T00:00:00\",\"2020-12-27T00:00:00\",\"2020-12-28T00:00:00\",\"2020-12-28T00:00:00\",\"2020-12-28T00:00:00\",\"2020-12-28T00:00:00\",\"2020-12-29T00:00:00\",\"2020-12-29T00:00:00\",\"2020-12-29T00:00:00\",\"2020-12-30T00:00:00\",\"2020-12-30T00:00:00\",\"2020-12-30T00:00:00\",\"2020-12-30T00:00:00\",\"2020-12-31T00:00:00\",\"2020-12-31T00:00:00\",\"2020-12-31T00:00:00\",\"2020-12-31T00:00:00\",\"2020-12-31T00:00:00\",\"2021-01-01T00:00:00\",\"2021-01-01T00:00:00\",\"2021-01-01T00:00:00\",\"2021-01-01T00:00:00\",\"2021-01-01T00:00:00\",\"2021-01-02T00:00:00\",\"2021-01-02T00:00:00\",\"2021-01-02T00:00:00\",\"2021-01-02T00:00:00\",\"2021-01-02T00:00:00\",\"2021-01-02T00:00:00\",\"2021-01-03T00:00:00\",\"2021-01-03T00:00:00\",\"2021-01-03T00:00:00\",\"2021-01-04T00:00:00\",\"2021-01-04T00:00:00\",\"2021-01-04T00:00:00\",\"2021-01-04T00:00:00\",\"2021-01-05T00:00:00\",\"2021-01-05T00:00:00\",\"2021-01-05T00:00:00\",\"2021-01-05T00:00:00\",\"2021-01-06T00:00:00\",\"2021-01-06T00:00:00\",\"2021-01-06T00:00:00\",\"2021-01-06T00:00:00\",\"2021-01-06T00:00:00\",\"2021-01-07T00:00:00\",\"2021-01-07T00:00:00\",\"2021-01-07T00:00:00\",\"2021-01-07T00:00:00\",\"2021-01-08T00:00:00\",\"2021-01-08T00:00:00\",\"2021-01-08T00:00:00\",\"2021-01-08T00:00:00\",\"2021-01-09T00:00:00\",\"2021-01-09T00:00:00\",\"2021-01-09T00:00:00\",\"2021-01-09T00:00:00\",\"2021-01-10T00:00:00\",\"2021-01-10T00:00:00\",\"2021-01-10T00:00:00\",\"2021-01-10T00:00:00\",\"2021-01-11T00:00:00\",\"2021-01-11T00:00:00\",\"2021-01-11T00:00:00\",\"2021-01-11T00:00:00\",\"2021-01-11T00:00:00\",\"2021-01-12T00:00:00\",\"2021-01-12T00:00:00\",\"2021-01-12T00:00:00\",\"2021-01-12T00:00:00\",\"2021-01-13T00:00:00\",\"2021-01-13T00:00:00\",\"2021-01-13T00:00:00\",\"2021-01-13T00:00:00\",\"2021-01-13T00:00:00\",\"2021-01-13T00:00:00\",\"2021-01-14T00:00:00\",\"2021-01-14T00:00:00\",\"2021-01-14T00:00:00\",\"2021-01-14T00:00:00\",\"2021-01-15T00:00:00\",\"2021-01-15T00:00:00\",\"2021-01-15T00:00:00\",\"2021-01-16T00:00:00\",\"2021-01-16T00:00:00\",\"2021-01-16T00:00:00\",\"2021-01-16T00:00:00\",\"2021-01-17T00:00:00\",\"2021-01-17T00:00:00\",\"2021-01-17T00:00:00\",\"2021-01-18T00:00:00\",\"2021-01-18T00:00:00\",\"2021-01-18T00:00:00\",\"2021-01-19T00:00:00\",\"2021-01-19T00:00:00\",\"2021-01-19T00:00:00\",\"2021-01-19T00:00:00\",\"2021-01-19T00:00:00\",\"2021-01-20T00:00:00\",\"2021-01-20T00:00:00\",\"2021-01-20T00:00:00\",\"2021-01-20T00:00:00\",\"2021-01-21T00:00:00\",\"2021-01-21T00:00:00\",\"2021-01-21T00:00:00\",\"2021-01-21T00:00:00\",\"2021-01-21T00:00:00\",\"2021-01-22T00:00:00\",\"2021-01-22T00:00:00\",\"2021-01-22T00:00:00\",\"2021-01-23T00:00:00\",\"2021-01-23T00:00:00\",\"2021-01-23T00:00:00\",\"2021-01-23T00:00:00\",\"2021-01-24T00:00:00\",\"2021-01-24T00:00:00\",\"2021-01-24T00:00:00\",\"2021-01-25T00:00:00\",\"2021-01-25T00:00:00\",\"2021-01-25T00:00:00\",\"2021-01-26T00:00:00\",\"2021-01-26T00:00:00\",\"2021-01-26T00:00:00\",\"2021-01-26T00:00:00\",\"2021-01-27T00:00:00\",\"2021-01-27T00:00:00\",\"2021-01-27T00:00:00\",\"2021-01-27T00:00:00\",\"2021-01-28T00:00:00\",\"2021-01-28T00:00:00\",\"2021-01-28T00:00:00\",\"2021-01-29T00:00:00\",\"2021-01-29T00:00:00\",\"2021-01-29T00:00:00\",\"2021-01-30T00:00:00\",\"2021-01-30T00:00:00\",\"2021-01-30T00:00:00\",\"2021-01-30T00:00:00\",\"2021-01-30T00:00:00\",\"2021-01-31T00:00:00\",\"2021-01-31T00:00:00\",\"2021-01-31T00:00:00\",\"2021-01-31T00:00:00\",\"2021-02-01T00:00:00\",\"2021-02-01T00:00:00\",\"2021-02-01T00:00:00\",\"2021-02-01T00:00:00\",\"2021-02-01T00:00:00\",\"2021-02-02T00:00:00\",\"2021-02-02T00:00:00\",\"2021-02-02T00:00:00\",\"2021-02-02T00:00:00\",\"2021-02-03T00:00:00\",\"2021-02-03T00:00:00\",\"2021-02-03T00:00:00\",\"2021-02-03T00:00:00\",\"2021-02-03T00:00:00\",\"2021-02-04T00:00:00\",\"2021-02-04T00:00:00\",\"2021-02-04T00:00:00\",\"2021-02-04T00:00:00\",\"2021-02-04T00:00:00\",\"2021-02-04T00:00:00\",\"2021-02-05T00:00:00\",\"2021-02-05T00:00:00\",\"2021-02-05T00:00:00\",\"2021-02-05T00:00:00\",\"2021-02-06T00:00:00\",\"2021-02-06T00:00:00\",\"2021-02-06T00:00:00\",\"2021-02-06T00:00:00\",\"2021-02-06T00:00:00\",\"2021-02-07T00:00:00\",\"2021-02-07T00:00:00\",\"2021-02-07T00:00:00\",\"2021-02-07T00:00:00\",\"2021-02-07T00:00:00\",\"2021-02-08T00:00:00\",\"2021-02-08T00:00:00\",\"2021-02-08T00:00:00\",\"2021-02-08T00:00:00\",\"2021-02-09T00:00:00\",\"2021-02-09T00:00:00\",\"2021-02-09T00:00:00\",\"2021-02-09T00:00:00\",\"2021-02-09T00:00:00\",\"2021-02-10T00:00:00\",\"2021-02-10T00:00:00\",\"2021-02-10T00:00:00\",\"2021-02-10T00:00:00\",\"2021-02-11T00:00:00\",\"2021-02-11T00:00:00\",\"2021-02-11T00:00:00\",\"2021-02-12T00:00:00\",\"2021-02-12T00:00:00\",\"2021-02-12T00:00:00\",\"2021-02-12T00:00:00\",\"2021-02-12T00:00:00\",\"2021-02-12T00:00:00\",\"2021-02-13T00:00:00\",\"2021-02-13T00:00:00\",\"2021-02-13T00:00:00\",\"2021-02-13T00:00:00\",\"2021-02-13T00:00:00\",\"2021-02-14T00:00:00\",\"2021-02-14T00:00:00\",\"2021-02-14T00:00:00\",\"2021-02-14T00:00:00\",\"2021-02-15T00:00:00\",\"2021-02-15T00:00:00\",\"2021-02-15T00:00:00\",\"2021-02-15T00:00:00\",\"2021-02-16T00:00:00\",\"2021-02-16T00:00:00\",\"2021-02-16T00:00:00\",\"2021-02-17T00:00:00\",\"2021-02-17T00:00:00\",\"2021-02-17T00:00:00\",\"2021-02-17T00:00:00\",\"2021-02-17T00:00:00\",\"2021-02-18T00:00:00\",\"2021-02-18T00:00:00\",\"2021-02-18T00:00:00\",\"2021-02-18T00:00:00\",\"2021-02-18T00:00:00\",\"2021-02-19T00:00:00\",\"2021-02-19T00:00:00\",\"2021-02-19T00:00:00\",\"2021-02-19T00:00:00\",\"2021-02-20T00:00:00\",\"2021-02-20T00:00:00\",\"2021-02-20T00:00:00\",\"2021-02-20T00:00:00\",\"2021-02-21T00:00:00\",\"2021-02-21T00:00:00\",\"2021-02-21T00:00:00\",\"2021-02-21T00:00:00\",\"2021-02-22T00:00:00\",\"2021-02-22T00:00:00\",\"2021-02-22T00:00:00\",\"2021-02-23T00:00:00\",\"2021-02-23T00:00:00\",\"2021-02-23T00:00:00\",\"2021-02-24T00:00:00\",\"2021-02-24T00:00:00\",\"2021-02-24T00:00:00\",\"2021-02-24T00:00:00\",\"2021-02-25T00:00:00\",\"2021-02-25T00:00:00\",\"2021-02-25T00:00:00\",\"2021-02-26T00:00:00\",\"2021-02-26T00:00:00\",\"2021-02-26T00:00:00\",\"2021-02-26T00:00:00\",\"2021-02-27T00:00:00\",\"2021-02-27T00:00:00\",\"2021-02-27T00:00:00\",\"2021-02-28T00:00:00\",\"2021-02-28T00:00:00\",\"2021-02-28T00:00:00\",\"2021-02-28T00:00:00\",\"2021-02-28T00:00:00\",\"2021-03-01T00:00:00\",\"2021-03-01T00:00:00\",\"2021-03-01T00:00:00\",\"2021-03-01T00:00:00\",\"2021-03-02T00:00:00\",\"2021-03-02T00:00:00\",\"2021-03-02T00:00:00\",\"2021-03-02T00:00:00\",\"2021-03-02T00:00:00\",\"2021-03-03T00:00:00\",\"2021-03-03T00:00:00\",\"2021-03-03T00:00:00\",\"2021-03-03T00:00:00\",\"2021-03-03T00:00:00\",\"2021-03-04T00:00:00\",\"2021-03-04T00:00:00\",\"2021-03-04T00:00:00\",\"2021-03-04T00:00:00\",\"2021-03-04T00:00:00\",\"2021-03-05T00:00:00\",\"2021-03-05T00:00:00\",\"2021-03-05T00:00:00\",\"2021-03-05T00:00:00\",\"2021-03-06T00:00:00\",\"2021-03-06T00:00:00\",\"2021-03-06T00:00:00\",\"2021-03-06T00:00:00\",\"2021-03-07T00:00:00\",\"2021-03-07T00:00:00\",\"2021-03-07T00:00:00\",\"2021-03-07T00:00:00\",\"2021-03-08T00:00:00\",\"2021-03-08T00:00:00\",\"2021-03-08T00:00:00\",\"2021-03-08T00:00:00\",\"2021-03-09T00:00:00\",\"2021-03-09T00:00:00\",\"2021-03-09T00:00:00\",\"2021-03-09T00:00:00\",\"2021-03-10T00:00:00\",\"2021-03-10T00:00:00\",\"2021-03-10T00:00:00\",\"2021-03-11T00:00:00\",\"2021-03-11T00:00:00\",\"2021-03-11T00:00:00\",\"2021-03-12T00:00:00\",\"2021-03-12T00:00:00\",\"2021-03-12T00:00:00\",\"2021-03-13T00:00:00\",\"2021-03-13T00:00:00\",\"2021-03-13T00:00:00\",\"2021-03-13T00:00:00\",\"2021-03-14T00:00:00\",\"2021-03-14T00:00:00\",\"2021-03-14T00:00:00\",\"2021-03-15T00:00:00\",\"2021-03-15T00:00:00\",\"2021-03-15T00:00:00\",\"2021-03-16T00:00:00\",\"2021-03-16T00:00:00\",\"2021-03-16T00:00:00\",\"2021-03-16T00:00:00\",\"2021-03-16T00:00:00\",\"2021-03-17T00:00:00\",\"2021-03-17T00:00:00\",\"2021-03-17T00:00:00\",\"2021-03-18T00:00:00\",\"2021-03-18T00:00:00\",\"2021-03-18T00:00:00\",\"2021-03-18T00:00:00\",\"2021-03-19T00:00:00\",\"2021-03-19T00:00:00\",\"2021-03-19T00:00:00\",\"2021-03-19T00:00:00\",\"2021-03-19T00:00:00\",\"2021-03-20T00:00:00\",\"2021-03-20T00:00:00\",\"2021-03-20T00:00:00\",\"2021-03-20T00:00:00\",\"2021-03-20T00:00:00\",\"2021-03-21T00:00:00\",\"2021-03-21T00:00:00\",\"2021-03-21T00:00:00\",\"2021-03-22T00:00:00\",\"2021-03-22T00:00:00\",\"2021-03-22T00:00:00\",\"2021-03-22T00:00:00\",\"2021-03-23T00:00:00\",\"2021-03-23T00:00:00\",\"2021-03-23T00:00:00\",\"2021-03-23T00:00:00\",\"2021-03-24T00:00:00\",\"2021-03-24T00:00:00\",\"2021-03-24T00:00:00\",\"2021-03-24T00:00:00\",\"2021-03-25T00:00:00\",\"2021-03-25T00:00:00\",\"2021-03-25T00:00:00\",\"2021-03-25T00:00:00\",\"2021-03-26T00:00:00\",\"2021-03-26T00:00:00\",\"2021-03-26T00:00:00\",\"2021-03-26T00:00:00\",\"2021-03-26T00:00:00\",\"2021-03-27T00:00:00\",\"2021-03-27T00:00:00\",\"2021-03-27T00:00:00\",\"2021-03-27T00:00:00\",\"2021-03-28T00:00:00\",\"2021-03-28T00:00:00\",\"2021-03-28T00:00:00\",\"2021-03-28T00:00:00\",\"2021-03-28T00:00:00\",\"2021-03-29T00:00:00\",\"2021-03-29T00:00:00\",\"2021-03-29T00:00:00\",\"2021-03-29T00:00:00\",\"2021-03-30T00:00:00\",\"2021-03-30T00:00:00\",\"2021-03-30T00:00:00\",\"2021-03-30T00:00:00\",\"2021-03-31T00:00:00\",\"2021-03-31T00:00:00\",\"2021-04-01T00:00:00\",\"2021-04-01T00:00:00\",\"2021-04-01T00:00:00\",\"2021-04-01T00:00:00\",\"2021-04-01T00:00:00\",\"2021-04-02T00:00:00\",\"2021-04-02T00:00:00\",\"2021-04-02T00:00:00\",\"2021-04-02T00:00:00\",\"2021-04-03T00:00:00\",\"2021-04-03T00:00:00\",\"2021-04-03T00:00:00\",\"2021-04-03T00:00:00\",\"2021-04-04T00:00:00\",\"2021-04-04T00:00:00\",\"2021-04-04T00:00:00\",\"2021-04-04T00:00:00\",\"2021-04-04T00:00:00\",\"2021-04-05T00:00:00\",\"2021-04-05T00:00:00\",\"2021-04-05T00:00:00\",\"2021-04-06T00:00:00\",\"2021-04-06T00:00:00\",\"2021-04-06T00:00:00\",\"2021-04-06T00:00:00\",\"2021-04-07T00:00:00\",\"2021-04-07T00:00:00\",\"2021-04-07T00:00:00\",\"2021-04-07T00:00:00\",\"2021-04-08T00:00:00\",\"2021-04-08T00:00:00\",\"2021-04-08T00:00:00\",\"2021-04-08T00:00:00\",\"2021-04-08T00:00:00\",\"2021-04-08T00:00:00\",\"2021-04-09T00:00:00\",\"2021-04-09T00:00:00\",\"2021-04-09T00:00:00\",\"2021-04-09T00:00:00\",\"2021-04-10T00:00:00\",\"2021-04-10T00:00:00\",\"2021-04-10T00:00:00\",\"2021-04-10T00:00:00\",\"2021-04-10T00:00:00\",\"2021-04-11T00:00:00\",\"2021-04-11T00:00:00\",\"2021-04-11T00:00:00\",\"2021-04-12T00:00:00\",\"2021-04-12T00:00:00\",\"2021-04-12T00:00:00\",\"2021-04-12T00:00:00\",\"2021-04-12T00:00:00\",\"2021-04-13T00:00:00\",\"2021-04-13T00:00:00\",\"2021-04-13T00:00:00\",\"2021-04-13T00:00:00\",\"2021-04-14T00:00:00\",\"2021-04-14T00:00:00\",\"2021-04-14T00:00:00\",\"2021-04-14T00:00:00\",\"2021-04-14T00:00:00\",\"2021-04-15T00:00:00\",\"2021-04-15T00:00:00\",\"2021-04-15T00:00:00\",\"2021-04-15T00:00:00\",\"2021-04-15T00:00:00\",\"2021-04-15T00:00:00\",\"2021-04-16T00:00:00\",\"2021-04-16T00:00:00\",\"2021-04-16T00:00:00\",\"2021-04-16T00:00:00\",\"2021-04-17T00:00:00\",\"2021-04-17T00:00:00\",\"2021-04-17T00:00:00\",\"2021-04-17T00:00:00\",\"2021-04-18T00:00:00\",\"2021-04-18T00:00:00\",\"2021-04-18T00:00:00\",\"2021-04-19T00:00:00\",\"2021-04-19T00:00:00\",\"2021-04-19T00:00:00\",\"2021-04-19T00:00:00\",\"2021-04-20T00:00:00\",\"2021-04-20T00:00:00\",\"2021-04-20T00:00:00\",\"2021-04-20T00:00:00\",\"2021-04-21T00:00:00\",\"2021-04-21T00:00:00\",\"2021-04-21T00:00:00\",\"2021-04-22T00:00:00\",\"2021-04-22T00:00:00\",\"2021-04-22T00:00:00\",\"2021-04-23T00:00:00\",\"2021-04-23T00:00:00\",\"2021-04-24T00:00:00\",\"2021-04-24T00:00:00\",\"2021-04-24T00:00:00\",\"2021-04-25T00:00:00\",\"2021-04-25T00:00:00\",\"2021-04-25T00:00:00\",\"2021-04-25T00:00:00\",\"2021-04-26T00:00:00\",\"2021-04-26T00:00:00\",\"2021-04-26T00:00:00\",\"2021-04-26T00:00:00\",\"2021-04-26T00:00:00\",\"2021-04-27T00:00:00\",\"2021-04-27T00:00:00\",\"2021-04-27T00:00:00\",\"2021-04-27T00:00:00\",\"2021-04-28T00:00:00\",\"2021-04-28T00:00:00\",\"2021-04-28T00:00:00\",\"2021-04-28T00:00:00\",\"2021-04-29T00:00:00\",\"2021-04-29T00:00:00\",\"2021-04-30T00:00:00\",\"2021-04-30T00:00:00\",\"2021-05-01T00:00:00\",\"2021-05-01T00:00:00\",\"2021-05-01T00:00:00\",\"2021-05-01T00:00:00\",\"2021-05-02T00:00:00\",\"2021-05-02T00:00:00\",\"2021-05-02T00:00:00\",\"2021-05-03T00:00:00\",\"2021-05-03T00:00:00\",\"2021-05-03T00:00:00\",\"2021-05-04T00:00:00\",\"2021-05-04T00:00:00\",\"2021-05-04T00:00:00\",\"2021-05-04T00:00:00\",\"2021-05-05T00:00:00\",\"2021-05-05T00:00:00\",\"2021-05-05T00:00:00\",\"2021-05-05T00:00:00\",\"2021-05-06T00:00:00\",\"2021-05-06T00:00:00\",\"2021-05-06T00:00:00\",\"2021-05-06T00:00:00\",\"2021-05-07T00:00:00\",\"2021-05-07T00:00:00\",\"2021-05-07T00:00:00\",\"2021-05-08T00:00:00\",\"2021-05-08T00:00:00\",\"2021-05-08T00:00:00\",\"2021-05-08T00:00:00\",\"2021-05-09T00:00:00\",\"2021-05-09T00:00:00\",\"2021-05-09T00:00:00\",\"2021-05-09T00:00:00\",\"2021-05-10T00:00:00\",\"2021-05-10T00:00:00\",\"2021-05-10T00:00:00\",\"2021-05-10T00:00:00\",\"2021-05-11T00:00:00\",\"2021-05-11T00:00:00\",\"2021-05-11T00:00:00\",\"2021-05-11T00:00:00\",\"2021-05-11T00:00:00\",\"2021-05-12T00:00:00\",\"2021-05-12T00:00:00\",\"2021-05-12T00:00:00\",\"2021-05-12T00:00:00\",\"2021-05-13T00:00:00\",\"2021-05-13T00:00:00\",\"2021-05-13T00:00:00\",\"2021-05-13T00:00:00\",\"2021-05-14T00:00:00\",\"2021-05-14T00:00:00\",\"2021-05-14T00:00:00\",\"2021-05-15T00:00:00\",\"2021-05-15T00:00:00\",\"2021-05-15T00:00:00\",\"2021-05-15T00:00:00\",\"2021-05-16T00:00:00\",\"2021-05-16T00:00:00\",\"2021-05-16T00:00:00\",\"2021-05-17T00:00:00\",\"2021-05-17T00:00:00\",\"2021-05-17T00:00:00\",\"2021-05-18T00:00:00\",\"2021-05-18T00:00:00\",\"2021-05-18T00:00:00\",\"2021-05-18T00:00:00\",\"2021-05-19T00:00:00\",\"2021-05-19T00:00:00\",\"2021-05-19T00:00:00\",\"2021-05-19T00:00:00\",\"2021-05-20T00:00:00\",\"2021-05-20T00:00:00\",\"2021-05-20T00:00:00\",\"2021-05-21T00:00:00\",\"2021-05-21T00:00:00\",\"2021-05-21T00:00:00\",\"2021-05-22T00:00:00\",\"2021-05-22T00:00:00\",\"2021-05-22T00:00:00\",\"2021-05-23T00:00:00\",\"2021-05-23T00:00:00\",\"2021-05-23T00:00:00\",\"2021-05-24T00:00:00\",\"2021-05-24T00:00:00\",\"2021-05-24T00:00:00\",\"2021-05-25T00:00:00\",\"2021-05-25T00:00:00\",\"2021-05-25T00:00:00\",\"2021-05-25T00:00:00\",\"2021-05-26T00:00:00\",\"2021-05-26T00:00:00\",\"2021-05-26T00:00:00\",\"2021-05-27T00:00:00\",\"2021-05-27T00:00:00\",\"2021-05-27T00:00:00\",\"2021-05-27T00:00:00\",\"2021-05-28T00:00:00\",\"2021-05-28T00:00:00\",\"2021-05-28T00:00:00\",\"2021-05-28T00:00:00\",\"2021-05-29T00:00:00\",\"2021-05-29T00:00:00\",\"2021-05-29T00:00:00\",\"2021-05-30T00:00:00\",\"2021-05-30T00:00:00\",\"2021-05-30T00:00:00\",\"2021-05-31T00:00:00\",\"2021-05-31T00:00:00\",\"2021-05-31T00:00:00\"],\"xaxis\":\"x\",\"y\":[272,272,272,272,226,226,189,189,189,189,189,102,102,102,102,90,90,90,90,54,54,54,54,54,191,191,191,191,267,267,267,267,267,194,194,194,194,219,219,219,227,227,227,227,243,243,243,243,187,187,187,187,107,107,107,583,583,583,583,465,465,465,465,465,443,443,443,443,443,470,470,470,470,470,470,476,476,476,476,476,476,344,344,344,344,344,291,291,291,291,291,291,351,351,351,351,351,351,352,352,352,249,249,249,249,249,249,234,234,234,220,220,220,220,220,230,230,230,230,230,247,247,247,247,247,216,216,216,216,216,199,199,199,199,205,205,205,205,253,253,253,253,253,297,297,297,297,211,211,211,211,211,227,227,227,227,227,237,237,237,237,237,320,320,320,320,320,334,334,334,334,334,322,322,322,322,322,283,283,283,283,230,230,230,230,230,230,154,154,154,154,180,180,180,180,180,168,168,168,168,168,123,123,123,123,123,201,201,201,201,243,243,243,243,243,185,185,185,185,185,220,220,220,220,193,193,193,193,193,149,149,149,149,143,143,143,143,143,167,167,167,167,167,167,177,177,177,177,177,159,159,159,159,159,115,115,115,115,115,113,113,113,113,113,100,100,100,100,100,97,97,97,97,97,110,110,110,110,89,89,89,89,89,85,85,85,85,56,56,56,80,80,80,80,86,86,86,86,86,70,70,70,70,70,115,115,115,115,115,115,109,109,109,110,110,110,110,68,68,68,68,76,76,76,76,76,93,93,93,93,70,70,70,70,71,71,71,71,80,80,80,80,65,65,65,65,65,69,69,69,69,55,55,55,55,55,55,47,47,47,47,51,51,51,59,59,59,59,69,69,69,71,71,71,58,58,58,58,58,53,53,53,53,67,67,67,67,67,92,92,92,75,75,75,75,62,62,62,45,45,45,59,59,59,59,61,61,61,61,61,61,61,99,99,99,104,104,104,104,104,79,79,79,79,62,62,62,62,62,65,65,65,65,55,55,55,55,55,63,63,63,63,63,63,51,51,51,51,66,66,66,66,66,61,61,61,61,61,68,68,68,68,56,56,56,56,56,62,62,62,62,49,49,49,33,33,33,33,33,33,57,57,57,57,57,71,71,71,71,57,57,57,57,83,83,83,60,60,60,60,60,57,57,57,57,57,41,41,41,41,43,43,43,43,48,48,48,48,77,77,77,40,40,40,56,56,56,56,69,69,69,54,54,54,54,64,64,64,60,60,60,60,60,61,61,61,61,56,56,56,56,56,65,65,65,65,65,64,64,64,64,64,72,72,72,72,79,79,79,79,98,98,98,98,79,79,79,79,56,56,56,56,52,52,52,51,51,51,56,56,56,68,68,68,68,52,52,52,60,60,60,59,59,59,59,59,61,61,61,58,58,58,58,91,91,91,91,91,70,70,70,70,70,97,97,97,260,260,260,260,637,637,637,637,501,501,501,501,244,244,244,244,164,164,164,164,164,189,189,189,189,178,178,178,178,178,128,128,128,128,145,145,145,145,118,118,94,94,94,94,94,74,74,74,74,87,87,87,87,118,118,118,118,118,83,83,83,95,95,95,95,90,90,90,90,98,98,98,98,98,98,94,94,94,94,106,106,106,106,106,94,94,94,88,88,88,88,88,102,102,102,102,96,96,96,96,96,60,60,60,60,60,60,49,49,49,49,74,74,74,74,72,72,72,91,91,91,91,69,69,69,69,65,65,65,70,70,70,73,73,65,65,65,72,72,72,72,51,51,51,51,51,36,36,36,36,66,66,66,66,39,39,41,41,69,69,69,69,74,74,74,62,62,62,36,36,36,36,48,48,48,48,46,46,46,46,46,46,46,51,51,51,51,80,80,80,80,55,55,55,55,52,52,52,52,52,57,57,57,57,50,50,50,50,33,33,33,54,54,54,54,50,50,50,46,46,46,54,54,54,54,57,57,57,57,53,53,53,41,41,41,31,31,31,34,34,34,28,28,28,27,27,27,27,24,24,24,37,37,37,37,31,31,31,31,53,53,53,65,65,65,14,14,14],\"yaxis\":\"y\",\"type\":\"scattergl\"},{\"hovertemplate\":\"install_country_group=Asia<br>event_date=%{x}<br>install_user_count=%{y}<extra></extra>\",\"legendgroup\":\"Asia\",\"line\":{\"color\":\"#00cc96\",\"dash\":\"solid\"},\"marker\":{\"symbol\":\"circle\"},\"mode\":\"lines\",\"name\":\"Asia\",\"showlegend\":true,\"x\":[\"2020-10-28T00:00:00\",\"2020-10-28T00:00:00\",\"2020-10-28T00:00:00\",\"2020-10-28T00:00:00\",\"2020-10-29T00:00:00\",\"2020-10-29T00:00:00\",\"2020-10-30T00:00:00\",\"2020-10-30T00:00:00\",\"2020-10-30T00:00:00\",\"2020-10-30T00:00:00\",\"2020-10-30T00:00:00\",\"2020-10-31T00:00:00\",\"2020-10-31T00:00:00\",\"2020-10-31T00:00:00\",\"2020-10-31T00:00:00\",\"2020-11-01T00:00:00\",\"2020-11-01T00:00:00\",\"2020-11-01T00:00:00\",\"2020-11-01T00:00:00\",\"2020-11-02T00:00:00\",\"2020-11-02T00:00:00\",\"2020-11-02T00:00:00\",\"2020-11-02T00:00:00\",\"2020-11-02T00:00:00\",\"2020-11-03T00:00:00\",\"2020-11-03T00:00:00\",\"2020-11-03T00:00:00\",\"2020-11-03T00:00:00\",\"2020-11-04T00:00:00\",\"2020-11-04T00:00:00\",\"2020-11-04T00:00:00\",\"2020-11-04T00:00:00\",\"2020-11-04T00:00:00\",\"2020-11-05T00:00:00\",\"2020-11-05T00:00:00\",\"2020-11-05T00:00:00\",\"2020-11-05T00:00:00\",\"2020-11-06T00:00:00\",\"2020-11-06T00:00:00\",\"2020-11-06T00:00:00\",\"2020-11-07T00:00:00\",\"2020-11-07T00:00:00\",\"2020-11-07T00:00:00\",\"2020-11-07T00:00:00\",\"2020-11-08T00:00:00\",\"2020-11-08T00:00:00\",\"2020-11-08T00:00:00\",\"2020-11-08T00:00:00\",\"2020-11-10T00:00:00\",\"2020-11-10T00:00:00\",\"2020-11-10T00:00:00\",\"2020-11-11T00:00:00\",\"2020-11-11T00:00:00\",\"2020-11-11T00:00:00\",\"2020-11-11T00:00:00\",\"2020-11-12T00:00:00\",\"2020-11-12T00:00:00\",\"2020-11-12T00:00:00\",\"2020-11-12T00:00:00\",\"2020-11-12T00:00:00\",\"2020-11-13T00:00:00\",\"2020-11-13T00:00:00\",\"2020-11-13T00:00:00\",\"2020-11-13T00:00:00\",\"2020-11-13T00:00:00\",\"2020-11-14T00:00:00\",\"2020-11-14T00:00:00\",\"2020-11-14T00:00:00\",\"2020-11-14T00:00:00\",\"2020-11-14T00:00:00\",\"2020-11-14T00:00:00\",\"2020-11-15T00:00:00\",\"2020-11-15T00:00:00\",\"2020-11-15T00:00:00\",\"2020-11-15T00:00:00\",\"2020-11-15T00:00:00\",\"2020-11-15T00:00:00\",\"2020-11-16T00:00:00\",\"2020-11-16T00:00:00\",\"2020-11-16T00:00:00\",\"2020-11-16T00:00:00\",\"2020-11-16T00:00:00\",\"2020-11-17T00:00:00\",\"2020-11-17T00:00:00\",\"2020-11-17T00:00:00\",\"2020-11-17T00:00:00\",\"2020-11-17T00:00:00\",\"2020-11-17T00:00:00\",\"2020-11-18T00:00:00\",\"2020-11-18T00:00:00\",\"2020-11-18T00:00:00\",\"2020-11-18T00:00:00\",\"2020-11-18T00:00:00\",\"2020-11-18T00:00:00\",\"2020-11-19T00:00:00\",\"2020-11-19T00:00:00\",\"2020-11-19T00:00:00\",\"2020-11-20T00:00:00\",\"2020-11-20T00:00:00\",\"2020-11-20T00:00:00\",\"2020-11-20T00:00:00\",\"2020-11-20T00:00:00\",\"2020-11-20T00:00:00\",\"2020-11-21T00:00:00\",\"2020-11-21T00:00:00\",\"2020-11-21T00:00:00\",\"2020-11-22T00:00:00\",\"2020-11-22T00:00:00\",\"2020-11-22T00:00:00\",\"2020-11-22T00:00:00\",\"2020-11-22T00:00:00\",\"2020-11-23T00:00:00\",\"2020-11-23T00:00:00\",\"2020-11-23T00:00:00\",\"2020-11-23T00:00:00\",\"2020-11-23T00:00:00\",\"2020-11-24T00:00:00\",\"2020-11-24T00:00:00\",\"2020-11-24T00:00:00\",\"2020-11-24T00:00:00\",\"2020-11-24T00:00:00\",\"2020-11-25T00:00:00\",\"2020-11-25T00:00:00\",\"2020-11-25T00:00:00\",\"2020-11-25T00:00:00\",\"2020-11-25T00:00:00\",\"2020-11-26T00:00:00\",\"2020-11-26T00:00:00\",\"2020-11-26T00:00:00\",\"2020-11-26T00:00:00\",\"2020-11-27T00:00:00\",\"2020-11-27T00:00:00\",\"2020-11-27T00:00:00\",\"2020-11-27T00:00:00\",\"2020-11-28T00:00:00\",\"2020-11-28T00:00:00\",\"2020-11-28T00:00:00\",\"2020-11-28T00:00:00\",\"2020-11-28T00:00:00\",\"2020-11-29T00:00:00\",\"2020-11-29T00:00:00\",\"2020-11-29T00:00:00\",\"2020-11-29T00:00:00\",\"2020-11-30T00:00:00\",\"2020-11-30T00:00:00\",\"2020-11-30T00:00:00\",\"2020-11-30T00:00:00\",\"2020-11-30T00:00:00\",\"2020-12-01T00:00:00\",\"2020-12-01T00:00:00\",\"2020-12-01T00:00:00\",\"2020-12-01T00:00:00\",\"2020-12-01T00:00:00\",\"2020-12-02T00:00:00\",\"2020-12-02T00:00:00\",\"2020-12-02T00:00:00\",\"2020-12-02T00:00:00\",\"2020-12-02T00:00:00\",\"2020-12-03T00:00:00\",\"2020-12-03T00:00:00\",\"2020-12-03T00:00:00\",\"2020-12-03T00:00:00\",\"2020-12-03T00:00:00\",\"2020-12-04T00:00:00\",\"2020-12-04T00:00:00\",\"2020-12-04T00:00:00\",\"2020-12-04T00:00:00\",\"2020-12-04T00:00:00\",\"2020-12-05T00:00:00\",\"2020-12-05T00:00:00\",\"2020-12-05T00:00:00\",\"2020-12-05T00:00:00\",\"2020-12-05T00:00:00\",\"2020-12-06T00:00:00\",\"2020-12-06T00:00:00\",\"2020-12-06T00:00:00\",\"2020-12-06T00:00:00\",\"2020-12-07T00:00:00\",\"2020-12-07T00:00:00\",\"2020-12-07T00:00:00\",\"2020-12-07T00:00:00\",\"2020-12-07T00:00:00\",\"2020-12-07T00:00:00\",\"2020-12-08T00:00:00\",\"2020-12-08T00:00:00\",\"2020-12-08T00:00:00\",\"2020-12-08T00:00:00\",\"2020-12-09T00:00:00\",\"2020-12-09T00:00:00\",\"2020-12-09T00:00:00\",\"2020-12-09T00:00:00\",\"2020-12-09T00:00:00\",\"2020-12-10T00:00:00\",\"2020-12-10T00:00:00\",\"2020-12-10T00:00:00\",\"2020-12-10T00:00:00\",\"2020-12-10T00:00:00\",\"2020-12-11T00:00:00\",\"2020-12-11T00:00:00\",\"2020-12-11T00:00:00\",\"2020-12-11T00:00:00\",\"2020-12-11T00:00:00\",\"2020-12-12T00:00:00\",\"2020-12-12T00:00:00\",\"2020-12-12T00:00:00\",\"2020-12-12T00:00:00\",\"2020-12-13T00:00:00\",\"2020-12-13T00:00:00\",\"2020-12-13T00:00:00\",\"2020-12-13T00:00:00\",\"2020-12-13T00:00:00\",\"2020-12-14T00:00:00\",\"2020-12-14T00:00:00\",\"2020-12-14T00:00:00\",\"2020-12-14T00:00:00\",\"2020-12-14T00:00:00\",\"2020-12-15T00:00:00\",\"2020-12-15T00:00:00\",\"2020-12-15T00:00:00\",\"2020-12-15T00:00:00\",\"2020-12-16T00:00:00\",\"2020-12-16T00:00:00\",\"2020-12-16T00:00:00\",\"2020-12-16T00:00:00\",\"2020-12-16T00:00:00\",\"2020-12-17T00:00:00\",\"2020-12-17T00:00:00\",\"2020-12-17T00:00:00\",\"2020-12-17T00:00:00\",\"2020-12-18T00:00:00\",\"2020-12-18T00:00:00\",\"2020-12-18T00:00:00\",\"2020-12-18T00:00:00\",\"2020-12-18T00:00:00\",\"2020-12-19T00:00:00\",\"2020-12-19T00:00:00\",\"2020-12-19T00:00:00\",\"2020-12-19T00:00:00\",\"2020-12-19T00:00:00\",\"2020-12-19T00:00:00\",\"2020-12-20T00:00:00\",\"2020-12-20T00:00:00\",\"2020-12-20T00:00:00\",\"2020-12-20T00:00:00\",\"2020-12-20T00:00:00\",\"2020-12-21T00:00:00\",\"2020-12-21T00:00:00\",\"2020-12-21T00:00:00\",\"2020-12-21T00:00:00\",\"2020-12-21T00:00:00\",\"2020-12-22T00:00:00\",\"2020-12-22T00:00:00\",\"2020-12-22T00:00:00\",\"2020-12-22T00:00:00\",\"2020-12-22T00:00:00\",\"2020-12-23T00:00:00\",\"2020-12-23T00:00:00\",\"2020-12-23T00:00:00\",\"2020-12-23T00:00:00\",\"2020-12-23T00:00:00\",\"2020-12-24T00:00:00\",\"2020-12-24T00:00:00\",\"2020-12-24T00:00:00\",\"2020-12-24T00:00:00\",\"2020-12-24T00:00:00\",\"2020-12-25T00:00:00\",\"2020-12-25T00:00:00\",\"2020-12-25T00:00:00\",\"2020-12-25T00:00:00\",\"2020-12-25T00:00:00\",\"2020-12-26T00:00:00\",\"2020-12-26T00:00:00\",\"2020-12-26T00:00:00\",\"2020-12-26T00:00:00\",\"2020-12-27T00:00:00\",\"2020-12-27T00:00:00\",\"2020-12-27T00:00:00\",\"2020-12-27T00:00:00\",\"2020-12-27T00:00:00\",\"2020-12-28T00:00:00\",\"2020-12-28T00:00:00\",\"2020-12-28T00:00:00\",\"2020-12-28T00:00:00\",\"2020-12-29T00:00:00\",\"2020-12-29T00:00:00\",\"2020-12-29T00:00:00\",\"2020-12-30T00:00:00\",\"2020-12-30T00:00:00\",\"2020-12-30T00:00:00\",\"2020-12-30T00:00:00\",\"2020-12-31T00:00:00\",\"2020-12-31T00:00:00\",\"2020-12-31T00:00:00\",\"2020-12-31T00:00:00\",\"2020-12-31T00:00:00\",\"2021-01-01T00:00:00\",\"2021-01-01T00:00:00\",\"2021-01-01T00:00:00\",\"2021-01-01T00:00:00\",\"2021-01-01T00:00:00\",\"2021-01-02T00:00:00\",\"2021-01-02T00:00:00\",\"2021-01-02T00:00:00\",\"2021-01-02T00:00:00\",\"2021-01-02T00:00:00\",\"2021-01-02T00:00:00\",\"2021-01-03T00:00:00\",\"2021-01-03T00:00:00\",\"2021-01-03T00:00:00\",\"2021-01-04T00:00:00\",\"2021-01-04T00:00:00\",\"2021-01-04T00:00:00\",\"2021-01-04T00:00:00\",\"2021-01-05T00:00:00\",\"2021-01-05T00:00:00\",\"2021-01-05T00:00:00\",\"2021-01-05T00:00:00\",\"2021-01-06T00:00:00\",\"2021-01-06T00:00:00\",\"2021-01-06T00:00:00\",\"2021-01-06T00:00:00\",\"2021-01-06T00:00:00\",\"2021-01-07T00:00:00\",\"2021-01-07T00:00:00\",\"2021-01-07T00:00:00\",\"2021-01-07T00:00:00\",\"2021-01-08T00:00:00\",\"2021-01-08T00:00:00\",\"2021-01-08T00:00:00\",\"2021-01-08T00:00:00\",\"2021-01-09T00:00:00\",\"2021-01-09T00:00:00\",\"2021-01-09T00:00:00\",\"2021-01-09T00:00:00\",\"2021-01-10T00:00:00\",\"2021-01-10T00:00:00\",\"2021-01-10T00:00:00\",\"2021-01-10T00:00:00\",\"2021-01-11T00:00:00\",\"2021-01-11T00:00:00\",\"2021-01-11T00:00:00\",\"2021-01-11T00:00:00\",\"2021-01-11T00:00:00\",\"2021-01-12T00:00:00\",\"2021-01-12T00:00:00\",\"2021-01-12T00:00:00\",\"2021-01-12T00:00:00\",\"2021-01-13T00:00:00\",\"2021-01-13T00:00:00\",\"2021-01-13T00:00:00\",\"2021-01-13T00:00:00\",\"2021-01-13T00:00:00\",\"2021-01-13T00:00:00\",\"2021-01-14T00:00:00\",\"2021-01-14T00:00:00\",\"2021-01-14T00:00:00\",\"2021-01-14T00:00:00\",\"2021-01-15T00:00:00\",\"2021-01-15T00:00:00\",\"2021-01-15T00:00:00\",\"2021-01-16T00:00:00\",\"2021-01-16T00:00:00\",\"2021-01-16T00:00:00\",\"2021-01-16T00:00:00\",\"2021-01-17T00:00:00\",\"2021-01-17T00:00:00\",\"2021-01-17T00:00:00\",\"2021-01-18T00:00:00\",\"2021-01-18T00:00:00\",\"2021-01-18T00:00:00\",\"2021-01-19T00:00:00\",\"2021-01-19T00:00:00\",\"2021-01-19T00:00:00\",\"2021-01-19T00:00:00\",\"2021-01-19T00:00:00\",\"2021-01-20T00:00:00\",\"2021-01-20T00:00:00\",\"2021-01-20T00:00:00\",\"2021-01-20T00:00:00\",\"2021-01-21T00:00:00\",\"2021-01-21T00:00:00\",\"2021-01-21T00:00:00\",\"2021-01-21T00:00:00\",\"2021-01-21T00:00:00\",\"2021-01-22T00:00:00\",\"2021-01-22T00:00:00\",\"2021-01-22T00:00:00\",\"2021-01-23T00:00:00\",\"2021-01-23T00:00:00\",\"2021-01-23T00:00:00\",\"2021-01-23T00:00:00\",\"2021-01-24T00:00:00\",\"2021-01-24T00:00:00\",\"2021-01-24T00:00:00\",\"2021-01-25T00:00:00\",\"2021-01-25T00:00:00\",\"2021-01-25T00:00:00\",\"2021-01-26T00:00:00\",\"2021-01-26T00:00:00\",\"2021-01-26T00:00:00\",\"2021-01-26T00:00:00\",\"2021-01-27T00:00:00\",\"2021-01-27T00:00:00\",\"2021-01-27T00:00:00\",\"2021-01-27T00:00:00\",\"2021-01-28T00:00:00\",\"2021-01-28T00:00:00\",\"2021-01-28T00:00:00\",\"2021-01-29T00:00:00\",\"2021-01-29T00:00:00\",\"2021-01-29T00:00:00\",\"2021-01-30T00:00:00\",\"2021-01-30T00:00:00\",\"2021-01-30T00:00:00\",\"2021-01-30T00:00:00\",\"2021-01-30T00:00:00\",\"2021-01-31T00:00:00\",\"2021-01-31T00:00:00\",\"2021-01-31T00:00:00\",\"2021-01-31T00:00:00\",\"2021-02-01T00:00:00\",\"2021-02-01T00:00:00\",\"2021-02-01T00:00:00\",\"2021-02-01T00:00:00\",\"2021-02-01T00:00:00\",\"2021-02-02T00:00:00\",\"2021-02-02T00:00:00\",\"2021-02-02T00:00:00\",\"2021-02-02T00:00:00\",\"2021-02-03T00:00:00\",\"2021-02-03T00:00:00\",\"2021-02-03T00:00:00\",\"2021-02-03T00:00:00\",\"2021-02-03T00:00:00\",\"2021-02-04T00:00:00\",\"2021-02-04T00:00:00\",\"2021-02-04T00:00:00\",\"2021-02-04T00:00:00\",\"2021-02-04T00:00:00\",\"2021-02-04T00:00:00\",\"2021-02-05T00:00:00\",\"2021-02-05T00:00:00\",\"2021-02-05T00:00:00\",\"2021-02-05T00:00:00\",\"2021-02-06T00:00:00\",\"2021-02-06T00:00:00\",\"2021-02-06T00:00:00\",\"2021-02-06T00:00:00\",\"2021-02-06T00:00:00\",\"2021-02-07T00:00:00\",\"2021-02-07T00:00:00\",\"2021-02-07T00:00:00\",\"2021-02-07T00:00:00\",\"2021-02-07T00:00:00\",\"2021-02-08T00:00:00\",\"2021-02-08T00:00:00\",\"2021-02-08T00:00:00\",\"2021-02-08T00:00:00\",\"2021-02-09T00:00:00\",\"2021-02-09T00:00:00\",\"2021-02-09T00:00:00\",\"2021-02-09T00:00:00\",\"2021-02-09T00:00:00\",\"2021-02-10T00:00:00\",\"2021-02-10T00:00:00\",\"2021-02-10T00:00:00\",\"2021-02-10T00:00:00\",\"2021-02-11T00:00:00\",\"2021-02-11T00:00:00\",\"2021-02-11T00:00:00\",\"2021-02-12T00:00:00\",\"2021-02-12T00:00:00\",\"2021-02-12T00:00:00\",\"2021-02-12T00:00:00\",\"2021-02-12T00:00:00\",\"2021-02-12T00:00:00\",\"2021-02-13T00:00:00\",\"2021-02-13T00:00:00\",\"2021-02-13T00:00:00\",\"2021-02-13T00:00:00\",\"2021-02-13T00:00:00\",\"2021-02-14T00:00:00\",\"2021-02-14T00:00:00\",\"2021-02-14T00:00:00\",\"2021-02-14T00:00:00\",\"2021-02-15T00:00:00\",\"2021-02-15T00:00:00\",\"2021-02-15T00:00:00\",\"2021-02-15T00:00:00\",\"2021-02-16T00:00:00\",\"2021-02-16T00:00:00\",\"2021-02-16T00:00:00\",\"2021-02-17T00:00:00\",\"2021-02-17T00:00:00\",\"2021-02-17T00:00:00\",\"2021-02-17T00:00:00\",\"2021-02-17T00:00:00\",\"2021-02-18T00:00:00\",\"2021-02-18T00:00:00\",\"2021-02-18T00:00:00\",\"2021-02-18T00:00:00\",\"2021-02-18T00:00:00\",\"2021-02-19T00:00:00\",\"2021-02-19T00:00:00\",\"2021-02-19T00:00:00\",\"2021-02-19T00:00:00\",\"2021-02-20T00:00:00\",\"2021-02-20T00:00:00\",\"2021-02-20T00:00:00\",\"2021-02-20T00:00:00\",\"2021-02-21T00:00:00\",\"2021-02-21T00:00:00\",\"2021-02-21T00:00:00\",\"2021-02-21T00:00:00\",\"2021-02-22T00:00:00\",\"2021-02-22T00:00:00\",\"2021-02-22T00:00:00\",\"2021-02-23T00:00:00\",\"2021-02-23T00:00:00\",\"2021-02-23T00:00:00\",\"2021-02-24T00:00:00\",\"2021-02-24T00:00:00\",\"2021-02-24T00:00:00\",\"2021-02-24T00:00:00\",\"2021-02-25T00:00:00\",\"2021-02-25T00:00:00\",\"2021-02-25T00:00:00\",\"2021-02-26T00:00:00\",\"2021-02-26T00:00:00\",\"2021-02-26T00:00:00\",\"2021-02-26T00:00:00\",\"2021-02-27T00:00:00\",\"2021-02-27T00:00:00\",\"2021-02-27T00:00:00\",\"2021-02-28T00:00:00\",\"2021-02-28T00:00:00\",\"2021-02-28T00:00:00\",\"2021-02-28T00:00:00\",\"2021-02-28T00:00:00\",\"2021-03-01T00:00:00\",\"2021-03-01T00:00:00\",\"2021-03-01T00:00:00\",\"2021-03-01T00:00:00\",\"2021-03-02T00:00:00\",\"2021-03-02T00:00:00\",\"2021-03-02T00:00:00\",\"2021-03-02T00:00:00\",\"2021-03-02T00:00:00\",\"2021-03-03T00:00:00\",\"2021-03-03T00:00:00\",\"2021-03-03T00:00:00\",\"2021-03-03T00:00:00\",\"2021-03-03T00:00:00\",\"2021-03-04T00:00:00\",\"2021-03-04T00:00:00\",\"2021-03-04T00:00:00\",\"2021-03-04T00:00:00\",\"2021-03-04T00:00:00\",\"2021-03-05T00:00:00\",\"2021-03-05T00:00:00\",\"2021-03-05T00:00:00\",\"2021-03-05T00:00:00\",\"2021-03-06T00:00:00\",\"2021-03-06T00:00:00\",\"2021-03-06T00:00:00\",\"2021-03-06T00:00:00\",\"2021-03-07T00:00:00\",\"2021-03-07T00:00:00\",\"2021-03-07T00:00:00\",\"2021-03-07T00:00:00\",\"2021-03-08T00:00:00\",\"2021-03-08T00:00:00\",\"2021-03-08T00:00:00\",\"2021-03-08T00:00:00\",\"2021-03-09T00:00:00\",\"2021-03-09T00:00:00\",\"2021-03-09T00:00:00\",\"2021-03-09T00:00:00\",\"2021-03-10T00:00:00\",\"2021-03-10T00:00:00\",\"2021-03-10T00:00:00\",\"2021-03-11T00:00:00\",\"2021-03-11T00:00:00\",\"2021-03-11T00:00:00\",\"2021-03-12T00:00:00\",\"2021-03-12T00:00:00\",\"2021-03-12T00:00:00\",\"2021-03-13T00:00:00\",\"2021-03-13T00:00:00\",\"2021-03-13T00:00:00\",\"2021-03-13T00:00:00\",\"2021-03-14T00:00:00\",\"2021-03-14T00:00:00\",\"2021-03-14T00:00:00\",\"2021-03-15T00:00:00\",\"2021-03-15T00:00:00\",\"2021-03-15T00:00:00\",\"2021-03-16T00:00:00\",\"2021-03-16T00:00:00\",\"2021-03-16T00:00:00\",\"2021-03-16T00:00:00\",\"2021-03-16T00:00:00\",\"2021-03-17T00:00:00\",\"2021-03-17T00:00:00\",\"2021-03-17T00:00:00\",\"2021-03-18T00:00:00\",\"2021-03-18T00:00:00\",\"2021-03-18T00:00:00\",\"2021-03-18T00:00:00\",\"2021-03-19T00:00:00\",\"2021-03-19T00:00:00\",\"2021-03-19T00:00:00\",\"2021-03-19T00:00:00\",\"2021-03-19T00:00:00\",\"2021-03-20T00:00:00\",\"2021-03-20T00:00:00\",\"2021-03-20T00:00:00\",\"2021-03-20T00:00:00\",\"2021-03-20T00:00:00\",\"2021-03-21T00:00:00\",\"2021-03-21T00:00:00\",\"2021-03-21T00:00:00\",\"2021-03-22T00:00:00\",\"2021-03-22T00:00:00\",\"2021-03-22T00:00:00\",\"2021-03-22T00:00:00\",\"2021-03-23T00:00:00\",\"2021-03-23T00:00:00\",\"2021-03-23T00:00:00\",\"2021-03-23T00:00:00\",\"2021-03-24T00:00:00\",\"2021-03-24T00:00:00\",\"2021-03-24T00:00:00\",\"2021-03-24T00:00:00\",\"2021-03-25T00:00:00\",\"2021-03-25T00:00:00\",\"2021-03-25T00:00:00\",\"2021-03-25T00:00:00\",\"2021-03-26T00:00:00\",\"2021-03-26T00:00:00\",\"2021-03-26T00:00:00\",\"2021-03-26T00:00:00\",\"2021-03-26T00:00:00\",\"2021-03-27T00:00:00\",\"2021-03-27T00:00:00\",\"2021-03-27T00:00:00\",\"2021-03-27T00:00:00\",\"2021-03-28T00:00:00\",\"2021-03-28T00:00:00\",\"2021-03-28T00:00:00\",\"2021-03-28T00:00:00\",\"2021-03-28T00:00:00\",\"2021-03-29T00:00:00\",\"2021-03-29T00:00:00\",\"2021-03-29T00:00:00\",\"2021-03-29T00:00:00\",\"2021-03-30T00:00:00\",\"2021-03-30T00:00:00\",\"2021-03-30T00:00:00\",\"2021-03-30T00:00:00\",\"2021-03-31T00:00:00\",\"2021-03-31T00:00:00\",\"2021-04-01T00:00:00\",\"2021-04-01T00:00:00\",\"2021-04-01T00:00:00\",\"2021-04-01T00:00:00\",\"2021-04-01T00:00:00\",\"2021-04-02T00:00:00\",\"2021-04-02T00:00:00\",\"2021-04-02T00:00:00\",\"2021-04-02T00:00:00\",\"2021-04-03T00:00:00\",\"2021-04-03T00:00:00\",\"2021-04-03T00:00:00\",\"2021-04-03T00:00:00\",\"2021-04-04T00:00:00\",\"2021-04-04T00:00:00\",\"2021-04-04T00:00:00\",\"2021-04-04T00:00:00\",\"2021-04-04T00:00:00\",\"2021-04-05T00:00:00\",\"2021-04-05T00:00:00\",\"2021-04-05T00:00:00\",\"2021-04-06T00:00:00\",\"2021-04-06T00:00:00\",\"2021-04-06T00:00:00\",\"2021-04-06T00:00:00\",\"2021-04-07T00:00:00\",\"2021-04-07T00:00:00\",\"2021-04-07T00:00:00\",\"2021-04-07T00:00:00\",\"2021-04-08T00:00:00\",\"2021-04-08T00:00:00\",\"2021-04-08T00:00:00\",\"2021-04-08T00:00:00\",\"2021-04-08T00:00:00\",\"2021-04-08T00:00:00\",\"2021-04-09T00:00:00\",\"2021-04-09T00:00:00\",\"2021-04-09T00:00:00\",\"2021-04-09T00:00:00\",\"2021-04-10T00:00:00\",\"2021-04-10T00:00:00\",\"2021-04-10T00:00:00\",\"2021-04-10T00:00:00\",\"2021-04-10T00:00:00\",\"2021-04-11T00:00:00\",\"2021-04-11T00:00:00\",\"2021-04-11T00:00:00\",\"2021-04-12T00:00:00\",\"2021-04-12T00:00:00\",\"2021-04-12T00:00:00\",\"2021-04-12T00:00:00\",\"2021-04-12T00:00:00\",\"2021-04-13T00:00:00\",\"2021-04-13T00:00:00\",\"2021-04-13T00:00:00\",\"2021-04-13T00:00:00\",\"2021-04-14T00:00:00\",\"2021-04-14T00:00:00\",\"2021-04-14T00:00:00\",\"2021-04-14T00:00:00\",\"2021-04-14T00:00:00\",\"2021-04-15T00:00:00\",\"2021-04-15T00:00:00\",\"2021-04-15T00:00:00\",\"2021-04-15T00:00:00\",\"2021-04-15T00:00:00\",\"2021-04-15T00:00:00\",\"2021-04-17T00:00:00\",\"2021-04-17T00:00:00\",\"2021-04-17T00:00:00\",\"2021-04-17T00:00:00\",\"2021-04-18T00:00:00\",\"2021-04-18T00:00:00\",\"2021-04-18T00:00:00\",\"2021-04-19T00:00:00\",\"2021-04-19T00:00:00\",\"2021-04-19T00:00:00\",\"2021-04-19T00:00:00\",\"2021-04-20T00:00:00\",\"2021-04-20T00:00:00\",\"2021-04-20T00:00:00\",\"2021-04-20T00:00:00\",\"2021-04-21T00:00:00\",\"2021-04-21T00:00:00\",\"2021-04-21T00:00:00\",\"2021-04-22T00:00:00\",\"2021-04-22T00:00:00\",\"2021-04-22T00:00:00\",\"2021-04-23T00:00:00\",\"2021-04-23T00:00:00\",\"2021-04-24T00:00:00\",\"2021-04-24T00:00:00\",\"2021-04-24T00:00:00\",\"2021-04-25T00:00:00\",\"2021-04-25T00:00:00\",\"2021-04-25T00:00:00\",\"2021-04-25T00:00:00\",\"2021-04-26T00:00:00\",\"2021-04-26T00:00:00\",\"2021-04-26T00:00:00\",\"2021-04-26T00:00:00\",\"2021-04-26T00:00:00\",\"2021-04-27T00:00:00\",\"2021-04-27T00:00:00\",\"2021-04-27T00:00:00\",\"2021-04-27T00:00:00\",\"2021-04-28T00:00:00\",\"2021-04-28T00:00:00\",\"2021-04-28T00:00:00\",\"2021-04-28T00:00:00\",\"2021-04-29T00:00:00\",\"2021-04-29T00:00:00\",\"2021-04-30T00:00:00\",\"2021-04-30T00:00:00\",\"2021-05-01T00:00:00\",\"2021-05-01T00:00:00\",\"2021-05-01T00:00:00\",\"2021-05-01T00:00:00\",\"2021-05-02T00:00:00\",\"2021-05-02T00:00:00\",\"2021-05-02T00:00:00\",\"2021-05-03T00:00:00\",\"2021-05-03T00:00:00\",\"2021-05-03T00:00:00\",\"2021-05-04T00:00:00\",\"2021-05-04T00:00:00\",\"2021-05-04T00:00:00\",\"2021-05-04T00:00:00\",\"2021-05-06T00:00:00\",\"2021-05-06T00:00:00\",\"2021-05-06T00:00:00\",\"2021-05-06T00:00:00\",\"2021-05-07T00:00:00\",\"2021-05-07T00:00:00\",\"2021-05-07T00:00:00\",\"2021-05-08T00:00:00\",\"2021-05-08T00:00:00\",\"2021-05-08T00:00:00\",\"2021-05-08T00:00:00\",\"2021-05-09T00:00:00\",\"2021-05-09T00:00:00\",\"2021-05-09T00:00:00\",\"2021-05-09T00:00:00\",\"2021-05-10T00:00:00\",\"2021-05-10T00:00:00\",\"2021-05-10T00:00:00\",\"2021-05-10T00:00:00\",\"2021-05-11T00:00:00\",\"2021-05-11T00:00:00\",\"2021-05-11T00:00:00\",\"2021-05-11T00:00:00\",\"2021-05-11T00:00:00\",\"2021-05-12T00:00:00\",\"2021-05-12T00:00:00\",\"2021-05-12T00:00:00\",\"2021-05-12T00:00:00\",\"2021-05-13T00:00:00\",\"2021-05-13T00:00:00\",\"2021-05-13T00:00:00\",\"2021-05-13T00:00:00\",\"2021-05-15T00:00:00\",\"2021-05-15T00:00:00\",\"2021-05-15T00:00:00\",\"2021-05-15T00:00:00\",\"2021-05-16T00:00:00\",\"2021-05-16T00:00:00\",\"2021-05-16T00:00:00\",\"2021-05-17T00:00:00\",\"2021-05-17T00:00:00\",\"2021-05-17T00:00:00\",\"2021-05-18T00:00:00\",\"2021-05-18T00:00:00\",\"2021-05-18T00:00:00\",\"2021-05-18T00:00:00\",\"2021-05-19T00:00:00\",\"2021-05-19T00:00:00\",\"2021-05-19T00:00:00\",\"2021-05-19T00:00:00\",\"2021-05-20T00:00:00\",\"2021-05-20T00:00:00\",\"2021-05-20T00:00:00\",\"2021-05-21T00:00:00\",\"2021-05-21T00:00:00\",\"2021-05-21T00:00:00\",\"2021-05-22T00:00:00\",\"2021-05-22T00:00:00\",\"2021-05-22T00:00:00\",\"2021-05-23T00:00:00\",\"2021-05-23T00:00:00\",\"2021-05-23T00:00:00\",\"2021-05-24T00:00:00\",\"2021-05-24T00:00:00\",\"2021-05-24T00:00:00\",\"2021-05-25T00:00:00\",\"2021-05-25T00:00:00\",\"2021-05-25T00:00:00\",\"2021-05-25T00:00:00\",\"2021-05-26T00:00:00\",\"2021-05-26T00:00:00\",\"2021-05-26T00:00:00\",\"2021-05-27T00:00:00\",\"2021-05-27T00:00:00\",\"2021-05-27T00:00:00\",\"2021-05-27T00:00:00\",\"2021-05-28T00:00:00\",\"2021-05-28T00:00:00\",\"2021-05-28T00:00:00\",\"2021-05-28T00:00:00\",\"2021-05-29T00:00:00\",\"2021-05-29T00:00:00\",\"2021-05-29T00:00:00\",\"2021-05-30T00:00:00\",\"2021-05-30T00:00:00\",\"2021-05-30T00:00:00\",\"2021-05-31T00:00:00\",\"2021-05-31T00:00:00\",\"2021-05-31T00:00:00\"],\"xaxis\":\"x\",\"y\":[2,2,2,2,6,6,2,2,2,2,2,8,8,8,8,4,4,4,4,3,3,3,3,3,4,4,4,4,7,7,7,7,7,6,6,6,6,7,7,7,6,6,6,6,1,1,1,1,1,1,1,3,3,3,3,9,9,9,9,9,4,4,4,4,4,5,5,5,5,5,5,14,14,14,14,14,14,6,6,6,6,6,11,11,11,11,11,11,8,8,8,8,8,8,9,9,9,4,4,4,4,4,4,8,8,8,19,19,19,19,19,5,5,5,5,5,8,8,8,8,8,7,7,7,7,7,11,11,11,11,4,4,4,4,5,5,5,5,5,4,4,4,4,5,5,5,5,5,3,3,3,3,3,7,7,7,7,7,9,9,9,9,9,8,8,8,8,8,9,9,9,9,9,12,12,12,12,6,6,6,6,6,6,13,13,13,13,15,15,15,15,15,10,10,10,10,10,3,3,3,3,3,11,11,11,11,17,17,17,17,17,11,11,11,11,11,6,6,6,6,6,6,6,6,6,8,8,8,8,2,2,2,2,2,2,2,2,2,2,2,4,4,4,4,4,3,3,3,3,3,4,4,4,4,4,3,3,3,3,3,3,3,3,3,3,3,3,3,3,3,5,5,5,5,8,8,8,8,8,5,5,5,5,7,7,7,2,2,2,2,7,7,7,7,7,3,3,3,3,3,6,6,6,6,6,6,5,5,5,5,5,5,5,6,6,6,6,8,8,8,8,8,7,7,7,7,5,5,5,5,3,3,3,3,6,6,6,6,6,6,6,6,6,12,12,12,12,8,8,8,8,8,8,7,7,7,7,13,13,13,6,6,6,6,5,5,5,8,8,8,13,13,13,13,13,8,8,8,8,4,4,4,4,4,2,2,2,2,2,2,2,1,1,1,4,4,4,3,3,3,3,4,4,4,4,6,6,6,21,21,21,81,81,81,81,81,20,20,20,20,16,16,16,16,16,16,16,16,16,16,16,16,16,16,9,9,9,9,9,9,11,11,11,11,8,8,8,8,8,4,4,4,4,4,6,6,6,6,6,6,6,6,6,11,11,11,11,7,7,7,5,5,5,5,5,5,7,7,7,7,7,7,7,7,7,3,3,3,3,8,8,8,18,18,18,18,18,7,7,7,7,7,5,5,5,5,6,6,6,6,8,8,8,8,9,9,9,4,4,4,8,8,8,8,5,5,5,3,3,3,3,4,4,4,4,4,4,4,4,6,6,6,6,4,4,4,4,4,2,2,2,2,2,4,4,4,4,4,6,6,6,6,8,8,8,8,3,3,3,3,5,5,5,5,3,3,3,3,1,1,1,6,6,6,4,4,4,3,3,3,3,2,2,2,6,6,6,6,6,6,6,6,4,4,4,4,4,4,4,3,3,3,3,3,2,2,2,2,2,3,3,3,2,2,2,2,7,7,7,7,15,15,15,15,15,15,15,15,8,8,8,8,8,6,6,6,6,2,2,2,2,2,8,8,8,8,4,4,4,4,3,3,2,2,2,2,2,3,3,3,3,4,4,4,4,2,2,2,2,2,4,4,4,2,2,2,2,4,4,4,4,4,4,4,4,4,4,6,6,6,6,3,3,3,3,3,6,6,6,1,1,1,1,1,6,6,6,6,6,6,6,6,6,4,4,4,4,4,4,4,4,4,4,6,6,6,4,4,4,4,4,4,4,4,3,3,3,1,1,1,4,4,2,2,2,5,5,5,5,2,2,2,2,2,1,1,1,1,2,2,2,2,1,1,3,3,1,1,1,1,1,1,1,7,7,7,3,3,3,3,3,3,3,3,3,3,3,3,3,3,3,1,1,1,1,5,5,5,5,5,5,5,5,5,2,2,2,2,5,5,5,5,1,1,1,1,1,1,1,5,5,5,2,2,2,2,8,8,8,8,2,2,2,5,5,5,1,1,1,6,6,6,10,10,10,4,4,4,4,3,3,3,4,4,4,4,6,6,6,6,7,7,7,5,5,5,2,2,2],\"yaxis\":\"y\",\"type\":\"scattergl\"},{\"hovertemplate\":\"install_country_group=Other<br>event_date=%{x}<br>install_user_count=%{y}<extra></extra>\",\"legendgroup\":\"Other\",\"line\":{\"color\":\"#ab63fa\",\"dash\":\"solid\"},\"marker\":{\"symbol\":\"circle\"},\"mode\":\"lines\",\"name\":\"Other\",\"showlegend\":true,\"x\":[\"2020-10-29T00:00:00\",\"2020-10-29T00:00:00\",\"2020-10-30T00:00:00\",\"2020-10-30T00:00:00\",\"2020-10-30T00:00:00\",\"2020-10-30T00:00:00\",\"2020-10-30T00:00:00\",\"2020-10-31T00:00:00\",\"2020-10-31T00:00:00\",\"2020-10-31T00:00:00\",\"2020-10-31T00:00:00\",\"2020-11-02T00:00:00\",\"2020-11-02T00:00:00\",\"2020-11-02T00:00:00\",\"2020-11-02T00:00:00\",\"2020-11-02T00:00:00\",\"2020-11-03T00:00:00\",\"2020-11-03T00:00:00\",\"2020-11-03T00:00:00\",\"2020-11-03T00:00:00\",\"2020-11-05T00:00:00\",\"2020-11-05T00:00:00\",\"2020-11-05T00:00:00\",\"2020-11-05T00:00:00\",\"2020-11-07T00:00:00\",\"2020-11-07T00:00:00\",\"2020-11-07T00:00:00\",\"2020-11-07T00:00:00\",\"2020-11-11T00:00:00\",\"2020-11-11T00:00:00\",\"2020-11-11T00:00:00\",\"2020-11-11T00:00:00\",\"2020-11-12T00:00:00\",\"2020-11-12T00:00:00\",\"2020-11-12T00:00:00\",\"2020-11-12T00:00:00\",\"2020-11-12T00:00:00\",\"2020-11-13T00:00:00\",\"2020-11-13T00:00:00\",\"2020-11-13T00:00:00\",\"2020-11-13T00:00:00\",\"2020-11-13T00:00:00\",\"2020-11-14T00:00:00\",\"2020-11-14T00:00:00\",\"2020-11-14T00:00:00\",\"2020-11-14T00:00:00\",\"2020-11-14T00:00:00\",\"2020-11-14T00:00:00\",\"2020-11-15T00:00:00\",\"2020-11-15T00:00:00\",\"2020-11-15T00:00:00\",\"2020-11-15T00:00:00\",\"2020-11-15T00:00:00\",\"2020-11-15T00:00:00\",\"2020-11-16T00:00:00\",\"2020-11-16T00:00:00\",\"2020-11-16T00:00:00\",\"2020-11-16T00:00:00\",\"2020-11-16T00:00:00\",\"2020-11-17T00:00:00\",\"2020-11-17T00:00:00\",\"2020-11-17T00:00:00\",\"2020-11-17T00:00:00\",\"2020-11-17T00:00:00\",\"2020-11-17T00:00:00\",\"2020-11-18T00:00:00\",\"2020-11-18T00:00:00\",\"2020-11-18T00:00:00\",\"2020-11-18T00:00:00\",\"2020-11-18T00:00:00\",\"2020-11-18T00:00:00\",\"2020-11-19T00:00:00\",\"2020-11-19T00:00:00\",\"2020-11-19T00:00:00\",\"2020-11-20T00:00:00\",\"2020-11-20T00:00:00\",\"2020-11-20T00:00:00\",\"2020-11-20T00:00:00\",\"2020-11-20T00:00:00\",\"2020-11-20T00:00:00\",\"2020-11-21T00:00:00\",\"2020-11-21T00:00:00\",\"2020-11-21T00:00:00\",\"2020-11-22T00:00:00\",\"2020-11-22T00:00:00\",\"2020-11-22T00:00:00\",\"2020-11-22T00:00:00\",\"2020-11-22T00:00:00\",\"2020-11-23T00:00:00\",\"2020-11-23T00:00:00\",\"2020-11-23T00:00:00\",\"2020-11-23T00:00:00\",\"2020-11-23T00:00:00\",\"2020-11-24T00:00:00\",\"2020-11-24T00:00:00\",\"2020-11-24T00:00:00\",\"2020-11-24T00:00:00\",\"2020-11-24T00:00:00\",\"2020-11-26T00:00:00\",\"2020-11-26T00:00:00\",\"2020-11-26T00:00:00\",\"2020-11-26T00:00:00\",\"2020-11-30T00:00:00\",\"2020-11-30T00:00:00\",\"2020-11-30T00:00:00\",\"2020-11-30T00:00:00\",\"2020-11-30T00:00:00\",\"2020-12-01T00:00:00\",\"2020-12-01T00:00:00\",\"2020-12-01T00:00:00\",\"2020-12-01T00:00:00\",\"2020-12-01T00:00:00\",\"2020-12-02T00:00:00\",\"2020-12-02T00:00:00\",\"2020-12-02T00:00:00\",\"2020-12-02T00:00:00\",\"2020-12-02T00:00:00\",\"2020-12-03T00:00:00\",\"2020-12-03T00:00:00\",\"2020-12-03T00:00:00\",\"2020-12-03T00:00:00\",\"2020-12-03T00:00:00\",\"2020-12-04T00:00:00\",\"2020-12-04T00:00:00\",\"2020-12-04T00:00:00\",\"2020-12-04T00:00:00\",\"2020-12-04T00:00:00\",\"2020-12-05T00:00:00\",\"2020-12-05T00:00:00\",\"2020-12-05T00:00:00\",\"2020-12-05T00:00:00\",\"2020-12-05T00:00:00\",\"2020-12-06T00:00:00\",\"2020-12-06T00:00:00\",\"2020-12-06T00:00:00\",\"2020-12-06T00:00:00\",\"2020-12-08T00:00:00\",\"2020-12-08T00:00:00\",\"2020-12-08T00:00:00\",\"2020-12-08T00:00:00\",\"2020-12-10T00:00:00\",\"2020-12-10T00:00:00\",\"2020-12-10T00:00:00\",\"2020-12-10T00:00:00\",\"2020-12-10T00:00:00\",\"2020-12-13T00:00:00\",\"2020-12-13T00:00:00\",\"2020-12-13T00:00:00\",\"2020-12-13T00:00:00\",\"2020-12-13T00:00:00\",\"2020-12-15T00:00:00\",\"2020-12-15T00:00:00\",\"2020-12-15T00:00:00\",\"2020-12-15T00:00:00\",\"2020-12-16T00:00:00\",\"2020-12-16T00:00:00\",\"2020-12-16T00:00:00\",\"2020-12-16T00:00:00\",\"2020-12-16T00:00:00\",\"2020-12-18T00:00:00\",\"2020-12-18T00:00:00\",\"2020-12-18T00:00:00\",\"2020-12-18T00:00:00\",\"2020-12-18T00:00:00\",\"2020-12-19T00:00:00\",\"2020-12-19T00:00:00\",\"2020-12-19T00:00:00\",\"2020-12-19T00:00:00\",\"2020-12-19T00:00:00\",\"2020-12-19T00:00:00\",\"2020-12-20T00:00:00\",\"2020-12-20T00:00:00\",\"2020-12-20T00:00:00\",\"2020-12-20T00:00:00\",\"2020-12-20T00:00:00\",\"2020-12-21T00:00:00\",\"2020-12-21T00:00:00\",\"2020-12-21T00:00:00\",\"2020-12-21T00:00:00\",\"2020-12-21T00:00:00\",\"2020-12-23T00:00:00\",\"2020-12-23T00:00:00\",\"2020-12-23T00:00:00\",\"2020-12-23T00:00:00\",\"2020-12-23T00:00:00\",\"2020-12-25T00:00:00\",\"2020-12-25T00:00:00\",\"2020-12-25T00:00:00\",\"2020-12-25T00:00:00\",\"2020-12-25T00:00:00\",\"2020-12-26T00:00:00\",\"2020-12-26T00:00:00\",\"2020-12-26T00:00:00\",\"2020-12-26T00:00:00\",\"2020-12-27T00:00:00\",\"2020-12-27T00:00:00\",\"2020-12-27T00:00:00\",\"2020-12-27T00:00:00\",\"2020-12-27T00:00:00\",\"2020-12-30T00:00:00\",\"2020-12-30T00:00:00\",\"2020-12-30T00:00:00\",\"2020-12-30T00:00:00\",\"2021-01-01T00:00:00\",\"2021-01-01T00:00:00\",\"2021-01-01T00:00:00\",\"2021-01-01T00:00:00\",\"2021-01-01T00:00:00\",\"2021-01-02T00:00:00\",\"2021-01-02T00:00:00\",\"2021-01-02T00:00:00\",\"2021-01-02T00:00:00\",\"2021-01-02T00:00:00\",\"2021-01-02T00:00:00\",\"2021-01-03T00:00:00\",\"2021-01-03T00:00:00\",\"2021-01-03T00:00:00\",\"2021-01-08T00:00:00\",\"2021-01-08T00:00:00\",\"2021-01-08T00:00:00\",\"2021-01-08T00:00:00\",\"2021-01-09T00:00:00\",\"2021-01-09T00:00:00\",\"2021-01-09T00:00:00\",\"2021-01-09T00:00:00\",\"2021-01-10T00:00:00\",\"2021-01-10T00:00:00\",\"2021-01-10T00:00:00\",\"2021-01-10T00:00:00\",\"2021-01-12T00:00:00\",\"2021-01-12T00:00:00\",\"2021-01-12T00:00:00\",\"2021-01-12T00:00:00\",\"2021-01-13T00:00:00\",\"2021-01-13T00:00:00\",\"2021-01-13T00:00:00\",\"2021-01-13T00:00:00\",\"2021-01-13T00:00:00\",\"2021-01-13T00:00:00\",\"2021-01-15T00:00:00\",\"2021-01-15T00:00:00\",\"2021-01-15T00:00:00\",\"2021-01-18T00:00:00\",\"2021-01-18T00:00:00\",\"2021-01-18T00:00:00\",\"2021-01-20T00:00:00\",\"2021-01-20T00:00:00\",\"2021-01-20T00:00:00\",\"2021-01-20T00:00:00\",\"2021-01-21T00:00:00\",\"2021-01-21T00:00:00\",\"2021-01-21T00:00:00\",\"2021-01-21T00:00:00\",\"2021-01-21T00:00:00\",\"2021-01-22T00:00:00\",\"2021-01-22T00:00:00\",\"2021-01-22T00:00:00\",\"2021-01-24T00:00:00\",\"2021-01-24T00:00:00\",\"2021-01-24T00:00:00\",\"2021-01-29T00:00:00\",\"2021-01-29T00:00:00\",\"2021-01-29T00:00:00\",\"2021-01-31T00:00:00\",\"2021-01-31T00:00:00\",\"2021-01-31T00:00:00\",\"2021-01-31T00:00:00\",\"2021-02-01T00:00:00\",\"2021-02-01T00:00:00\",\"2021-02-01T00:00:00\",\"2021-02-01T00:00:00\",\"2021-02-01T00:00:00\",\"2021-02-02T00:00:00\",\"2021-02-02T00:00:00\",\"2021-02-02T00:00:00\",\"2021-02-02T00:00:00\",\"2021-02-05T00:00:00\",\"2021-02-05T00:00:00\",\"2021-02-05T00:00:00\",\"2021-02-05T00:00:00\",\"2021-02-06T00:00:00\",\"2021-02-06T00:00:00\",\"2021-02-06T00:00:00\",\"2021-02-06T00:00:00\",\"2021-02-06T00:00:00\",\"2021-02-14T00:00:00\",\"2021-02-14T00:00:00\",\"2021-02-14T00:00:00\",\"2021-02-14T00:00:00\",\"2021-02-17T00:00:00\",\"2021-02-17T00:00:00\",\"2021-02-17T00:00:00\",\"2021-02-17T00:00:00\",\"2021-02-17T00:00:00\",\"2021-02-18T00:00:00\",\"2021-02-18T00:00:00\",\"2021-02-18T00:00:00\",\"2021-02-18T00:00:00\",\"2021-02-18T00:00:00\",\"2021-02-20T00:00:00\",\"2021-02-20T00:00:00\",\"2021-02-20T00:00:00\",\"2021-02-20T00:00:00\",\"2021-02-21T00:00:00\",\"2021-02-21T00:00:00\",\"2021-02-21T00:00:00\",\"2021-02-21T00:00:00\",\"2021-02-23T00:00:00\",\"2021-02-23T00:00:00\",\"2021-02-23T00:00:00\",\"2021-02-27T00:00:00\",\"2021-02-27T00:00:00\",\"2021-02-27T00:00:00\",\"2021-03-06T00:00:00\",\"2021-03-06T00:00:00\",\"2021-03-06T00:00:00\",\"2021-03-06T00:00:00\",\"2021-03-07T00:00:00\",\"2021-03-07T00:00:00\",\"2021-03-07T00:00:00\",\"2021-03-07T00:00:00\",\"2021-03-13T00:00:00\",\"2021-03-13T00:00:00\",\"2021-03-13T00:00:00\",\"2021-03-13T00:00:00\",\"2021-03-15T00:00:00\",\"2021-03-15T00:00:00\",\"2021-03-15T00:00:00\",\"2021-03-20T00:00:00\",\"2021-03-20T00:00:00\",\"2021-03-20T00:00:00\",\"2021-03-20T00:00:00\",\"2021-03-20T00:00:00\",\"2021-03-21T00:00:00\",\"2021-03-21T00:00:00\",\"2021-03-21T00:00:00\",\"2021-03-22T00:00:00\",\"2021-03-22T00:00:00\",\"2021-03-22T00:00:00\",\"2021-03-22T00:00:00\",\"2021-03-23T00:00:00\",\"2021-03-23T00:00:00\",\"2021-03-23T00:00:00\",\"2021-03-23T00:00:00\",\"2021-04-05T00:00:00\",\"2021-04-05T00:00:00\",\"2021-04-05T00:00:00\",\"2021-04-07T00:00:00\",\"2021-04-07T00:00:00\",\"2021-04-07T00:00:00\",\"2021-04-07T00:00:00\",\"2021-04-08T00:00:00\",\"2021-04-08T00:00:00\",\"2021-04-08T00:00:00\",\"2021-04-08T00:00:00\",\"2021-04-08T00:00:00\",\"2021-04-08T00:00:00\",\"2021-04-11T00:00:00\",\"2021-04-11T00:00:00\",\"2021-04-11T00:00:00\",\"2021-04-13T00:00:00\",\"2021-04-13T00:00:00\",\"2021-04-13T00:00:00\",\"2021-04-13T00:00:00\",\"2021-04-19T00:00:00\",\"2021-04-19T00:00:00\",\"2021-04-19T00:00:00\",\"2021-04-19T00:00:00\",\"2021-04-22T00:00:00\",\"2021-04-22T00:00:00\",\"2021-04-22T00:00:00\",\"2021-04-25T00:00:00\",\"2021-04-25T00:00:00\",\"2021-04-25T00:00:00\",\"2021-04-25T00:00:00\",\"2021-04-28T00:00:00\",\"2021-04-28T00:00:00\",\"2021-04-28T00:00:00\",\"2021-04-28T00:00:00\",\"2021-05-02T00:00:00\",\"2021-05-02T00:00:00\",\"2021-05-02T00:00:00\",\"2021-05-09T00:00:00\",\"2021-05-09T00:00:00\",\"2021-05-09T00:00:00\",\"2021-05-09T00:00:00\",\"2021-05-10T00:00:00\",\"2021-05-10T00:00:00\",\"2021-05-10T00:00:00\",\"2021-05-10T00:00:00\",\"2021-05-13T00:00:00\",\"2021-05-13T00:00:00\",\"2021-05-13T00:00:00\",\"2021-05-13T00:00:00\",\"2021-05-14T00:00:00\",\"2021-05-14T00:00:00\",\"2021-05-14T00:00:00\",\"2021-05-16T00:00:00\",\"2021-05-16T00:00:00\",\"2021-05-16T00:00:00\",\"2021-05-21T00:00:00\",\"2021-05-21T00:00:00\",\"2021-05-21T00:00:00\",\"2021-05-24T00:00:00\",\"2021-05-24T00:00:00\",\"2021-05-24T00:00:00\",\"2021-05-27T00:00:00\",\"2021-05-27T00:00:00\",\"2021-05-27T00:00:00\",\"2021-05-27T00:00:00\",\"2021-05-30T00:00:00\",\"2021-05-30T00:00:00\",\"2021-05-30T00:00:00\"],\"xaxis\":\"x\",\"y\":[1,1,2,2,2,2,2,1,1,1,1,3,3,3,3,3,1,1,1,1,1,1,1,1,1,1,1,1,1,1,1,1,1,1,1,1,1,4,4,4,4,4,3,3,3,3,3,3,1,1,1,1,1,1,3,3,3,3,3,2,2,2,2,2,2,1,1,1,1,1,1,1,1,1,1,1,1,1,1,1,1,1,1,1,1,1,1,1,1,1,1,1,1,1,1,1,1,1,1,1,1,1,1,1,1,1,1,1,1,1,1,1,1,1,1,1,1,1,1,1,1,1,1,1,1,1,1,1,1,1,1,1,1,1,1,1,1,1,1,1,1,1,1,1,1,3,3,3,3,3,1,1,1,1,1,1,1,1,1,2,2,2,2,2,2,2,2,2,2,2,1,1,1,1,1,3,3,3,3,3,2,2,2,2,2,1,1,1,1,1,1,1,1,1,1,1,1,1,1,1,1,1,1,1,1,1,1,1,2,2,2,2,2,2,1,1,1,1,1,1,1,1,1,1,1,3,3,3,3,1,1,1,1,1,1,1,1,1,1,1,1,1,3,3,3,1,1,1,1,1,1,1,1,1,1,1,1,1,1,1,1,1,1,1,1,1,1,1,1,1,1,1,1,1,1,1,1,1,1,1,1,1,1,1,1,1,1,1,1,1,1,1,1,1,1,1,1,1,1,3,3,3,3,1,1,1,1,1,1,1,1,1,1,1,1,1,1,1,1,1,1,1,1,1,1,2,2,2,1,1,1,1,1,1,1,1,1,1,1,1,1,1,1,1,1,1,1,1,1,1,1,1,1,1,1,1,1,1,1,1,2,2,2,2,1,1,1,1,1,1,1,1,1,1,1,1,1,1,1,1,1,1,1,1,1,1,1,1,1,1,1,1,1,1,1,1,1,1,1,1,1,1,1,1,1,1,1,1,1,1,1,1,1],\"yaxis\":\"y\",\"type\":\"scattergl\"},{\"hovertemplate\":\"install_country_group=Europe<br>event_date=%{x}<br>install_user_count=%{y}<extra></extra>\",\"legendgroup\":\"Europe\",\"line\":{\"color\":\"#FFA15A\",\"dash\":\"solid\"},\"marker\":{\"symbol\":\"circle\"},\"mode\":\"lines\",\"name\":\"Europe\",\"showlegend\":true,\"x\":[\"2020-10-29T00:00:00\",\"2020-10-29T00:00:00\",\"2020-10-31T00:00:00\",\"2020-10-31T00:00:00\",\"2020-10-31T00:00:00\",\"2020-10-31T00:00:00\",\"2020-11-01T00:00:00\",\"2020-11-01T00:00:00\",\"2020-11-01T00:00:00\",\"2020-11-01T00:00:00\",\"2020-11-04T00:00:00\",\"2020-11-04T00:00:00\",\"2020-11-04T00:00:00\",\"2020-11-04T00:00:00\",\"2020-11-04T00:00:00\",\"2020-11-06T00:00:00\",\"2020-11-06T00:00:00\",\"2020-11-06T00:00:00\",\"2020-11-07T00:00:00\",\"2020-11-07T00:00:00\",\"2020-11-07T00:00:00\",\"2020-11-07T00:00:00\",\"2020-11-08T00:00:00\",\"2020-11-08T00:00:00\",\"2020-11-08T00:00:00\",\"2020-11-08T00:00:00\",\"2020-11-09T00:00:00\",\"2020-11-09T00:00:00\",\"2020-11-09T00:00:00\",\"2020-11-09T00:00:00\",\"2020-11-10T00:00:00\",\"2020-11-10T00:00:00\",\"2020-11-10T00:00:00\",\"2020-11-11T00:00:00\",\"2020-11-11T00:00:00\",\"2020-11-11T00:00:00\",\"2020-11-11T00:00:00\",\"2020-11-12T00:00:00\",\"2020-11-12T00:00:00\",\"2020-11-12T00:00:00\",\"2020-11-12T00:00:00\",\"2020-11-12T00:00:00\",\"2020-11-13T00:00:00\",\"2020-11-13T00:00:00\",\"2020-11-13T00:00:00\",\"2020-11-13T00:00:00\",\"2020-11-13T00:00:00\",\"2020-11-14T00:00:00\",\"2020-11-14T00:00:00\",\"2020-11-14T00:00:00\",\"2020-11-14T00:00:00\",\"2020-11-14T00:00:00\",\"2020-11-14T00:00:00\",\"2020-11-15T00:00:00\",\"2020-11-15T00:00:00\",\"2020-11-15T00:00:00\",\"2020-11-15T00:00:00\",\"2020-11-15T00:00:00\",\"2020-11-15T00:00:00\",\"2020-11-16T00:00:00\",\"2020-11-16T00:00:00\",\"2020-11-16T00:00:00\",\"2020-11-16T00:00:00\",\"2020-11-16T00:00:00\",\"2020-11-17T00:00:00\",\"2020-11-17T00:00:00\",\"2020-11-17T00:00:00\",\"2020-11-17T00:00:00\",\"2020-11-17T00:00:00\",\"2020-11-17T00:00:00\",\"2020-11-18T00:00:00\",\"2020-11-18T00:00:00\",\"2020-11-18T00:00:00\",\"2020-11-18T00:00:00\",\"2020-11-18T00:00:00\",\"2020-11-18T00:00:00\",\"2020-11-19T00:00:00\",\"2020-11-19T00:00:00\",\"2020-11-19T00:00:00\",\"2020-11-20T00:00:00\",\"2020-11-20T00:00:00\",\"2020-11-20T00:00:00\",\"2020-11-20T00:00:00\",\"2020-11-20T00:00:00\",\"2020-11-20T00:00:00\",\"2020-11-21T00:00:00\",\"2020-11-21T00:00:00\",\"2020-11-21T00:00:00\",\"2020-11-22T00:00:00\",\"2020-11-22T00:00:00\",\"2020-11-22T00:00:00\",\"2020-11-22T00:00:00\",\"2020-11-22T00:00:00\",\"2020-11-23T00:00:00\",\"2020-11-23T00:00:00\",\"2020-11-23T00:00:00\",\"2020-11-23T00:00:00\",\"2020-11-23T00:00:00\",\"2020-11-24T00:00:00\",\"2020-11-24T00:00:00\",\"2020-11-24T00:00:00\",\"2020-11-24T00:00:00\",\"2020-11-24T00:00:00\",\"2020-11-25T00:00:00\",\"2020-11-25T00:00:00\",\"2020-11-25T00:00:00\",\"2020-11-25T00:00:00\",\"2020-11-25T00:00:00\",\"2020-11-26T00:00:00\",\"2020-11-26T00:00:00\",\"2020-11-26T00:00:00\",\"2020-11-26T00:00:00\",\"2020-11-27T00:00:00\",\"2020-11-27T00:00:00\",\"2020-11-27T00:00:00\",\"2020-11-27T00:00:00\",\"2020-11-28T00:00:00\",\"2020-11-28T00:00:00\",\"2020-11-28T00:00:00\",\"2020-11-28T00:00:00\",\"2020-11-28T00:00:00\",\"2020-11-29T00:00:00\",\"2020-11-29T00:00:00\",\"2020-11-29T00:00:00\",\"2020-11-29T00:00:00\",\"2020-11-30T00:00:00\",\"2020-11-30T00:00:00\",\"2020-11-30T00:00:00\",\"2020-11-30T00:00:00\",\"2020-11-30T00:00:00\",\"2020-12-01T00:00:00\",\"2020-12-01T00:00:00\",\"2020-12-01T00:00:00\",\"2020-12-01T00:00:00\",\"2020-12-01T00:00:00\",\"2020-12-02T00:00:00\",\"2020-12-02T00:00:00\",\"2020-12-02T00:00:00\",\"2020-12-02T00:00:00\",\"2020-12-02T00:00:00\",\"2020-12-03T00:00:00\",\"2020-12-03T00:00:00\",\"2020-12-03T00:00:00\",\"2020-12-03T00:00:00\",\"2020-12-03T00:00:00\",\"2020-12-04T00:00:00\",\"2020-12-04T00:00:00\",\"2020-12-04T00:00:00\",\"2020-12-04T00:00:00\",\"2020-12-04T00:00:00\",\"2020-12-05T00:00:00\",\"2020-12-05T00:00:00\",\"2020-12-05T00:00:00\",\"2020-12-05T00:00:00\",\"2020-12-05T00:00:00\",\"2020-12-06T00:00:00\",\"2020-12-06T00:00:00\",\"2020-12-06T00:00:00\",\"2020-12-06T00:00:00\",\"2020-12-07T00:00:00\",\"2020-12-07T00:00:00\",\"2020-12-07T00:00:00\",\"2020-12-07T00:00:00\",\"2020-12-07T00:00:00\",\"2020-12-07T00:00:00\",\"2020-12-08T00:00:00\",\"2020-12-08T00:00:00\",\"2020-12-08T00:00:00\",\"2020-12-08T00:00:00\",\"2020-12-09T00:00:00\",\"2020-12-09T00:00:00\",\"2020-12-09T00:00:00\",\"2020-12-09T00:00:00\",\"2020-12-09T00:00:00\",\"2020-12-10T00:00:00\",\"2020-12-10T00:00:00\",\"2020-12-10T00:00:00\",\"2020-12-10T00:00:00\",\"2020-12-10T00:00:00\",\"2020-12-11T00:00:00\",\"2020-12-11T00:00:00\",\"2020-12-11T00:00:00\",\"2020-12-11T00:00:00\",\"2020-12-11T00:00:00\",\"2020-12-12T00:00:00\",\"2020-12-12T00:00:00\",\"2020-12-12T00:00:00\",\"2020-12-12T00:00:00\",\"2020-12-13T00:00:00\",\"2020-12-13T00:00:00\",\"2020-12-13T00:00:00\",\"2020-12-13T00:00:00\",\"2020-12-13T00:00:00\",\"2020-12-14T00:00:00\",\"2020-12-14T00:00:00\",\"2020-12-14T00:00:00\",\"2020-12-14T00:00:00\",\"2020-12-14T00:00:00\",\"2020-12-15T00:00:00\",\"2020-12-15T00:00:00\",\"2020-12-15T00:00:00\",\"2020-12-15T00:00:00\",\"2020-12-16T00:00:00\",\"2020-12-16T00:00:00\",\"2020-12-16T00:00:00\",\"2020-12-16T00:00:00\",\"2020-12-16T00:00:00\",\"2020-12-17T00:00:00\",\"2020-12-17T00:00:00\",\"2020-12-17T00:00:00\",\"2020-12-17T00:00:00\",\"2020-12-18T00:00:00\",\"2020-12-18T00:00:00\",\"2020-12-18T00:00:00\",\"2020-12-18T00:00:00\",\"2020-12-18T00:00:00\",\"2020-12-19T00:00:00\",\"2020-12-19T00:00:00\",\"2020-12-19T00:00:00\",\"2020-12-19T00:00:00\",\"2020-12-19T00:00:00\",\"2020-12-19T00:00:00\",\"2020-12-20T00:00:00\",\"2020-12-20T00:00:00\",\"2020-12-20T00:00:00\",\"2020-12-20T00:00:00\",\"2020-12-20T00:00:00\",\"2020-12-21T00:00:00\",\"2020-12-21T00:00:00\",\"2020-12-21T00:00:00\",\"2020-12-21T00:00:00\",\"2020-12-21T00:00:00\",\"2020-12-24T00:00:00\",\"2020-12-24T00:00:00\",\"2020-12-24T00:00:00\",\"2020-12-24T00:00:00\",\"2020-12-24T00:00:00\",\"2020-12-26T00:00:00\",\"2020-12-26T00:00:00\",\"2020-12-26T00:00:00\",\"2020-12-26T00:00:00\",\"2020-12-27T00:00:00\",\"2020-12-27T00:00:00\",\"2020-12-27T00:00:00\",\"2020-12-27T00:00:00\",\"2020-12-27T00:00:00\",\"2020-12-28T00:00:00\",\"2020-12-28T00:00:00\",\"2020-12-28T00:00:00\",\"2020-12-28T00:00:00\",\"2020-12-29T00:00:00\",\"2020-12-29T00:00:00\",\"2020-12-29T00:00:00\",\"2020-12-30T00:00:00\",\"2020-12-30T00:00:00\",\"2020-12-30T00:00:00\",\"2020-12-30T00:00:00\",\"2020-12-31T00:00:00\",\"2020-12-31T00:00:00\",\"2020-12-31T00:00:00\",\"2020-12-31T00:00:00\",\"2020-12-31T00:00:00\",\"2021-01-01T00:00:00\",\"2021-01-01T00:00:00\",\"2021-01-01T00:00:00\",\"2021-01-01T00:00:00\",\"2021-01-01T00:00:00\",\"2021-01-02T00:00:00\",\"2021-01-02T00:00:00\",\"2021-01-02T00:00:00\",\"2021-01-02T00:00:00\",\"2021-01-02T00:00:00\",\"2021-01-02T00:00:00\",\"2021-01-03T00:00:00\",\"2021-01-03T00:00:00\",\"2021-01-03T00:00:00\",\"2021-01-04T00:00:00\",\"2021-01-04T00:00:00\",\"2021-01-04T00:00:00\",\"2021-01-04T00:00:00\",\"2021-01-05T00:00:00\",\"2021-01-05T00:00:00\",\"2021-01-05T00:00:00\",\"2021-01-05T00:00:00\",\"2021-01-06T00:00:00\",\"2021-01-06T00:00:00\",\"2021-01-06T00:00:00\",\"2021-01-06T00:00:00\",\"2021-01-06T00:00:00\",\"2021-01-07T00:00:00\",\"2021-01-07T00:00:00\",\"2021-01-07T00:00:00\",\"2021-01-07T00:00:00\",\"2021-01-08T00:00:00\",\"2021-01-08T00:00:00\",\"2021-01-08T00:00:00\",\"2021-01-08T00:00:00\",\"2021-01-09T00:00:00\",\"2021-01-09T00:00:00\",\"2021-01-09T00:00:00\",\"2021-01-09T00:00:00\",\"2021-01-10T00:00:00\",\"2021-01-10T00:00:00\",\"2021-01-10T00:00:00\",\"2021-01-10T00:00:00\",\"2021-01-11T00:00:00\",\"2021-01-11T00:00:00\",\"2021-01-11T00:00:00\",\"2021-01-11T00:00:00\",\"2021-01-11T00:00:00\",\"2021-01-12T00:00:00\",\"2021-01-12T00:00:00\",\"2021-01-12T00:00:00\",\"2021-01-12T00:00:00\",\"2021-01-13T00:00:00\",\"2021-01-13T00:00:00\",\"2021-01-13T00:00:00\",\"2021-01-13T00:00:00\",\"2021-01-13T00:00:00\",\"2021-01-13T00:00:00\",\"2021-01-15T00:00:00\",\"2021-01-15T00:00:00\",\"2021-01-15T00:00:00\",\"2021-01-16T00:00:00\",\"2021-01-16T00:00:00\",\"2021-01-16T00:00:00\",\"2021-01-16T00:00:00\",\"2021-01-17T00:00:00\",\"2021-01-17T00:00:00\",\"2021-01-17T00:00:00\",\"2021-01-18T00:00:00\",\"2021-01-18T00:00:00\",\"2021-01-18T00:00:00\",\"2021-01-20T00:00:00\",\"2021-01-20T00:00:00\",\"2021-01-20T00:00:00\",\"2021-01-20T00:00:00\",\"2021-01-21T00:00:00\",\"2021-01-21T00:00:00\",\"2021-01-21T00:00:00\",\"2021-01-21T00:00:00\",\"2021-01-21T00:00:00\",\"2021-01-22T00:00:00\",\"2021-01-22T00:00:00\",\"2021-01-22T00:00:00\",\"2021-01-24T00:00:00\",\"2021-01-24T00:00:00\",\"2021-01-24T00:00:00\",\"2021-01-26T00:00:00\",\"2021-01-26T00:00:00\",\"2021-01-26T00:00:00\",\"2021-01-26T00:00:00\",\"2021-01-28T00:00:00\",\"2021-01-28T00:00:00\",\"2021-01-28T00:00:00\",\"2021-01-29T00:00:00\",\"2021-01-29T00:00:00\",\"2021-01-29T00:00:00\",\"2021-01-30T00:00:00\",\"2021-01-30T00:00:00\",\"2021-01-30T00:00:00\",\"2021-01-30T00:00:00\",\"2021-01-30T00:00:00\",\"2021-01-31T00:00:00\",\"2021-01-31T00:00:00\",\"2021-01-31T00:00:00\",\"2021-01-31T00:00:00\",\"2021-02-01T00:00:00\",\"2021-02-01T00:00:00\",\"2021-02-01T00:00:00\",\"2021-02-01T00:00:00\",\"2021-02-01T00:00:00\",\"2021-02-02T00:00:00\",\"2021-02-02T00:00:00\",\"2021-02-02T00:00:00\",\"2021-02-02T00:00:00\",\"2021-02-04T00:00:00\",\"2021-02-04T00:00:00\",\"2021-02-04T00:00:00\",\"2021-02-04T00:00:00\",\"2021-02-04T00:00:00\",\"2021-02-04T00:00:00\",\"2021-02-05T00:00:00\",\"2021-02-05T00:00:00\",\"2021-02-05T00:00:00\",\"2021-02-05T00:00:00\",\"2021-02-06T00:00:00\",\"2021-02-06T00:00:00\",\"2021-02-06T00:00:00\",\"2021-02-06T00:00:00\",\"2021-02-06T00:00:00\",\"2021-02-07T00:00:00\",\"2021-02-07T00:00:00\",\"2021-02-07T00:00:00\",\"2021-02-07T00:00:00\",\"2021-02-07T00:00:00\",\"2021-02-08T00:00:00\",\"2021-02-08T00:00:00\",\"2021-02-08T00:00:00\",\"2021-02-08T00:00:00\",\"2021-02-10T00:00:00\",\"2021-02-10T00:00:00\",\"2021-02-10T00:00:00\",\"2021-02-10T00:00:00\",\"2021-02-12T00:00:00\",\"2021-02-12T00:00:00\",\"2021-02-12T00:00:00\",\"2021-02-12T00:00:00\",\"2021-02-12T00:00:00\",\"2021-02-12T00:00:00\",\"2021-02-13T00:00:00\",\"2021-02-13T00:00:00\",\"2021-02-13T00:00:00\",\"2021-02-13T00:00:00\",\"2021-02-13T00:00:00\",\"2021-02-14T00:00:00\",\"2021-02-14T00:00:00\",\"2021-02-14T00:00:00\",\"2021-02-14T00:00:00\",\"2021-02-15T00:00:00\",\"2021-02-15T00:00:00\",\"2021-02-15T00:00:00\",\"2021-02-15T00:00:00\",\"2021-02-16T00:00:00\",\"2021-02-16T00:00:00\",\"2021-02-16T00:00:00\",\"2021-02-17T00:00:00\",\"2021-02-17T00:00:00\",\"2021-02-17T00:00:00\",\"2021-02-17T00:00:00\",\"2021-02-17T00:00:00\",\"2021-02-18T00:00:00\",\"2021-02-18T00:00:00\",\"2021-02-18T00:00:00\",\"2021-02-18T00:00:00\",\"2021-02-18T00:00:00\",\"2021-02-20T00:00:00\",\"2021-02-20T00:00:00\",\"2021-02-20T00:00:00\",\"2021-02-20T00:00:00\",\"2021-02-21T00:00:00\",\"2021-02-21T00:00:00\",\"2021-02-21T00:00:00\",\"2021-02-21T00:00:00\",\"2021-02-22T00:00:00\",\"2021-02-22T00:00:00\",\"2021-02-22T00:00:00\",\"2021-02-23T00:00:00\",\"2021-02-23T00:00:00\",\"2021-02-23T00:00:00\",\"2021-02-24T00:00:00\",\"2021-02-24T00:00:00\",\"2021-02-24T00:00:00\",\"2021-02-24T00:00:00\",\"2021-02-25T00:00:00\",\"2021-02-25T00:00:00\",\"2021-02-25T00:00:00\",\"2021-02-28T00:00:00\",\"2021-02-28T00:00:00\",\"2021-02-28T00:00:00\",\"2021-02-28T00:00:00\",\"2021-02-28T00:00:00\",\"2021-03-01T00:00:00\",\"2021-03-01T00:00:00\",\"2021-03-01T00:00:00\",\"2021-03-01T00:00:00\",\"2021-03-02T00:00:00\",\"2021-03-02T00:00:00\",\"2021-03-02T00:00:00\",\"2021-03-02T00:00:00\",\"2021-03-02T00:00:00\",\"2021-03-03T00:00:00\",\"2021-03-03T00:00:00\",\"2021-03-03T00:00:00\",\"2021-03-03T00:00:00\",\"2021-03-03T00:00:00\",\"2021-03-04T00:00:00\",\"2021-03-04T00:00:00\",\"2021-03-04T00:00:00\",\"2021-03-04T00:00:00\",\"2021-03-04T00:00:00\",\"2021-03-05T00:00:00\",\"2021-03-05T00:00:00\",\"2021-03-05T00:00:00\",\"2021-03-05T00:00:00\",\"2021-03-07T00:00:00\",\"2021-03-07T00:00:00\",\"2021-03-07T00:00:00\",\"2021-03-07T00:00:00\",\"2021-03-08T00:00:00\",\"2021-03-08T00:00:00\",\"2021-03-08T00:00:00\",\"2021-03-08T00:00:00\",\"2021-03-09T00:00:00\",\"2021-03-09T00:00:00\",\"2021-03-09T00:00:00\",\"2021-03-09T00:00:00\",\"2021-03-12T00:00:00\",\"2021-03-12T00:00:00\",\"2021-03-12T00:00:00\",\"2021-03-13T00:00:00\",\"2021-03-13T00:00:00\",\"2021-03-13T00:00:00\",\"2021-03-13T00:00:00\",\"2021-03-14T00:00:00\",\"2021-03-14T00:00:00\",\"2021-03-14T00:00:00\",\"2021-03-15T00:00:00\",\"2021-03-15T00:00:00\",\"2021-03-15T00:00:00\",\"2021-03-17T00:00:00\",\"2021-03-17T00:00:00\",\"2021-03-17T00:00:00\",\"2021-03-18T00:00:00\",\"2021-03-18T00:00:00\",\"2021-03-18T00:00:00\",\"2021-03-18T00:00:00\",\"2021-03-19T00:00:00\",\"2021-03-19T00:00:00\",\"2021-03-19T00:00:00\",\"2021-03-19T00:00:00\",\"2021-03-19T00:00:00\",\"2021-03-20T00:00:00\",\"2021-03-20T00:00:00\",\"2021-03-20T00:00:00\",\"2021-03-20T00:00:00\",\"2021-03-20T00:00:00\",\"2021-03-21T00:00:00\",\"2021-03-21T00:00:00\",\"2021-03-21T00:00:00\",\"2021-03-22T00:00:00\",\"2021-03-22T00:00:00\",\"2021-03-22T00:00:00\",\"2021-03-22T00:00:00\",\"2021-03-23T00:00:00\",\"2021-03-23T00:00:00\",\"2021-03-23T00:00:00\",\"2021-03-23T00:00:00\",\"2021-03-24T00:00:00\",\"2021-03-24T00:00:00\",\"2021-03-24T00:00:00\",\"2021-03-24T00:00:00\",\"2021-03-25T00:00:00\",\"2021-03-25T00:00:00\",\"2021-03-25T00:00:00\",\"2021-03-25T00:00:00\",\"2021-03-26T00:00:00\",\"2021-03-26T00:00:00\",\"2021-03-26T00:00:00\",\"2021-03-26T00:00:00\",\"2021-03-26T00:00:00\",\"2021-03-27T00:00:00\",\"2021-03-27T00:00:00\",\"2021-03-27T00:00:00\",\"2021-03-27T00:00:00\",\"2021-03-28T00:00:00\",\"2021-03-28T00:00:00\",\"2021-03-28T00:00:00\",\"2021-03-28T00:00:00\",\"2021-03-28T00:00:00\",\"2021-03-29T00:00:00\",\"2021-03-29T00:00:00\",\"2021-03-29T00:00:00\",\"2021-03-29T00:00:00\",\"2021-03-30T00:00:00\",\"2021-03-30T00:00:00\",\"2021-03-30T00:00:00\",\"2021-03-30T00:00:00\",\"2021-03-31T00:00:00\",\"2021-03-31T00:00:00\",\"2021-04-01T00:00:00\",\"2021-04-01T00:00:00\",\"2021-04-01T00:00:00\",\"2021-04-01T00:00:00\",\"2021-04-01T00:00:00\",\"2021-04-02T00:00:00\",\"2021-04-02T00:00:00\",\"2021-04-02T00:00:00\",\"2021-04-02T00:00:00\",\"2021-04-03T00:00:00\",\"2021-04-03T00:00:00\",\"2021-04-03T00:00:00\",\"2021-04-03T00:00:00\",\"2021-04-04T00:00:00\",\"2021-04-04T00:00:00\",\"2021-04-04T00:00:00\",\"2021-04-04T00:00:00\",\"2021-04-04T00:00:00\",\"2021-04-05T00:00:00\",\"2021-04-05T00:00:00\",\"2021-04-05T00:00:00\",\"2021-04-06T00:00:00\",\"2021-04-06T00:00:00\",\"2021-04-06T00:00:00\",\"2021-04-06T00:00:00\",\"2021-04-07T00:00:00\",\"2021-04-07T00:00:00\",\"2021-04-07T00:00:00\",\"2021-04-07T00:00:00\",\"2021-04-09T00:00:00\",\"2021-04-09T00:00:00\",\"2021-04-09T00:00:00\",\"2021-04-09T00:00:00\",\"2021-04-10T00:00:00\",\"2021-04-10T00:00:00\",\"2021-04-10T00:00:00\",\"2021-04-10T00:00:00\",\"2021-04-10T00:00:00\",\"2021-04-11T00:00:00\",\"2021-04-11T00:00:00\",\"2021-04-11T00:00:00\",\"2021-04-12T00:00:00\",\"2021-04-12T00:00:00\",\"2021-04-12T00:00:00\",\"2021-04-12T00:00:00\",\"2021-04-12T00:00:00\",\"2021-04-13T00:00:00\",\"2021-04-13T00:00:00\",\"2021-04-13T00:00:00\",\"2021-04-13T00:00:00\",\"2021-04-14T00:00:00\",\"2021-04-14T00:00:00\",\"2021-04-14T00:00:00\",\"2021-04-14T00:00:00\",\"2021-04-14T00:00:00\",\"2021-04-15T00:00:00\",\"2021-04-15T00:00:00\",\"2021-04-15T00:00:00\",\"2021-04-15T00:00:00\",\"2021-04-15T00:00:00\",\"2021-04-15T00:00:00\",\"2021-04-16T00:00:00\",\"2021-04-16T00:00:00\",\"2021-04-16T00:00:00\",\"2021-04-16T00:00:00\",\"2021-04-17T00:00:00\",\"2021-04-17T00:00:00\",\"2021-04-17T00:00:00\",\"2021-04-17T00:00:00\",\"2021-04-18T00:00:00\",\"2021-04-18T00:00:00\",\"2021-04-18T00:00:00\",\"2021-04-19T00:00:00\",\"2021-04-19T00:00:00\",\"2021-04-19T00:00:00\",\"2021-04-19T00:00:00\",\"2021-04-20T00:00:00\",\"2021-04-20T00:00:00\",\"2021-04-20T00:00:00\",\"2021-04-20T00:00:00\",\"2021-04-21T00:00:00\",\"2021-04-21T00:00:00\",\"2021-04-21T00:00:00\",\"2021-04-22T00:00:00\",\"2021-04-22T00:00:00\",\"2021-04-22T00:00:00\",\"2021-04-23T00:00:00\",\"2021-04-23T00:00:00\",\"2021-04-24T00:00:00\",\"2021-04-24T00:00:00\",\"2021-04-24T00:00:00\",\"2021-04-25T00:00:00\",\"2021-04-25T00:00:00\",\"2021-04-25T00:00:00\",\"2021-04-25T00:00:00\",\"2021-04-26T00:00:00\",\"2021-04-26T00:00:00\",\"2021-04-26T00:00:00\",\"2021-04-26T00:00:00\",\"2021-04-26T00:00:00\",\"2021-04-29T00:00:00\",\"2021-04-29T00:00:00\",\"2021-04-30T00:00:00\",\"2021-04-30T00:00:00\",\"2021-05-01T00:00:00\",\"2021-05-01T00:00:00\",\"2021-05-01T00:00:00\",\"2021-05-01T00:00:00\",\"2021-05-02T00:00:00\",\"2021-05-02T00:00:00\",\"2021-05-02T00:00:00\",\"2021-05-03T00:00:00\",\"2021-05-03T00:00:00\",\"2021-05-03T00:00:00\",\"2021-05-04T00:00:00\",\"2021-05-04T00:00:00\",\"2021-05-04T00:00:00\",\"2021-05-04T00:00:00\",\"2021-05-05T00:00:00\",\"2021-05-05T00:00:00\",\"2021-05-05T00:00:00\",\"2021-05-05T00:00:00\",\"2021-05-07T00:00:00\",\"2021-05-07T00:00:00\",\"2021-05-07T00:00:00\",\"2021-05-09T00:00:00\",\"2021-05-09T00:00:00\",\"2021-05-09T00:00:00\",\"2021-05-09T00:00:00\",\"2021-05-10T00:00:00\",\"2021-05-10T00:00:00\",\"2021-05-10T00:00:00\",\"2021-05-10T00:00:00\",\"2021-05-12T00:00:00\",\"2021-05-12T00:00:00\",\"2021-05-12T00:00:00\",\"2021-05-12T00:00:00\",\"2021-05-13T00:00:00\",\"2021-05-13T00:00:00\",\"2021-05-13T00:00:00\",\"2021-05-13T00:00:00\",\"2021-05-14T00:00:00\",\"2021-05-14T00:00:00\",\"2021-05-14T00:00:00\",\"2021-05-15T00:00:00\",\"2021-05-15T00:00:00\",\"2021-05-15T00:00:00\",\"2021-05-15T00:00:00\",\"2021-05-16T00:00:00\",\"2021-05-16T00:00:00\",\"2021-05-16T00:00:00\",\"2021-05-17T00:00:00\",\"2021-05-17T00:00:00\",\"2021-05-17T00:00:00\",\"2021-05-20T00:00:00\",\"2021-05-20T00:00:00\",\"2021-05-20T00:00:00\",\"2021-05-22T00:00:00\",\"2021-05-22T00:00:00\",\"2021-05-22T00:00:00\",\"2021-05-23T00:00:00\",\"2021-05-23T00:00:00\",\"2021-05-23T00:00:00\",\"2021-05-26T00:00:00\",\"2021-05-26T00:00:00\",\"2021-05-26T00:00:00\",\"2021-05-27T00:00:00\",\"2021-05-27T00:00:00\",\"2021-05-27T00:00:00\",\"2021-05-27T00:00:00\",\"2021-05-28T00:00:00\",\"2021-05-28T00:00:00\",\"2021-05-28T00:00:00\",\"2021-05-28T00:00:00\"],\"xaxis\":\"x\",\"y\":[3,3,1,1,1,1,4,4,4,4,6,6,6,6,6,4,4,4,1,1,1,1,5,5,5,5,2,2,2,2,3,3,3,6,6,6,6,3,3,3,3,3,11,11,11,11,11,6,6,6,6,6,6,18,18,18,18,18,18,5,5,5,5,5,2,2,2,2,2,2,5,5,5,5,5,5,5,5,5,7,7,7,7,7,7,6,6,6,2,2,2,2,2,3,3,3,3,3,5,5,5,5,5,5,5,5,5,5,3,3,3,3,6,6,6,6,2,2,2,2,2,6,6,6,6,4,4,4,4,4,4,4,4,4,4,3,3,3,3,3,3,3,3,3,3,4,4,4,4,4,7,7,7,7,7,12,12,12,12,3,3,3,3,3,3,2,2,2,2,4,4,4,4,4,3,3,3,3,3,1,1,1,1,1,2,2,2,2,5,5,5,5,5,4,4,4,4,4,1,1,1,1,3,3,3,3,3,4,4,4,4,2,2,2,2,2,1,1,1,1,1,1,5,5,5,5,5,1,1,1,1,1,6,6,6,6,6,2,2,2,2,2,2,2,2,2,2,2,2,2,1,1,1,1,1,1,1,2,2,2,2,2,4,4,4,4,4,2,2,2,2,2,2,2,2,2,2,2,2,2,1,1,1,1,2,2,2,2,2,1,1,1,1,1,1,1,1,1,1,1,1,2,2,2,2,1,1,1,1,1,1,1,1,1,1,1,1,1,1,1,1,1,1,1,1,1,1,1,1,1,1,1,1,2,2,2,2,13,13,13,13,13,2,2,2,1,1,1,1,1,1,1,1,1,1,1,1,1,2,2,2,2,2,3,3,3,3,2,2,2,2,2,2,2,2,2,1,1,1,1,1,1,3,3,3,3,2,2,2,2,2,2,2,2,2,2,1,1,1,1,3,3,3,3,2,2,2,2,2,2,2,2,2,2,2,1,1,1,1,1,1,1,1,1,1,1,1,1,1,1,1,1,1,1,1,1,1,1,1,1,1,1,1,1,2,2,2,2,2,2,2,2,2,2,1,1,1,3,3,3,3,3,3,3,3,3,2,2,2,2,2,3,3,3,3,3,4,4,4,4,4,3,3,3,3,1,1,1,1,1,1,1,1,1,1,1,1,2,2,2,1,1,1,1,1,1,1,1,1,1,5,5,5,1,1,1,1,3,3,3,3,3,1,1,1,1,1,2,2,2,3,3,3,3,11,11,11,11,9,9,9,9,3,3,3,3,1,1,1,1,1,7,7,7,7,2,2,2,2,2,5,5,5,5,2,2,2,2,3,3,2,2,2,2,2,3,3,3,3,1,1,1,1,9,9,9,9,9,4,4,4,2,2,2,2,2,2,2,2,4,4,4,4,3,3,3,3,3,5,5,5,1,1,1,1,1,2,2,2,2,1,1,1,1,1,1,1,1,1,1,1,2,2,2,2,1,1,1,1,2,2,2,2,2,2,2,1,1,1,1,3,3,3,1,1,1,1,1,2,2,2,3,3,3,3,1,1,1,1,1,1,1,1,1,1,1,1,1,1,1,1,3,3,3,1,1,1,1,6,6,6,6,2,2,2,2,2,2,2,2,2,2,2,1,1,1,1,1,1,1,1,1,1,1,1,1,1,1,1,1,1,1,1,1,3,3,3,2,2,2,2,2,2,1,1,1,1,1,1,1,1,1,1,1],\"yaxis\":\"y\",\"type\":\"scattergl\"},{\"hovertemplate\":\"install_country_group=South America<br>event_date=%{x}<br>install_user_count=%{y}<extra></extra>\",\"legendgroup\":\"South America\",\"line\":{\"color\":\"#19d3f3\",\"dash\":\"solid\"},\"marker\":{\"symbol\":\"circle\"},\"mode\":\"lines\",\"name\":\"South America\",\"showlegend\":true,\"x\":[\"2020-11-01T00:00:00\",\"2020-11-01T00:00:00\",\"2020-11-01T00:00:00\",\"2020-11-01T00:00:00\",\"2020-11-08T00:00:00\",\"2020-11-08T00:00:00\",\"2020-11-08T00:00:00\",\"2020-11-08T00:00:00\",\"2020-11-11T00:00:00\",\"2020-11-11T00:00:00\",\"2020-11-11T00:00:00\",\"2020-11-11T00:00:00\",\"2020-11-14T00:00:00\",\"2020-11-14T00:00:00\",\"2020-11-14T00:00:00\",\"2020-11-14T00:00:00\",\"2020-11-14T00:00:00\",\"2020-11-14T00:00:00\",\"2020-11-15T00:00:00\",\"2020-11-15T00:00:00\",\"2020-11-15T00:00:00\",\"2020-11-15T00:00:00\",\"2020-11-15T00:00:00\",\"2020-11-15T00:00:00\",\"2020-11-16T00:00:00\",\"2020-11-16T00:00:00\",\"2020-11-16T00:00:00\",\"2020-11-16T00:00:00\",\"2020-11-16T00:00:00\",\"2020-11-19T00:00:00\",\"2020-11-19T00:00:00\",\"2020-11-19T00:00:00\",\"2020-11-22T00:00:00\",\"2020-11-22T00:00:00\",\"2020-11-22T00:00:00\",\"2020-11-22T00:00:00\",\"2020-11-22T00:00:00\",\"2020-11-25T00:00:00\",\"2020-11-25T00:00:00\",\"2020-11-25T00:00:00\",\"2020-11-25T00:00:00\",\"2020-11-25T00:00:00\",\"2020-11-26T00:00:00\",\"2020-11-26T00:00:00\",\"2020-11-26T00:00:00\",\"2020-11-26T00:00:00\",\"2020-11-30T00:00:00\",\"2020-11-30T00:00:00\",\"2020-11-30T00:00:00\",\"2020-11-30T00:00:00\",\"2020-11-30T00:00:00\",\"2020-12-02T00:00:00\",\"2020-12-02T00:00:00\",\"2020-12-02T00:00:00\",\"2020-12-02T00:00:00\",\"2020-12-02T00:00:00\",\"2020-12-03T00:00:00\",\"2020-12-03T00:00:00\",\"2020-12-03T00:00:00\",\"2020-12-03T00:00:00\",\"2020-12-03T00:00:00\",\"2020-12-04T00:00:00\",\"2020-12-04T00:00:00\",\"2020-12-04T00:00:00\",\"2020-12-04T00:00:00\",\"2020-12-04T00:00:00\",\"2020-12-08T00:00:00\",\"2020-12-08T00:00:00\",\"2020-12-08T00:00:00\",\"2020-12-08T00:00:00\",\"2020-12-12T00:00:00\",\"2020-12-12T00:00:00\",\"2020-12-12T00:00:00\",\"2020-12-12T00:00:00\",\"2020-12-13T00:00:00\",\"2020-12-13T00:00:00\",\"2020-12-13T00:00:00\",\"2020-12-13T00:00:00\",\"2020-12-13T00:00:00\",\"2020-12-16T00:00:00\",\"2020-12-16T00:00:00\",\"2020-12-16T00:00:00\",\"2020-12-16T00:00:00\",\"2020-12-16T00:00:00\",\"2020-12-17T00:00:00\",\"2020-12-17T00:00:00\",\"2020-12-17T00:00:00\",\"2020-12-17T00:00:00\",\"2020-12-18T00:00:00\",\"2020-12-18T00:00:00\",\"2020-12-18T00:00:00\",\"2020-12-18T00:00:00\",\"2020-12-18T00:00:00\",\"2020-12-20T00:00:00\",\"2020-12-20T00:00:00\",\"2020-12-20T00:00:00\",\"2020-12-20T00:00:00\",\"2020-12-20T00:00:00\",\"2020-12-24T00:00:00\",\"2020-12-24T00:00:00\",\"2020-12-24T00:00:00\",\"2020-12-24T00:00:00\",\"2020-12-24T00:00:00\",\"2020-12-27T00:00:00\",\"2020-12-27T00:00:00\",\"2020-12-27T00:00:00\",\"2020-12-27T00:00:00\",\"2020-12-27T00:00:00\",\"2020-12-28T00:00:00\",\"2020-12-28T00:00:00\",\"2020-12-28T00:00:00\",\"2020-12-28T00:00:00\",\"2020-12-29T00:00:00\",\"2020-12-29T00:00:00\",\"2020-12-29T00:00:00\",\"2020-12-30T00:00:00\",\"2020-12-30T00:00:00\",\"2020-12-30T00:00:00\",\"2020-12-30T00:00:00\",\"2021-01-01T00:00:00\",\"2021-01-01T00:00:00\",\"2021-01-01T00:00:00\",\"2021-01-01T00:00:00\",\"2021-01-01T00:00:00\",\"2021-01-05T00:00:00\",\"2021-01-05T00:00:00\",\"2021-01-05T00:00:00\",\"2021-01-05T00:00:00\",\"2021-01-12T00:00:00\",\"2021-01-12T00:00:00\",\"2021-01-12T00:00:00\",\"2021-01-12T00:00:00\",\"2021-01-13T00:00:00\",\"2021-01-13T00:00:00\",\"2021-01-13T00:00:00\",\"2021-01-13T00:00:00\",\"2021-01-13T00:00:00\",\"2021-01-13T00:00:00\",\"2021-01-14T00:00:00\",\"2021-01-14T00:00:00\",\"2021-01-14T00:00:00\",\"2021-01-14T00:00:00\",\"2021-01-23T00:00:00\",\"2021-01-23T00:00:00\",\"2021-01-23T00:00:00\",\"2021-01-23T00:00:00\",\"2021-01-25T00:00:00\",\"2021-01-25T00:00:00\",\"2021-01-25T00:00:00\",\"2021-01-26T00:00:00\",\"2021-01-26T00:00:00\",\"2021-01-26T00:00:00\",\"2021-01-26T00:00:00\",\"2021-01-31T00:00:00\",\"2021-01-31T00:00:00\",\"2021-01-31T00:00:00\",\"2021-01-31T00:00:00\",\"2021-02-08T00:00:00\",\"2021-02-08T00:00:00\",\"2021-02-08T00:00:00\",\"2021-02-08T00:00:00\",\"2021-02-11T00:00:00\",\"2021-02-11T00:00:00\",\"2021-02-11T00:00:00\",\"2021-02-13T00:00:00\",\"2021-02-13T00:00:00\",\"2021-02-13T00:00:00\",\"2021-02-13T00:00:00\",\"2021-02-13T00:00:00\",\"2021-02-14T00:00:00\",\"2021-02-14T00:00:00\",\"2021-02-14T00:00:00\",\"2021-02-14T00:00:00\",\"2021-02-19T00:00:00\",\"2021-02-19T00:00:00\",\"2021-02-19T00:00:00\",\"2021-02-19T00:00:00\",\"2021-03-07T00:00:00\",\"2021-03-07T00:00:00\",\"2021-03-07T00:00:00\",\"2021-03-07T00:00:00\",\"2021-03-25T00:00:00\",\"2021-03-25T00:00:00\",\"2021-03-25T00:00:00\",\"2021-03-25T00:00:00\",\"2021-03-31T00:00:00\",\"2021-03-31T00:00:00\",\"2021-04-04T00:00:00\",\"2021-04-04T00:00:00\",\"2021-04-04T00:00:00\",\"2021-04-04T00:00:00\",\"2021-04-04T00:00:00\",\"2021-04-07T00:00:00\",\"2021-04-07T00:00:00\",\"2021-04-07T00:00:00\",\"2021-04-07T00:00:00\",\"2021-04-08T00:00:00\",\"2021-04-08T00:00:00\",\"2021-04-08T00:00:00\",\"2021-04-08T00:00:00\",\"2021-04-08T00:00:00\",\"2021-04-08T00:00:00\",\"2021-04-11T00:00:00\",\"2021-04-11T00:00:00\",\"2021-04-11T00:00:00\",\"2021-04-13T00:00:00\",\"2021-04-13T00:00:00\",\"2021-04-13T00:00:00\",\"2021-04-13T00:00:00\",\"2021-05-04T00:00:00\",\"2021-05-04T00:00:00\",\"2021-05-04T00:00:00\",\"2021-05-04T00:00:00\",\"2021-05-06T00:00:00\",\"2021-05-06T00:00:00\",\"2021-05-06T00:00:00\",\"2021-05-06T00:00:00\"],\"xaxis\":\"x\",\"y\":[1,1,1,1,1,1,1,1,1,1,1,1,2,2,2,2,2,2,1,1,1,1,1,1,4,4,4,4,4,2,2,2,1,1,1,1,1,1,1,1,1,1,1,1,1,1,2,2,2,2,2,1,1,1,1,1,1,1,1,1,1,3,3,3,3,3,2,2,2,2,1,1,1,1,1,1,1,1,1,1,1,1,1,1,1,1,1,1,2,2,2,2,2,1,1,1,1,1,1,1,1,1,1,3,3,3,3,3,1,1,1,1,1,1,1,1,1,1,1,2,2,2,2,2,1,1,1,1,1,1,1,1,1,1,1,1,1,1,1,1,1,1,1,1,1,1,1,1,1,1,1,1,1,1,1,1,1,1,1,1,1,1,1,1,1,1,1,1,1,1,1,1,1,2,2,2,2,1,1,1,1,1,1,1,1,1,1,1,1,1,1,1,2,2,2,2,1,1,1,1,1,1,1,1,1,1,1,1,1,1,1,1,1,1,1,1,1],\"yaxis\":\"y\",\"type\":\"scattergl\"}],                        {\"template\":{\"data\":{\"bar\":[{\"error_x\":{\"color\":\"#2a3f5f\"},\"error_y\":{\"color\":\"#2a3f5f\"},\"marker\":{\"line\":{\"color\":\"#E5ECF6\",\"width\":0.5},\"pattern\":{\"fillmode\":\"overlay\",\"size\":10,\"solidity\":0.2}},\"type\":\"bar\"}],\"barpolar\":[{\"marker\":{\"line\":{\"color\":\"#E5ECF6\",\"width\":0.5},\"pattern\":{\"fillmode\":\"overlay\",\"size\":10,\"solidity\":0.2}},\"type\":\"barpolar\"}],\"carpet\":[{\"aaxis\":{\"endlinecolor\":\"#2a3f5f\",\"gridcolor\":\"white\",\"linecolor\":\"white\",\"minorgridcolor\":\"white\",\"startlinecolor\":\"#2a3f5f\"},\"baxis\":{\"endlinecolor\":\"#2a3f5f\",\"gridcolor\":\"white\",\"linecolor\":\"white\",\"minorgridcolor\":\"white\",\"startlinecolor\":\"#2a3f5f\"},\"type\":\"carpet\"}],\"choropleth\":[{\"colorbar\":{\"outlinewidth\":0,\"ticks\":\"\"},\"type\":\"choropleth\"}],\"contour\":[{\"colorbar\":{\"outlinewidth\":0,\"ticks\":\"\"},\"colorscale\":[[0.0,\"#0d0887\"],[0.1111111111111111,\"#46039f\"],[0.2222222222222222,\"#7201a8\"],[0.3333333333333333,\"#9c179e\"],[0.4444444444444444,\"#bd3786\"],[0.5555555555555556,\"#d8576b\"],[0.6666666666666666,\"#ed7953\"],[0.7777777777777778,\"#fb9f3a\"],[0.8888888888888888,\"#fdca26\"],[1.0,\"#f0f921\"]],\"type\":\"contour\"}],\"contourcarpet\":[{\"colorbar\":{\"outlinewidth\":0,\"ticks\":\"\"},\"type\":\"contourcarpet\"}],\"heatmap\":[{\"colorbar\":{\"outlinewidth\":0,\"ticks\":\"\"},\"colorscale\":[[0.0,\"#0d0887\"],[0.1111111111111111,\"#46039f\"],[0.2222222222222222,\"#7201a8\"],[0.3333333333333333,\"#9c179e\"],[0.4444444444444444,\"#bd3786\"],[0.5555555555555556,\"#d8576b\"],[0.6666666666666666,\"#ed7953\"],[0.7777777777777778,\"#fb9f3a\"],[0.8888888888888888,\"#fdca26\"],[1.0,\"#f0f921\"]],\"type\":\"heatmap\"}],\"heatmapgl\":[{\"colorbar\":{\"outlinewidth\":0,\"ticks\":\"\"},\"colorscale\":[[0.0,\"#0d0887\"],[0.1111111111111111,\"#46039f\"],[0.2222222222222222,\"#7201a8\"],[0.3333333333333333,\"#9c179e\"],[0.4444444444444444,\"#bd3786\"],[0.5555555555555556,\"#d8576b\"],[0.6666666666666666,\"#ed7953\"],[0.7777777777777778,\"#fb9f3a\"],[0.8888888888888888,\"#fdca26\"],[1.0,\"#f0f921\"]],\"type\":\"heatmapgl\"}],\"histogram\":[{\"marker\":{\"pattern\":{\"fillmode\":\"overlay\",\"size\":10,\"solidity\":0.2}},\"type\":\"histogram\"}],\"histogram2d\":[{\"colorbar\":{\"outlinewidth\":0,\"ticks\":\"\"},\"colorscale\":[[0.0,\"#0d0887\"],[0.1111111111111111,\"#46039f\"],[0.2222222222222222,\"#7201a8\"],[0.3333333333333333,\"#9c179e\"],[0.4444444444444444,\"#bd3786\"],[0.5555555555555556,\"#d8576b\"],[0.6666666666666666,\"#ed7953\"],[0.7777777777777778,\"#fb9f3a\"],[0.8888888888888888,\"#fdca26\"],[1.0,\"#f0f921\"]],\"type\":\"histogram2d\"}],\"histogram2dcontour\":[{\"colorbar\":{\"outlinewidth\":0,\"ticks\":\"\"},\"colorscale\":[[0.0,\"#0d0887\"],[0.1111111111111111,\"#46039f\"],[0.2222222222222222,\"#7201a8\"],[0.3333333333333333,\"#9c179e\"],[0.4444444444444444,\"#bd3786\"],[0.5555555555555556,\"#d8576b\"],[0.6666666666666666,\"#ed7953\"],[0.7777777777777778,\"#fb9f3a\"],[0.8888888888888888,\"#fdca26\"],[1.0,\"#f0f921\"]],\"type\":\"histogram2dcontour\"}],\"mesh3d\":[{\"colorbar\":{\"outlinewidth\":0,\"ticks\":\"\"},\"type\":\"mesh3d\"}],\"parcoords\":[{\"line\":{\"colorbar\":{\"outlinewidth\":0,\"ticks\":\"\"}},\"type\":\"parcoords\"}],\"pie\":[{\"automargin\":true,\"type\":\"pie\"}],\"scatter\":[{\"marker\":{\"colorbar\":{\"outlinewidth\":0,\"ticks\":\"\"}},\"type\":\"scatter\"}],\"scatter3d\":[{\"line\":{\"colorbar\":{\"outlinewidth\":0,\"ticks\":\"\"}},\"marker\":{\"colorbar\":{\"outlinewidth\":0,\"ticks\":\"\"}},\"type\":\"scatter3d\"}],\"scattercarpet\":[{\"marker\":{\"colorbar\":{\"outlinewidth\":0,\"ticks\":\"\"}},\"type\":\"scattercarpet\"}],\"scattergeo\":[{\"marker\":{\"colorbar\":{\"outlinewidth\":0,\"ticks\":\"\"}},\"type\":\"scattergeo\"}],\"scattergl\":[{\"marker\":{\"colorbar\":{\"outlinewidth\":0,\"ticks\":\"\"}},\"type\":\"scattergl\"}],\"scattermapbox\":[{\"marker\":{\"colorbar\":{\"outlinewidth\":0,\"ticks\":\"\"}},\"type\":\"scattermapbox\"}],\"scatterpolar\":[{\"marker\":{\"colorbar\":{\"outlinewidth\":0,\"ticks\":\"\"}},\"type\":\"scatterpolar\"}],\"scatterpolargl\":[{\"marker\":{\"colorbar\":{\"outlinewidth\":0,\"ticks\":\"\"}},\"type\":\"scatterpolargl\"}],\"scatterternary\":[{\"marker\":{\"colorbar\":{\"outlinewidth\":0,\"ticks\":\"\"}},\"type\":\"scatterternary\"}],\"surface\":[{\"colorbar\":{\"outlinewidth\":0,\"ticks\":\"\"},\"colorscale\":[[0.0,\"#0d0887\"],[0.1111111111111111,\"#46039f\"],[0.2222222222222222,\"#7201a8\"],[0.3333333333333333,\"#9c179e\"],[0.4444444444444444,\"#bd3786\"],[0.5555555555555556,\"#d8576b\"],[0.6666666666666666,\"#ed7953\"],[0.7777777777777778,\"#fb9f3a\"],[0.8888888888888888,\"#fdca26\"],[1.0,\"#f0f921\"]],\"type\":\"surface\"}],\"table\":[{\"cells\":{\"fill\":{\"color\":\"#EBF0F8\"},\"line\":{\"color\":\"white\"}},\"header\":{\"fill\":{\"color\":\"#C8D4E3\"},\"line\":{\"color\":\"white\"}},\"type\":\"table\"}]},\"layout\":{\"annotationdefaults\":{\"arrowcolor\":\"#2a3f5f\",\"arrowhead\":0,\"arrowwidth\":1},\"autotypenumbers\":\"strict\",\"coloraxis\":{\"colorbar\":{\"outlinewidth\":0,\"ticks\":\"\"}},\"colorscale\":{\"diverging\":[[0,\"#8e0152\"],[0.1,\"#c51b7d\"],[0.2,\"#de77ae\"],[0.3,\"#f1b6da\"],[0.4,\"#fde0ef\"],[0.5,\"#f7f7f7\"],[0.6,\"#e6f5d0\"],[0.7,\"#b8e186\"],[0.8,\"#7fbc41\"],[0.9,\"#4d9221\"],[1,\"#276419\"]],\"sequential\":[[0.0,\"#0d0887\"],[0.1111111111111111,\"#46039f\"],[0.2222222222222222,\"#7201a8\"],[0.3333333333333333,\"#9c179e\"],[0.4444444444444444,\"#bd3786\"],[0.5555555555555556,\"#d8576b\"],[0.6666666666666666,\"#ed7953\"],[0.7777777777777778,\"#fb9f3a\"],[0.8888888888888888,\"#fdca26\"],[1.0,\"#f0f921\"]],\"sequentialminus\":[[0.0,\"#0d0887\"],[0.1111111111111111,\"#46039f\"],[0.2222222222222222,\"#7201a8\"],[0.3333333333333333,\"#9c179e\"],[0.4444444444444444,\"#bd3786\"],[0.5555555555555556,\"#d8576b\"],[0.6666666666666666,\"#ed7953\"],[0.7777777777777778,\"#fb9f3a\"],[0.8888888888888888,\"#fdca26\"],[1.0,\"#f0f921\"]]},\"colorway\":[\"#636efa\",\"#EF553B\",\"#00cc96\",\"#ab63fa\",\"#FFA15A\",\"#19d3f3\",\"#FF6692\",\"#B6E880\",\"#FF97FF\",\"#FECB52\"],\"font\":{\"color\":\"#2a3f5f\"},\"geo\":{\"bgcolor\":\"white\",\"lakecolor\":\"white\",\"landcolor\":\"#E5ECF6\",\"showlakes\":true,\"showland\":true,\"subunitcolor\":\"white\"},\"hoverlabel\":{\"align\":\"left\"},\"hovermode\":\"closest\",\"mapbox\":{\"style\":\"light\"},\"paper_bgcolor\":\"white\",\"plot_bgcolor\":\"#E5ECF6\",\"polar\":{\"angularaxis\":{\"gridcolor\":\"white\",\"linecolor\":\"white\",\"ticks\":\"\"},\"bgcolor\":\"#E5ECF6\",\"radialaxis\":{\"gridcolor\":\"white\",\"linecolor\":\"white\",\"ticks\":\"\"}},\"scene\":{\"xaxis\":{\"backgroundcolor\":\"#E5ECF6\",\"gridcolor\":\"white\",\"gridwidth\":2,\"linecolor\":\"white\",\"showbackground\":true,\"ticks\":\"\",\"zerolinecolor\":\"white\"},\"yaxis\":{\"backgroundcolor\":\"#E5ECF6\",\"gridcolor\":\"white\",\"gridwidth\":2,\"linecolor\":\"white\",\"showbackground\":true,\"ticks\":\"\",\"zerolinecolor\":\"white\"},\"zaxis\":{\"backgroundcolor\":\"#E5ECF6\",\"gridcolor\":\"white\",\"gridwidth\":2,\"linecolor\":\"white\",\"showbackground\":true,\"ticks\":\"\",\"zerolinecolor\":\"white\"}},\"shapedefaults\":{\"line\":{\"color\":\"#2a3f5f\"}},\"ternary\":{\"aaxis\":{\"gridcolor\":\"white\",\"linecolor\":\"white\",\"ticks\":\"\"},\"baxis\":{\"gridcolor\":\"white\",\"linecolor\":\"white\",\"ticks\":\"\"},\"bgcolor\":\"#E5ECF6\",\"caxis\":{\"gridcolor\":\"white\",\"linecolor\":\"white\",\"ticks\":\"\"}},\"title\":{\"x\":0.05},\"xaxis\":{\"automargin\":true,\"gridcolor\":\"white\",\"linecolor\":\"white\",\"ticks\":\"\",\"title\":{\"standoff\":15},\"zerolinecolor\":\"white\",\"zerolinewidth\":2},\"yaxis\":{\"automargin\":true,\"gridcolor\":\"white\",\"linecolor\":\"white\",\"ticks\":\"\",\"title\":{\"standoff\":15},\"zerolinecolor\":\"white\",\"zerolinewidth\":2}}},\"xaxis\":{\"anchor\":\"y\",\"domain\":[0.0,1.0],\"title\":{\"text\":\"event_date\"}},\"yaxis\":{\"anchor\":\"x\",\"domain\":[0.0,1.0],\"title\":{\"text\":\"install_user_count\"}},\"legend\":{\"title\":{\"text\":\"install_country_group\"},\"tracegroupgap\":0},\"title\":{\"text\":\"\\u0420\\u0430\\u0441\\u043f\\u0440\\u0435\\u0434\\u0435\\u043b\\u0435\\u043d\\u0438\\u0435 \\u043a\\u043e\\u043b\\u0438\\u0447\\u0435\\u0441\\u0442\\u0432\\u0430 \\u0438\\u043d\\u0441\\u0442\\u0430\\u043b\\u043b\\u043e\\u0432 \\u043f\\u043e \\u0433\\u0440\\u0443\\u043f\\u043f\\u0430\\u043c \\u0441\\u0442\\u0440\\u0430\\u043d\"}},                        {\"responsive\": true}                    ).then(function(){\n",
              "                            \n",
              "var gd = document.getElementById('0222eac9-2c07-492c-9ac9-040856bcbb94');\n",
              "var x = new MutationObserver(function (mutations, observer) {{\n",
              "        var display = window.getComputedStyle(gd).display;\n",
              "        if (!display || display === 'none') {{\n",
              "            console.log([gd, 'removed!']);\n",
              "            Plotly.purge(gd);\n",
              "            observer.disconnect();\n",
              "        }}\n",
              "}});\n",
              "\n",
              "// Listen for the removal of the full notebook cells\n",
              "var notebookContainer = gd.closest('#notebook-container');\n",
              "if (notebookContainer) {{\n",
              "    x.observe(notebookContainer, {childList: true});\n",
              "}}\n",
              "\n",
              "// Listen for the clearing of the current output cell\n",
              "var outputEl = gd.closest('.output');\n",
              "if (outputEl) {{\n",
              "    x.observe(outputEl, {childList: true});\n",
              "}}\n",
              "\n",
              "                        })                };                            </script>        </div>\n",
              "</body>\n",
              "</html>"
            ]
          },
          "metadata": {}
        }
      ]
    },
    {
      "cell_type": "markdown",
      "source": [
        "В будущем мне хотелось бы сделать выпадающий список, в котором было два варианта: инсталлы и запуски второго дня.\n",
        "При выборе одного из этих вариантов менялось бы отображение на графике.\n",
        "Было бы особенно наглядно, если при выборе одного варианта второй отображался пунктиром, чтобы можно было их сравнивать."
      ],
      "metadata": {
        "id": "00YVrMI5w2-Y"
      }
    }
  ]
}